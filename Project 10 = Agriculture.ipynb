{
 "cells": [
  {
   "cell_type": "markdown",
   "metadata": {},
   "source": [
    "# Machine Learning in Agriculture"
   ]
  },
  {
   "cell_type": "markdown",
   "metadata": {},
   "source": [
    "Recently we have observed the emerging concept of smart farming that makes agriculture more efficient and effective with the help of high-precision algorithms. The mechanism that drives it is Machine Learning — the scientific field that gives machines the ability to learn without being strictly programmed. It has emerged together with big data technologies and high-performance computing to create new opportunities to unravel, quantify, and understand data intensive processes in agricultural operational environments.\n",
    "\n",
    "Machine learning is everywhere throughout the whole growing and harvesting cycle. It begins with a seed being planted in the soil — from the soil preparation, seeds breeding and water feed measurement — and it ends when neural networks pick up the harvest determining the ripeness with the help of computer vision.\n",
    "\n",
    "The Toxic Pesticides\n",
    "Though, many of us don't appreciate much, but a farmer's job is real test of endurance and determination. Once the seeds are sown, he works days and nights to make sure that he cultivates a good harvest at the end of season. A good harvest is ensured by several factors such as availability of water, soil fertility, protecting crops from rodents, timely use of pesticides & other useful chemicals and nature. While a lot of these factors are difficult to control for, the amount and frequency of pesticides is something the farmer can control.\n",
    "\n",
    "Pesticides are also special, because while they protect the crop with the right dosage. But, if you add more than required, they may spoil the entire harvest. A high level of pesticide can deem the crop dead / unsuitable for consumption among many outcomes. This data is based on crops harvested by various farmers at the end of harvest season. To simplify the problem, you can assume that all other factors like variations in farming techniques have been controlled for.\n",
    "\n",
    "You need to determine the outcome of the harvest season, i.e. whether the crop would be healthy (alive), damaged by pesticides or damaged by other reasons."
   ]
  },
  {
   "cell_type": "code",
   "execution_count": 1,
   "metadata": {},
   "outputs": [],
   "source": [
    "#import basic libraries\n",
    "import pandas as pd\n",
    "import numpy as np\n",
    "import matplotlib.pyplot as plt\n",
    "import seaborn as sns\n",
    "from scipy.stats import zscore\n",
    "\n",
    "import warnings\n",
    "warnings.filterwarnings(\"ignore\")"
   ]
  },
  {
   "cell_type": "code",
   "execution_count": 2,
   "metadata": {},
   "outputs": [
    {
     "data": {
      "text/html": [
       "<div>\n",
       "<style scoped>\n",
       "    .dataframe tbody tr th:only-of-type {\n",
       "        vertical-align: middle;\n",
       "    }\n",
       "\n",
       "    .dataframe tbody tr th {\n",
       "        vertical-align: top;\n",
       "    }\n",
       "\n",
       "    .dataframe thead th {\n",
       "        text-align: right;\n",
       "    }\n",
       "</style>\n",
       "<table border=\"1\" class=\"dataframe\">\n",
       "  <thead>\n",
       "    <tr style=\"text-align: right;\">\n",
       "      <th></th>\n",
       "      <th>ID</th>\n",
       "      <th>Estimated_Insects_Count</th>\n",
       "      <th>Crop_Type</th>\n",
       "      <th>Soil_Type</th>\n",
       "      <th>Pesticide_Use_Category</th>\n",
       "      <th>Number_Doses_Week</th>\n",
       "      <th>Number_Weeks_Used</th>\n",
       "      <th>Number_Weeks_Quit</th>\n",
       "      <th>Season</th>\n",
       "      <th>Crop_Damage</th>\n",
       "    </tr>\n",
       "  </thead>\n",
       "  <tbody>\n",
       "    <tr>\n",
       "      <th>0</th>\n",
       "      <td>F00000001</td>\n",
       "      <td>188</td>\n",
       "      <td>1</td>\n",
       "      <td>0</td>\n",
       "      <td>1</td>\n",
       "      <td>0</td>\n",
       "      <td>0.0</td>\n",
       "      <td>0</td>\n",
       "      <td>1</td>\n",
       "      <td>0</td>\n",
       "    </tr>\n",
       "    <tr>\n",
       "      <th>1</th>\n",
       "      <td>F00000003</td>\n",
       "      <td>209</td>\n",
       "      <td>1</td>\n",
       "      <td>0</td>\n",
       "      <td>1</td>\n",
       "      <td>0</td>\n",
       "      <td>0.0</td>\n",
       "      <td>0</td>\n",
       "      <td>2</td>\n",
       "      <td>1</td>\n",
       "    </tr>\n",
       "    <tr>\n",
       "      <th>2</th>\n",
       "      <td>F00000004</td>\n",
       "      <td>257</td>\n",
       "      <td>1</td>\n",
       "      <td>0</td>\n",
       "      <td>1</td>\n",
       "      <td>0</td>\n",
       "      <td>0.0</td>\n",
       "      <td>0</td>\n",
       "      <td>2</td>\n",
       "      <td>1</td>\n",
       "    </tr>\n",
       "    <tr>\n",
       "      <th>3</th>\n",
       "      <td>F00000005</td>\n",
       "      <td>257</td>\n",
       "      <td>1</td>\n",
       "      <td>1</td>\n",
       "      <td>1</td>\n",
       "      <td>0</td>\n",
       "      <td>0.0</td>\n",
       "      <td>0</td>\n",
       "      <td>2</td>\n",
       "      <td>1</td>\n",
       "    </tr>\n",
       "    <tr>\n",
       "      <th>4</th>\n",
       "      <td>F00000006</td>\n",
       "      <td>342</td>\n",
       "      <td>1</td>\n",
       "      <td>0</td>\n",
       "      <td>1</td>\n",
       "      <td>0</td>\n",
       "      <td>0.0</td>\n",
       "      <td>0</td>\n",
       "      <td>2</td>\n",
       "      <td>1</td>\n",
       "    </tr>\n",
       "    <tr>\n",
       "      <th>...</th>\n",
       "      <td>...</td>\n",
       "      <td>...</td>\n",
       "      <td>...</td>\n",
       "      <td>...</td>\n",
       "      <td>...</td>\n",
       "      <td>...</td>\n",
       "      <td>...</td>\n",
       "      <td>...</td>\n",
       "      <td>...</td>\n",
       "      <td>...</td>\n",
       "    </tr>\n",
       "    <tr>\n",
       "      <th>4594</th>\n",
       "      <td>F00008078</td>\n",
       "      <td>2138</td>\n",
       "      <td>0</td>\n",
       "      <td>1</td>\n",
       "      <td>2</td>\n",
       "      <td>20</td>\n",
       "      <td>NaN</td>\n",
       "      <td>1</td>\n",
       "      <td>1</td>\n",
       "      <td>1</td>\n",
       "    </tr>\n",
       "    <tr>\n",
       "      <th>4595</th>\n",
       "      <td>F00008079</td>\n",
       "      <td>2139</td>\n",
       "      <td>0</td>\n",
       "      <td>1</td>\n",
       "      <td>2</td>\n",
       "      <td>30</td>\n",
       "      <td>47.0</td>\n",
       "      <td>2</td>\n",
       "      <td>1</td>\n",
       "      <td>1</td>\n",
       "    </tr>\n",
       "    <tr>\n",
       "      <th>4596</th>\n",
       "      <td>F00008080</td>\n",
       "      <td>2267</td>\n",
       "      <td>0</td>\n",
       "      <td>1</td>\n",
       "      <td>2</td>\n",
       "      <td>10</td>\n",
       "      <td>7.0</td>\n",
       "      <td>27</td>\n",
       "      <td>2</td>\n",
       "      <td>0</td>\n",
       "    </tr>\n",
       "    <tr>\n",
       "      <th>4597</th>\n",
       "      <td>F00008082</td>\n",
       "      <td>2267</td>\n",
       "      <td>0</td>\n",
       "      <td>1</td>\n",
       "      <td>2</td>\n",
       "      <td>10</td>\n",
       "      <td>20.0</td>\n",
       "      <td>24</td>\n",
       "      <td>2</td>\n",
       "      <td>0</td>\n",
       "    </tr>\n",
       "    <tr>\n",
       "      <th>4598</th>\n",
       "      <td>F00008083</td>\n",
       "      <td>2267</td>\n",
       "      <td>0</td>\n",
       "      <td>1</td>\n",
       "      <td>2</td>\n",
       "      <td>10</td>\n",
       "      <td>33.0</td>\n",
       "      <td>17</td>\n",
       "      <td>2</td>\n",
       "      <td>0</td>\n",
       "    </tr>\n",
       "  </tbody>\n",
       "</table>\n",
       "<p>4599 rows × 10 columns</p>\n",
       "</div>"
      ],
      "text/plain": [
       "             ID  Estimated_Insects_Count  Crop_Type  Soil_Type  \\\n",
       "0     F00000001                      188          1          0   \n",
       "1     F00000003                      209          1          0   \n",
       "2     F00000004                      257          1          0   \n",
       "3     F00000005                      257          1          1   \n",
       "4     F00000006                      342          1          0   \n",
       "...         ...                      ...        ...        ...   \n",
       "4594  F00008078                     2138          0          1   \n",
       "4595  F00008079                     2139          0          1   \n",
       "4596  F00008080                     2267          0          1   \n",
       "4597  F00008082                     2267          0          1   \n",
       "4598  F00008083                     2267          0          1   \n",
       "\n",
       "      Pesticide_Use_Category  Number_Doses_Week  Number_Weeks_Used  \\\n",
       "0                          1                  0                0.0   \n",
       "1                          1                  0                0.0   \n",
       "2                          1                  0                0.0   \n",
       "3                          1                  0                0.0   \n",
       "4                          1                  0                0.0   \n",
       "...                      ...                ...                ...   \n",
       "4594                       2                 20                NaN   \n",
       "4595                       2                 30               47.0   \n",
       "4596                       2                 10                7.0   \n",
       "4597                       2                 10               20.0   \n",
       "4598                       2                 10               33.0   \n",
       "\n",
       "      Number_Weeks_Quit  Season  Crop_Damage  \n",
       "0                     0       1            0  \n",
       "1                     0       2            1  \n",
       "2                     0       2            1  \n",
       "3                     0       2            1  \n",
       "4                     0       2            1  \n",
       "...                 ...     ...          ...  \n",
       "4594                  1       1            1  \n",
       "4595                  2       1            1  \n",
       "4596                 27       2            0  \n",
       "4597                 24       2            0  \n",
       "4598                 17       2            0  \n",
       "\n",
       "[4599 rows x 10 columns]"
      ]
     },
     "execution_count": 2,
     "metadata": {},
     "output_type": "execute_result"
    }
   ],
   "source": [
    "df=pd.read_csv(\"Agriculture.csv\")\n",
    "df"
   ]
  },
  {
   "cell_type": "code",
   "execution_count": 3,
   "metadata": {},
   "outputs": [
    {
     "data": {
      "text/plain": [
       "ID                          object\n",
       "Estimated_Insects_Count      int64\n",
       "Crop_Type                    int64\n",
       "Soil_Type                    int64\n",
       "Pesticide_Use_Category       int64\n",
       "Number_Doses_Week            int64\n",
       "Number_Weeks_Used          float64\n",
       "Number_Weeks_Quit            int64\n",
       "Season                       int64\n",
       "Crop_Damage                  int64\n",
       "dtype: object"
      ]
     },
     "execution_count": 3,
     "metadata": {},
     "output_type": "execute_result"
    }
   ],
   "source": [
    "#checkig data types\n",
    "df.dtypes"
   ]
  },
  {
   "cell_type": "code",
   "execution_count": 4,
   "metadata": {},
   "outputs": [
    {
     "data": {
      "text/plain": [
       "ID                           0\n",
       "Estimated_Insects_Count      0\n",
       "Crop_Type                    0\n",
       "Soil_Type                    0\n",
       "Pesticide_Use_Category       0\n",
       "Number_Doses_Week            0\n",
       "Number_Weeks_Used          442\n",
       "Number_Weeks_Quit            0\n",
       "Season                       0\n",
       "Crop_Damage                  0\n",
       "dtype: int64"
      ]
     },
     "execution_count": 4,
     "metadata": {},
     "output_type": "execute_result"
    }
   ],
   "source": [
    "#checking null vlues\n",
    "df.isnull().sum()"
   ]
  },
  {
   "cell_type": "markdown",
   "metadata": {},
   "source": [
    "number_weeks_used have 442 null values"
   ]
  },
  {
   "cell_type": "code",
   "execution_count": 5,
   "metadata": {},
   "outputs": [
    {
     "data": {
      "text/plain": [
       "0    20.0\n",
       "dtype: float64"
      ]
     },
     "execution_count": 5,
     "metadata": {},
     "output_type": "execute_result"
    }
   ],
   "source": [
    "df[\"Number_Weeks_Used\"].mode()"
   ]
  },
  {
   "cell_type": "code",
   "execution_count": 6,
   "metadata": {},
   "outputs": [],
   "source": [
    "#filling null values with mode\n",
    "df[\"Number_Weeks_Used\"]=df[\"Number_Weeks_Used\"].replace(np.NaN,20)\n",
    "\n",
    "                                                               "
   ]
  },
  {
   "cell_type": "code",
   "execution_count": 7,
   "metadata": {},
   "outputs": [
    {
     "data": {
      "text/plain": [
       "ID                         0\n",
       "Estimated_Insects_Count    0\n",
       "Crop_Type                  0\n",
       "Soil_Type                  0\n",
       "Pesticide_Use_Category     0\n",
       "Number_Doses_Week          0\n",
       "Number_Weeks_Used          0\n",
       "Number_Weeks_Quit          0\n",
       "Season                     0\n",
       "Crop_Damage                0\n",
       "dtype: int64"
      ]
     },
     "execution_count": 7,
     "metadata": {},
     "output_type": "execute_result"
    }
   ],
   "source": [
    "df.isnull().sum()"
   ]
  },
  {
   "cell_type": "code",
   "execution_count": 8,
   "metadata": {},
   "outputs": [
    {
     "data": {
      "text/html": [
       "<div>\n",
       "<style scoped>\n",
       "    .dataframe tbody tr th:only-of-type {\n",
       "        vertical-align: middle;\n",
       "    }\n",
       "\n",
       "    .dataframe tbody tr th {\n",
       "        vertical-align: top;\n",
       "    }\n",
       "\n",
       "    .dataframe thead th {\n",
       "        text-align: right;\n",
       "    }\n",
       "</style>\n",
       "<table border=\"1\" class=\"dataframe\">\n",
       "  <thead>\n",
       "    <tr style=\"text-align: right;\">\n",
       "      <th></th>\n",
       "      <th>ID</th>\n",
       "      <th>Estimated_Insects_Count</th>\n",
       "      <th>Crop_Type</th>\n",
       "      <th>Soil_Type</th>\n",
       "      <th>Pesticide_Use_Category</th>\n",
       "      <th>Number_Doses_Week</th>\n",
       "      <th>Number_Weeks_Used</th>\n",
       "      <th>Number_Weeks_Quit</th>\n",
       "      <th>Season</th>\n",
       "      <th>Crop_Damage</th>\n",
       "    </tr>\n",
       "  </thead>\n",
       "  <tbody>\n",
       "    <tr>\n",
       "      <th>0</th>\n",
       "      <td>F00000001</td>\n",
       "      <td>188</td>\n",
       "      <td>1</td>\n",
       "      <td>0</td>\n",
       "      <td>1</td>\n",
       "      <td>0</td>\n",
       "      <td>0.0</td>\n",
       "      <td>0</td>\n",
       "      <td>1</td>\n",
       "      <td>0</td>\n",
       "    </tr>\n",
       "    <tr>\n",
       "      <th>1</th>\n",
       "      <td>F00000003</td>\n",
       "      <td>209</td>\n",
       "      <td>1</td>\n",
       "      <td>0</td>\n",
       "      <td>1</td>\n",
       "      <td>0</td>\n",
       "      <td>0.0</td>\n",
       "      <td>0</td>\n",
       "      <td>2</td>\n",
       "      <td>1</td>\n",
       "    </tr>\n",
       "    <tr>\n",
       "      <th>2</th>\n",
       "      <td>F00000004</td>\n",
       "      <td>257</td>\n",
       "      <td>1</td>\n",
       "      <td>0</td>\n",
       "      <td>1</td>\n",
       "      <td>0</td>\n",
       "      <td>0.0</td>\n",
       "      <td>0</td>\n",
       "      <td>2</td>\n",
       "      <td>1</td>\n",
       "    </tr>\n",
       "    <tr>\n",
       "      <th>3</th>\n",
       "      <td>F00000005</td>\n",
       "      <td>257</td>\n",
       "      <td>1</td>\n",
       "      <td>1</td>\n",
       "      <td>1</td>\n",
       "      <td>0</td>\n",
       "      <td>0.0</td>\n",
       "      <td>0</td>\n",
       "      <td>2</td>\n",
       "      <td>1</td>\n",
       "    </tr>\n",
       "    <tr>\n",
       "      <th>4</th>\n",
       "      <td>F00000006</td>\n",
       "      <td>342</td>\n",
       "      <td>1</td>\n",
       "      <td>0</td>\n",
       "      <td>1</td>\n",
       "      <td>0</td>\n",
       "      <td>0.0</td>\n",
       "      <td>0</td>\n",
       "      <td>2</td>\n",
       "      <td>1</td>\n",
       "    </tr>\n",
       "    <tr>\n",
       "      <th>...</th>\n",
       "      <td>...</td>\n",
       "      <td>...</td>\n",
       "      <td>...</td>\n",
       "      <td>...</td>\n",
       "      <td>...</td>\n",
       "      <td>...</td>\n",
       "      <td>...</td>\n",
       "      <td>...</td>\n",
       "      <td>...</td>\n",
       "      <td>...</td>\n",
       "    </tr>\n",
       "    <tr>\n",
       "      <th>4594</th>\n",
       "      <td>F00008078</td>\n",
       "      <td>2138</td>\n",
       "      <td>0</td>\n",
       "      <td>1</td>\n",
       "      <td>2</td>\n",
       "      <td>20</td>\n",
       "      <td>20.0</td>\n",
       "      <td>1</td>\n",
       "      <td>1</td>\n",
       "      <td>1</td>\n",
       "    </tr>\n",
       "    <tr>\n",
       "      <th>4595</th>\n",
       "      <td>F00008079</td>\n",
       "      <td>2139</td>\n",
       "      <td>0</td>\n",
       "      <td>1</td>\n",
       "      <td>2</td>\n",
       "      <td>30</td>\n",
       "      <td>47.0</td>\n",
       "      <td>2</td>\n",
       "      <td>1</td>\n",
       "      <td>1</td>\n",
       "    </tr>\n",
       "    <tr>\n",
       "      <th>4596</th>\n",
       "      <td>F00008080</td>\n",
       "      <td>2267</td>\n",
       "      <td>0</td>\n",
       "      <td>1</td>\n",
       "      <td>2</td>\n",
       "      <td>10</td>\n",
       "      <td>7.0</td>\n",
       "      <td>27</td>\n",
       "      <td>2</td>\n",
       "      <td>0</td>\n",
       "    </tr>\n",
       "    <tr>\n",
       "      <th>4597</th>\n",
       "      <td>F00008082</td>\n",
       "      <td>2267</td>\n",
       "      <td>0</td>\n",
       "      <td>1</td>\n",
       "      <td>2</td>\n",
       "      <td>10</td>\n",
       "      <td>20.0</td>\n",
       "      <td>24</td>\n",
       "      <td>2</td>\n",
       "      <td>0</td>\n",
       "    </tr>\n",
       "    <tr>\n",
       "      <th>4598</th>\n",
       "      <td>F00008083</td>\n",
       "      <td>2267</td>\n",
       "      <td>0</td>\n",
       "      <td>1</td>\n",
       "      <td>2</td>\n",
       "      <td>10</td>\n",
       "      <td>33.0</td>\n",
       "      <td>17</td>\n",
       "      <td>2</td>\n",
       "      <td>0</td>\n",
       "    </tr>\n",
       "  </tbody>\n",
       "</table>\n",
       "<p>4599 rows × 10 columns</p>\n",
       "</div>"
      ],
      "text/plain": [
       "             ID  Estimated_Insects_Count  Crop_Type  Soil_Type  \\\n",
       "0     F00000001                      188          1          0   \n",
       "1     F00000003                      209          1          0   \n",
       "2     F00000004                      257          1          0   \n",
       "3     F00000005                      257          1          1   \n",
       "4     F00000006                      342          1          0   \n",
       "...         ...                      ...        ...        ...   \n",
       "4594  F00008078                     2138          0          1   \n",
       "4595  F00008079                     2139          0          1   \n",
       "4596  F00008080                     2267          0          1   \n",
       "4597  F00008082                     2267          0          1   \n",
       "4598  F00008083                     2267          0          1   \n",
       "\n",
       "      Pesticide_Use_Category  Number_Doses_Week  Number_Weeks_Used  \\\n",
       "0                          1                  0                0.0   \n",
       "1                          1                  0                0.0   \n",
       "2                          1                  0                0.0   \n",
       "3                          1                  0                0.0   \n",
       "4                          1                  0                0.0   \n",
       "...                      ...                ...                ...   \n",
       "4594                       2                 20               20.0   \n",
       "4595                       2                 30               47.0   \n",
       "4596                       2                 10                7.0   \n",
       "4597                       2                 10               20.0   \n",
       "4598                       2                 10               33.0   \n",
       "\n",
       "      Number_Weeks_Quit  Season  Crop_Damage  \n",
       "0                     0       1            0  \n",
       "1                     0       2            1  \n",
       "2                     0       2            1  \n",
       "3                     0       2            1  \n",
       "4                     0       2            1  \n",
       "...                 ...     ...          ...  \n",
       "4594                  1       1            1  \n",
       "4595                  2       1            1  \n",
       "4596                 27       2            0  \n",
       "4597                 24       2            0  \n",
       "4598                 17       2            0  \n",
       "\n",
       "[4599 rows x 10 columns]"
      ]
     },
     "execution_count": 8,
     "metadata": {},
     "output_type": "execute_result"
    }
   ],
   "source": [
    "df"
   ]
  },
  {
   "cell_type": "markdown",
   "metadata": {},
   "source": [
    "# Summary Statistics"
   ]
  },
  {
   "cell_type": "code",
   "execution_count": 9,
   "metadata": {},
   "outputs": [
    {
     "data": {
      "text/html": [
       "<div>\n",
       "<style scoped>\n",
       "    .dataframe tbody tr th:only-of-type {\n",
       "        vertical-align: middle;\n",
       "    }\n",
       "\n",
       "    .dataframe tbody tr th {\n",
       "        vertical-align: top;\n",
       "    }\n",
       "\n",
       "    .dataframe thead th {\n",
       "        text-align: right;\n",
       "    }\n",
       "</style>\n",
       "<table border=\"1\" class=\"dataframe\">\n",
       "  <thead>\n",
       "    <tr style=\"text-align: right;\">\n",
       "      <th></th>\n",
       "      <th>Estimated_Insects_Count</th>\n",
       "      <th>Crop_Type</th>\n",
       "      <th>Soil_Type</th>\n",
       "      <th>Pesticide_Use_Category</th>\n",
       "      <th>Number_Doses_Week</th>\n",
       "      <th>Number_Weeks_Used</th>\n",
       "      <th>Number_Weeks_Quit</th>\n",
       "      <th>Season</th>\n",
       "      <th>Crop_Damage</th>\n",
       "    </tr>\n",
       "  </thead>\n",
       "  <tbody>\n",
       "    <tr>\n",
       "      <th>count</th>\n",
       "      <td>4599.000000</td>\n",
       "      <td>4599.000000</td>\n",
       "      <td>4599.000000</td>\n",
       "      <td>4599.000000</td>\n",
       "      <td>4599.000000</td>\n",
       "      <td>4599.000000</td>\n",
       "      <td>4599.000000</td>\n",
       "      <td>4599.000000</td>\n",
       "      <td>4599.000000</td>\n",
       "    </tr>\n",
       "    <tr>\n",
       "      <th>mean</th>\n",
       "      <td>1363.000435</td>\n",
       "      <td>0.224831</td>\n",
       "      <td>0.476625</td>\n",
       "      <td>2.283540</td>\n",
       "      <td>26.477495</td>\n",
       "      <td>28.036530</td>\n",
       "      <td>9.205479</td>\n",
       "      <td>1.894325</td>\n",
       "      <td>0.194390</td>\n",
       "    </tr>\n",
       "    <tr>\n",
       "      <th>std</th>\n",
       "      <td>814.439120</td>\n",
       "      <td>0.417517</td>\n",
       "      <td>0.499508</td>\n",
       "      <td>0.471978</td>\n",
       "      <td>15.524647</td>\n",
       "      <td>12.249436</td>\n",
       "      <td>9.713253</td>\n",
       "      <td>0.694952</td>\n",
       "      <td>0.454597</td>\n",
       "    </tr>\n",
       "    <tr>\n",
       "      <th>min</th>\n",
       "      <td>150.000000</td>\n",
       "      <td>0.000000</td>\n",
       "      <td>0.000000</td>\n",
       "      <td>1.000000</td>\n",
       "      <td>0.000000</td>\n",
       "      <td>0.000000</td>\n",
       "      <td>0.000000</td>\n",
       "      <td>1.000000</td>\n",
       "      <td>0.000000</td>\n",
       "    </tr>\n",
       "    <tr>\n",
       "      <th>25%</th>\n",
       "      <td>731.000000</td>\n",
       "      <td>0.000000</td>\n",
       "      <td>0.000000</td>\n",
       "      <td>2.000000</td>\n",
       "      <td>15.000000</td>\n",
       "      <td>20.000000</td>\n",
       "      <td>0.000000</td>\n",
       "      <td>1.000000</td>\n",
       "      <td>0.000000</td>\n",
       "    </tr>\n",
       "    <tr>\n",
       "      <th>50%</th>\n",
       "      <td>1212.000000</td>\n",
       "      <td>0.000000</td>\n",
       "      <td>0.000000</td>\n",
       "      <td>2.000000</td>\n",
       "      <td>20.000000</td>\n",
       "      <td>26.000000</td>\n",
       "      <td>7.000000</td>\n",
       "      <td>2.000000</td>\n",
       "      <td>0.000000</td>\n",
       "    </tr>\n",
       "    <tr>\n",
       "      <th>75%</th>\n",
       "      <td>1786.000000</td>\n",
       "      <td>0.000000</td>\n",
       "      <td>1.000000</td>\n",
       "      <td>3.000000</td>\n",
       "      <td>40.000000</td>\n",
       "      <td>36.000000</td>\n",
       "      <td>16.000000</td>\n",
       "      <td>2.000000</td>\n",
       "      <td>0.000000</td>\n",
       "    </tr>\n",
       "    <tr>\n",
       "      <th>max</th>\n",
       "      <td>4097.000000</td>\n",
       "      <td>1.000000</td>\n",
       "      <td>1.000000</td>\n",
       "      <td>3.000000</td>\n",
       "      <td>95.000000</td>\n",
       "      <td>66.000000</td>\n",
       "      <td>47.000000</td>\n",
       "      <td>3.000000</td>\n",
       "      <td>2.000000</td>\n",
       "    </tr>\n",
       "  </tbody>\n",
       "</table>\n",
       "</div>"
      ],
      "text/plain": [
       "       Estimated_Insects_Count    Crop_Type    Soil_Type  \\\n",
       "count              4599.000000  4599.000000  4599.000000   \n",
       "mean               1363.000435     0.224831     0.476625   \n",
       "std                 814.439120     0.417517     0.499508   \n",
       "min                 150.000000     0.000000     0.000000   \n",
       "25%                 731.000000     0.000000     0.000000   \n",
       "50%                1212.000000     0.000000     0.000000   \n",
       "75%                1786.000000     0.000000     1.000000   \n",
       "max                4097.000000     1.000000     1.000000   \n",
       "\n",
       "       Pesticide_Use_Category  Number_Doses_Week  Number_Weeks_Used  \\\n",
       "count             4599.000000        4599.000000        4599.000000   \n",
       "mean                 2.283540          26.477495          28.036530   \n",
       "std                  0.471978          15.524647          12.249436   \n",
       "min                  1.000000           0.000000           0.000000   \n",
       "25%                  2.000000          15.000000          20.000000   \n",
       "50%                  2.000000          20.000000          26.000000   \n",
       "75%                  3.000000          40.000000          36.000000   \n",
       "max                  3.000000          95.000000          66.000000   \n",
       "\n",
       "       Number_Weeks_Quit       Season  Crop_Damage  \n",
       "count        4599.000000  4599.000000  4599.000000  \n",
       "mean            9.205479     1.894325     0.194390  \n",
       "std             9.713253     0.694952     0.454597  \n",
       "min             0.000000     1.000000     0.000000  \n",
       "25%             0.000000     1.000000     0.000000  \n",
       "50%             7.000000     2.000000     0.000000  \n",
       "75%            16.000000     2.000000     0.000000  \n",
       "max            47.000000     3.000000     2.000000  "
      ]
     },
     "execution_count": 9,
     "metadata": {},
     "output_type": "execute_result"
    }
   ],
   "source": [
    "df.describe()"
   ]
  },
  {
   "cell_type": "markdown",
   "metadata": {},
   "source": [
    "- std is very high in column Estimated_insects_count \n",
    "\n",
    "- very huge difference b/w mean and median in column Number_Doses_Used "
   ]
  },
  {
   "cell_type": "markdown",
   "metadata": {},
   "source": [
    "CHECKING CORRELATIONS"
   ]
  },
  {
   "cell_type": "code",
   "execution_count": 10,
   "metadata": {},
   "outputs": [
    {
     "data": {
      "text/plain": [
       "<matplotlib.axes._subplots.AxesSubplot at 0x27181944ac0>"
      ]
     },
     "execution_count": 10,
     "metadata": {},
     "output_type": "execute_result"
    },
    {
     "data": {
      "image/png": "[encoded data removed]",
      "text/plain": [
       "<Figure size 1080x504 with 2 Axes>"
      ]
     },
     "metadata": {
      "needs_background": "light"
     },
     "output_type": "display_data"
    }
   ],
   "source": [
    "#PLOTING CORRELATION WITH HEATMAPE\n",
    "plt.figure(figsize=(15,7))\n",
    "sns.heatmap(df.corr(),annot=True,fmt=\"0.0%\",linewidth=.4,cmap=\"Greens\")"
   ]
  },
  {
   "cell_type": "markdown",
   "metadata": {},
   "source": [
    "- COLUMNS ESTIMATED_INSECTS_COUNTS,Pesticide_Use_Category AND Number_Weeks_Used HAVE MAX CORRELTION THAN OTHERS WIH TARGET COLUMN"
   ]
  },
  {
   "cell_type": "markdown",
   "metadata": {},
   "source": [
    "## Analysis with visualization "
   ]
  },
  {
   "cell_type": "code",
   "execution_count": 11,
   "metadata": {},
   "outputs": [
    {
     "data": {
      "image/png": "[encoded data removed]",
      "text/plain": [
       "<Figure size 432x288 with 1 Axes>"
      ]
     },
     "metadata": {},
     "output_type": "display_data"
    }
   ],
   "source": [
    "sns.set(style=\"whitegrid\")\n",
    "sns.countplot(df[\"Crop_Damage\"])\n",
    "plt.show()"
   ]
  },
  {
   "cell_type": "markdown",
   "metadata": {},
   "source": [
    "0 have more counts than 1 and 2."
   ]
  },
  {
   "cell_type": "code",
   "execution_count": 12,
   "metadata": {},
   "outputs": [
    {
     "data": {
      "text/plain": [
       "<matplotlib.axes._subplots.AxesSubplot at 0x271826e3400>"
      ]
     },
     "execution_count": 12,
     "metadata": {},
     "output_type": "execute_result"
    },
    {
     "data": {
      "image/png": "[encoded data removed]",
      "text/plain": [
       "<Figure size 432x288 with 1 Axes>"
      ]
     },
     "metadata": {},
     "output_type": "display_data"
    }
   ],
   "source": [
    "sns.countplot(df[\"Crop_Type\"])"
   ]
  },
  {
   "cell_type": "code",
   "execution_count": 13,
   "metadata": {},
   "outputs": [
    {
     "data": {
      "text/plain": [
       "<matplotlib.axes._subplots.AxesSubplot at 0x27182727af0>"
      ]
     },
     "execution_count": 13,
     "metadata": {},
     "output_type": "execute_result"
    },
    {
     "data": {
      "image/png": "[encoded data removed]",
      "text/plain": [
       "<Figure size 432x288 with 1 Axes>"
      ]
     },
     "metadata": {},
     "output_type": "display_data"
    }
   ],
   "source": [
    "sns.countplot(df[\"Soil_Type\"])"
   ]
  },
  {
   "cell_type": "code",
   "execution_count": 14,
   "metadata": {},
   "outputs": [
    {
     "data": {
      "text/plain": [
       "<matplotlib.axes._subplots.AxesSubplot at 0x27182771eb0>"
      ]
     },
     "execution_count": 14,
     "metadata": {},
     "output_type": "execute_result"
    },
    {
     "data": {
      "image/png": "[encoded data removed]",
      "text/plain": [
       "<Figure size 432x288 with 1 Axes>"
      ]
     },
     "metadata": {},
     "output_type": "display_data"
    }
   ],
   "source": [
    "sns.countplot(df[\"Pesticide_Use_Category\"])"
   ]
  },
  {
   "cell_type": "code",
   "execution_count": 15,
   "metadata": {},
   "outputs": [
    {
     "data": {
      "text/plain": [
       "<matplotlib.axes._subplots.AxesSubplot at 0x271827c56a0>"
      ]
     },
     "execution_count": 15,
     "metadata": {},
     "output_type": "execute_result"
    },
    {
     "data": {
      "image/png": "[encoded data removed]",
      "text/plain": [
       "<Figure size 432x288 with 1 Axes>"
      ]
     },
     "metadata": {},
     "output_type": "display_data"
    }
   ],
   "source": [
    "sns.countplot(df[\"Season\"])"
   ]
  },
  {
   "cell_type": "code",
   "execution_count": 16,
   "metadata": {},
   "outputs": [
    {
     "data": {
      "text/plain": [
       "<matplotlib.axes._subplots.AxesSubplot at 0x2718280a760>"
      ]
     },
     "execution_count": 16,
     "metadata": {},
     "output_type": "execute_result"
    },
    {
     "data": {
      "image/png": "[encoded data removed]",
      "text/plain": [
       "<Figure size 432x288 with 1 Axes>"
      ]
     },
     "metadata": {},
     "output_type": "display_data"
    }
   ],
   "source": [
    "sns.countplot(x=\"Season\",hue=\"Crop_Damage\",data=df)"
   ]
  },
  {
   "cell_type": "code",
   "execution_count": 17,
   "metadata": {},
   "outputs": [
    {
     "data": {
      "text/plain": [
       "<matplotlib.axes._subplots.AxesSubplot at 0x2718287ea30>"
      ]
     },
     "execution_count": 17,
     "metadata": {},
     "output_type": "execute_result"
    },
    {
     "data": {
      "image/png": "[encoded data removed]",
      "text/plain": [
       "<Figure size 432x288 with 1 Axes>"
      ]
     },
     "metadata": {},
     "output_type": "display_data"
    }
   ],
   "source": [
    "sns.countplot(x=\"Crop_Type\",hue=\"Crop_Damage\",data=df)"
   ]
  },
  {
   "cell_type": "code",
   "execution_count": 18,
   "metadata": {},
   "outputs": [
    {
     "data": {
      "text/plain": [
       "<matplotlib.axes._subplots.AxesSubplot at 0x271828739d0>"
      ]
     },
     "execution_count": 18,
     "metadata": {},
     "output_type": "execute_result"
    },
    {
     "data": {
      "image/png": "[encoded data removed]",
      "text/plain": [
       "<Figure size 432x288 with 1 Axes>"
      ]
     },
     "metadata": {},
     "output_type": "display_data"
    }
   ],
   "source": [
    "sns.countplot(x=\"Soil_Type\",hue=\"Crop_Damage\",data=df)"
   ]
  },
  {
   "cell_type": "code",
   "execution_count": 19,
   "metadata": {},
   "outputs": [
    {
     "data": {
      "text/plain": [
       "<matplotlib.axes._subplots.AxesSubplot at 0x271828b17f0>"
      ]
     },
     "execution_count": 19,
     "metadata": {},
     "output_type": "execute_result"
    },
    {
     "data": {
      "image/png": "[encoded data removed]",
      "text/plain": [
       "<Figure size 432x288 with 1 Axes>"
      ]
     },
     "metadata": {},
     "output_type": "display_data"
    }
   ],
   "source": [
    "sns.countplot(x=\"Pesticide_Use_Category\",hue=\"Crop_Damage\",data=df)"
   ]
  },
  {
   "cell_type": "code",
   "execution_count": 20,
   "metadata": {},
   "outputs": [
    {
     "data": {
      "text/plain": [
       "<matplotlib.axes._subplots.AxesSubplot at 0x271827b4880>"
      ]
     },
     "execution_count": 20,
     "metadata": {},
     "output_type": "execute_result"
    },
    {
     "data": {
      "image/png": "[encoded data removed]",
      "text/plain": [
       "<Figure size 432x288 with 1 Axes>"
      ]
     },
     "metadata": {},
     "output_type": "display_data"
    }
   ],
   "source": [
    "#Crop damage vs Estimated_Insects_Count\n",
    "sns.barplot(x='Crop_Damage',y=\"Estimated_Insects_Count\",data=df)"
   ]
  },
  {
   "cell_type": "code",
   "execution_count": 21,
   "metadata": {},
   "outputs": [
    {
     "data": {
      "text/plain": [
       "<matplotlib.axes._subplots.AxesSubplot at 0x271827be3d0>"
      ]
     },
     "execution_count": 21,
     "metadata": {},
     "output_type": "execute_result"
    },
    {
     "data": {
      "image/png": "[encoded data removed]",
      "text/plain": [
       "<Figure size 432x288 with 1 Axes>"
      ]
     },
     "metadata": {},
     "output_type": "display_data"
    }
   ],
   "source": [
    "sns.barplot(x='Crop_Damage',y=\"Number_Weeks_Used\",data=df)"
   ]
  },
  {
   "cell_type": "markdown",
   "metadata": {},
   "source": [
    "Checking skewness"
   ]
  },
  {
   "cell_type": "code",
   "execution_count": 22,
   "metadata": {},
   "outputs": [
    {
     "data": {
      "image/png": "[encoded data removed]",
      "text/plain": [
       "<Figure size 432x288 with 1 Axes>"
      ]
     },
     "metadata": {},
     "output_type": "display_data"
    },
    {
     "data": {
      "image/png": "[encoded data removed]",
      "text/plain": [
       "<Figure size 432x288 with 1 Axes>"
      ]
     },
     "metadata": {},
     "output_type": "display_data"
    },
    {
     "data": {
      "image/png": "[encoded data removed]",
      "text/plain": [
       "<Figure size 432x288 with 1 Axes>"
      ]
     },
     "metadata": {},
     "output_type": "display_data"
    },
    {
     "data": {
      "image/png": "[encoded data removed]",
      "text/plain": [
       "<Figure size 432x288 with 1 Axes>"
      ]
     },
     "metadata": {},
     "output_type": "display_data"
    },
    {
     "data": {
      "image/png": "[encoded data removed]",
      "text/plain": [
       "<Figure size 432x288 with 1 Axes>"
      ]
     },
     "metadata": {},
     "output_type": "display_data"
    },
    {
     "data": {
      "image/png": "[encoded data removed]",
      "text/plain": [
       "<Figure size 432x288 with 1 Axes>"
      ]
     },
     "metadata": {},
     "output_type": "display_data"
    },
    {
     "data": {
      "image/png": "[encoded data removed]",
      "text/plain": [
       "<Figure size 432x288 with 1 Axes>"
      ]
     },
     "metadata": {},
     "output_type": "display_data"
    },
    {
     "data": {
      "image/png": "[encoded data removed]",
      "text/plain": [
       "<Figure size 432x288 with 1 Axes>"
      ]
     },
     "metadata": {},
     "output_type": "display_data"
    },
    {
     "data": {
      "image/png": "[encoded data removed]",
      "text/plain": [
       "<Figure size 432x288 with 1 Axes>"
      ]
     },
     "metadata": {},
     "output_type": "display_data"
    }
   ],
   "source": [
    "#ploting distibution plot\n",
    "for col in df.describe().columns:\n",
    "    sns.distplot(df[col],color=\"r\")\n",
    "    plt.show()\n",
    "    "
   ]
  },
  {
   "cell_type": "code",
   "execution_count": 23,
   "metadata": {},
   "outputs": [
    {
     "data": {
      "text/plain": [
       "Estimated_Insects_Count    0.911469\n",
       "Crop_Type                  1.318693\n",
       "Soil_Type                  0.093631\n",
       "Pesticide_Use_Category     0.678586\n",
       "Number_Doses_Week          0.945895\n",
       "Number_Weeks_Used          0.432681\n",
       "Number_Weeks_Quit          0.919771\n",
       "Season                     0.144841\n",
       "Crop_Damage                2.306933\n",
       "dtype: float64"
      ]
     },
     "execution_count": 23,
     "metadata": {},
     "output_type": "execute_result"
    }
   ],
   "source": [
    "#checking skewness to all columns\n",
    "df.skew()"
   ]
  },
  {
   "cell_type": "code",
   "execution_count": 29,
   "metadata": {},
   "outputs": [],
   "source": [
    "#handleing skwness\n",
    "from scipy.stats import boxcox\n",
    "\n",
    "for col in df.describe().columns:\n",
    "    if df[col].skew()>0.55:\n",
    "        df[col]=np.sqrt(df[col])\n",
    "        "
   ]
  },
  {
   "cell_type": "code",
   "execution_count": 30,
   "metadata": {},
   "outputs": [
    {
     "data": {
      "text/plain": [
       "Estimated_Insects_Count   -0.500955\n",
       "Crop_Type                  1.318693\n",
       "Soil_Type                  0.093631\n",
       "Pesticide_Use_Category     0.494443\n",
       "Number_Doses_Week         -0.002742\n",
       "Number_Weeks_Used          0.432681\n",
       "Number_Weeks_Quit          0.054299\n",
       "Season                     0.144841\n",
       "Crop_Damage                1.868685\n",
       "dtype: float64"
      ]
     },
     "execution_count": 30,
     "metadata": {},
     "output_type": "execute_result"
    }
   ],
   "source": [
    "df.skew()"
   ]
  },
  {
   "cell_type": "code",
   "execution_count": 32,
   "metadata": {},
   "outputs": [
    {
     "data": {
      "text/plain": [
       "Estimated_Insects_Count       AxesSubplot(0.125,0.536818;0.133621x0.343182)\n",
       "Crop_Type                  AxesSubplot(0.285345,0.536818;0.133621x0.343182)\n",
       "Soil_Type                   AxesSubplot(0.44569,0.536818;0.133621x0.343182)\n",
       "Pesticide_Use_Category     AxesSubplot(0.606034,0.536818;0.133621x0.343182)\n",
       "Number_Doses_Week          AxesSubplot(0.766379,0.536818;0.133621x0.343182)\n",
       "Number_Weeks_Used                AxesSubplot(0.125,0.125;0.133621x0.343182)\n",
       "Number_Weeks_Quit             AxesSubplot(0.285345,0.125;0.133621x0.343182)\n",
       "Season                         AxesSubplot(0.44569,0.125;0.133621x0.343182)\n",
       "Crop_Damage                   AxesSubplot(0.606034,0.125;0.133621x0.343182)\n",
       "dtype: object"
      ]
     },
     "execution_count": 32,
     "metadata": {},
     "output_type": "execute_result"
    },
    {
     "data": {
      "image/png": "[encoded data removed]",
      "text/plain": [
       "<Figure size 432x288 with 10 Axes>"
      ]
     },
     "metadata": {},
     "output_type": "display_data"
    }
   ],
   "source": [
    "#ploting outliers with box plot\n",
    "df.plot(kind=\"box\",subplots=True,layout=(2,5))"
   ]
  },
  {
   "cell_type": "code",
   "execution_count": 34,
   "metadata": {},
   "outputs": [],
   "source": [
    "df.drop(\"ID\",axis=1,inplace=True)"
   ]
  },
  {
   "cell_type": "code",
   "execution_count": 35,
   "metadata": {},
   "outputs": [
    {
     "data": {
      "text/plain": [
       "(array([   0,    0,    1,    1,    2,    2,    3,    3,    4,    4,    5,\n",
       "           5,    6,    6,    7,    7,    7,    8,    8,    9,    9,    9,\n",
       "          10,   10,   11,   11,   12,   12,   13,   13,   14,   14,   14,\n",
       "          15,   15,   16,   16,   17,   17,   18,   18,   19,   19,   20,\n",
       "          20,   21,   21,   22,   22,   23,   23,   24,   25,   26,  103,\n",
       "         112,  149,  165,  166,  167,  179,  186,  197,  207,  222,  223,\n",
       "         242,  248,  264,  265,  290,  296,  305,  316,  351,  355,  361,\n",
       "         374,  375,  377,  385,  386,  387,  388,  389,  390,  453,  458,\n",
       "         466,  480,  510,  517,  522,  557,  595,  612,  634,  693,  819,\n",
       "         944,  980, 1067, 1178, 1327, 1339, 1340, 1350, 1351, 1737, 1807,\n",
       "        2043, 2139, 2170, 2171, 2195, 2237, 2571, 2571, 2572, 2572, 2573,\n",
       "        2573, 2574, 2574, 2575, 2575, 2576, 2576, 2577, 2577, 2578, 2578,\n",
       "        2579, 2579, 2580, 2580, 2581, 2581, 2582, 2582, 2583, 2583, 2584,\n",
       "        2584, 2585, 2585, 2585, 2586, 2586, 2587, 2587, 2588, 2588, 2589,\n",
       "        2589, 2590, 2590, 2590, 2591, 2591, 2592, 2593, 2594, 2595, 2596,\n",
       "        2597, 2663, 2671, 2696, 2710, 2716, 2723, 2767, 2792, 2796, 2797,\n",
       "        2804, 2806, 2814, 2828, 2829, 2834, 2841, 2842, 2851, 2860, 2861,\n",
       "        2870, 2884, 2888, 2912, 2915, 2917, 2921, 2923, 2928, 2929, 2940,\n",
       "        2942, 2946, 2947, 2948, 2949, 2950, 3015, 3045, 3058, 3086, 3107,\n",
       "        3126, 3183, 3189, 3206, 3241, 3248, 3336, 3628, 3629, 3657, 3686,\n",
       "        3716, 3717, 3718, 3740, 3796, 3850, 3851, 3935, 3941, 4091, 4155,\n",
       "        4277, 4278, 4378, 4545, 4570], dtype=int64),\n",
       " array([3, 4, 3, 4, 3, 4, 3, 4, 3, 4, 3, 4, 3, 4, 3, 4, 8, 3, 4, 3, 4, 8,\n",
       "        3, 4, 3, 4, 3, 4, 3, 4, 3, 4, 8, 3, 4, 3, 4, 3, 4, 3, 4, 3, 4, 3,\n",
       "        4, 3, 4, 3, 4, 3, 4, 0, 0, 0, 8, 8, 8, 8, 8, 8, 8, 8, 8, 8, 8, 8,\n",
       "        8, 8, 8, 8, 8, 8, 8, 8, 8, 8, 8, 8, 5, 8, 0, 0, 0, 0, 0, 0, 8, 8,\n",
       "        8, 8, 8, 8, 8, 8, 8, 8, 8, 8, 8, 8, 8, 8, 8, 8, 8, 8, 0, 0, 8, 8,\n",
       "        8, 8, 8, 8, 0, 8, 3, 4, 3, 4, 3, 4, 3, 4, 3, 4, 3, 4, 3, 4, 3, 4,\n",
       "        3, 4, 3, 4, 3, 4, 3, 4, 3, 4, 3, 4, 3, 4, 8, 3, 4, 3, 4, 3, 4, 3,\n",
       "        4, 3, 4, 8, 3, 4, 0, 0, 0, 0, 0, 0, 8, 8, 8, 8, 8, 8, 8, 8, 8, 8,\n",
       "        8, 8, 8, 8, 8, 8, 8, 8, 8, 8, 8, 8, 8, 8, 8, 8, 8, 8, 8, 5, 5, 5,\n",
       "        5, 0, 0, 0, 0, 0, 8, 8, 8, 8, 8, 8, 8, 8, 8, 5, 8, 4, 8, 8, 8, 8,\n",
       "        8, 8, 8, 8, 8, 8, 8, 8, 0, 8, 8, 8, 8, 8, 8, 8], dtype=int64))"
      ]
     },
     "execution_count": 35,
     "metadata": {},
     "output_type": "execute_result"
    }
   ],
   "source": [
    "#checking outliers with zscore\n",
    "z=np.abs(zscore(df))\n",
    "np.where(z>3)"
   ]
  },
  {
   "cell_type": "code",
   "execution_count": 36,
   "metadata": {},
   "outputs": [
    {
     "name": "stdout",
     "output_type": "stream",
     "text": [
      "(4599, 9)\n",
      "(4413, 9)\n"
     ]
    }
   ],
   "source": [
    "#Removing outliers\n",
    "df_new=df[(z<3).all(axis=1)]\n",
    "print(df.shape)\n",
    "print(df_new.shape)"
   ]
  },
  {
   "cell_type": "markdown",
   "metadata": {},
   "source": [
    "## Training Model "
   ]
  },
  {
   "cell_type": "code",
   "execution_count": 42,
   "metadata": {},
   "outputs": [
    {
     "name": "stdout",
     "output_type": "stream",
     "text": [
      "      Estimated_Insects_Count  Crop_Type  Soil_Type  Pesticide_Use_Category  \\\n",
      "27                   5.123964        0.0          1                1.732051   \n",
      "28                   5.123964        0.0          1                1.732051   \n",
      "29                   5.236442        0.0          0                1.732051   \n",
      "30                   5.236442        0.0          1                1.732051   \n",
      "31                   5.342334        0.0          1                1.732051   \n",
      "...                       ...        ...        ...                     ...   \n",
      "4594                 7.667626        0.0          1                1.414214   \n",
      "4595                 7.668094        0.0          1                1.414214   \n",
      "4596                 7.726213        0.0          1                1.414214   \n",
      "4597                 7.726213        0.0          1                1.414214   \n",
      "4598                 7.726213        0.0          1                1.414214   \n",
      "\n",
      "      Number_Doses_Week  Number_Weeks_Used  Number_Weeks_Quit  Season  \n",
      "27             4.472136               14.0           0.000000       2  \n",
      "28             4.472136               15.0           0.000000       2  \n",
      "29             5.000000               19.0           0.000000       1  \n",
      "30             6.324555               24.0           0.000000       3  \n",
      "31             4.472136                8.0           0.000000       3  \n",
      "...                 ...                ...                ...     ...  \n",
      "4594           4.472136               20.0           1.000000       1  \n",
      "4595           5.477226               47.0           1.414214       1  \n",
      "4596           3.162278                7.0           5.196152       2  \n",
      "4597           3.162278               20.0           4.898979       2  \n",
      "4598           3.162278               33.0           4.123106       2  \n",
      "\n",
      "[4413 rows x 8 columns]\n",
      "27      0.0\n",
      "28      1.0\n",
      "29      0.0\n",
      "30      0.0\n",
      "31      0.0\n",
      "       ... \n",
      "4594    1.0\n",
      "4595    1.0\n",
      "4596    0.0\n",
      "4597    0.0\n",
      "4598    0.0\n",
      "Name: Crop_Damage, Length: 4413, dtype: float64\n"
     ]
    }
   ],
   "source": [
    "X=df_new.drop(\"Crop_Damage\",axis=1)\n",
    "print(X)\n",
    "y=df_new[\"Crop_Damage\"]\n",
    "print(y)"
   ]
  },
  {
   "cell_type": "code",
   "execution_count": 43,
   "metadata": {},
   "outputs": [
    {
     "data": {
      "text/plain": [
       "array([[-2.94776311, -0.53218593,  1.04425976, ..., -1.18659984,\n",
       "        -1.25770515,  0.14931764],\n",
       "       [-2.94776311, -0.53218593,  1.04425976, ..., -1.102063  ,\n",
       "        -1.25770515,  0.14931764],\n",
       "       [-2.77327723, -0.53218593, -0.95761614, ..., -0.76391567,\n",
       "        -1.25770515, -1.28627876],\n",
       "       ...,\n",
       "       [ 1.08907717, -0.53218593,  1.04425976, ..., -1.77835767,\n",
       "         1.45063357,  0.14931764],\n",
       "       [ 1.08907717, -0.53218593,  1.04425976, ..., -0.67937884,\n",
       "         1.29574109,  0.14931764],\n",
       "       [ 1.08907717, -0.53218593,  1.04425976, ...,  0.4196    ,\n",
       "         0.89134009,  0.14931764]])"
      ]
     },
     "execution_count": 43,
     "metadata": {},
     "output_type": "execute_result"
    }
   ],
   "source": [
    "#using StandardScaler\n",
    "from sklearn.preprocessing import StandardScaler\n",
    "sc=StandardScaler()\n",
    "x=sc.fit_transform(X)\n",
    "x"
   ]
  },
  {
   "cell_type": "code",
   "execution_count": 44,
   "metadata": {},
   "outputs": [
    {
     "data": {
      "text/html": [
       "<div>\n",
       "<style scoped>\n",
       "    .dataframe tbody tr th:only-of-type {\n",
       "        vertical-align: middle;\n",
       "    }\n",
       "\n",
       "    .dataframe tbody tr th {\n",
       "        vertical-align: top;\n",
       "    }\n",
       "\n",
       "    .dataframe thead th {\n",
       "        text-align: right;\n",
       "    }\n",
       "</style>\n",
       "<table border=\"1\" class=\"dataframe\">\n",
       "  <thead>\n",
       "    <tr style=\"text-align: right;\">\n",
       "      <th></th>\n",
       "      <th>Estimated_Insects_Count</th>\n",
       "      <th>Crop_Type</th>\n",
       "      <th>Soil_Type</th>\n",
       "      <th>Pesticide_Use_Category</th>\n",
       "      <th>Number_Doses_Week</th>\n",
       "      <th>Number_Weeks_Used</th>\n",
       "      <th>Number_Weeks_Quit</th>\n",
       "      <th>Season</th>\n",
       "    </tr>\n",
       "  </thead>\n",
       "  <tbody>\n",
       "    <tr>\n",
       "      <th>0</th>\n",
       "      <td>-2.947763</td>\n",
       "      <td>-0.532186</td>\n",
       "      <td>1.044260</td>\n",
       "      <td>1.593391</td>\n",
       "      <td>-0.324762</td>\n",
       "      <td>-1.186600</td>\n",
       "      <td>-1.257705</td>\n",
       "      <td>0.149318</td>\n",
       "    </tr>\n",
       "    <tr>\n",
       "      <th>1</th>\n",
       "      <td>-2.947763</td>\n",
       "      <td>-0.532186</td>\n",
       "      <td>1.044260</td>\n",
       "      <td>1.593391</td>\n",
       "      <td>-0.324762</td>\n",
       "      <td>-1.102063</td>\n",
       "      <td>-1.257705</td>\n",
       "      <td>0.149318</td>\n",
       "    </tr>\n",
       "    <tr>\n",
       "      <th>2</th>\n",
       "      <td>-2.773277</td>\n",
       "      <td>-0.532186</td>\n",
       "      <td>-0.957616</td>\n",
       "      <td>1.593391</td>\n",
       "      <td>0.034422</td>\n",
       "      <td>-0.763916</td>\n",
       "      <td>-1.257705</td>\n",
       "      <td>-1.286279</td>\n",
       "    </tr>\n",
       "    <tr>\n",
       "      <th>3</th>\n",
       "      <td>-2.773277</td>\n",
       "      <td>-0.532186</td>\n",
       "      <td>1.044260</td>\n",
       "      <td>1.593391</td>\n",
       "      <td>0.935713</td>\n",
       "      <td>-0.341232</td>\n",
       "      <td>-1.257705</td>\n",
       "      <td>1.584914</td>\n",
       "    </tr>\n",
       "    <tr>\n",
       "      <th>4</th>\n",
       "      <td>-2.609008</td>\n",
       "      <td>-0.532186</td>\n",
       "      <td>1.044260</td>\n",
       "      <td>1.593391</td>\n",
       "      <td>-0.324762</td>\n",
       "      <td>-1.693821</td>\n",
       "      <td>-1.257705</td>\n",
       "      <td>1.584914</td>\n",
       "    </tr>\n",
       "    <tr>\n",
       "      <th>...</th>\n",
       "      <td>...</td>\n",
       "      <td>...</td>\n",
       "      <td>...</td>\n",
       "      <td>...</td>\n",
       "      <td>...</td>\n",
       "      <td>...</td>\n",
       "      <td>...</td>\n",
       "      <td>...</td>\n",
       "    </tr>\n",
       "    <tr>\n",
       "      <th>4408</th>\n",
       "      <td>0.998192</td>\n",
       "      <td>-0.532186</td>\n",
       "      <td>1.044260</td>\n",
       "      <td>-0.627593</td>\n",
       "      <td>-0.324762</td>\n",
       "      <td>-0.679379</td>\n",
       "      <td>-0.736485</td>\n",
       "      <td>-1.286279</td>\n",
       "    </tr>\n",
       "    <tr>\n",
       "      <th>4409</th>\n",
       "      <td>0.998918</td>\n",
       "      <td>-0.532186</td>\n",
       "      <td>1.044260</td>\n",
       "      <td>-0.627593</td>\n",
       "      <td>0.359149</td>\n",
       "      <td>1.603116</td>\n",
       "      <td>-0.520589</td>\n",
       "      <td>-1.286279</td>\n",
       "    </tr>\n",
       "    <tr>\n",
       "      <th>4410</th>\n",
       "      <td>1.089077</td>\n",
       "      <td>-0.532186</td>\n",
       "      <td>1.044260</td>\n",
       "      <td>-0.627593</td>\n",
       "      <td>-1.216053</td>\n",
       "      <td>-1.778358</td>\n",
       "      <td>1.450634</td>\n",
       "      <td>0.149318</td>\n",
       "    </tr>\n",
       "    <tr>\n",
       "      <th>4411</th>\n",
       "      <td>1.089077</td>\n",
       "      <td>-0.532186</td>\n",
       "      <td>1.044260</td>\n",
       "      <td>-0.627593</td>\n",
       "      <td>-1.216053</td>\n",
       "      <td>-0.679379</td>\n",
       "      <td>1.295741</td>\n",
       "      <td>0.149318</td>\n",
       "    </tr>\n",
       "    <tr>\n",
       "      <th>4412</th>\n",
       "      <td>1.089077</td>\n",
       "      <td>-0.532186</td>\n",
       "      <td>1.044260</td>\n",
       "      <td>-0.627593</td>\n",
       "      <td>-1.216053</td>\n",
       "      <td>0.419600</td>\n",
       "      <td>0.891340</td>\n",
       "      <td>0.149318</td>\n",
       "    </tr>\n",
       "  </tbody>\n",
       "</table>\n",
       "<p>4413 rows × 8 columns</p>\n",
       "</div>"
      ],
      "text/plain": [
       "      Estimated_Insects_Count  Crop_Type  Soil_Type  Pesticide_Use_Category  \\\n",
       "0                   -2.947763  -0.532186   1.044260                1.593391   \n",
       "1                   -2.947763  -0.532186   1.044260                1.593391   \n",
       "2                   -2.773277  -0.532186  -0.957616                1.593391   \n",
       "3                   -2.773277  -0.532186   1.044260                1.593391   \n",
       "4                   -2.609008  -0.532186   1.044260                1.593391   \n",
       "...                       ...        ...        ...                     ...   \n",
       "4408                 0.998192  -0.532186   1.044260               -0.627593   \n",
       "4409                 0.998918  -0.532186   1.044260               -0.627593   \n",
       "4410                 1.089077  -0.532186   1.044260               -0.627593   \n",
       "4411                 1.089077  -0.532186   1.044260               -0.627593   \n",
       "4412                 1.089077  -0.532186   1.044260               -0.627593   \n",
       "\n",
       "      Number_Doses_Week  Number_Weeks_Used  Number_Weeks_Quit    Season  \n",
       "0             -0.324762          -1.186600          -1.257705  0.149318  \n",
       "1             -0.324762          -1.102063          -1.257705  0.149318  \n",
       "2              0.034422          -0.763916          -1.257705 -1.286279  \n",
       "3              0.935713          -0.341232          -1.257705  1.584914  \n",
       "4             -0.324762          -1.693821          -1.257705  1.584914  \n",
       "...                 ...                ...                ...       ...  \n",
       "4408          -0.324762          -0.679379          -0.736485 -1.286279  \n",
       "4409           0.359149           1.603116          -0.520589 -1.286279  \n",
       "4410          -1.216053          -1.778358           1.450634  0.149318  \n",
       "4411          -1.216053          -0.679379           1.295741  0.149318  \n",
       "4412          -1.216053           0.419600           0.891340  0.149318  \n",
       "\n",
       "[4413 rows x 8 columns]"
      ]
     },
     "execution_count": 44,
     "metadata": {},
     "output_type": "execute_result"
    }
   ],
   "source": [
    "# creating dataFrame\n",
    "x=pd.DataFrame(x,columns=X.columns)\n",
    "x"
   ]
  },
  {
   "cell_type": "code",
   "execution_count": 45,
   "metadata": {},
   "outputs": [],
   "source": [
    "# library for split data \n",
    "from sklearn.model_selection import train_test_split,cross_val_score,GridSearchCV\n",
    "\n",
    "#importing all model libraries\n",
    "from sklearn.linear_model import LogisticRegression\n",
    "from sklearn.tree import DecisionTreeClassifier\n",
    "from sklearn.neighbors import KNeighborsClassifier\n",
    "from sklearn.svm import SVC\n",
    "from sklearn.metrics import accuracy_score,confusion_matrix,classification_report\n",
    "\n",
    "#importing ensembling techniques\n",
    "from sklearn.ensemble import RandomForestClassifier\n",
    "from sklearn.ensemble import AdaBoostClassifier\n",
    "from sklearn.ensemble import GradientBoostingClassifier"
   ]
  },
  {
   "cell_type": "code",
   "execution_count": 47,
   "metadata": {},
   "outputs": [
    {
     "name": "stdout",
     "output_type": "stream",
     "text": [
      "************************* DecisionTreeClassifier() ************************\n",
      "ac: 0.7771739130434783\n",
      "score: 0.99909338168631\n",
      "[[808 135]\n",
      " [111  50]]\n",
      "              precision    recall  f1-score   support\n",
      "\n",
      "         0.0       0.88      0.86      0.87       943\n",
      "         1.0       0.27      0.31      0.29       161\n",
      "\n",
      "    accuracy                           0.78      1104\n",
      "   macro avg       0.57      0.58      0.58      1104\n",
      "weighted avg       0.79      0.78      0.78      1104\n",
      "\n",
      "\n",
      "\n",
      "************************* KNeighborsClassifier() ************************\n",
      "ac: 0.8260869565217391\n",
      "score: 0.8782109398609852\n",
      "[[895  48]\n",
      " [144  17]]\n",
      "              precision    recall  f1-score   support\n",
      "\n",
      "         0.0       0.86      0.95      0.90       943\n",
      "         1.0       0.26      0.11      0.15       161\n",
      "\n",
      "    accuracy                           0.83      1104\n",
      "   macro avg       0.56      0.53      0.53      1104\n",
      "weighted avg       0.77      0.83      0.79      1104\n",
      "\n",
      "\n",
      "\n",
      "************************* SVC() ************************\n",
      "ac: 0.8532608695652174\n",
      "score: 0.8606829857963131\n",
      "[[941   2]\n",
      " [160   1]]\n",
      "              precision    recall  f1-score   support\n",
      "\n",
      "         0.0       0.85      1.00      0.92       943\n",
      "         1.0       0.33      0.01      0.01       161\n",
      "\n",
      "    accuracy                           0.85      1104\n",
      "   macro avg       0.59      0.50      0.47      1104\n",
      "weighted avg       0.78      0.85      0.79      1104\n",
      "\n",
      "\n",
      "\n",
      "************************* RandomForestClassifier() ************************\n",
      "ac: 0.8387681159420289\n",
      "score: 0.99909338168631\n",
      "[[909  34]\n",
      " [144  17]]\n",
      "              precision    recall  f1-score   support\n",
      "\n",
      "         0.0       0.86      0.96      0.91       943\n",
      "         1.0       0.33      0.11      0.16       161\n",
      "\n",
      "    accuracy                           0.84      1104\n",
      "   macro avg       0.60      0.53      0.54      1104\n",
      "weighted avg       0.79      0.84      0.80      1104\n",
      "\n",
      "\n",
      "\n",
      "************************* AdaBoostClassifier() ************************\n",
      "ac: 0.8514492753623188\n",
      "score: 0.8597763674826231\n",
      "[[927  16]\n",
      " [148  13]]\n",
      "              precision    recall  f1-score   support\n",
      "\n",
      "         0.0       0.86      0.98      0.92       943\n",
      "         1.0       0.45      0.08      0.14       161\n",
      "\n",
      "    accuracy                           0.85      1104\n",
      "   macro avg       0.66      0.53      0.53      1104\n",
      "weighted avg       0.80      0.85      0.80      1104\n",
      "\n",
      "\n",
      "\n",
      "************************* GradientBoostingClassifier() ************************\n",
      "ac: 0.8514492753623188\n",
      "score: 0.8773043215472952\n",
      "[[922  21]\n",
      " [143  18]]\n",
      "              precision    recall  f1-score   support\n",
      "\n",
      "         0.0       0.87      0.98      0.92       943\n",
      "         1.0       0.46      0.11      0.18       161\n",
      "\n",
      "    accuracy                           0.85      1104\n",
      "   macro avg       0.66      0.54      0.55      1104\n",
      "weighted avg       0.81      0.85      0.81      1104\n",
      "\n",
      "\n",
      "\n"
     ]
    }
   ],
   "source": [
    "# creating loop for all algorithms\n",
    "models=[DecisionTreeClassifier(),KNeighborsClassifier(),SVC(),RandomForestClassifier(),AdaBoostClassifier(),GradientBoostingClassifier()]\n",
    "\n",
    "#split data\n",
    "x_train,x_test,y_train,y_test=train_test_split(x,y,test_size=.25,random_state=43)\n",
    "\n",
    "#creating loop for all models\n",
    "for m in models:\n",
    "    print(\"*************************\",m,\"************************\")\n",
    "    m.fit(x_train,y_train)\n",
    "    pred=m.predict(x_test)\n",
    "    print(\"ac:\",accuracy_score(y_test,pred))\n",
    "    print(\"score:\",m.score(x_train,y_train))\n",
    "    print(confusion_matrix(y_test,pred))\n",
    "    print(classification_report(y_test,pred))\n",
    "    print(\"\\n\")"
   ]
  },
  {
   "cell_type": "code",
   "execution_count": 48,
   "metadata": {},
   "outputs": [
    {
     "name": "stdout",
     "output_type": "stream",
     "text": [
      "ccccccccccccccccccccccc DecisionTreeClassifier() cccccccccccccccccccccc\n",
      "0.7477954715294952\n",
      "[0.70668177 0.77689694 0.73839185 0.73015873 0.78684807]\n",
      "\n",
      "\n",
      "ccccccccccccccccccccccc KNeighborsClassifier() cccccccccccccccccccccc\n",
      "0.823709113694553\n",
      "[0.78369196 0.84258211 0.81653454 0.82879819 0.84693878]\n",
      "\n",
      "\n",
      "ccccccccccccccccccccccc SVC() cccccccccccccccccccccc\n",
      "0.8527104310958057\n",
      "[0.8403171  0.85730464 0.84937712 0.85827664 0.85827664]\n",
      "\n",
      "\n",
      "ccccccccccccccccccccccc RandomForestClassifier() cccccccccccccccccccccc\n",
      "0.8350341420071239\n",
      "[0.80634202 0.84711212 0.84597961 0.83219955 0.84353741]\n",
      "\n",
      "\n",
      "ccccccccccccccccccccccc AdaBoostClassifier() cccccccccccccccccccccc\n",
      "0.8527096606857164\n",
      "[0.83465459 0.85843715 0.85730464 0.85827664 0.85487528]\n",
      "\n",
      "\n",
      "ccccccccccccccccccccccc GradientBoostingClassifier() cccccccccccccccccccccc\n",
      "0.8518034016173477\n",
      "[0.83578709 0.85617214 0.85503964 0.85827664 0.8537415 ]\n",
      "\n",
      "\n"
     ]
    }
   ],
   "source": [
    "#loop for cross valication score to all algorithms\n",
    "for c in models:\n",
    "    print(\"ccccccccccccccccccccccc\",c,\"cccccccccccccccccccccc\")\n",
    "    cross=cross_val_score(c,x,y,cv=5)\n",
    "    print(cross.mean())\n",
    "    print(cross)\n",
    "    print(\"\\n\")"
   ]
  },
  {
   "cell_type": "code",
   "execution_count": 54,
   "metadata": {},
   "outputs": [
    {
     "name": "stdout",
     "output_type": "stream",
     "text": [
      "max accuracy_score corresponding to 178 is 0.8758620689655172\n",
      "[[859  26]\n",
      " [119  11]]\n",
      "CR:               precision    recall  f1-score   support\n",
      "\n",
      "         0.0       0.88      0.97      0.92       885\n",
      "         1.0       0.30      0.08      0.13       130\n",
      "\n",
      "    accuracy                           0.86      1015\n",
      "   macro avg       0.59      0.53      0.53      1015\n",
      "weighted avg       0.80      0.86      0.82      1015\n",
      "\n"
     ]
    }
   ],
   "source": [
    "#chooseing best algorithms\n",
    "max_ac=0\n",
    "for r in range(40,200):\n",
    "    x_train,x_test,y_train,y_test=train_test_split(x,y,test_size=.23,random_state=r)\n",
    "    abc= AdaBoostClassifier() \n",
    "    abc.fit(x_train,y_train)\n",
    "    preda=abc.predict(x_test)\n",
    "    AC=accuracy_score(y_test,preda)\n",
    "    if AC>max_ac:\n",
    "        max_ac=AC\n",
    "        final_AC=r\n",
    "print(\"max accuracy_score corresponding to\",final_AC,\"is\",max_ac)\n",
    "print(confusion_matrix(y_test,preda))\n",
    "print(\"CR:\",classification_report(y_test,preda))"
   ]
  },
  {
   "cell_type": "code",
   "execution_count": 50,
   "metadata": {},
   "outputs": [
    {
     "name": "stdout",
     "output_type": "stream",
     "text": [
      "max accuracy_score corresponding to 178 is 0.8798029556650246\n",
      "[[882   3]\n",
      " [128   2]]\n",
      "CR:               precision    recall  f1-score   support\n",
      "\n",
      "         0.0       0.87      1.00      0.93       885\n",
      "         1.0       0.40      0.02      0.03       130\n",
      "\n",
      "    accuracy                           0.87      1015\n",
      "   macro avg       0.64      0.51      0.48      1015\n",
      "weighted avg       0.81      0.87      0.82      1015\n",
      "\n"
     ]
    }
   ],
   "source": [
    "#chooseing best algorithms\n",
    "max_ac=0\n",
    "for r in range(40,200):\n",
    "    x_train,x_test,y_train,y_test=train_test_split(x,y,test_size=.23,random_state=r)\n",
    "    sv= SVC() \n",
    "    sv.fit(x_train,y_train)\n",
    "    preds=sv.predict(x_test)\n",
    "    AC=accuracy_score(y_test,preds)\n",
    "    if AC>max_ac:\n",
    "        max_ac=AC\n",
    "        final_AC=r\n",
    "print(\"max accuracy_score corresponding to\",final_AC,\"is\",max_ac)\n",
    "print(confusion_matrix(y_test,preds))\n",
    "print(\"CR:\",classification_report(y_test,preds))"
   ]
  },
  {
   "cell_type": "markdown",
   "metadata": {},
   "source": [
    "# GridSearchCV"
   ]
  },
  {
   "cell_type": "code",
   "execution_count": 51,
   "metadata": {},
   "outputs": [
    {
     "data": {
      "text/plain": [
       "GridSearchCV(estimator=SVC(), param_grid={'kernel': ['rbf', 'poly', 'linear']})"
      ]
     },
     "execution_count": 51,
     "metadata": {},
     "output_type": "execute_result"
    }
   ],
   "source": [
    "para={\"kernel\":['rbf','poly','linear']}\n",
    "\n",
    "clf=GridSearchCV(sv,para)\n",
    "clf.fit(x_train,y_train)"
   ]
  },
  {
   "cell_type": "code",
   "execution_count": 52,
   "metadata": {},
   "outputs": [
    {
     "data": {
      "text/plain": [
       "{'kernel': 'poly'}"
      ]
     },
     "execution_count": 52,
     "metadata": {},
     "output_type": "execute_result"
    }
   ],
   "source": [
    "clf.best_params_"
   ]
  },
  {
   "cell_type": "code",
   "execution_count": 53,
   "metadata": {},
   "outputs": [
    {
     "name": "stdout",
     "output_type": "stream",
     "text": [
      "max accuracy_score corresponding to 178 is 0.8798029556650246\n",
      "[[885   0]\n",
      " [130   0]]\n",
      "CR:               precision    recall  f1-score   support\n",
      "\n",
      "         0.0       0.87      1.00      0.93       885\n",
      "         1.0       0.00      0.00      0.00       130\n",
      "\n",
      "    accuracy                           0.87      1015\n",
      "   macro avg       0.44      0.50      0.47      1015\n",
      "weighted avg       0.76      0.87      0.81      1015\n",
      "\n"
     ]
    }
   ],
   "source": [
    "#chooseing best algorithms\n",
    "max_ac=0\n",
    "for r in range(40,200):\n",
    "    x_train,x_test,y_train,y_test=train_test_split(x,y,test_size=.23,random_state=r)\n",
    "    sv= SVC(kernel=\"poly\") \n",
    "    sv.fit(x_train,y_train)\n",
    "    preds=sv.predict(x_test)\n",
    "    AC=accuracy_score(y_test,preds)\n",
    "    if AC>max_ac:\n",
    "        max_ac=AC\n",
    "        final_AC=r\n",
    "print(\"max accuracy_score corresponding to\",final_AC,\"is\",max_ac)\n",
    "print(confusion_matrix(y_test,preds))\n",
    "print(\"CR:\",classification_report(y_test,preds))"
   ]
  },
  {
   "cell_type": "code",
   "execution_count": 55,
   "metadata": {},
   "outputs": [
    {
     "data": {
      "text/plain": [
       "['Agriculture_model.pkl']"
      ]
     },
     "execution_count": 55,
     "metadata": {},
     "output_type": "execute_result"
    }
   ],
   "source": [
    "#saveing best model\n",
    "import joblib\n",
    "\n",
    "joblib.dump(sv,\"Agriculture_model.pkl\")"
   ]
  },
  {
   "cell_type": "code",
   "execution_count": null,
   "metadata": {},
   "outputs": [],
   "source": []
  }
 ],
 "metadata": {
  "kernelspec": {
   "display_name": "Python 3",
   "language": "python",
   "name": "python3"
  },
  "language_info": {
   "codemirror_mode": {
    "name": "ipython",
    "version": 3
   },
   "file_extension": ".py",
   "mimetype": "text/x-python",
   "name": "python",
   "nbconvert_exporter": "python",
   "pygments_lexer": "ipython3",
   "version": "3.8.3"
  }
 },
 "nbformat": 4,
 "nbformat_minor": 4
}
