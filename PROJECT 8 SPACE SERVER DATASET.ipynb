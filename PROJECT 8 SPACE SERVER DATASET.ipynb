{
 "cells": [
  {
   "cell_type": "markdown",
   "metadata": {},
   "source": [
    "# Space Server Dataset"
   ]
  },
  {
   "cell_type": "markdown",
   "metadata": {},
   "source": [
    "Feature Description\n",
    "\n",
    ">The table results from a query which joins two tables (actuaclly views): \"PhotoObj\" which contains photometric data and \"SpecObj\" which contains spectral data.\n",
    "\n",
    "To ease your start with the data you can read the feature descriptions below:\n",
    "\n",
    "View \"PhotoObj\"\n",
    "\n",
    ">objid = Object Identifier\n",
    "ra = J2000 Right Ascension (r-band)\n",
    "dec = J2000 Declination (r-band)\n",
    "\n",
    "Right ascension (abbreviated RA) is the angular distance measured eastward along the celestial equator from the Sun at the March equinox to the hour circle of the point above the earth in question. When paired with declination (abbreviated dec), these astronomical coordinates specify the direction of a point on the celestial sphere (traditionally called in English the skies or the sky) in the equatorial coordinate system.\n",
    "\n",
    "Source: https://en.wikipedia.org/wiki/Right_ascension\n",
    "\n",
    ">u = better of DeV/Exp magnitude fit\n",
    "g = better of DeV/Exp magnitude fit\n",
    "r = better of DeV/Exp magnitude fit\n",
    "i = better of DeV/Exp magnitude fit\n",
    "z = better of DeV/Exp magnitude fit\n",
    "\n",
    "The Thuan-Gunn astronomic magnitude system. u, g, r, i, z represent the response of the 5 bands of the telescope.\n",
    "\n",
    "Further education: https://www.astro.umd.edu/~ssm/ASTR620/mags.html\n",
    "\n",
    ">run = Run Number\n",
    "rereun = Rerun Number\n",
    "camcol = Camera column\n",
    "field = Field number\n",
    "\n",
    "Run, rerun, camcol and field are features which describe a field within an image taken by the SDSS. A field is basically a part of the entire image corresponding to 2048 by 1489 pixels. A field can be identified by:\n",
    "\n",
    "run number, which identifies the specific scan,\n",
    "the camera column, or \"camcol,\" a number from 1 to 6, identifying the scanline within the run, and\n",
    "the field number. The field number typically starts at 11 (after an initial rampup time), and can be as large as 800 for particularly long runs.\n",
    "An additional number, rerun, specifies how the image was processed.\n",
    "View \"SpecObj\"\n",
    "\n",
    ">specobjid = Object Identifier\n",
    "class = object class (galaxy, star or quasar object)\n",
    "\n",
    "The class identifies an object to be either a galaxy, star or quasar. This will be the response variable which we will be trying to predict.\n",
    "\n",
    ">redshift = Final Redshift\n",
    "plate = plate number\n",
    "mjd = MJD of observation\n",
    "fiberid = fiber ID\n",
    "In physics, redshift happens when light or other electromagnetic radiation from an object is increased in wavelength, or shifted to the red end of the spectrum.\n",
    "\n",
    "Each spectroscopic exposure employs a large, thin, circular metal plate that positions optical fibers via holes drilled at the locations of the images in the telescope focal plane. These fibers then feed into the spectrographs. Each plate has a unique serial number, which is called plate in views such as SpecObj in the CAS.\n",
    "\n",
    "Modified Julian Date, used to indicate the date that a given piece of SDSS data (image or spectrum) was taken.\n",
    "\n",
    "The SDSS spectrograph uses optical fibers to direct the light at the focal plane from individual objects to the slithead. Each object is assigned a corresponding fiberID.\n",
    "\n",
    "Further information on SDSS images and their attributes:\n",
    "\n",
    "http://www.sdss3.org/dr9/imaging/imaging_basics.php\n",
    "\n",
    "http://www.sdss3.org/dr8/glossary.php\n",
    "\n",
    "Acknowledgements\n",
    "\n",
    ">The data released by the SDSS is under public domain. Its taken from the current data release RD14.\n",
    "\n",
    "More information about the license:\n",
    "\n",
    "http://www.sdss.org/science/image-gallery/\n",
    "\n",
    "It was acquired by querying the CasJobs database which contains all data published by the SDSS.\n",
    "\n",
    "The exact query can be found at:\n",
    "\n",
    "http://skyserver.sdss.org/CasJobs/ (Free account is required!)\n",
    "\n",
    "There are also other ways to get data from the SDSS catalogue. They can be found under:\n",
    "\n",
    "http://www.sdss.org/dr14/\n",
    "\n",
    "They really have a huge database which offers the possibility of creating all kinds of tables with respect to personal interests.\n",
    "\n",
    "Please don't hesitate to contact me regarding any questions or improvement suggestions. :-)\n",
    "\n",
    "Inspiration\n",
    "\n",
    ">The dataset offers plenty of information about space to explore. Also the class column is the perfect target for classification practices!\n",
    "\n",
    "Content\n",
    "\n",
    ">The data consists of 10,000 observations of space taken by the SDSS. Every observation is described by 17 feature columns and 1 class column which identifies it to be either a star, galaxy or quasar."
   ]
  },
  {
   "cell_type": "code",
   "execution_count": 1,
   "metadata": {},
   "outputs": [],
   "source": [
    "#import basic libraries\n",
    "import pandas as pd\n",
    "import numpy as np\n",
    "import seaborn as sns\n",
    "import matplotlib.pyplot as plt\n",
    "from scipy.stats import zscore\n",
    "from sklearn.model_selection import train_test_split,cross_val_score\n",
    "from sklearn.metrics import accuracy_score,confusion_matrix,classification_report\n",
    "\n",
    "import warnings\n",
    "warnings.filterwarnings(\"ignore\")"
   ]
  },
  {
   "cell_type": "code",
   "execution_count": 2,
   "metadata": {},
   "outputs": [
    {
     "data": {
      "text/html": [
       "<div>\n",
       "<style scoped>\n",
       "    .dataframe tbody tr th:only-of-type {\n",
       "        vertical-align: middle;\n",
       "    }\n",
       "\n",
       "    .dataframe tbody tr th {\n",
       "        vertical-align: top;\n",
       "    }\n",
       "\n",
       "    .dataframe thead th {\n",
       "        text-align: right;\n",
       "    }\n",
       "</style>\n",
       "<table border=\"1\" class=\"dataframe\">\n",
       "  <thead>\n",
       "    <tr style=\"text-align: right;\">\n",
       "      <th></th>\n",
       "      <th>objid</th>\n",
       "      <th>ra</th>\n",
       "      <th>dec</th>\n",
       "      <th>u</th>\n",
       "      <th>g</th>\n",
       "      <th>r</th>\n",
       "      <th>i</th>\n",
       "      <th>z</th>\n",
       "      <th>run</th>\n",
       "      <th>rerun</th>\n",
       "      <th>camcol</th>\n",
       "      <th>field</th>\n",
       "      <th>specobjid</th>\n",
       "      <th>class</th>\n",
       "      <th>redshift</th>\n",
       "      <th>plate</th>\n",
       "      <th>mjd</th>\n",
       "      <th>fiberid</th>\n",
       "    </tr>\n",
       "  </thead>\n",
       "  <tbody>\n",
       "    <tr>\n",
       "      <th>0</th>\n",
       "      <td>1.237650e+18</td>\n",
       "      <td>183.531326</td>\n",
       "      <td>0.089693</td>\n",
       "      <td>19.47406</td>\n",
       "      <td>17.04240</td>\n",
       "      <td>15.94699</td>\n",
       "      <td>15.50342</td>\n",
       "      <td>15.22531</td>\n",
       "      <td>752</td>\n",
       "      <td>301</td>\n",
       "      <td>4</td>\n",
       "      <td>267</td>\n",
       "      <td>3.722360e+18</td>\n",
       "      <td>STAR</td>\n",
       "      <td>-0.000009</td>\n",
       "      <td>3306</td>\n",
       "      <td>54922</td>\n",
       "      <td>491</td>\n",
       "    </tr>\n",
       "    <tr>\n",
       "      <th>1</th>\n",
       "      <td>1.237650e+18</td>\n",
       "      <td>183.598371</td>\n",
       "      <td>0.135285</td>\n",
       "      <td>18.66280</td>\n",
       "      <td>17.21449</td>\n",
       "      <td>16.67637</td>\n",
       "      <td>16.48922</td>\n",
       "      <td>16.39150</td>\n",
       "      <td>752</td>\n",
       "      <td>301</td>\n",
       "      <td>4</td>\n",
       "      <td>267</td>\n",
       "      <td>3.638140e+17</td>\n",
       "      <td>STAR</td>\n",
       "      <td>-0.000055</td>\n",
       "      <td>323</td>\n",
       "      <td>51615</td>\n",
       "      <td>541</td>\n",
       "    </tr>\n",
       "    <tr>\n",
       "      <th>2</th>\n",
       "      <td>1.237650e+18</td>\n",
       "      <td>183.680207</td>\n",
       "      <td>0.126185</td>\n",
       "      <td>19.38298</td>\n",
       "      <td>18.19169</td>\n",
       "      <td>17.47428</td>\n",
       "      <td>17.08732</td>\n",
       "      <td>16.80125</td>\n",
       "      <td>752</td>\n",
       "      <td>301</td>\n",
       "      <td>4</td>\n",
       "      <td>268</td>\n",
       "      <td>3.232740e+17</td>\n",
       "      <td>GALAXY</td>\n",
       "      <td>0.123111</td>\n",
       "      <td>287</td>\n",
       "      <td>52023</td>\n",
       "      <td>513</td>\n",
       "    </tr>\n",
       "    <tr>\n",
       "      <th>3</th>\n",
       "      <td>1.237650e+18</td>\n",
       "      <td>183.870529</td>\n",
       "      <td>0.049911</td>\n",
       "      <td>17.76536</td>\n",
       "      <td>16.60272</td>\n",
       "      <td>16.16116</td>\n",
       "      <td>15.98233</td>\n",
       "      <td>15.90438</td>\n",
       "      <td>752</td>\n",
       "      <td>301</td>\n",
       "      <td>4</td>\n",
       "      <td>269</td>\n",
       "      <td>3.722370e+18</td>\n",
       "      <td>STAR</td>\n",
       "      <td>-0.000111</td>\n",
       "      <td>3306</td>\n",
       "      <td>54922</td>\n",
       "      <td>510</td>\n",
       "    </tr>\n",
       "    <tr>\n",
       "      <th>4</th>\n",
       "      <td>1.237650e+18</td>\n",
       "      <td>183.883288</td>\n",
       "      <td>0.102557</td>\n",
       "      <td>17.55025</td>\n",
       "      <td>16.26342</td>\n",
       "      <td>16.43869</td>\n",
       "      <td>16.55492</td>\n",
       "      <td>16.61326</td>\n",
       "      <td>752</td>\n",
       "      <td>301</td>\n",
       "      <td>4</td>\n",
       "      <td>269</td>\n",
       "      <td>3.722370e+18</td>\n",
       "      <td>STAR</td>\n",
       "      <td>0.000590</td>\n",
       "      <td>3306</td>\n",
       "      <td>54922</td>\n",
       "      <td>512</td>\n",
       "    </tr>\n",
       "    <tr>\n",
       "      <th>...</th>\n",
       "      <td>...</td>\n",
       "      <td>...</td>\n",
       "      <td>...</td>\n",
       "      <td>...</td>\n",
       "      <td>...</td>\n",
       "      <td>...</td>\n",
       "      <td>...</td>\n",
       "      <td>...</td>\n",
       "      <td>...</td>\n",
       "      <td>...</td>\n",
       "      <td>...</td>\n",
       "      <td>...</td>\n",
       "      <td>...</td>\n",
       "      <td>...</td>\n",
       "      <td>...</td>\n",
       "      <td>...</td>\n",
       "      <td>...</td>\n",
       "      <td>...</td>\n",
       "    </tr>\n",
       "    <tr>\n",
       "      <th>9995</th>\n",
       "      <td>1.237650e+18</td>\n",
       "      <td>131.316413</td>\n",
       "      <td>51.539547</td>\n",
       "      <td>18.81777</td>\n",
       "      <td>17.47053</td>\n",
       "      <td>16.91508</td>\n",
       "      <td>16.68305</td>\n",
       "      <td>16.50570</td>\n",
       "      <td>1345</td>\n",
       "      <td>301</td>\n",
       "      <td>3</td>\n",
       "      <td>161</td>\n",
       "      <td>5.033450e+17</td>\n",
       "      <td>GALAXY</td>\n",
       "      <td>0.027583</td>\n",
       "      <td>447</td>\n",
       "      <td>51877</td>\n",
       "      <td>246</td>\n",
       "    </tr>\n",
       "    <tr>\n",
       "      <th>9996</th>\n",
       "      <td>1.237650e+18</td>\n",
       "      <td>131.306083</td>\n",
       "      <td>51.671341</td>\n",
       "      <td>18.27255</td>\n",
       "      <td>17.43849</td>\n",
       "      <td>17.07692</td>\n",
       "      <td>16.71661</td>\n",
       "      <td>16.69897</td>\n",
       "      <td>1345</td>\n",
       "      <td>301</td>\n",
       "      <td>3</td>\n",
       "      <td>162</td>\n",
       "      <td>5.033400e+17</td>\n",
       "      <td>GALAXY</td>\n",
       "      <td>0.117772</td>\n",
       "      <td>447</td>\n",
       "      <td>51877</td>\n",
       "      <td>228</td>\n",
       "    </tr>\n",
       "    <tr>\n",
       "      <th>9997</th>\n",
       "      <td>1.237650e+18</td>\n",
       "      <td>131.552562</td>\n",
       "      <td>51.666986</td>\n",
       "      <td>18.75818</td>\n",
       "      <td>17.77784</td>\n",
       "      <td>17.51872</td>\n",
       "      <td>17.43302</td>\n",
       "      <td>17.42048</td>\n",
       "      <td>1345</td>\n",
       "      <td>301</td>\n",
       "      <td>3</td>\n",
       "      <td>162</td>\n",
       "      <td>8.222620e+18</td>\n",
       "      <td>STAR</td>\n",
       "      <td>-0.000402</td>\n",
       "      <td>7303</td>\n",
       "      <td>57013</td>\n",
       "      <td>622</td>\n",
       "    </tr>\n",
       "    <tr>\n",
       "      <th>9998</th>\n",
       "      <td>1.237650e+18</td>\n",
       "      <td>131.477151</td>\n",
       "      <td>51.753068</td>\n",
       "      <td>18.88287</td>\n",
       "      <td>17.91068</td>\n",
       "      <td>17.53152</td>\n",
       "      <td>17.36284</td>\n",
       "      <td>17.13988</td>\n",
       "      <td>1345</td>\n",
       "      <td>301</td>\n",
       "      <td>3</td>\n",
       "      <td>163</td>\n",
       "      <td>5.033400e+17</td>\n",
       "      <td>GALAXY</td>\n",
       "      <td>0.014019</td>\n",
       "      <td>447</td>\n",
       "      <td>51877</td>\n",
       "      <td>229</td>\n",
       "    </tr>\n",
       "    <tr>\n",
       "      <th>9999</th>\n",
       "      <td>1.237650e+18</td>\n",
       "      <td>131.665012</td>\n",
       "      <td>51.805307</td>\n",
       "      <td>19.27586</td>\n",
       "      <td>17.37829</td>\n",
       "      <td>16.30542</td>\n",
       "      <td>15.83548</td>\n",
       "      <td>15.50588</td>\n",
       "      <td>1345</td>\n",
       "      <td>301</td>\n",
       "      <td>3</td>\n",
       "      <td>163</td>\n",
       "      <td>5.033410e+17</td>\n",
       "      <td>GALAXY</td>\n",
       "      <td>0.118417</td>\n",
       "      <td>447</td>\n",
       "      <td>51877</td>\n",
       "      <td>233</td>\n",
       "    </tr>\n",
       "  </tbody>\n",
       "</table>\n",
       "<p>10000 rows × 18 columns</p>\n",
       "</div>"
      ],
      "text/plain": [
       "             objid          ra        dec         u         g         r  \\\n",
       "0     1.237650e+18  183.531326   0.089693  19.47406  17.04240  15.94699   \n",
       "1     1.237650e+18  183.598371   0.135285  18.66280  17.21449  16.67637   \n",
       "2     1.237650e+18  183.680207   0.126185  19.38298  18.19169  17.47428   \n",
       "3     1.237650e+18  183.870529   0.049911  17.76536  16.60272  16.16116   \n",
       "4     1.237650e+18  183.883288   0.102557  17.55025  16.26342  16.43869   \n",
       "...            ...         ...        ...       ...       ...       ...   \n",
       "9995  1.237650e+18  131.316413  51.539547  18.81777  17.47053  16.91508   \n",
       "9996  1.237650e+18  131.306083  51.671341  18.27255  17.43849  17.07692   \n",
       "9997  1.237650e+18  131.552562  51.666986  18.75818  17.77784  17.51872   \n",
       "9998  1.237650e+18  131.477151  51.753068  18.88287  17.91068  17.53152   \n",
       "9999  1.237650e+18  131.665012  51.805307  19.27586  17.37829  16.30542   \n",
       "\n",
       "             i         z   run  rerun  camcol  field     specobjid   class  \\\n",
       "0     15.50342  15.22531   752    301       4    267  3.722360e+18    STAR   \n",
       "1     16.48922  16.39150   752    301       4    267  3.638140e+17    STAR   \n",
       "2     17.08732  16.80125   752    301       4    268  3.232740e+17  GALAXY   \n",
       "3     15.98233  15.90438   752    301       4    269  3.722370e+18    STAR   \n",
       "4     16.55492  16.61326   752    301       4    269  3.722370e+18    STAR   \n",
       "...        ...       ...   ...    ...     ...    ...           ...     ...   \n",
       "9995  16.68305  16.50570  1345    301       3    161  5.033450e+17  GALAXY   \n",
       "9996  16.71661  16.69897  1345    301       3    162  5.033400e+17  GALAXY   \n",
       "9997  17.43302  17.42048  1345    301       3    162  8.222620e+18    STAR   \n",
       "9998  17.36284  17.13988  1345    301       3    163  5.033400e+17  GALAXY   \n",
       "9999  15.83548  15.50588  1345    301       3    163  5.033410e+17  GALAXY   \n",
       "\n",
       "      redshift  plate    mjd  fiberid  \n",
       "0    -0.000009   3306  54922      491  \n",
       "1    -0.000055    323  51615      541  \n",
       "2     0.123111    287  52023      513  \n",
       "3    -0.000111   3306  54922      510  \n",
       "4     0.000590   3306  54922      512  \n",
       "...        ...    ...    ...      ...  \n",
       "9995  0.027583    447  51877      246  \n",
       "9996  0.117772    447  51877      228  \n",
       "9997 -0.000402   7303  57013      622  \n",
       "9998  0.014019    447  51877      229  \n",
       "9999  0.118417    447  51877      233  \n",
       "\n",
       "[10000 rows x 18 columns]"
      ]
     },
     "execution_count": 2,
     "metadata": {},
     "output_type": "execute_result"
    }
   ],
   "source": [
    "#loading space dataset\n",
    "ssd=pd.read_csv(\"space_server_dataset.csv\")\n",
    "ssd"
   ]
  },
  {
   "cell_type": "code",
   "execution_count": 3,
   "metadata": {},
   "outputs": [
    {
     "data": {
      "text/plain": [
       "objid        float64\n",
       "ra           float64\n",
       "dec          float64\n",
       "u            float64\n",
       "g            float64\n",
       "r            float64\n",
       "i            float64\n",
       "z            float64\n",
       "run            int64\n",
       "rerun          int64\n",
       "camcol         int64\n",
       "field          int64\n",
       "specobjid    float64\n",
       "class         object\n",
       "redshift     float64\n",
       "plate          int64\n",
       "mjd            int64\n",
       "fiberid        int64\n",
       "dtype: object"
      ]
     },
     "execution_count": 3,
     "metadata": {},
     "output_type": "execute_result"
    }
   ],
   "source": [
    "#checking dtypes\n",
    "ssd.dtypes"
   ]
  },
  {
   "cell_type": "code",
   "execution_count": 4,
   "metadata": {},
   "outputs": [
    {
     "data": {
      "text/plain": [
       "objid        0\n",
       "ra           0\n",
       "dec          0\n",
       "u            0\n",
       "g            0\n",
       "r            0\n",
       "i            0\n",
       "z            0\n",
       "run          0\n",
       "rerun        0\n",
       "camcol       0\n",
       "field        0\n",
       "specobjid    0\n",
       "class        0\n",
       "redshift     0\n",
       "plate        0\n",
       "mjd          0\n",
       "fiberid      0\n",
       "dtype: int64"
      ]
     },
     "execution_count": 4,
     "metadata": {},
     "output_type": "execute_result"
    }
   ],
   "source": [
    "#checking null values\n",
    "ssd.isnull().sum()"
   ]
  },
  {
   "cell_type": "code",
   "execution_count": 5,
   "metadata": {},
   "outputs": [
    {
     "data": {
      "text/plain": [
       "GALAXY    4998\n",
       "STAR      4152\n",
       "QSO        850\n",
       "Name: class, dtype: int64"
      ]
     },
     "execution_count": 5,
     "metadata": {},
     "output_type": "execute_result"
    }
   ],
   "source": [
    "ssd[\"class\"].value_counts()"
   ]
  },
  {
   "cell_type": "markdown",
   "metadata": {},
   "source": [
    "SUMMARY STATISTICS"
   ]
  },
  {
   "cell_type": "code",
   "execution_count": 6,
   "metadata": {},
   "outputs": [
    {
     "data": {
      "text/html": [
       "<div>\n",
       "<style scoped>\n",
       "    .dataframe tbody tr th:only-of-type {\n",
       "        vertical-align: middle;\n",
       "    }\n",
       "\n",
       "    .dataframe tbody tr th {\n",
       "        vertical-align: top;\n",
       "    }\n",
       "\n",
       "    .dataframe thead th {\n",
       "        text-align: right;\n",
       "    }\n",
       "</style>\n",
       "<table border=\"1\" class=\"dataframe\">\n",
       "  <thead>\n",
       "    <tr style=\"text-align: right;\">\n",
       "      <th></th>\n",
       "      <th>objid</th>\n",
       "      <th>ra</th>\n",
       "      <th>dec</th>\n",
       "      <th>u</th>\n",
       "      <th>g</th>\n",
       "      <th>r</th>\n",
       "      <th>i</th>\n",
       "      <th>z</th>\n",
       "      <th>run</th>\n",
       "      <th>rerun</th>\n",
       "      <th>camcol</th>\n",
       "      <th>field</th>\n",
       "      <th>specobjid</th>\n",
       "      <th>redshift</th>\n",
       "      <th>plate</th>\n",
       "      <th>mjd</th>\n",
       "      <th>fiberid</th>\n",
       "    </tr>\n",
       "  </thead>\n",
       "  <tbody>\n",
       "    <tr>\n",
       "      <th>count</th>\n",
       "      <td>1.000000e+04</td>\n",
       "      <td>10000.000000</td>\n",
       "      <td>10000.000000</td>\n",
       "      <td>10000.000000</td>\n",
       "      <td>10000.000000</td>\n",
       "      <td>10000.000000</td>\n",
       "      <td>10000.000000</td>\n",
       "      <td>10000.000000</td>\n",
       "      <td>10000.000000</td>\n",
       "      <td>10000.0</td>\n",
       "      <td>10000.000000</td>\n",
       "      <td>10000.000000</td>\n",
       "      <td>1.000000e+04</td>\n",
       "      <td>10000.000000</td>\n",
       "      <td>10000.000000</td>\n",
       "      <td>10000.000000</td>\n",
       "      <td>10000.000000</td>\n",
       "    </tr>\n",
       "    <tr>\n",
       "      <th>mean</th>\n",
       "      <td>1.237650e+18</td>\n",
       "      <td>175.529987</td>\n",
       "      <td>14.836148</td>\n",
       "      <td>18.619355</td>\n",
       "      <td>17.371931</td>\n",
       "      <td>16.840963</td>\n",
       "      <td>16.583579</td>\n",
       "      <td>16.422833</td>\n",
       "      <td>981.034800</td>\n",
       "      <td>301.0</td>\n",
       "      <td>3.648700</td>\n",
       "      <td>302.380100</td>\n",
       "      <td>1.645022e+18</td>\n",
       "      <td>0.143726</td>\n",
       "      <td>1460.986400</td>\n",
       "      <td>52943.533300</td>\n",
       "      <td>353.069400</td>\n",
       "    </tr>\n",
       "    <tr>\n",
       "      <th>std</th>\n",
       "      <td>1.577039e+05</td>\n",
       "      <td>47.783439</td>\n",
       "      <td>25.212207</td>\n",
       "      <td>0.828656</td>\n",
       "      <td>0.945457</td>\n",
       "      <td>1.067764</td>\n",
       "      <td>1.141805</td>\n",
       "      <td>1.203188</td>\n",
       "      <td>273.305024</td>\n",
       "      <td>0.0</td>\n",
       "      <td>1.666183</td>\n",
       "      <td>162.577763</td>\n",
       "      <td>2.013998e+18</td>\n",
       "      <td>0.388774</td>\n",
       "      <td>1788.778371</td>\n",
       "      <td>1511.150651</td>\n",
       "      <td>206.298149</td>\n",
       "    </tr>\n",
       "    <tr>\n",
       "      <th>min</th>\n",
       "      <td>1.237650e+18</td>\n",
       "      <td>8.235100</td>\n",
       "      <td>-5.382632</td>\n",
       "      <td>12.988970</td>\n",
       "      <td>12.799550</td>\n",
       "      <td>12.431600</td>\n",
       "      <td>11.947210</td>\n",
       "      <td>11.610410</td>\n",
       "      <td>308.000000</td>\n",
       "      <td>301.0</td>\n",
       "      <td>1.000000</td>\n",
       "      <td>11.000000</td>\n",
       "      <td>2.995780e+17</td>\n",
       "      <td>-0.004136</td>\n",
       "      <td>266.000000</td>\n",
       "      <td>51578.000000</td>\n",
       "      <td>1.000000</td>\n",
       "    </tr>\n",
       "    <tr>\n",
       "      <th>25%</th>\n",
       "      <td>1.237650e+18</td>\n",
       "      <td>157.370946</td>\n",
       "      <td>-0.539035</td>\n",
       "      <td>18.178035</td>\n",
       "      <td>16.815100</td>\n",
       "      <td>16.173333</td>\n",
       "      <td>15.853705</td>\n",
       "      <td>15.618285</td>\n",
       "      <td>752.000000</td>\n",
       "      <td>301.0</td>\n",
       "      <td>2.000000</td>\n",
       "      <td>184.000000</td>\n",
       "      <td>3.389248e+17</td>\n",
       "      <td>0.000081</td>\n",
       "      <td>301.000000</td>\n",
       "      <td>51900.000000</td>\n",
       "      <td>186.750000</td>\n",
       "    </tr>\n",
       "    <tr>\n",
       "      <th>50%</th>\n",
       "      <td>1.237650e+18</td>\n",
       "      <td>180.394514</td>\n",
       "      <td>0.404166</td>\n",
       "      <td>18.853095</td>\n",
       "      <td>17.495135</td>\n",
       "      <td>16.858770</td>\n",
       "      <td>16.554985</td>\n",
       "      <td>16.389945</td>\n",
       "      <td>756.000000</td>\n",
       "      <td>301.0</td>\n",
       "      <td>4.000000</td>\n",
       "      <td>299.000000</td>\n",
       "      <td>4.966580e+17</td>\n",
       "      <td>0.042591</td>\n",
       "      <td>441.000000</td>\n",
       "      <td>51997.000000</td>\n",
       "      <td>351.000000</td>\n",
       "    </tr>\n",
       "    <tr>\n",
       "      <th>75%</th>\n",
       "      <td>1.237650e+18</td>\n",
       "      <td>201.547279</td>\n",
       "      <td>35.649397</td>\n",
       "      <td>19.259232</td>\n",
       "      <td>18.010145</td>\n",
       "      <td>17.512675</td>\n",
       "      <td>17.258550</td>\n",
       "      <td>17.141447</td>\n",
       "      <td>1331.000000</td>\n",
       "      <td>301.0</td>\n",
       "      <td>5.000000</td>\n",
       "      <td>414.000000</td>\n",
       "      <td>2.881300e+18</td>\n",
       "      <td>0.092579</td>\n",
       "      <td>2559.000000</td>\n",
       "      <td>54468.000000</td>\n",
       "      <td>510.000000</td>\n",
       "    </tr>\n",
       "    <tr>\n",
       "      <th>max</th>\n",
       "      <td>1.237650e+18</td>\n",
       "      <td>260.884382</td>\n",
       "      <td>68.542265</td>\n",
       "      <td>19.599900</td>\n",
       "      <td>19.918970</td>\n",
       "      <td>24.802040</td>\n",
       "      <td>28.179630</td>\n",
       "      <td>22.833060</td>\n",
       "      <td>1412.000000</td>\n",
       "      <td>301.0</td>\n",
       "      <td>6.000000</td>\n",
       "      <td>768.000000</td>\n",
       "      <td>9.468830e+18</td>\n",
       "      <td>5.353854</td>\n",
       "      <td>8410.000000</td>\n",
       "      <td>57481.000000</td>\n",
       "      <td>1000.000000</td>\n",
       "    </tr>\n",
       "  </tbody>\n",
       "</table>\n",
       "</div>"
      ],
      "text/plain": [
       "              objid            ra           dec             u             g  \\\n",
       "count  1.000000e+04  10000.000000  10000.000000  10000.000000  10000.000000   \n",
       "mean   1.237650e+18    175.529987     14.836148     18.619355     17.371931   \n",
       "std    1.577039e+05     47.783439     25.212207      0.828656      0.945457   \n",
       "min    1.237650e+18      8.235100     -5.382632     12.988970     12.799550   \n",
       "25%    1.237650e+18    157.370946     -0.539035     18.178035     16.815100   \n",
       "50%    1.237650e+18    180.394514      0.404166     18.853095     17.495135   \n",
       "75%    1.237650e+18    201.547279     35.649397     19.259232     18.010145   \n",
       "max    1.237650e+18    260.884382     68.542265     19.599900     19.918970   \n",
       "\n",
       "                  r             i             z           run    rerun  \\\n",
       "count  10000.000000  10000.000000  10000.000000  10000.000000  10000.0   \n",
       "mean      16.840963     16.583579     16.422833    981.034800    301.0   \n",
       "std        1.067764      1.141805      1.203188    273.305024      0.0   \n",
       "min       12.431600     11.947210     11.610410    308.000000    301.0   \n",
       "25%       16.173333     15.853705     15.618285    752.000000    301.0   \n",
       "50%       16.858770     16.554985     16.389945    756.000000    301.0   \n",
       "75%       17.512675     17.258550     17.141447   1331.000000    301.0   \n",
       "max       24.802040     28.179630     22.833060   1412.000000    301.0   \n",
       "\n",
       "             camcol         field     specobjid      redshift         plate  \\\n",
       "count  10000.000000  10000.000000  1.000000e+04  10000.000000  10000.000000   \n",
       "mean       3.648700    302.380100  1.645022e+18      0.143726   1460.986400   \n",
       "std        1.666183    162.577763  2.013998e+18      0.388774   1788.778371   \n",
       "min        1.000000     11.000000  2.995780e+17     -0.004136    266.000000   \n",
       "25%        2.000000    184.000000  3.389248e+17      0.000081    301.000000   \n",
       "50%        4.000000    299.000000  4.966580e+17      0.042591    441.000000   \n",
       "75%        5.000000    414.000000  2.881300e+18      0.092579   2559.000000   \n",
       "max        6.000000    768.000000  9.468830e+18      5.353854   8410.000000   \n",
       "\n",
       "                mjd       fiberid  \n",
       "count  10000.000000  10000.000000  \n",
       "mean   52943.533300    353.069400  \n",
       "std     1511.150651    206.298149  \n",
       "min    51578.000000      1.000000  \n",
       "25%    51900.000000    186.750000  \n",
       "50%    51997.000000    351.000000  \n",
       "75%    54468.000000    510.000000  \n",
       "max    57481.000000   1000.000000  "
      ]
     },
     "execution_count": 6,
     "metadata": {},
     "output_type": "execute_result"
    }
   ],
   "source": [
    "ssd.describe()"
   ]
  },
  {
   "cell_type": "markdown",
   "metadata": {},
   "source": [
    "observations\n",
    "\n",
    "columns ra minimum value 8.23 and maximum 260\n",
    "\n",
    "in column plate, rum and field std is very high (273.30)\n",
    "\n"
   ]
  },
  {
   "cell_type": "markdown",
   "metadata": {},
   "source": [
    "Checking Correlations"
   ]
  },
  {
   "cell_type": "code",
   "execution_count": 7,
   "metadata": {},
   "outputs": [
    {
     "data": {
      "text/plain": [
       "<matplotlib.axes._subplots.AxesSubplot at 0x18a720e9490>"
      ]
     },
     "execution_count": 7,
     "metadata": {},
     "output_type": "execute_result"
    },
    {
     "data": {
      "image/png": "[encoded data removed]",
      "text/plain": [
       "<Figure size 1080x504 with 2 Axes>"
      ]
     },
     "metadata": {
      "needs_background": "light"
     },
     "output_type": "display_data"
    }
   ],
   "source": [
    "plt.figure(figsize=(15,7))\n",
    "sns.heatmap(ssd.corr(),annot=True,fmt=\"0.0%\",linewidth=.1,center=0)"
   ]
  },
  {
   "cell_type": "code",
   "execution_count": 8,
   "metadata": {},
   "outputs": [
    {
     "data": {
      "text/plain": [
       "301    10000\n",
       "Name: rerun, dtype: int64"
      ]
     },
     "execution_count": 8,
     "metadata": {},
     "output_type": "execute_result"
    }
   ],
   "source": [
    "ssd[\"rerun\"].value_counts()"
   ]
  },
  {
   "cell_type": "code",
   "execution_count": 9,
   "metadata": {},
   "outputs": [
    {
     "data": {
      "text/plain": [
       "1.237650e+18    10000\n",
       "Name: objid, dtype: int64"
      ]
     },
     "execution_count": 9,
     "metadata": {},
     "output_type": "execute_result"
    }
   ],
   "source": [
    "ssd[\"objid\"].value_counts()"
   ]
  },
  {
   "cell_type": "markdown",
   "metadata": {},
   "source": [
    "rerun column have same value(301) so i have to drop this column"
   ]
  },
  {
   "cell_type": "code",
   "execution_count": 10,
   "metadata": {},
   "outputs": [],
   "source": [
    "#droping rerum and objid columns\n",
    "ssd.drop([\"rerun\",\"objid\"],axis=1,inplace=True)"
   ]
  },
  {
   "cell_type": "markdown",
   "metadata": {},
   "source": [
    "# Analysis with Visulization"
   ]
  },
  {
   "cell_type": "code",
   "execution_count": 11,
   "metadata": {},
   "outputs": [
    {
     "data": {
      "text/plain": [
       "<matplotlib.axes._subplots.AxesSubplot at 0x18a6c9df430>"
      ]
     },
     "execution_count": 11,
     "metadata": {},
     "output_type": "execute_result"
    },
    {
     "data": {
      "image/png": "[encoded data removed]",
      "text/plain": [
       "<Figure size 432x288 with 1 Axes>"
      ]
     },
     "metadata": {
      "needs_background": "light"
     },
     "output_type": "display_data"
    }
   ],
   "source": [
    "#COUTPLOT FOR CLASS\n",
    "sns.countplot(ssd[\"class\"])"
   ]
  },
  {
   "cell_type": "markdown",
   "metadata": {},
   "source": [
    "GALAXY CLASS HAVE MOST OSERVATIONS AND QSO HAVE LEAST"
   ]
  },
  {
   "cell_type": "code",
   "execution_count": 12,
   "metadata": {},
   "outputs": [
    {
     "data": {
      "text/plain": [
       "<matplotlib.axes._subplots.AxesSubplot at 0x18a7282ab50>"
      ]
     },
     "execution_count": 12,
     "metadata": {},
     "output_type": "execute_result"
    },
    {
     "data": {
      "image/png": "[encoded data removed]",
      "text/plain": [
       "<Figure size 432x288 with 1 Axes>"
      ]
     },
     "metadata": {
      "needs_background": "light"
     },
     "output_type": "display_data"
    }
   ],
   "source": [
    "sns.barplot(x=ssd[\"class\"],y=ssd[\"fiberid\"])"
   ]
  },
  {
   "cell_type": "code",
   "execution_count": 13,
   "metadata": {},
   "outputs": [
    {
     "data": {
      "text/plain": [
       "<matplotlib.axes._subplots.AxesSubplot at 0x18a72884520>"
      ]
     },
     "execution_count": 13,
     "metadata": {},
     "output_type": "execute_result"
    },
    {
     "data": {
      "image/png": "[encoded data removed]",
      "text/plain": [
       "<Figure size 432x288 with 1 Axes>"
      ]
     },
     "metadata": {
      "needs_background": "light"
     },
     "output_type": "display_data"
    }
   ],
   "source": [
    "sns.barplot(ssd[\"class\"],ssd[\"ra\"])"
   ]
  },
  {
   "cell_type": "code",
   "execution_count": 14,
   "metadata": {},
   "outputs": [
    {
     "data": {
      "text/plain": [
       "<matplotlib.axes._subplots.AxesSubplot at 0x18a728d0850>"
      ]
     },
     "execution_count": 14,
     "metadata": {},
     "output_type": "execute_result"
    },
    {
     "data": {
      "image/png": "[encoded data removed]",
      "text/plain": [
       "<Figure size 432x288 with 1 Axes>"
      ]
     },
     "metadata": {
      "needs_background": "light"
     },
     "output_type": "display_data"
    }
   ],
   "source": [
    "sns.barplot(ssd[\"class\"],ssd[\"run\"])"
   ]
  },
  {
   "cell_type": "code",
   "execution_count": 15,
   "metadata": {},
   "outputs": [
    {
     "data": {
      "text/plain": [
       "<matplotlib.axes._subplots.AxesSubplot at 0x18a7293b820>"
      ]
     },
     "execution_count": 15,
     "metadata": {},
     "output_type": "execute_result"
    },
    {
     "data": {
      "image/png": "[encoded data removed]",
      "text/plain": [
       "<Figure size 432x288 with 1 Axes>"
      ]
     },
     "metadata": {
      "needs_background": "light"
     },
     "output_type": "display_data"
    }
   ],
   "source": [
    "sns.scatterplot(ssd[\"r\"],ssd[\"g\"])"
   ]
  },
  {
   "cell_type": "code",
   "execution_count": 16,
   "metadata": {},
   "outputs": [
    {
     "data": {
      "text/plain": [
       "<matplotlib.axes._subplots.AxesSubplot at 0x18a7299dca0>"
      ]
     },
     "execution_count": 16,
     "metadata": {},
     "output_type": "execute_result"
    },
    {
     "data": {
      "image/png": "[encoded data removed]",
      "text/plain": [
       "<Figure size 432x288 with 1 Axes>"
      ]
     },
     "metadata": {
      "needs_background": "light"
     },
     "output_type": "display_data"
    }
   ],
   "source": [
    "sns.scatterplot(ssd[\"i\"],ssd[\"g\"])"
   ]
  },
  {
   "cell_type": "code",
   "execution_count": 17,
   "metadata": {},
   "outputs": [
    {
     "data": {
      "text/plain": [
       "<matplotlib.axes._subplots.AxesSubplot at 0x18a721af7f0>"
      ]
     },
     "execution_count": 17,
     "metadata": {},
     "output_type": "execute_result"
    },
    {
     "data": {
      "image/png": "[encoded data removed]",
      "text/plain": [
       "<Figure size 432x288 with 1 Axes>"
      ]
     },
     "metadata": {
      "needs_background": "light"
     },
     "output_type": "display_data"
    }
   ],
   "source": [
    "sns.scatterplot(ssd[\"i\"],ssd[\"r\"])"
   ]
  },
  {
   "cell_type": "code",
   "execution_count": 18,
   "metadata": {},
   "outputs": [
    {
     "data": {
      "text/plain": [
       "<matplotlib.axes._subplots.AxesSubplot at 0x18a729a6eb0>"
      ]
     },
     "execution_count": 18,
     "metadata": {},
     "output_type": "execute_result"
    },
    {
     "data": {
      "image/png": "[encoded data removed]",
      "text/plain": [
       "<Figure size 432x288 with 1 Axes>"
      ]
     },
     "metadata": {
      "needs_background": "light"
     },
     "output_type": "display_data"
    }
   ],
   "source": [
    "sns.scatterplot(ssd[\"g\"],ssd[\"z\"])"
   ]
  },
  {
   "cell_type": "code",
   "execution_count": 19,
   "metadata": {},
   "outputs": [
    {
     "data": {
      "text/plain": [
       "<matplotlib.axes._subplots.AxesSubplot at 0x18a7226a8e0>"
      ]
     },
     "execution_count": 19,
     "metadata": {},
     "output_type": "execute_result"
    },
    {
     "data": {
      "image/png": "[encoded data removed]",
      "text/plain": [
       "<Figure size 432x288 with 1 Axes>"
      ]
     },
     "metadata": {
      "needs_background": "light"
     },
     "output_type": "display_data"
    }
   ],
   "source": [
    "#  class vs camcol\n",
    "sns.countplot(x=\"camcol\",hue=\"class\",data=ssd)"
   ]
  },
  {
   "cell_type": "markdown",
   "metadata": {},
   "source": [
    "4,5,6 b/w 400 to 500"
   ]
  },
  {
   "cell_type": "markdown",
   "metadata": {},
   "source": [
    "checking skewness with distribution plot "
   ]
  },
  {
   "cell_type": "code",
   "execution_count": 20,
   "metadata": {},
   "outputs": [
    {
     "data": {
      "image/png": "[encoded data removed]",
      "text/plain": [
       "<Figure size 432x288 with 1 Axes>"
      ]
     },
     "metadata": {
      "needs_background": "light"
     },
     "output_type": "display_data"
    },
    {
     "data": {
      "image/png": "[encoded data removed]",
      "text/plain": [
       "<Figure size 432x288 with 1 Axes>"
      ]
     },
     "metadata": {
      "needs_background": "light"
     },
     "output_type": "display_data"
    },
    {
     "data": {
      "image/png": "[encoded data removed]",
      "text/plain": [
       "<Figure size 432x288 with 1 Axes>"
      ]
     },
     "metadata": {
      "needs_background": "light"
     },
     "output_type": "display_data"
    },
    {
     "data": {
      "image/png": "[encoded data removed]",
      "text/plain": [
       "<Figure size 432x288 with 1 Axes>"
      ]
     },
     "metadata": {
      "needs_background": "light"
     },
     "output_type": "display_data"
    },
    {
     "data": {
      "image/png": "[encoded data removed]",
      "text/plain": [
       "<Figure size 432x288 with 1 Axes>"
      ]
     },
     "metadata": {
      "needs_background": "light"
     },
     "output_type": "display_data"
    },
    {
     "data": {
      "image/png": "[encoded data removed]",
      "text/plain": [
       "<Figure size 432x288 with 1 Axes>"
      ]
     },
     "metadata": {
      "needs_background": "light"
     },
     "output_type": "display_data"
    },
    {
     "data": {
      "image/png": "[encoded data removed]",
      "text/plain": [
       "<Figure size 432x288 with 1 Axes>"
      ]
     },
     "metadata": {
      "needs_background": "light"
     },
     "output_type": "display_data"
    },
    {
     "data": {
      "image/png": "[encoded data removed]",
      "text/plain": [
       "<Figure size 432x288 with 1 Axes>"
      ]
     },
     "metadata": {
      "needs_background": "light"
     },
     "output_type": "display_data"
    },
    {
     "data": {
      "image/png": "[encoded data removed]",
      "text/plain": [
       "<Figure size 432x288 with 1 Axes>"
      ]
     },
     "metadata": {
      "needs_background": "light"
     },
     "output_type": "display_data"
    },
    {
     "data": {
      "image/png": "[encoded data removed]",
      "text/plain": [
       "<Figure size 432x288 with 1 Axes>"
      ]
     },
     "metadata": {
      "needs_background": "light"
     },
     "output_type": "display_data"
    },
    {
     "data": {
      "image/png": "[encoded data removed]",
      "text/plain": [
       "<Figure size 432x288 with 1 Axes>"
      ]
     },
     "metadata": {
      "needs_background": "light"
     },
     "output_type": "display_data"
    },
    {
     "data": {
      "image/png": "[encoded data removed]",
      "text/plain": [
       "<Figure size 432x288 with 1 Axes>"
      ]
     },
     "metadata": {
      "needs_background": "light"
     },
     "output_type": "display_data"
    },
    {
     "data": {
      "image/png": "[encoded data removed]",
      "text/plain": [
       "<Figure size 432x288 with 1 Axes>"
      ]
     },
     "metadata": {
      "needs_background": "light"
     },
     "output_type": "display_data"
    },
    {
     "data": {
      "image/png": "[encoded data removed]",
      "text/plain": [
       "<Figure size 432x288 with 1 Axes>"
      ]
     },
     "metadata": {
      "needs_background": "light"
     },
     "output_type": "display_data"
    },
    {
     "data": {
      "image/png": "[encoded data removed]",
      "text/plain": [
       "<Figure size 432x288 with 1 Axes>"
      ]
     },
     "metadata": {
      "needs_background": "light"
     },
     "output_type": "display_data"
    }
   ],
   "source": [
    "for col in ssd.describe().columns:\n",
    "    sns.distplot(ssd[col],color=\"g\")\n",
    "    plt.show()"
   ]
  },
  {
   "cell_type": "code",
   "execution_count": 21,
   "metadata": {},
   "outputs": [
    {
     "data": {
      "text/html": [
       "<div>\n",
       "<style scoped>\n",
       "    .dataframe tbody tr th:only-of-type {\n",
       "        vertical-align: middle;\n",
       "    }\n",
       "\n",
       "    .dataframe tbody tr th {\n",
       "        vertical-align: top;\n",
       "    }\n",
       "\n",
       "    .dataframe thead th {\n",
       "        text-align: right;\n",
       "    }\n",
       "</style>\n",
       "<table border=\"1\" class=\"dataframe\">\n",
       "  <thead>\n",
       "    <tr style=\"text-align: right;\">\n",
       "      <th></th>\n",
       "      <th>ra</th>\n",
       "      <th>dec</th>\n",
       "      <th>u</th>\n",
       "      <th>g</th>\n",
       "      <th>r</th>\n",
       "      <th>i</th>\n",
       "      <th>z</th>\n",
       "      <th>run</th>\n",
       "      <th>camcol</th>\n",
       "      <th>field</th>\n",
       "      <th>specobjid</th>\n",
       "      <th>class</th>\n",
       "      <th>redshift</th>\n",
       "      <th>plate</th>\n",
       "      <th>mjd</th>\n",
       "      <th>fiberid</th>\n",
       "    </tr>\n",
       "  </thead>\n",
       "  <tbody>\n",
       "    <tr>\n",
       "      <th>0</th>\n",
       "      <td>183.531326</td>\n",
       "      <td>0.089693</td>\n",
       "      <td>19.47406</td>\n",
       "      <td>17.04240</td>\n",
       "      <td>15.94699</td>\n",
       "      <td>15.50342</td>\n",
       "      <td>15.22531</td>\n",
       "      <td>752</td>\n",
       "      <td>4</td>\n",
       "      <td>267</td>\n",
       "      <td>3.722360e+18</td>\n",
       "      <td>STAR</td>\n",
       "      <td>-0.000009</td>\n",
       "      <td>3306</td>\n",
       "      <td>54922</td>\n",
       "      <td>491</td>\n",
       "    </tr>\n",
       "    <tr>\n",
       "      <th>1</th>\n",
       "      <td>183.598371</td>\n",
       "      <td>0.135285</td>\n",
       "      <td>18.66280</td>\n",
       "      <td>17.21449</td>\n",
       "      <td>16.67637</td>\n",
       "      <td>16.48922</td>\n",
       "      <td>16.39150</td>\n",
       "      <td>752</td>\n",
       "      <td>4</td>\n",
       "      <td>267</td>\n",
       "      <td>3.638140e+17</td>\n",
       "      <td>STAR</td>\n",
       "      <td>-0.000055</td>\n",
       "      <td>323</td>\n",
       "      <td>51615</td>\n",
       "      <td>541</td>\n",
       "    </tr>\n",
       "    <tr>\n",
       "      <th>2</th>\n",
       "      <td>183.680207</td>\n",
       "      <td>0.126185</td>\n",
       "      <td>19.38298</td>\n",
       "      <td>18.19169</td>\n",
       "      <td>17.47428</td>\n",
       "      <td>17.08732</td>\n",
       "      <td>16.80125</td>\n",
       "      <td>752</td>\n",
       "      <td>4</td>\n",
       "      <td>268</td>\n",
       "      <td>3.232740e+17</td>\n",
       "      <td>GALAXY</td>\n",
       "      <td>0.123111</td>\n",
       "      <td>287</td>\n",
       "      <td>52023</td>\n",
       "      <td>513</td>\n",
       "    </tr>\n",
       "    <tr>\n",
       "      <th>3</th>\n",
       "      <td>183.870529</td>\n",
       "      <td>0.049911</td>\n",
       "      <td>17.76536</td>\n",
       "      <td>16.60272</td>\n",
       "      <td>16.16116</td>\n",
       "      <td>15.98233</td>\n",
       "      <td>15.90438</td>\n",
       "      <td>752</td>\n",
       "      <td>4</td>\n",
       "      <td>269</td>\n",
       "      <td>3.722370e+18</td>\n",
       "      <td>STAR</td>\n",
       "      <td>-0.000111</td>\n",
       "      <td>3306</td>\n",
       "      <td>54922</td>\n",
       "      <td>510</td>\n",
       "    </tr>\n",
       "    <tr>\n",
       "      <th>4</th>\n",
       "      <td>183.883288</td>\n",
       "      <td>0.102557</td>\n",
       "      <td>17.55025</td>\n",
       "      <td>16.26342</td>\n",
       "      <td>16.43869</td>\n",
       "      <td>16.55492</td>\n",
       "      <td>16.61326</td>\n",
       "      <td>752</td>\n",
       "      <td>4</td>\n",
       "      <td>269</td>\n",
       "      <td>3.722370e+18</td>\n",
       "      <td>STAR</td>\n",
       "      <td>0.000590</td>\n",
       "      <td>3306</td>\n",
       "      <td>54922</td>\n",
       "      <td>512</td>\n",
       "    </tr>\n",
       "    <tr>\n",
       "      <th>...</th>\n",
       "      <td>...</td>\n",
       "      <td>...</td>\n",
       "      <td>...</td>\n",
       "      <td>...</td>\n",
       "      <td>...</td>\n",
       "      <td>...</td>\n",
       "      <td>...</td>\n",
       "      <td>...</td>\n",
       "      <td>...</td>\n",
       "      <td>...</td>\n",
       "      <td>...</td>\n",
       "      <td>...</td>\n",
       "      <td>...</td>\n",
       "      <td>...</td>\n",
       "      <td>...</td>\n",
       "      <td>...</td>\n",
       "    </tr>\n",
       "    <tr>\n",
       "      <th>9995</th>\n",
       "      <td>131.316413</td>\n",
       "      <td>51.539547</td>\n",
       "      <td>18.81777</td>\n",
       "      <td>17.47053</td>\n",
       "      <td>16.91508</td>\n",
       "      <td>16.68305</td>\n",
       "      <td>16.50570</td>\n",
       "      <td>1345</td>\n",
       "      <td>3</td>\n",
       "      <td>161</td>\n",
       "      <td>5.033450e+17</td>\n",
       "      <td>GALAXY</td>\n",
       "      <td>0.027583</td>\n",
       "      <td>447</td>\n",
       "      <td>51877</td>\n",
       "      <td>246</td>\n",
       "    </tr>\n",
       "    <tr>\n",
       "      <th>9996</th>\n",
       "      <td>131.306083</td>\n",
       "      <td>51.671341</td>\n",
       "      <td>18.27255</td>\n",
       "      <td>17.43849</td>\n",
       "      <td>17.07692</td>\n",
       "      <td>16.71661</td>\n",
       "      <td>16.69897</td>\n",
       "      <td>1345</td>\n",
       "      <td>3</td>\n",
       "      <td>162</td>\n",
       "      <td>5.033400e+17</td>\n",
       "      <td>GALAXY</td>\n",
       "      <td>0.117772</td>\n",
       "      <td>447</td>\n",
       "      <td>51877</td>\n",
       "      <td>228</td>\n",
       "    </tr>\n",
       "    <tr>\n",
       "      <th>9997</th>\n",
       "      <td>131.552562</td>\n",
       "      <td>51.666986</td>\n",
       "      <td>18.75818</td>\n",
       "      <td>17.77784</td>\n",
       "      <td>17.51872</td>\n",
       "      <td>17.43302</td>\n",
       "      <td>17.42048</td>\n",
       "      <td>1345</td>\n",
       "      <td>3</td>\n",
       "      <td>162</td>\n",
       "      <td>8.222620e+18</td>\n",
       "      <td>STAR</td>\n",
       "      <td>-0.000402</td>\n",
       "      <td>7303</td>\n",
       "      <td>57013</td>\n",
       "      <td>622</td>\n",
       "    </tr>\n",
       "    <tr>\n",
       "      <th>9998</th>\n",
       "      <td>131.477151</td>\n",
       "      <td>51.753068</td>\n",
       "      <td>18.88287</td>\n",
       "      <td>17.91068</td>\n",
       "      <td>17.53152</td>\n",
       "      <td>17.36284</td>\n",
       "      <td>17.13988</td>\n",
       "      <td>1345</td>\n",
       "      <td>3</td>\n",
       "      <td>163</td>\n",
       "      <td>5.033400e+17</td>\n",
       "      <td>GALAXY</td>\n",
       "      <td>0.014019</td>\n",
       "      <td>447</td>\n",
       "      <td>51877</td>\n",
       "      <td>229</td>\n",
       "    </tr>\n",
       "    <tr>\n",
       "      <th>9999</th>\n",
       "      <td>131.665012</td>\n",
       "      <td>51.805307</td>\n",
       "      <td>19.27586</td>\n",
       "      <td>17.37829</td>\n",
       "      <td>16.30542</td>\n",
       "      <td>15.83548</td>\n",
       "      <td>15.50588</td>\n",
       "      <td>1345</td>\n",
       "      <td>3</td>\n",
       "      <td>163</td>\n",
       "      <td>5.033410e+17</td>\n",
       "      <td>GALAXY</td>\n",
       "      <td>0.118417</td>\n",
       "      <td>447</td>\n",
       "      <td>51877</td>\n",
       "      <td>233</td>\n",
       "    </tr>\n",
       "  </tbody>\n",
       "</table>\n",
       "<p>10000 rows × 16 columns</p>\n",
       "</div>"
      ],
      "text/plain": [
       "              ra        dec         u         g         r         i         z  \\\n",
       "0     183.531326   0.089693  19.47406  17.04240  15.94699  15.50342  15.22531   \n",
       "1     183.598371   0.135285  18.66280  17.21449  16.67637  16.48922  16.39150   \n",
       "2     183.680207   0.126185  19.38298  18.19169  17.47428  17.08732  16.80125   \n",
       "3     183.870529   0.049911  17.76536  16.60272  16.16116  15.98233  15.90438   \n",
       "4     183.883288   0.102557  17.55025  16.26342  16.43869  16.55492  16.61326   \n",
       "...          ...        ...       ...       ...       ...       ...       ...   \n",
       "9995  131.316413  51.539547  18.81777  17.47053  16.91508  16.68305  16.50570   \n",
       "9996  131.306083  51.671341  18.27255  17.43849  17.07692  16.71661  16.69897   \n",
       "9997  131.552562  51.666986  18.75818  17.77784  17.51872  17.43302  17.42048   \n",
       "9998  131.477151  51.753068  18.88287  17.91068  17.53152  17.36284  17.13988   \n",
       "9999  131.665012  51.805307  19.27586  17.37829  16.30542  15.83548  15.50588   \n",
       "\n",
       "       run  camcol  field     specobjid   class  redshift  plate    mjd  \\\n",
       "0      752       4    267  3.722360e+18    STAR -0.000009   3306  54922   \n",
       "1      752       4    267  3.638140e+17    STAR -0.000055    323  51615   \n",
       "2      752       4    268  3.232740e+17  GALAXY  0.123111    287  52023   \n",
       "3      752       4    269  3.722370e+18    STAR -0.000111   3306  54922   \n",
       "4      752       4    269  3.722370e+18    STAR  0.000590   3306  54922   \n",
       "...    ...     ...    ...           ...     ...       ...    ...    ...   \n",
       "9995  1345       3    161  5.033450e+17  GALAXY  0.027583    447  51877   \n",
       "9996  1345       3    162  5.033400e+17  GALAXY  0.117772    447  51877   \n",
       "9997  1345       3    162  8.222620e+18    STAR -0.000402   7303  57013   \n",
       "9998  1345       3    163  5.033400e+17  GALAXY  0.014019    447  51877   \n",
       "9999  1345       3    163  5.033410e+17  GALAXY  0.118417    447  51877   \n",
       "\n",
       "      fiberid  \n",
       "0         491  \n",
       "1         541  \n",
       "2         513  \n",
       "3         510  \n",
       "4         512  \n",
       "...       ...  \n",
       "9995      246  \n",
       "9996      228  \n",
       "9997      622  \n",
       "9998      229  \n",
       "9999      233  \n",
       "\n",
       "[10000 rows x 16 columns]"
      ]
     },
     "execution_count": 21,
     "metadata": {},
     "output_type": "execute_result"
    }
   ],
   "source": [
    "ssd"
   ]
  },
  {
   "cell_type": "markdown",
   "metadata": {},
   "source": [
    "CHANGING TARGET VALUE INTO NUMETIC FORM"
   ]
  },
  {
   "cell_type": "code",
   "execution_count": 22,
   "metadata": {},
   "outputs": [
    {
     "data": {
      "text/plain": [
       "1    4998\n",
       "0    4152\n",
       "2     850\n",
       "Name: class, dtype: int64"
      ]
     },
     "execution_count": 22,
     "metadata": {},
     "output_type": "execute_result"
    }
   ],
   "source": [
    "ssd[\"class\"]=pd.factorize(ssd['class'])[0]\n",
    "ssd['class'].value_counts()"
   ]
  },
  {
   "cell_type": "code",
   "execution_count": 23,
   "metadata": {},
   "outputs": [
    {
     "data": {
      "text/plain": [
       "ra          -1.227350\n",
       "dec          1.191544\n",
       "u           -1.219795\n",
       "g           -0.536293\n",
       "r           -0.021673\n",
       "i            0.286442\n",
       "z            0.214313\n",
       "run          0.412555\n",
       "camcol      -0.100220\n",
       "field        0.249795\n",
       "specobjid    1.794627\n",
       "class        0.381391\n",
       "redshift     4.265729\n",
       "plate        1.794609\n",
       "mjd          1.039610\n",
       "fiberid      0.308053\n",
       "dtype: float64"
      ]
     },
     "execution_count": 23,
     "metadata": {},
     "output_type": "execute_result"
    }
   ],
   "source": [
    "#checking skewness\n",
    "ssd.skew()\n"
   ]
  },
  {
   "cell_type": "code",
   "execution_count": 24,
   "metadata": {},
   "outputs": [],
   "source": [
    "#Treating skewness \n",
    "for col in ssd.columns:\n",
    "    if ssd.skew().loc[col]>.55:\n",
    "        ssd[col]=np.sqrt(ssd[col])\n",
    "    if ssd.skew().loc[col]<-.55:    \n",
    "        ssd[col]=np.sqrt(ssd[col])"
   ]
  },
  {
   "cell_type": "code",
   "execution_count": 25,
   "metadata": {},
   "outputs": [
    {
     "data": {
      "text/html": [
       "<div>\n",
       "<style scoped>\n",
       "    .dataframe tbody tr th:only-of-type {\n",
       "        vertical-align: middle;\n",
       "    }\n",
       "\n",
       "    .dataframe tbody tr th {\n",
       "        vertical-align: top;\n",
       "    }\n",
       "\n",
       "    .dataframe thead th {\n",
       "        text-align: right;\n",
       "    }\n",
       "</style>\n",
       "<table border=\"1\" class=\"dataframe\">\n",
       "  <thead>\n",
       "    <tr style=\"text-align: right;\">\n",
       "      <th></th>\n",
       "      <th>ra</th>\n",
       "      <th>dec</th>\n",
       "      <th>u</th>\n",
       "      <th>g</th>\n",
       "      <th>r</th>\n",
       "      <th>i</th>\n",
       "      <th>z</th>\n",
       "      <th>run</th>\n",
       "      <th>camcol</th>\n",
       "      <th>field</th>\n",
       "      <th>specobjid</th>\n",
       "      <th>class</th>\n",
       "      <th>redshift</th>\n",
       "      <th>plate</th>\n",
       "      <th>mjd</th>\n",
       "      <th>fiberid</th>\n",
       "    </tr>\n",
       "  </thead>\n",
       "  <tbody>\n",
       "    <tr>\n",
       "      <th>0</th>\n",
       "      <td>13.547373</td>\n",
       "      <td>0.299488</td>\n",
       "      <td>4.412942</td>\n",
       "      <td>17.04240</td>\n",
       "      <td>15.94699</td>\n",
       "      <td>15.50342</td>\n",
       "      <td>15.22531</td>\n",
       "      <td>752</td>\n",
       "      <td>4</td>\n",
       "      <td>267</td>\n",
       "      <td>1.929342e+09</td>\n",
       "      <td>0</td>\n",
       "      <td>NaN</td>\n",
       "      <td>57.497826</td>\n",
       "      <td>234.354432</td>\n",
       "      <td>491</td>\n",
       "    </tr>\n",
       "    <tr>\n",
       "      <th>1</th>\n",
       "      <td>13.549848</td>\n",
       "      <td>0.367811</td>\n",
       "      <td>4.320046</td>\n",
       "      <td>17.21449</td>\n",
       "      <td>16.67637</td>\n",
       "      <td>16.48922</td>\n",
       "      <td>16.39150</td>\n",
       "      <td>752</td>\n",
       "      <td>4</td>\n",
       "      <td>267</td>\n",
       "      <td>6.031700e+08</td>\n",
       "      <td>0</td>\n",
       "      <td>NaN</td>\n",
       "      <td>17.972201</td>\n",
       "      <td>227.189348</td>\n",
       "      <td>541</td>\n",
       "    </tr>\n",
       "    <tr>\n",
       "      <th>2</th>\n",
       "      <td>13.552867</td>\n",
       "      <td>0.355225</td>\n",
       "      <td>4.402611</td>\n",
       "      <td>18.19169</td>\n",
       "      <td>17.47428</td>\n",
       "      <td>17.08732</td>\n",
       "      <td>16.80125</td>\n",
       "      <td>752</td>\n",
       "      <td>4</td>\n",
       "      <td>268</td>\n",
       "      <td>5.685719e+08</td>\n",
       "      <td>1</td>\n",
       "      <td>0.350872</td>\n",
       "      <td>16.941074</td>\n",
       "      <td>228.085510</td>\n",
       "      <td>513</td>\n",
       "    </tr>\n",
       "    <tr>\n",
       "      <th>3</th>\n",
       "      <td>13.559887</td>\n",
       "      <td>0.223407</td>\n",
       "      <td>4.214897</td>\n",
       "      <td>16.60272</td>\n",
       "      <td>16.16116</td>\n",
       "      <td>15.98233</td>\n",
       "      <td>15.90438</td>\n",
       "      <td>752</td>\n",
       "      <td>4</td>\n",
       "      <td>269</td>\n",
       "      <td>1.929344e+09</td>\n",
       "      <td>0</td>\n",
       "      <td>NaN</td>\n",
       "      <td>57.497826</td>\n",
       "      <td>234.354432</td>\n",
       "      <td>510</td>\n",
       "    </tr>\n",
       "    <tr>\n",
       "      <th>4</th>\n",
       "      <td>13.560357</td>\n",
       "      <td>0.320245</td>\n",
       "      <td>4.189302</td>\n",
       "      <td>16.26342</td>\n",
       "      <td>16.43869</td>\n",
       "      <td>16.55492</td>\n",
       "      <td>16.61326</td>\n",
       "      <td>752</td>\n",
       "      <td>4</td>\n",
       "      <td>269</td>\n",
       "      <td>1.929344e+09</td>\n",
       "      <td>0</td>\n",
       "      <td>0.024297</td>\n",
       "      <td>57.497826</td>\n",
       "      <td>234.354432</td>\n",
       "      <td>512</td>\n",
       "    </tr>\n",
       "    <tr>\n",
       "      <th>...</th>\n",
       "      <td>...</td>\n",
       "      <td>...</td>\n",
       "      <td>...</td>\n",
       "      <td>...</td>\n",
       "      <td>...</td>\n",
       "      <td>...</td>\n",
       "      <td>...</td>\n",
       "      <td>...</td>\n",
       "      <td>...</td>\n",
       "      <td>...</td>\n",
       "      <td>...</td>\n",
       "      <td>...</td>\n",
       "      <td>...</td>\n",
       "      <td>...</td>\n",
       "      <td>...</td>\n",
       "      <td>...</td>\n",
       "    </tr>\n",
       "    <tr>\n",
       "      <th>9995</th>\n",
       "      <td>11.459337</td>\n",
       "      <td>7.179105</td>\n",
       "      <td>4.337945</td>\n",
       "      <td>17.47053</td>\n",
       "      <td>16.91508</td>\n",
       "      <td>16.68305</td>\n",
       "      <td>16.50570</td>\n",
       "      <td>1345</td>\n",
       "      <td>3</td>\n",
       "      <td>161</td>\n",
       "      <td>7.094681e+08</td>\n",
       "      <td>1</td>\n",
       "      <td>0.166081</td>\n",
       "      <td>21.142375</td>\n",
       "      <td>227.765230</td>\n",
       "      <td>246</td>\n",
       "    </tr>\n",
       "    <tr>\n",
       "      <th>9996</th>\n",
       "      <td>11.458887</td>\n",
       "      <td>7.188278</td>\n",
       "      <td>4.274640</td>\n",
       "      <td>17.43849</td>\n",
       "      <td>17.07692</td>\n",
       "      <td>16.71661</td>\n",
       "      <td>16.69897</td>\n",
       "      <td>1345</td>\n",
       "      <td>3</td>\n",
       "      <td>162</td>\n",
       "      <td>7.094646e+08</td>\n",
       "      <td>1</td>\n",
       "      <td>0.343180</td>\n",
       "      <td>21.142375</td>\n",
       "      <td>227.765230</td>\n",
       "      <td>228</td>\n",
       "    </tr>\n",
       "    <tr>\n",
       "      <th>9997</th>\n",
       "      <td>11.469637</td>\n",
       "      <td>7.187975</td>\n",
       "      <td>4.331071</td>\n",
       "      <td>17.77784</td>\n",
       "      <td>17.51872</td>\n",
       "      <td>17.43302</td>\n",
       "      <td>17.42048</td>\n",
       "      <td>1345</td>\n",
       "      <td>3</td>\n",
       "      <td>162</td>\n",
       "      <td>2.867511e+09</td>\n",
       "      <td>0</td>\n",
       "      <td>NaN</td>\n",
       "      <td>85.457592</td>\n",
       "      <td>238.773952</td>\n",
       "      <td>622</td>\n",
       "    </tr>\n",
       "    <tr>\n",
       "      <th>9998</th>\n",
       "      <td>11.466349</td>\n",
       "      <td>7.193961</td>\n",
       "      <td>4.345442</td>\n",
       "      <td>17.91068</td>\n",
       "      <td>17.53152</td>\n",
       "      <td>17.36284</td>\n",
       "      <td>17.13988</td>\n",
       "      <td>1345</td>\n",
       "      <td>3</td>\n",
       "      <td>163</td>\n",
       "      <td>7.094646e+08</td>\n",
       "      <td>1</td>\n",
       "      <td>0.118402</td>\n",
       "      <td>21.142375</td>\n",
       "      <td>227.765230</td>\n",
       "      <td>229</td>\n",
       "    </tr>\n",
       "    <tr>\n",
       "      <th>9999</th>\n",
       "      <td>11.474538</td>\n",
       "      <td>7.197590</td>\n",
       "      <td>4.390428</td>\n",
       "      <td>17.37829</td>\n",
       "      <td>16.30542</td>\n",
       "      <td>15.83548</td>\n",
       "      <td>15.50588</td>\n",
       "      <td>1345</td>\n",
       "      <td>3</td>\n",
       "      <td>163</td>\n",
       "      <td>7.094653e+08</td>\n",
       "      <td>1</td>\n",
       "      <td>0.344118</td>\n",
       "      <td>21.142375</td>\n",
       "      <td>227.765230</td>\n",
       "      <td>233</td>\n",
       "    </tr>\n",
       "  </tbody>\n",
       "</table>\n",
       "<p>10000 rows × 16 columns</p>\n",
       "</div>"
      ],
      "text/plain": [
       "             ra       dec         u         g         r         i         z  \\\n",
       "0     13.547373  0.299488  4.412942  17.04240  15.94699  15.50342  15.22531   \n",
       "1     13.549848  0.367811  4.320046  17.21449  16.67637  16.48922  16.39150   \n",
       "2     13.552867  0.355225  4.402611  18.19169  17.47428  17.08732  16.80125   \n",
       "3     13.559887  0.223407  4.214897  16.60272  16.16116  15.98233  15.90438   \n",
       "4     13.560357  0.320245  4.189302  16.26342  16.43869  16.55492  16.61326   \n",
       "...         ...       ...       ...       ...       ...       ...       ...   \n",
       "9995  11.459337  7.179105  4.337945  17.47053  16.91508  16.68305  16.50570   \n",
       "9996  11.458887  7.188278  4.274640  17.43849  17.07692  16.71661  16.69897   \n",
       "9997  11.469637  7.187975  4.331071  17.77784  17.51872  17.43302  17.42048   \n",
       "9998  11.466349  7.193961  4.345442  17.91068  17.53152  17.36284  17.13988   \n",
       "9999  11.474538  7.197590  4.390428  17.37829  16.30542  15.83548  15.50588   \n",
       "\n",
       "       run  camcol  field     specobjid  class  redshift      plate  \\\n",
       "0      752       4    267  1.929342e+09      0       NaN  57.497826   \n",
       "1      752       4    267  6.031700e+08      0       NaN  17.972201   \n",
       "2      752       4    268  5.685719e+08      1  0.350872  16.941074   \n",
       "3      752       4    269  1.929344e+09      0       NaN  57.497826   \n",
       "4      752       4    269  1.929344e+09      0  0.024297  57.497826   \n",
       "...    ...     ...    ...           ...    ...       ...        ...   \n",
       "9995  1345       3    161  7.094681e+08      1  0.166081  21.142375   \n",
       "9996  1345       3    162  7.094646e+08      1  0.343180  21.142375   \n",
       "9997  1345       3    162  2.867511e+09      0       NaN  85.457592   \n",
       "9998  1345       3    163  7.094646e+08      1  0.118402  21.142375   \n",
       "9999  1345       3    163  7.094653e+08      1  0.344118  21.142375   \n",
       "\n",
       "             mjd  fiberid  \n",
       "0     234.354432      491  \n",
       "1     227.189348      541  \n",
       "2     228.085510      513  \n",
       "3     234.354432      510  \n",
       "4     234.354432      512  \n",
       "...          ...      ...  \n",
       "9995  227.765230      246  \n",
       "9996  227.765230      228  \n",
       "9997  238.773952      622  \n",
       "9998  227.765230      229  \n",
       "9999  227.765230      233  \n",
       "\n",
       "[10000 rows x 16 columns]"
      ]
     },
     "execution_count": 25,
     "metadata": {},
     "output_type": "execute_result"
    }
   ],
   "source": [
    "ssd"
   ]
  },
  {
   "cell_type": "code",
   "execution_count": 26,
   "metadata": {},
   "outputs": [
    {
     "data": {
      "text/plain": [
       "ra          -2.344131\n",
       "dec          0.298224\n",
       "u           -1.290898\n",
       "g           -0.536293\n",
       "r           -0.021673\n",
       "i            0.286442\n",
       "z            0.214313\n",
       "run          0.412555\n",
       "camcol      -0.100220\n",
       "field        0.249795\n",
       "specobjid    1.093905\n",
       "class        0.381391\n",
       "redshift     2.268173\n",
       "plate        1.093870\n",
       "mjd          1.025184\n",
       "fiberid      0.308053\n",
       "dtype: float64"
      ]
     },
     "execution_count": 26,
     "metadata": {},
     "output_type": "execute_result"
    }
   ],
   "source": [
    "ssd.skew()"
   ]
  },
  {
   "cell_type": "code",
   "execution_count": 27,
   "metadata": {},
   "outputs": [
    {
     "data": {
      "text/plain": [
       "ra              AxesSubplot(0.125,0.657941;0.110714x0.222059)\n",
       "dec          AxesSubplot(0.257857,0.657941;0.110714x0.222059)\n",
       "u            AxesSubplot(0.390714,0.657941;0.110714x0.222059)\n",
       "g            AxesSubplot(0.523571,0.657941;0.110714x0.222059)\n",
       "r            AxesSubplot(0.656429,0.657941;0.110714x0.222059)\n",
       "i            AxesSubplot(0.789286,0.657941;0.110714x0.222059)\n",
       "z               AxesSubplot(0.125,0.391471;0.110714x0.222059)\n",
       "run          AxesSubplot(0.257857,0.391471;0.110714x0.222059)\n",
       "camcol       AxesSubplot(0.390714,0.391471;0.110714x0.222059)\n",
       "field        AxesSubplot(0.523571,0.391471;0.110714x0.222059)\n",
       "specobjid    AxesSubplot(0.656429,0.391471;0.110714x0.222059)\n",
       "class        AxesSubplot(0.789286,0.391471;0.110714x0.222059)\n",
       "redshift           AxesSubplot(0.125,0.125;0.110714x0.222059)\n",
       "plate           AxesSubplot(0.257857,0.125;0.110714x0.222059)\n",
       "mjd             AxesSubplot(0.390714,0.125;0.110714x0.222059)\n",
       "fiberid         AxesSubplot(0.523571,0.125;0.110714x0.222059)\n",
       "dtype: object"
      ]
     },
     "execution_count": 27,
     "metadata": {},
     "output_type": "execute_result"
    },
    {
     "data": {
      "image/png": "[encoded data removed]",
      "text/plain": [
       "<Figure size 432x288 with 18 Axes>"
      ]
     },
     "metadata": {
      "needs_background": "light"
     },
     "output_type": "display_data"
    }
   ],
   "source": [
    "#ploting outliers with boplot\n",
    "ssd.plot(kind=\"box\",subplots=True,layout=(3,6))"
   ]
  },
  {
   "cell_type": "code",
   "execution_count": 28,
   "metadata": {},
   "outputs": [
    {
     "data": {
      "text/html": [
       "<div>\n",
       "<style scoped>\n",
       "    .dataframe tbody tr th:only-of-type {\n",
       "        vertical-align: middle;\n",
       "    }\n",
       "\n",
       "    .dataframe tbody tr th {\n",
       "        vertical-align: top;\n",
       "    }\n",
       "\n",
       "    .dataframe thead th {\n",
       "        text-align: right;\n",
       "    }\n",
       "</style>\n",
       "<table border=\"1\" class=\"dataframe\">\n",
       "  <thead>\n",
       "    <tr style=\"text-align: right;\">\n",
       "      <th></th>\n",
       "      <th>ra</th>\n",
       "      <th>dec</th>\n",
       "      <th>u</th>\n",
       "      <th>g</th>\n",
       "      <th>r</th>\n",
       "      <th>i</th>\n",
       "      <th>z</th>\n",
       "      <th>run</th>\n",
       "      <th>camcol</th>\n",
       "      <th>field</th>\n",
       "      <th>specobjid</th>\n",
       "      <th>class</th>\n",
       "      <th>redshift</th>\n",
       "      <th>plate</th>\n",
       "      <th>mjd</th>\n",
       "      <th>fiberid</th>\n",
       "    </tr>\n",
       "  </thead>\n",
       "  <tbody>\n",
       "    <tr>\n",
       "      <th>0</th>\n",
       "      <td>13.547373</td>\n",
       "      <td>0.299488</td>\n",
       "      <td>4.412942</td>\n",
       "      <td>17.04240</td>\n",
       "      <td>15.94699</td>\n",
       "      <td>15.50342</td>\n",
       "      <td>15.22531</td>\n",
       "      <td>752</td>\n",
       "      <td>4</td>\n",
       "      <td>267</td>\n",
       "      <td>1.929342e+09</td>\n",
       "      <td>0</td>\n",
       "      <td>NaN</td>\n",
       "      <td>57.497826</td>\n",
       "      <td>234.354432</td>\n",
       "      <td>491</td>\n",
       "    </tr>\n",
       "    <tr>\n",
       "      <th>1</th>\n",
       "      <td>13.549848</td>\n",
       "      <td>0.367811</td>\n",
       "      <td>4.320046</td>\n",
       "      <td>17.21449</td>\n",
       "      <td>16.67637</td>\n",
       "      <td>16.48922</td>\n",
       "      <td>16.39150</td>\n",
       "      <td>752</td>\n",
       "      <td>4</td>\n",
       "      <td>267</td>\n",
       "      <td>6.031700e+08</td>\n",
       "      <td>0</td>\n",
       "      <td>NaN</td>\n",
       "      <td>17.972201</td>\n",
       "      <td>227.189348</td>\n",
       "      <td>541</td>\n",
       "    </tr>\n",
       "    <tr>\n",
       "      <th>2</th>\n",
       "      <td>13.552867</td>\n",
       "      <td>0.355225</td>\n",
       "      <td>4.402611</td>\n",
       "      <td>18.19169</td>\n",
       "      <td>17.47428</td>\n",
       "      <td>17.08732</td>\n",
       "      <td>16.80125</td>\n",
       "      <td>752</td>\n",
       "      <td>4</td>\n",
       "      <td>268</td>\n",
       "      <td>5.685719e+08</td>\n",
       "      <td>1</td>\n",
       "      <td>0.350872</td>\n",
       "      <td>16.941074</td>\n",
       "      <td>228.085510</td>\n",
       "      <td>513</td>\n",
       "    </tr>\n",
       "    <tr>\n",
       "      <th>3</th>\n",
       "      <td>13.559887</td>\n",
       "      <td>0.223407</td>\n",
       "      <td>4.214897</td>\n",
       "      <td>16.60272</td>\n",
       "      <td>16.16116</td>\n",
       "      <td>15.98233</td>\n",
       "      <td>15.90438</td>\n",
       "      <td>752</td>\n",
       "      <td>4</td>\n",
       "      <td>269</td>\n",
       "      <td>1.929344e+09</td>\n",
       "      <td>0</td>\n",
       "      <td>NaN</td>\n",
       "      <td>57.497826</td>\n",
       "      <td>234.354432</td>\n",
       "      <td>510</td>\n",
       "    </tr>\n",
       "    <tr>\n",
       "      <th>4</th>\n",
       "      <td>13.560357</td>\n",
       "      <td>0.320245</td>\n",
       "      <td>4.189302</td>\n",
       "      <td>16.26342</td>\n",
       "      <td>16.43869</td>\n",
       "      <td>16.55492</td>\n",
       "      <td>16.61326</td>\n",
       "      <td>752</td>\n",
       "      <td>4</td>\n",
       "      <td>269</td>\n",
       "      <td>1.929344e+09</td>\n",
       "      <td>0</td>\n",
       "      <td>0.024297</td>\n",
       "      <td>57.497826</td>\n",
       "      <td>234.354432</td>\n",
       "      <td>512</td>\n",
       "    </tr>\n",
       "    <tr>\n",
       "      <th>...</th>\n",
       "      <td>...</td>\n",
       "      <td>...</td>\n",
       "      <td>...</td>\n",
       "      <td>...</td>\n",
       "      <td>...</td>\n",
       "      <td>...</td>\n",
       "      <td>...</td>\n",
       "      <td>...</td>\n",
       "      <td>...</td>\n",
       "      <td>...</td>\n",
       "      <td>...</td>\n",
       "      <td>...</td>\n",
       "      <td>...</td>\n",
       "      <td>...</td>\n",
       "      <td>...</td>\n",
       "      <td>...</td>\n",
       "    </tr>\n",
       "    <tr>\n",
       "      <th>9995</th>\n",
       "      <td>11.459337</td>\n",
       "      <td>7.179105</td>\n",
       "      <td>4.337945</td>\n",
       "      <td>17.47053</td>\n",
       "      <td>16.91508</td>\n",
       "      <td>16.68305</td>\n",
       "      <td>16.50570</td>\n",
       "      <td>1345</td>\n",
       "      <td>3</td>\n",
       "      <td>161</td>\n",
       "      <td>7.094681e+08</td>\n",
       "      <td>1</td>\n",
       "      <td>0.166081</td>\n",
       "      <td>21.142375</td>\n",
       "      <td>227.765230</td>\n",
       "      <td>246</td>\n",
       "    </tr>\n",
       "    <tr>\n",
       "      <th>9996</th>\n",
       "      <td>11.458887</td>\n",
       "      <td>7.188278</td>\n",
       "      <td>4.274640</td>\n",
       "      <td>17.43849</td>\n",
       "      <td>17.07692</td>\n",
       "      <td>16.71661</td>\n",
       "      <td>16.69897</td>\n",
       "      <td>1345</td>\n",
       "      <td>3</td>\n",
       "      <td>162</td>\n",
       "      <td>7.094646e+08</td>\n",
       "      <td>1</td>\n",
       "      <td>0.343180</td>\n",
       "      <td>21.142375</td>\n",
       "      <td>227.765230</td>\n",
       "      <td>228</td>\n",
       "    </tr>\n",
       "    <tr>\n",
       "      <th>9997</th>\n",
       "      <td>11.469637</td>\n",
       "      <td>7.187975</td>\n",
       "      <td>4.331071</td>\n",
       "      <td>17.77784</td>\n",
       "      <td>17.51872</td>\n",
       "      <td>17.43302</td>\n",
       "      <td>17.42048</td>\n",
       "      <td>1345</td>\n",
       "      <td>3</td>\n",
       "      <td>162</td>\n",
       "      <td>2.867511e+09</td>\n",
       "      <td>0</td>\n",
       "      <td>NaN</td>\n",
       "      <td>85.457592</td>\n",
       "      <td>238.773952</td>\n",
       "      <td>622</td>\n",
       "    </tr>\n",
       "    <tr>\n",
       "      <th>9998</th>\n",
       "      <td>11.466349</td>\n",
       "      <td>7.193961</td>\n",
       "      <td>4.345442</td>\n",
       "      <td>17.91068</td>\n",
       "      <td>17.53152</td>\n",
       "      <td>17.36284</td>\n",
       "      <td>17.13988</td>\n",
       "      <td>1345</td>\n",
       "      <td>3</td>\n",
       "      <td>163</td>\n",
       "      <td>7.094646e+08</td>\n",
       "      <td>1</td>\n",
       "      <td>0.118402</td>\n",
       "      <td>21.142375</td>\n",
       "      <td>227.765230</td>\n",
       "      <td>229</td>\n",
       "    </tr>\n",
       "    <tr>\n",
       "      <th>9999</th>\n",
       "      <td>11.474538</td>\n",
       "      <td>7.197590</td>\n",
       "      <td>4.390428</td>\n",
       "      <td>17.37829</td>\n",
       "      <td>16.30542</td>\n",
       "      <td>15.83548</td>\n",
       "      <td>15.50588</td>\n",
       "      <td>1345</td>\n",
       "      <td>3</td>\n",
       "      <td>163</td>\n",
       "      <td>7.094653e+08</td>\n",
       "      <td>1</td>\n",
       "      <td>0.344118</td>\n",
       "      <td>21.142375</td>\n",
       "      <td>227.765230</td>\n",
       "      <td>233</td>\n",
       "    </tr>\n",
       "  </tbody>\n",
       "</table>\n",
       "<p>10000 rows × 16 columns</p>\n",
       "</div>"
      ],
      "text/plain": [
       "             ra       dec         u         g         r         i         z  \\\n",
       "0     13.547373  0.299488  4.412942  17.04240  15.94699  15.50342  15.22531   \n",
       "1     13.549848  0.367811  4.320046  17.21449  16.67637  16.48922  16.39150   \n",
       "2     13.552867  0.355225  4.402611  18.19169  17.47428  17.08732  16.80125   \n",
       "3     13.559887  0.223407  4.214897  16.60272  16.16116  15.98233  15.90438   \n",
       "4     13.560357  0.320245  4.189302  16.26342  16.43869  16.55492  16.61326   \n",
       "...         ...       ...       ...       ...       ...       ...       ...   \n",
       "9995  11.459337  7.179105  4.337945  17.47053  16.91508  16.68305  16.50570   \n",
       "9996  11.458887  7.188278  4.274640  17.43849  17.07692  16.71661  16.69897   \n",
       "9997  11.469637  7.187975  4.331071  17.77784  17.51872  17.43302  17.42048   \n",
       "9998  11.466349  7.193961  4.345442  17.91068  17.53152  17.36284  17.13988   \n",
       "9999  11.474538  7.197590  4.390428  17.37829  16.30542  15.83548  15.50588   \n",
       "\n",
       "       run  camcol  field     specobjid  class  redshift      plate  \\\n",
       "0      752       4    267  1.929342e+09      0       NaN  57.497826   \n",
       "1      752       4    267  6.031700e+08      0       NaN  17.972201   \n",
       "2      752       4    268  5.685719e+08      1  0.350872  16.941074   \n",
       "3      752       4    269  1.929344e+09      0       NaN  57.497826   \n",
       "4      752       4    269  1.929344e+09      0  0.024297  57.497826   \n",
       "...    ...     ...    ...           ...    ...       ...        ...   \n",
       "9995  1345       3    161  7.094681e+08      1  0.166081  21.142375   \n",
       "9996  1345       3    162  7.094646e+08      1  0.343180  21.142375   \n",
       "9997  1345       3    162  2.867511e+09      0       NaN  85.457592   \n",
       "9998  1345       3    163  7.094646e+08      1  0.118402  21.142375   \n",
       "9999  1345       3    163  7.094653e+08      1  0.344118  21.142375   \n",
       "\n",
       "             mjd  fiberid  \n",
       "0     234.354432      491  \n",
       "1     227.189348      541  \n",
       "2     228.085510      513  \n",
       "3     234.354432      510  \n",
       "4     234.354432      512  \n",
       "...          ...      ...  \n",
       "9995  227.765230      246  \n",
       "9996  227.765230      228  \n",
       "9997  238.773952      622  \n",
       "9998  227.765230      229  \n",
       "9999  227.765230      233  \n",
       "\n",
       "[10000 rows x 16 columns]"
      ]
     },
     "execution_count": 28,
     "metadata": {},
     "output_type": "execute_result"
    }
   ],
   "source": [
    "ssd"
   ]
  },
  {
   "cell_type": "code",
   "execution_count": 29,
   "metadata": {},
   "outputs": [
    {
     "data": {
      "text/plain": [
       "ra              0\n",
       "dec          3774\n",
       "u               0\n",
       "g               0\n",
       "r               0\n",
       "i               0\n",
       "z               0\n",
       "run             0\n",
       "camcol          0\n",
       "field           0\n",
       "specobjid       0\n",
       "class           0\n",
       "redshift     1919\n",
       "plate           0\n",
       "mjd             0\n",
       "fiberid         0\n",
       "dtype: int64"
      ]
     },
     "execution_count": 29,
     "metadata": {},
     "output_type": "execute_result"
    }
   ],
   "source": [
    "ssd.isnull().sum()"
   ]
  },
  {
   "cell_type": "markdown",
   "metadata": {},
   "source": [
    "After Treating skewness ssd dataset have NaN valus in columns dec and redshift."
   ]
  },
  {
   "cell_type": "code",
   "execution_count": 30,
   "metadata": {},
   "outputs": [],
   "source": [
    "#Imputing Missing value into continuous value\n",
    "ssd[\"dec\"]=ssd[\"dec\"].replace(np.NaN,ssd[\"dec\"].mean())\n",
    "ssd[\"redshift\"]=ssd[\"redshift\"].replace(np.NaN,ssd[\"redshift\"].mean())"
   ]
  },
  {
   "cell_type": "code",
   "execution_count": 31,
   "metadata": {},
   "outputs": [
    {
     "data": {
      "text/plain": [
       "ra           0\n",
       "dec          0\n",
       "u            0\n",
       "g            0\n",
       "r            0\n",
       "i            0\n",
       "z            0\n",
       "run          0\n",
       "camcol       0\n",
       "field        0\n",
       "specobjid    0\n",
       "class        0\n",
       "redshift     0\n",
       "plate        0\n",
       "mjd          0\n",
       "fiberid      0\n",
       "dtype: int64"
      ]
     },
     "execution_count": 31,
     "metadata": {},
     "output_type": "execute_result"
    }
   ],
   "source": [
    "ssd.isnull().sum()"
   ]
  },
  {
   "cell_type": "code",
   "execution_count": 32,
   "metadata": {},
   "outputs": [
    {
     "data": {
      "text/plain": [
       "(array([  45,  109,  129, ..., 9929, 9940, 9956], dtype=int64),\n",
       " array([12, 12, 12, ...,  2, 12, 12], dtype=int64))"
      ]
     },
     "execution_count": 32,
     "metadata": {},
     "output_type": "execute_result"
    }
   ],
   "source": [
    "#checking skewness\n",
    "thresholds=3\n",
    "z=np.abs(zscore(ssd))\n",
    "np.where(z>3)"
   ]
  },
  {
   "cell_type": "code",
   "execution_count": 33,
   "metadata": {},
   "outputs": [
    {
     "data": {
      "text/plain": [
       "(9022, 16)"
      ]
     },
     "execution_count": 33,
     "metadata": {},
     "output_type": "execute_result"
    }
   ],
   "source": [
    "#removing outliers\n",
    "ssd_new=ssd[(z<3).all(axis=1)]\n",
    "ssd_new.shape"
   ]
  },
  {
   "cell_type": "markdown",
   "metadata": {},
   "source": [
    "## Model Training"
   ]
  },
  {
   "cell_type": "code",
   "execution_count": 34,
   "metadata": {},
   "outputs": [
    {
     "name": "stdout",
     "output_type": "stream",
     "text": [
      "             ra       dec         u         g         r         i         z  \\\n",
      "0     13.547373  0.299488  4.412942  17.04240  15.94699  15.50342  15.22531   \n",
      "1     13.549848  0.367811  4.320046  17.21449  16.67637  16.48922  16.39150   \n",
      "2     13.552867  0.355225  4.402611  18.19169  17.47428  17.08732  16.80125   \n",
      "3     13.559887  0.223407  4.214897  16.60272  16.16116  15.98233  15.90438   \n",
      "4     13.560357  0.320245  4.189302  16.26342  16.43869  16.55492  16.61326   \n",
      "...         ...       ...       ...       ...       ...       ...       ...   \n",
      "9995  11.459337  7.179105  4.337945  17.47053  16.91508  16.68305  16.50570   \n",
      "9996  11.458887  7.188278  4.274640  17.43849  17.07692  16.71661  16.69897   \n",
      "9997  11.469637  7.187975  4.331071  17.77784  17.51872  17.43302  17.42048   \n",
      "9998  11.466349  7.193961  4.345442  17.91068  17.53152  17.36284  17.13988   \n",
      "9999  11.474538  7.197590  4.390428  17.37829  16.30542  15.83548  15.50588   \n",
      "\n",
      "       run  camcol  field     specobjid  redshift      plate         mjd  \\\n",
      "0      752       4    267  1.929342e+09  0.283614  57.497826  234.354432   \n",
      "1      752       4    267  6.031700e+08  0.283614  17.972201  227.189348   \n",
      "2      752       4    268  5.685719e+08  0.350872  16.941074  228.085510   \n",
      "3      752       4    269  1.929344e+09  0.283614  57.497826  234.354432   \n",
      "4      752       4    269  1.929344e+09  0.024297  57.497826  234.354432   \n",
      "...    ...     ...    ...           ...       ...        ...         ...   \n",
      "9995  1345       3    161  7.094681e+08  0.166081  21.142375  227.765230   \n",
      "9996  1345       3    162  7.094646e+08  0.343180  21.142375  227.765230   \n",
      "9997  1345       3    162  2.867511e+09  0.283614  85.457592  238.773952   \n",
      "9998  1345       3    163  7.094646e+08  0.118402  21.142375  227.765230   \n",
      "9999  1345       3    163  7.094653e+08  0.344118  21.142375  227.765230   \n",
      "\n",
      "      fiberid  \n",
      "0         491  \n",
      "1         541  \n",
      "2         513  \n",
      "3         510  \n",
      "4         512  \n",
      "...       ...  \n",
      "9995      246  \n",
      "9996      228  \n",
      "9997      622  \n",
      "9998      229  \n",
      "9999      233  \n",
      "\n",
      "[9022 rows x 15 columns]\n",
      "0       0\n",
      "1       0\n",
      "2       1\n",
      "3       0\n",
      "4       0\n",
      "       ..\n",
      "9995    1\n",
      "9996    1\n",
      "9997    0\n",
      "9998    1\n",
      "9999    1\n",
      "Name: class, Length: 9022, dtype: int64\n"
     ]
    }
   ],
   "source": [
    "X=ssd_new.drop(\"class\",axis=1)\n",
    "print(X)\n",
    "y=ssd_new[\"class\"]\n",
    "print(y)"
   ]
  },
  {
   "cell_type": "code",
   "execution_count": 35,
   "metadata": {},
   "outputs": [
    {
     "data": {
      "text/plain": [
       "array([[ 0.0959752 , -1.281625  ,  1.06751108, ...,  1.27272497,\n",
       "         1.34154222,  0.67370668],\n",
       "       [ 0.09773468, -1.25573218,  0.04454204, ..., -0.71054763,\n",
       "        -0.87911859,  0.92298166],\n",
       "       [ 0.09988191, -1.26050186,  0.95373819, ..., -0.76228634,\n",
       "        -0.60137283,  0.78338767],\n",
       "       ...,\n",
       "       [-1.38154473,  1.32894381,  0.16595091, ...,  2.67565881,\n",
       "         2.71127537,  1.32680714],\n",
       "       [-1.38388282,  1.33121212,  0.32420381, ..., -0.5514782 ,\n",
       "        -0.70063668, -0.63249424],\n",
       "       [-1.37805952,  1.33258776,  0.81958627, ..., -0.5514782 ,\n",
       "        -0.70063668, -0.61255225]])"
      ]
     },
     "execution_count": 35,
     "metadata": {},
     "output_type": "execute_result"
    }
   ],
   "source": [
    "#using StandardScaler\n",
    "from sklearn.preprocessing import StandardScaler\n",
    "sc=StandardScaler()\n",
    "x=sc.fit_transform(X)\n",
    "x"
   ]
  },
  {
   "cell_type": "code",
   "execution_count": 36,
   "metadata": {},
   "outputs": [
    {
     "data": {
      "text/html": [
       "<div>\n",
       "<style scoped>\n",
       "    .dataframe tbody tr th:only-of-type {\n",
       "        vertical-align: middle;\n",
       "    }\n",
       "\n",
       "    .dataframe tbody tr th {\n",
       "        vertical-align: top;\n",
       "    }\n",
       "\n",
       "    .dataframe thead th {\n",
       "        text-align: right;\n",
       "    }\n",
       "</style>\n",
       "<table border=\"1\" class=\"dataframe\">\n",
       "  <thead>\n",
       "    <tr style=\"text-align: right;\">\n",
       "      <th></th>\n",
       "      <th>ra</th>\n",
       "      <th>dec</th>\n",
       "      <th>u</th>\n",
       "      <th>g</th>\n",
       "      <th>r</th>\n",
       "      <th>i</th>\n",
       "      <th>z</th>\n",
       "      <th>run</th>\n",
       "      <th>camcol</th>\n",
       "      <th>field</th>\n",
       "      <th>specobjid</th>\n",
       "      <th>redshift</th>\n",
       "      <th>plate</th>\n",
       "      <th>mjd</th>\n",
       "      <th>fiberid</th>\n",
       "    </tr>\n",
       "  </thead>\n",
       "  <tbody>\n",
       "    <tr>\n",
       "      <th>0</th>\n",
       "      <td>0.095975</td>\n",
       "      <td>-1.281625</td>\n",
       "      <td>1.067511</td>\n",
       "      <td>-0.346601</td>\n",
       "      <td>-0.877088</td>\n",
       "      <td>-0.994121</td>\n",
       "      <td>-1.033003</td>\n",
       "      <td>-0.808861</td>\n",
       "      <td>0.182755</td>\n",
       "      <td>-0.273219</td>\n",
       "      <td>1.272731</td>\n",
       "      <td>0.248430</td>\n",
       "      <td>1.272725</td>\n",
       "      <td>1.341542</td>\n",
       "      <td>0.673707</td>\n",
       "    </tr>\n",
       "    <tr>\n",
       "      <th>1</th>\n",
       "      <td>0.097735</td>\n",
       "      <td>-1.255732</td>\n",
       "      <td>0.044542</td>\n",
       "      <td>-0.145528</td>\n",
       "      <td>-0.113300</td>\n",
       "      <td>-0.026927</td>\n",
       "      <td>0.036429</td>\n",
       "      <td>-0.808861</td>\n",
       "      <td>0.182755</td>\n",
       "      <td>-0.273219</td>\n",
       "      <td>-0.710475</td>\n",
       "      <td>0.248430</td>\n",
       "      <td>-0.710548</td>\n",
       "      <td>-0.879119</td>\n",
       "      <td>0.922982</td>\n",
       "    </tr>\n",
       "    <tr>\n",
       "      <th>2</th>\n",
       "      <td>0.099882</td>\n",
       "      <td>-1.260502</td>\n",
       "      <td>0.953738</td>\n",
       "      <td>0.996248</td>\n",
       "      <td>0.722251</td>\n",
       "      <td>0.559884</td>\n",
       "      <td>0.412182</td>\n",
       "      <td>-0.808861</td>\n",
       "      <td>0.182755</td>\n",
       "      <td>-0.266975</td>\n",
       "      <td>-0.762215</td>\n",
       "      <td>0.624606</td>\n",
       "      <td>-0.762286</td>\n",
       "      <td>-0.601373</td>\n",
       "      <td>0.783388</td>\n",
       "    </tr>\n",
       "    <tr>\n",
       "      <th>3</th>\n",
       "      <td>0.104874</td>\n",
       "      <td>-1.310458</td>\n",
       "      <td>-1.113355</td>\n",
       "      <td>-0.860330</td>\n",
       "      <td>-0.652815</td>\n",
       "      <td>-0.524250</td>\n",
       "      <td>-0.410275</td>\n",
       "      <td>-0.808861</td>\n",
       "      <td>0.182755</td>\n",
       "      <td>-0.260731</td>\n",
       "      <td>1.272735</td>\n",
       "      <td>0.248430</td>\n",
       "      <td>1.272725</td>\n",
       "      <td>1.341542</td>\n",
       "      <td>0.768431</td>\n",
       "    </tr>\n",
       "    <tr>\n",
       "      <th>4</th>\n",
       "      <td>0.105208</td>\n",
       "      <td>-1.273759</td>\n",
       "      <td>-1.395213</td>\n",
       "      <td>-1.256774</td>\n",
       "      <td>-0.362192</td>\n",
       "      <td>0.037533</td>\n",
       "      <td>0.239789</td>\n",
       "      <td>-0.808861</td>\n",
       "      <td>0.182755</td>\n",
       "      <td>-0.260731</td>\n",
       "      <td>1.272735</td>\n",
       "      <td>-1.201944</td>\n",
       "      <td>1.272725</td>\n",
       "      <td>1.341542</td>\n",
       "      <td>0.778402</td>\n",
       "    </tr>\n",
       "    <tr>\n",
       "      <th>...</th>\n",
       "      <td>...</td>\n",
       "      <td>...</td>\n",
       "      <td>...</td>\n",
       "      <td>...</td>\n",
       "      <td>...</td>\n",
       "      <td>...</td>\n",
       "      <td>...</td>\n",
       "      <td>...</td>\n",
       "      <td>...</td>\n",
       "      <td>...</td>\n",
       "      <td>...</td>\n",
       "      <td>...</td>\n",
       "      <td>...</td>\n",
       "      <td>...</td>\n",
       "      <td>...</td>\n",
       "    </tr>\n",
       "    <tr>\n",
       "      <th>9017</th>\n",
       "      <td>-1.388869</td>\n",
       "      <td>1.325582</td>\n",
       "      <td>0.241646</td>\n",
       "      <td>0.153633</td>\n",
       "      <td>0.136671</td>\n",
       "      <td>0.163245</td>\n",
       "      <td>0.141153</td>\n",
       "      <td>1.322357</td>\n",
       "      <td>-0.412485</td>\n",
       "      <td>-0.935133</td>\n",
       "      <td>-0.551513</td>\n",
       "      <td>-0.408940</td>\n",
       "      <td>-0.551478</td>\n",
       "      <td>-0.700637</td>\n",
       "      <td>-0.547741</td>\n",
       "    </tr>\n",
       "    <tr>\n",
       "      <th>9018</th>\n",
       "      <td>-1.389189</td>\n",
       "      <td>1.329059</td>\n",
       "      <td>-0.455467</td>\n",
       "      <td>0.116197</td>\n",
       "      <td>0.306145</td>\n",
       "      <td>0.196171</td>\n",
       "      <td>0.318388</td>\n",
       "      <td>1.322357</td>\n",
       "      <td>-0.412485</td>\n",
       "      <td>-0.928889</td>\n",
       "      <td>-0.551519</td>\n",
       "      <td>0.581581</td>\n",
       "      <td>-0.551478</td>\n",
       "      <td>-0.700637</td>\n",
       "      <td>-0.637480</td>\n",
       "    </tr>\n",
       "    <tr>\n",
       "      <th>9019</th>\n",
       "      <td>-1.381545</td>\n",
       "      <td>1.328944</td>\n",
       "      <td>0.165951</td>\n",
       "      <td>0.512699</td>\n",
       "      <td>0.768787</td>\n",
       "      <td>0.899060</td>\n",
       "      <td>0.980035</td>\n",
       "      <td>1.322357</td>\n",
       "      <td>-0.412485</td>\n",
       "      <td>-0.928889</td>\n",
       "      <td>2.675704</td>\n",
       "      <td>0.248430</td>\n",
       "      <td>2.675659</td>\n",
       "      <td>2.711275</td>\n",
       "      <td>1.326807</td>\n",
       "    </tr>\n",
       "    <tr>\n",
       "      <th>9020</th>\n",
       "      <td>-1.383883</td>\n",
       "      <td>1.331212</td>\n",
       "      <td>0.324204</td>\n",
       "      <td>0.667911</td>\n",
       "      <td>0.782191</td>\n",
       "      <td>0.830204</td>\n",
       "      <td>0.722716</td>\n",
       "      <td>1.322357</td>\n",
       "      <td>-0.412485</td>\n",
       "      <td>-0.922644</td>\n",
       "      <td>-0.551519</td>\n",
       "      <td>-0.675614</td>\n",
       "      <td>-0.551478</td>\n",
       "      <td>-0.700637</td>\n",
       "      <td>-0.632494</td>\n",
       "    </tr>\n",
       "    <tr>\n",
       "      <th>9021</th>\n",
       "      <td>-1.378060</td>\n",
       "      <td>1.332588</td>\n",
       "      <td>0.819586</td>\n",
       "      <td>0.045858</td>\n",
       "      <td>-0.501749</td>\n",
       "      <td>-0.668329</td>\n",
       "      <td>-0.775712</td>\n",
       "      <td>1.322357</td>\n",
       "      <td>-0.412485</td>\n",
       "      <td>-0.922644</td>\n",
       "      <td>-0.551517</td>\n",
       "      <td>0.586831</td>\n",
       "      <td>-0.551478</td>\n",
       "      <td>-0.700637</td>\n",
       "      <td>-0.612552</td>\n",
       "    </tr>\n",
       "  </tbody>\n",
       "</table>\n",
       "<p>9022 rows × 15 columns</p>\n",
       "</div>"
      ],
      "text/plain": [
       "            ra       dec         u         g         r         i         z  \\\n",
       "0     0.095975 -1.281625  1.067511 -0.346601 -0.877088 -0.994121 -1.033003   \n",
       "1     0.097735 -1.255732  0.044542 -0.145528 -0.113300 -0.026927  0.036429   \n",
       "2     0.099882 -1.260502  0.953738  0.996248  0.722251  0.559884  0.412182   \n",
       "3     0.104874 -1.310458 -1.113355 -0.860330 -0.652815 -0.524250 -0.410275   \n",
       "4     0.105208 -1.273759 -1.395213 -1.256774 -0.362192  0.037533  0.239789   \n",
       "...        ...       ...       ...       ...       ...       ...       ...   \n",
       "9017 -1.388869  1.325582  0.241646  0.153633  0.136671  0.163245  0.141153   \n",
       "9018 -1.389189  1.329059 -0.455467  0.116197  0.306145  0.196171  0.318388   \n",
       "9019 -1.381545  1.328944  0.165951  0.512699  0.768787  0.899060  0.980035   \n",
       "9020 -1.383883  1.331212  0.324204  0.667911  0.782191  0.830204  0.722716   \n",
       "9021 -1.378060  1.332588  0.819586  0.045858 -0.501749 -0.668329 -0.775712   \n",
       "\n",
       "           run    camcol     field  specobjid  redshift     plate       mjd  \\\n",
       "0    -0.808861  0.182755 -0.273219   1.272731  0.248430  1.272725  1.341542   \n",
       "1    -0.808861  0.182755 -0.273219  -0.710475  0.248430 -0.710548 -0.879119   \n",
       "2    -0.808861  0.182755 -0.266975  -0.762215  0.624606 -0.762286 -0.601373   \n",
       "3    -0.808861  0.182755 -0.260731   1.272735  0.248430  1.272725  1.341542   \n",
       "4    -0.808861  0.182755 -0.260731   1.272735 -1.201944  1.272725  1.341542   \n",
       "...        ...       ...       ...        ...       ...       ...       ...   \n",
       "9017  1.322357 -0.412485 -0.935133  -0.551513 -0.408940 -0.551478 -0.700637   \n",
       "9018  1.322357 -0.412485 -0.928889  -0.551519  0.581581 -0.551478 -0.700637   \n",
       "9019  1.322357 -0.412485 -0.928889   2.675704  0.248430  2.675659  2.711275   \n",
       "9020  1.322357 -0.412485 -0.922644  -0.551519 -0.675614 -0.551478 -0.700637   \n",
       "9021  1.322357 -0.412485 -0.922644  -0.551517  0.586831 -0.551478 -0.700637   \n",
       "\n",
       "       fiberid  \n",
       "0     0.673707  \n",
       "1     0.922982  \n",
       "2     0.783388  \n",
       "3     0.768431  \n",
       "4     0.778402  \n",
       "...        ...  \n",
       "9017 -0.547741  \n",
       "9018 -0.637480  \n",
       "9019  1.326807  \n",
       "9020 -0.632494  \n",
       "9021 -0.612552  \n",
       "\n",
       "[9022 rows x 15 columns]"
      ]
     },
     "execution_count": 36,
     "metadata": {},
     "output_type": "execute_result"
    }
   ],
   "source": [
    "# covert into pandas dataframe\n",
    "x=pd.DataFrame(x,columns=X.columns)\n",
    "x"
   ]
  },
  {
   "cell_type": "code",
   "execution_count": 42,
   "metadata": {},
   "outputs": [],
   "source": [
    "# library for split data \n",
    "from sklearn.model_selection import train_test_split,cross_val_score,GridSearchCV\n",
    "\n",
    "#importing all model libraries\n",
    "from sklearn.linear_model import LogisticRegression\n",
    "from sklearn.tree import DecisionTreeClassifier\n",
    "from sklearn.neighbors import KNeighborsClassifier\n",
    "from sklearn.svm import SVC\n",
    "from sklearn.metrics import accuracy_score,confusion_matrix,classification_report\n",
    "\n",
    "#importing ensembling techniques\n",
    "from sklearn.ensemble import RandomForestClassifier\n",
    "from sklearn.ensemble import AdaBoostClassifier\n",
    "from sklearn.ensemble import GradientBoostingClassifier"
   ]
  },
  {
   "cell_type": "code",
   "execution_count": 38,
   "metadata": {},
   "outputs": [
    {
     "name": "stdout",
     "output_type": "stream",
     "text": [
      "************************* LogisticRegression() ************************\n",
      "ac: 0.949468085106383\n",
      "score: 0.9459060005911912\n",
      "[[ 920   55    2]\n",
      " [  44 1135    5]\n",
      " [   1    7   87]]\n",
      "              precision    recall  f1-score   support\n",
      "\n",
      "           0       0.95      0.94      0.95       977\n",
      "           1       0.95      0.96      0.95      1184\n",
      "           2       0.93      0.92      0.92        95\n",
      "\n",
      "    accuracy                           0.95      2256\n",
      "   macro avg       0.94      0.94      0.94      2256\n",
      "weighted avg       0.95      0.95      0.95      2256\n",
      "\n",
      "\n",
      "\n",
      "************************* DecisionTreeClassifier() ************************\n",
      "ac: 0.9809397163120568\n",
      "score: 1.0\n",
      "[[ 971    6    0]\n",
      " [   9 1158   17]\n",
      " [   0   11   84]]\n",
      "              precision    recall  f1-score   support\n",
      "\n",
      "           0       0.99      0.99      0.99       977\n",
      "           1       0.99      0.98      0.98      1184\n",
      "           2       0.83      0.88      0.86        95\n",
      "\n",
      "    accuracy                           0.98      2256\n",
      "   macro avg       0.94      0.95      0.94      2256\n",
      "weighted avg       0.98      0.98      0.98      2256\n",
      "\n",
      "\n",
      "\n",
      "************************* KNeighborsClassifier() ************************\n",
      "ac: 0.9193262411347518\n",
      "score: 0.9447236180904522\n",
      "[[ 868  109    0]\n",
      " [  52 1130    2]\n",
      " [   4   15   76]]\n",
      "              precision    recall  f1-score   support\n",
      "\n",
      "           0       0.94      0.89      0.91       977\n",
      "           1       0.90      0.95      0.93      1184\n",
      "           2       0.97      0.80      0.88        95\n",
      "\n",
      "    accuracy                           0.92      2256\n",
      "   macro avg       0.94      0.88      0.91      2256\n",
      "weighted avg       0.92      0.92      0.92      2256\n",
      "\n",
      "\n",
      "\n",
      "************************* SVC() ************************\n",
      "ac: 0.9379432624113475\n",
      "score: 0.9478273721548921\n",
      "[[ 895   82    0]\n",
      " [  42 1138    4]\n",
      " [   2   10   83]]\n",
      "              precision    recall  f1-score   support\n",
      "\n",
      "           0       0.95      0.92      0.93       977\n",
      "           1       0.93      0.96      0.94      1184\n",
      "           2       0.95      0.87      0.91        95\n",
      "\n",
      "    accuracy                           0.94      2256\n",
      "   macro avg       0.94      0.92      0.93      2256\n",
      "weighted avg       0.94      0.94      0.94      2256\n",
      "\n",
      "\n",
      "\n",
      "************************* RandomForestClassifier() ************************\n",
      "ac: 0.9809397163120568\n",
      "score: 1.0\n",
      "[[ 965   12    0]\n",
      " [  12 1164    8]\n",
      " [   0   11   84]]\n",
      "              precision    recall  f1-score   support\n",
      "\n",
      "           0       0.99      0.99      0.99       977\n",
      "           1       0.98      0.98      0.98      1184\n",
      "           2       0.91      0.88      0.90        95\n",
      "\n",
      "    accuracy                           0.98      2256\n",
      "   macro avg       0.96      0.95      0.96      2256\n",
      "weighted avg       0.98      0.98      0.98      2256\n",
      "\n",
      "\n",
      "\n",
      "************************* AdaBoostClassifier() ************************\n",
      "ac: 0.9556737588652482\n",
      "score: 0.9510789240319243\n",
      "[[ 975    2    0]\n",
      " [   3 1181    0]\n",
      " [   0   95    0]]\n",
      "              precision    recall  f1-score   support\n",
      "\n",
      "           0       1.00      1.00      1.00       977\n",
      "           1       0.92      1.00      0.96      1184\n",
      "           2       0.00      0.00      0.00        95\n",
      "\n",
      "    accuracy                           0.96      2256\n",
      "   macro avg       0.64      0.67      0.65      2256\n",
      "weighted avg       0.92      0.96      0.94      2256\n",
      "\n",
      "\n",
      "\n",
      "************************* GradientBoostingClassifier() ************************\n",
      "ac: 0.9893617021276596\n",
      "score: 0.9979308306237068\n",
      "[[ 977    0    0]\n",
      " [   4 1170   10]\n",
      " [   0   10   85]]\n",
      "              precision    recall  f1-score   support\n",
      "\n",
      "           0       1.00      1.00      1.00       977\n",
      "           1       0.99      0.99      0.99      1184\n",
      "           2       0.89      0.89      0.89        95\n",
      "\n",
      "    accuracy                           0.99      2256\n",
      "   macro avg       0.96      0.96      0.96      2256\n",
      "weighted avg       0.99      0.99      0.99      2256\n",
      "\n",
      "\n",
      "\n"
     ]
    }
   ],
   "source": [
    "# creating loop for all algorithms\n",
    "models=[LogisticRegression(),DecisionTreeClassifier(),KNeighborsClassifier(),SVC(),RandomForestClassifier(),AdaBoostClassifier(),GradientBoostingClassifier()]\n",
    "\n",
    "#split data\n",
    "x_train,x_test,y_train,y_test=train_test_split(x,y,test_size=.25,random_state=43)\n",
    "\n",
    "#creating loop for all models\n",
    "for m in models:\n",
    "    print(\"*************************\",m,\"************************\")\n",
    "    m.fit(x_train,y_train)\n",
    "    pred=m.predict(x_test)\n",
    "    print(\"ac:\",accuracy_score(y_test,pred))\n",
    "    print(\"score:\",m.score(x_train,y_train))\n",
    "    print(confusion_matrix(y_test,pred))\n",
    "    print(classification_report(y_test,pred))\n",
    "    print(\"\\n\")"
   ]
  },
  {
   "cell_type": "markdown",
   "metadata": {},
   "source": [
    "## Cross Valication Score "
   ]
  },
  {
   "cell_type": "code",
   "execution_count": 39,
   "metadata": {},
   "outputs": [
    {
     "name": "stdout",
     "output_type": "stream",
     "text": [
      "ccccccccccccccccccccccc LogisticRegression() cccccccccccccccccccccc\n",
      "0.9466840078373083\n",
      "[0.95457064 0.95567867 0.93791574 0.93292683 0.95232816]\n",
      "\n",
      "\n",
      "ccccccccccccccccccccccc DecisionTreeClassifier() cccccccccccccccccccccc\n",
      "0.9799377191958774\n",
      "[0.97839335 0.9833795  0.9695122  0.9789357  0.98946785]\n",
      "\n",
      "\n",
      "ccccccccccccccccccccccc KNeighborsClassifier() cccccccccccccccccccccc\n",
      "0.9187521727647395\n",
      "[0.92520776 0.93019391 0.90964523 0.90354767 0.9251663 ]\n",
      "\n",
      "\n",
      "ccccccccccccccccccccccc SVC() cccccccccccccccccccccc\n",
      "0.9401449533508179\n",
      "[0.94404432 0.94847645 0.93847007 0.9251663  0.94456763]\n",
      "\n",
      "\n",
      "ccccccccccccccccccccccc RandomForestClassifier() cccccccccccccccccccccc\n",
      "0.9761693620209936\n",
      "[0.97562327 0.9767313  0.9789357  0.96618625 0.98337029]\n",
      "\n",
      "\n",
      "ccccccccccccccccccccccc AdaBoostClassifier() cccccccccccccccccccccc\n",
      "0.9030225844691083\n",
      "[0.7933518  0.94293629 0.9440133  0.89523282 0.93957871]\n",
      "\n",
      "\n",
      "ccccccccccccccccccccccc GradientBoostingClassifier() cccccccccccccccccccccc\n",
      "0.9892482694658223\n",
      "[0.99168975 0.98891967 0.99223947 0.98669623 0.98669623]\n",
      "\n",
      "\n"
     ]
    }
   ],
   "source": [
    "#loop for cross valication score to all algorithms\n",
    "for c in models:\n",
    "    print(\"ccccccccccccccccccccccc\",c,\"cccccccccccccccccccccc\")\n",
    "    cross=cross_val_score(c,x,y,cv=5)\n",
    "    print(cross.mean())\n",
    "    print(cross)\n",
    "    print(\"\\n\")"
   ]
  },
  {
   "cell_type": "markdown",
   "metadata": {},
   "source": [
    "all algorithms working well, have no underfitting and overfitting. "
   ]
  },
  {
   "cell_type": "code",
   "execution_count": 40,
   "metadata": {},
   "outputs": [
    {
     "name": "stdout",
     "output_type": "stream",
     "text": [
      "max accuracy_score corresponding to 82 is 0.9884393063583815\n",
      "[[ 911    3    0]\n",
      " [   9 1044   10]\n",
      " [   0   11   88]]\n",
      "CR:               precision    recall  f1-score   support\n",
      "\n",
      "           0       0.99      1.00      0.99       914\n",
      "           1       0.99      0.98      0.98      1063\n",
      "           2       0.90      0.89      0.89        99\n",
      "\n",
      "    accuracy                           0.98      2076\n",
      "   macro avg       0.96      0.96      0.96      2076\n",
      "weighted avg       0.98      0.98      0.98      2076\n",
      "\n"
     ]
    }
   ],
   "source": [
    "#chooseing best algorithms\n",
    "max_ac=0\n",
    "for r in range(40,100):\n",
    "    x_train,x_test,y_train,y_test=train_test_split(x,y,test_size=.23,random_state=r)\n",
    "    dtc= DecisionTreeClassifier() \n",
    "    dtc.fit(x_train,y_train)\n",
    "    predg=dtc.predict(x_test)\n",
    "    AC=accuracy_score(y_test,predg)\n",
    "    if AC>max_ac:\n",
    "        max_ac=AC\n",
    "        final_AC=r\n",
    "print(\"max accuracy_score corresponding to\",final_AC,\"is\",max_ac)\n",
    "print(confusion_matrix(y_test,predg))\n",
    "print(\"CR:\",classification_report(y_test,predg))"
   ]
  },
  {
   "cell_type": "code",
   "execution_count": 41,
   "metadata": {},
   "outputs": [
    {
     "name": "stdout",
     "output_type": "stream",
     "text": [
      "max accuracy_score corresponding to 40 is 0.9932562620423893\n",
      "[[ 912    2    0]\n",
      " [   3 1055    5]\n",
      " [   0    6   93]]\n",
      "CR:               precision    recall  f1-score   support\n",
      "\n",
      "           0       1.00      1.00      1.00       914\n",
      "           1       0.99      0.99      0.99      1063\n",
      "           2       0.95      0.94      0.94        99\n",
      "\n",
      "    accuracy                           0.99      2076\n",
      "   macro avg       0.98      0.98      0.98      2076\n",
      "weighted avg       0.99      0.99      0.99      2076\n",
      "\n"
     ]
    }
   ],
   "source": [
    "max_ac=0\n",
    "for r in range(40,100):\n",
    "    x_train,x_test,y_train,y_test=train_test_split(x,y,test_size=.23,random_state=r)\n",
    "    gbc= GradientBoostingClassifier()  \n",
    "    gbc.fit(x_train,y_train)\n",
    "    predg=gbc.predict(x_test)\n",
    "    AC=accuracy_score(y_test,predg)\n",
    "    if AC>max_ac:\n",
    "        max_ac=AC\n",
    "        final_AC=r\n",
    "print(\"max accuracy_score corresponding to\",final_AC,\"is\",max_ac)\n",
    "print(confusion_matrix(y_test,predg))\n",
    "print(\"CR:\",classification_report(y_test,predg))"
   ]
  },
  {
   "cell_type": "markdown",
   "metadata": {},
   "source": [
    "USEING GRIDSEARCHCV"
   ]
  },
  {
   "cell_type": "code",
   "execution_count": 47,
   "metadata": {},
   "outputs": [
    {
     "data": {
      "text/plain": [
       "GridSearchCV(estimator=DecisionTreeClassifier(),\n",
       "             param_grid={'criterion': ['gini', 'entropy']})"
      ]
     },
     "execution_count": 47,
     "metadata": {},
     "output_type": "execute_result"
    }
   ],
   "source": [
    "\n",
    "\n",
    "para={\"criterion\":['gini','entropy']}\n",
    "\n",
    "clf=GridSearchCV(dtc,para)\n",
    "clf.fit(x_train,y_train)"
   ]
  },
  {
   "cell_type": "code",
   "execution_count": 48,
   "metadata": {},
   "outputs": [
    {
     "data": {
      "text/plain": [
       "['mean_fit_time',\n",
       " 'mean_score_time',\n",
       " 'mean_test_score',\n",
       " 'param_criterion',\n",
       " 'params',\n",
       " 'rank_test_score',\n",
       " 'split0_test_score',\n",
       " 'split1_test_score',\n",
       " 'split2_test_score',\n",
       " 'split3_test_score',\n",
       " 'split4_test_score',\n",
       " 'std_fit_time',\n",
       " 'std_score_time',\n",
       " 'std_test_score']"
      ]
     },
     "execution_count": 48,
     "metadata": {},
     "output_type": "execute_result"
    }
   ],
   "source": [
    "sorted(clf.cv_results_.keys())"
   ]
  },
  {
   "cell_type": "code",
   "execution_count": 49,
   "metadata": {},
   "outputs": [
    {
     "name": "stdout",
     "output_type": "stream",
     "text": [
      "{'criterion': 'entropy'}\n"
     ]
    }
   ],
   "source": [
    "print(clf.best_params_)"
   ]
  },
  {
   "cell_type": "code",
   "execution_count": 50,
   "metadata": {},
   "outputs": [
    {
     "name": "stdout",
     "output_type": "stream",
     "text": [
      "max accuracy_score corresponding to 41 is 0.9913294797687862\n",
      "[[ 911    3    0]\n",
      " [   3 1050   10]\n",
      " [   0    8   91]]\n",
      "CR:               precision    recall  f1-score   support\n",
      "\n",
      "           0       1.00      1.00      1.00       914\n",
      "           1       0.99      0.99      0.99      1063\n",
      "           2       0.90      0.92      0.91        99\n",
      "\n",
      "    accuracy                           0.99      2076\n",
      "   macro avg       0.96      0.97      0.97      2076\n",
      "weighted avg       0.99      0.99      0.99      2076\n",
      "\n"
     ]
    }
   ],
   "source": [
    "max_ac=0\n",
    "for r in range(40,100):\n",
    "    x_train,x_test,y_train,y_test=train_test_split(x,y,test_size=.23,random_state=r)\n",
    "    dtc= DecisionTreeClassifier(criterion=\"entropy\") \n",
    "    dtc.fit(x_train,y_train)\n",
    "    predg=dtc.predict(x_test)\n",
    "    AC=accuracy_score(y_test,predg)\n",
    "    if AC>max_ac:\n",
    "        max_ac=AC\n",
    "        final_AC=r\n",
    "print(\"max accuracy_score corresponding to\",final_AC,\"is\",max_ac)\n",
    "print(confusion_matrix(y_test,predg))\n",
    "print(\"CR:\",classification_report(y_test,predg))"
   ]
  },
  {
   "cell_type": "code",
   "execution_count": 55,
   "metadata": {},
   "outputs": [
    {
     "data": {
      "text/plain": [
       "<matplotlib.axes._subplots.AxesSubplot at 0x18a77ee4130>"
      ]
     },
     "execution_count": 55,
     "metadata": {},
     "output_type": "execute_result"
    },
    {
     "data": {
      "image/png": "[encoded data removed]",
      "text/plain": [
       "<Figure size 432x288 with 1 Axes>"
      ]
     },
     "metadata": {
      "needs_background": "light"
     },
     "output_type": "display_data"
    }
   ],
   "source": [
    "#ploting accuracy\n",
    "sns.lineplot(y_test,predg)"
   ]
  },
  {
   "cell_type": "code",
   "execution_count": 56,
   "metadata": {},
   "outputs": [
    {
     "data": {
      "text/plain": [
       "['space_server_dataset.pkl']"
      ]
     },
     "execution_count": 56,
     "metadata": {},
     "output_type": "execute_result"
    }
   ],
   "source": [
    "#saving best model\n",
    "import joblib\n",
    "\n",
    "joblib.dump(dtc,\"space_server_dataset.pkl\")"
   ]
  },
  {
   "cell_type": "code",
   "execution_count": null,
   "metadata": {},
   "outputs": [],
   "source": []
  }
 ],
 "metadata": {
  "kernelspec": {
   "display_name": "Python 3",
   "language": "python",
   "name": "python3"
  },
  "language_info": {
   "codemirror_mode": {
    "name": "ipython",
    "version": 3
   },
   "file_extension": ".py",
   "mimetype": "text/x-python",
   "name": "python",
   "nbconvert_exporter": "python",
   "pygments_lexer": "ipython3",
   "version": "3.8.3"
  }
 },
 "nbformat": 4,
 "nbformat_minor": 4
}
