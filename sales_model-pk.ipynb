{
 "cells": [
  {
   "cell_type": "code",
   "execution_count": 1,
   "metadata": {},
   "outputs": [],
   "source": [
    "import pandas as pd\n",
    "import numpy as np\n",
    "import matplotlib.pyplot as plt\n",
    "import seaborn as sns\n",
    "from scipy.stats import zscore\n",
    "\n",
    "from sklearn.preprocessing import StandardScaler\n",
    "\n",
    "from sklearn.model_selection import train_test_split,cross_val_score\n",
    "from sklearn.svm import SVR\n",
    "from sklearn.tree import DecisionTreeRegressor\n",
    "from sklearn.neighbors import KNeighborsRegressor\n",
    "from sklearn.linear_model import LinearRegression\n",
    "from sklearn.metrics import r2_score,mean_squared_error"
   ]
  },
  {
   "cell_type": "code",
   "execution_count": 2,
   "metadata": {},
   "outputs": [
    {
     "data": {
      "text/html": [
       "<div>\n",
       "<style scoped>\n",
       "    .dataframe tbody tr th:only-of-type {\n",
       "        vertical-align: middle;\n",
       "    }\n",
       "\n",
       "    .dataframe tbody tr th {\n",
       "        vertical-align: top;\n",
       "    }\n",
       "\n",
       "    .dataframe thead th {\n",
       "        text-align: right;\n",
       "    }\n",
       "</style>\n",
       "<table border=\"1\" class=\"dataframe\">\n",
       "  <thead>\n",
       "    <tr style=\"text-align: right;\">\n",
       "      <th></th>\n",
       "      <th>Item_Identifier</th>\n",
       "      <th>Item_Weight</th>\n",
       "      <th>Item_Fat_Content</th>\n",
       "      <th>Item_Visibility</th>\n",
       "      <th>Item_Type</th>\n",
       "      <th>Item_MRP</th>\n",
       "      <th>Outlet_Identifier</th>\n",
       "      <th>Outlet_Establishment_Year</th>\n",
       "      <th>Outlet_Size</th>\n",
       "      <th>Outlet_Location_Type</th>\n",
       "      <th>Outlet_Type</th>\n",
       "      <th>Item_Outlet_Sales</th>\n",
       "    </tr>\n",
       "  </thead>\n",
       "  <tbody>\n",
       "    <tr>\n",
       "      <th>0</th>\n",
       "      <td>FDA15</td>\n",
       "      <td>9.300</td>\n",
       "      <td>Low Fat</td>\n",
       "      <td>0.016047</td>\n",
       "      <td>Dairy</td>\n",
       "      <td>249.8092</td>\n",
       "      <td>OUT049</td>\n",
       "      <td>1999</td>\n",
       "      <td>Medium</td>\n",
       "      <td>Tier 1</td>\n",
       "      <td>Supermarket Type1</td>\n",
       "      <td>3735.1380</td>\n",
       "    </tr>\n",
       "    <tr>\n",
       "      <th>1</th>\n",
       "      <td>DRC01</td>\n",
       "      <td>5.920</td>\n",
       "      <td>Regular</td>\n",
       "      <td>0.019278</td>\n",
       "      <td>Soft Drinks</td>\n",
       "      <td>48.2692</td>\n",
       "      <td>OUT018</td>\n",
       "      <td>2009</td>\n",
       "      <td>Medium</td>\n",
       "      <td>Tier 3</td>\n",
       "      <td>Supermarket Type2</td>\n",
       "      <td>443.4228</td>\n",
       "    </tr>\n",
       "    <tr>\n",
       "      <th>2</th>\n",
       "      <td>FDN15</td>\n",
       "      <td>17.500</td>\n",
       "      <td>Low Fat</td>\n",
       "      <td>0.016760</td>\n",
       "      <td>Meat</td>\n",
       "      <td>141.6180</td>\n",
       "      <td>OUT049</td>\n",
       "      <td>1999</td>\n",
       "      <td>Medium</td>\n",
       "      <td>Tier 1</td>\n",
       "      <td>Supermarket Type1</td>\n",
       "      <td>2097.2700</td>\n",
       "    </tr>\n",
       "    <tr>\n",
       "      <th>3</th>\n",
       "      <td>FDX07</td>\n",
       "      <td>19.200</td>\n",
       "      <td>Regular</td>\n",
       "      <td>0.000000</td>\n",
       "      <td>Fruits and Vegetables</td>\n",
       "      <td>182.0950</td>\n",
       "      <td>OUT010</td>\n",
       "      <td>1998</td>\n",
       "      <td>NaN</td>\n",
       "      <td>Tier 3</td>\n",
       "      <td>Grocery Store</td>\n",
       "      <td>732.3800</td>\n",
       "    </tr>\n",
       "    <tr>\n",
       "      <th>4</th>\n",
       "      <td>NCD19</td>\n",
       "      <td>8.930</td>\n",
       "      <td>Low Fat</td>\n",
       "      <td>0.000000</td>\n",
       "      <td>Household</td>\n",
       "      <td>53.8614</td>\n",
       "      <td>OUT013</td>\n",
       "      <td>1987</td>\n",
       "      <td>High</td>\n",
       "      <td>Tier 3</td>\n",
       "      <td>Supermarket Type1</td>\n",
       "      <td>994.7052</td>\n",
       "    </tr>\n",
       "    <tr>\n",
       "      <th>...</th>\n",
       "      <td>...</td>\n",
       "      <td>...</td>\n",
       "      <td>...</td>\n",
       "      <td>...</td>\n",
       "      <td>...</td>\n",
       "      <td>...</td>\n",
       "      <td>...</td>\n",
       "      <td>...</td>\n",
       "      <td>...</td>\n",
       "      <td>...</td>\n",
       "      <td>...</td>\n",
       "      <td>...</td>\n",
       "    </tr>\n",
       "    <tr>\n",
       "      <th>8518</th>\n",
       "      <td>FDF22</td>\n",
       "      <td>6.865</td>\n",
       "      <td>Low Fat</td>\n",
       "      <td>0.056783</td>\n",
       "      <td>Snack Foods</td>\n",
       "      <td>214.5218</td>\n",
       "      <td>OUT013</td>\n",
       "      <td>1987</td>\n",
       "      <td>High</td>\n",
       "      <td>Tier 3</td>\n",
       "      <td>Supermarket Type1</td>\n",
       "      <td>2778.3834</td>\n",
       "    </tr>\n",
       "    <tr>\n",
       "      <th>8519</th>\n",
       "      <td>FDS36</td>\n",
       "      <td>8.380</td>\n",
       "      <td>Regular</td>\n",
       "      <td>0.046982</td>\n",
       "      <td>Baking Goods</td>\n",
       "      <td>108.1570</td>\n",
       "      <td>OUT045</td>\n",
       "      <td>2002</td>\n",
       "      <td>NaN</td>\n",
       "      <td>Tier 2</td>\n",
       "      <td>Supermarket Type1</td>\n",
       "      <td>549.2850</td>\n",
       "    </tr>\n",
       "    <tr>\n",
       "      <th>8520</th>\n",
       "      <td>NCJ29</td>\n",
       "      <td>10.600</td>\n",
       "      <td>Low Fat</td>\n",
       "      <td>0.035186</td>\n",
       "      <td>Health and Hygiene</td>\n",
       "      <td>85.1224</td>\n",
       "      <td>OUT035</td>\n",
       "      <td>2004</td>\n",
       "      <td>Small</td>\n",
       "      <td>Tier 2</td>\n",
       "      <td>Supermarket Type1</td>\n",
       "      <td>1193.1136</td>\n",
       "    </tr>\n",
       "    <tr>\n",
       "      <th>8521</th>\n",
       "      <td>FDN46</td>\n",
       "      <td>7.210</td>\n",
       "      <td>Regular</td>\n",
       "      <td>0.145221</td>\n",
       "      <td>Snack Foods</td>\n",
       "      <td>103.1332</td>\n",
       "      <td>OUT018</td>\n",
       "      <td>2009</td>\n",
       "      <td>Medium</td>\n",
       "      <td>Tier 3</td>\n",
       "      <td>Supermarket Type2</td>\n",
       "      <td>1845.5976</td>\n",
       "    </tr>\n",
       "    <tr>\n",
       "      <th>8522</th>\n",
       "      <td>DRG01</td>\n",
       "      <td>14.800</td>\n",
       "      <td>Low Fat</td>\n",
       "      <td>0.044878</td>\n",
       "      <td>Soft Drinks</td>\n",
       "      <td>75.4670</td>\n",
       "      <td>OUT046</td>\n",
       "      <td>1997</td>\n",
       "      <td>Small</td>\n",
       "      <td>Tier 1</td>\n",
       "      <td>Supermarket Type1</td>\n",
       "      <td>765.6700</td>\n",
       "    </tr>\n",
       "  </tbody>\n",
       "</table>\n",
       "<p>8523 rows × 12 columns</p>\n",
       "</div>"
      ],
      "text/plain": [
       "     Item_Identifier  Item_Weight Item_Fat_Content  Item_Visibility  \\\n",
       "0              FDA15        9.300          Low Fat         0.016047   \n",
       "1              DRC01        5.920          Regular         0.019278   \n",
       "2              FDN15       17.500          Low Fat         0.016760   \n",
       "3              FDX07       19.200          Regular         0.000000   \n",
       "4              NCD19        8.930          Low Fat         0.000000   \n",
       "...              ...          ...              ...              ...   \n",
       "8518           FDF22        6.865          Low Fat         0.056783   \n",
       "8519           FDS36        8.380          Regular         0.046982   \n",
       "8520           NCJ29       10.600          Low Fat         0.035186   \n",
       "8521           FDN46        7.210          Regular         0.145221   \n",
       "8522           DRG01       14.800          Low Fat         0.044878   \n",
       "\n",
       "                  Item_Type  Item_MRP Outlet_Identifier  \\\n",
       "0                     Dairy  249.8092            OUT049   \n",
       "1               Soft Drinks   48.2692            OUT018   \n",
       "2                      Meat  141.6180            OUT049   \n",
       "3     Fruits and Vegetables  182.0950            OUT010   \n",
       "4                 Household   53.8614            OUT013   \n",
       "...                     ...       ...               ...   \n",
       "8518            Snack Foods  214.5218            OUT013   \n",
       "8519           Baking Goods  108.1570            OUT045   \n",
       "8520     Health and Hygiene   85.1224            OUT035   \n",
       "8521            Snack Foods  103.1332            OUT018   \n",
       "8522            Soft Drinks   75.4670            OUT046   \n",
       "\n",
       "      Outlet_Establishment_Year Outlet_Size Outlet_Location_Type  \\\n",
       "0                          1999      Medium               Tier 1   \n",
       "1                          2009      Medium               Tier 3   \n",
       "2                          1999      Medium               Tier 1   \n",
       "3                          1998         NaN               Tier 3   \n",
       "4                          1987        High               Tier 3   \n",
       "...                         ...         ...                  ...   \n",
       "8518                       1987        High               Tier 3   \n",
       "8519                       2002         NaN               Tier 2   \n",
       "8520                       2004       Small               Tier 2   \n",
       "8521                       2009      Medium               Tier 3   \n",
       "8522                       1997       Small               Tier 1   \n",
       "\n",
       "            Outlet_Type  Item_Outlet_Sales  \n",
       "0     Supermarket Type1          3735.1380  \n",
       "1     Supermarket Type2           443.4228  \n",
       "2     Supermarket Type1          2097.2700  \n",
       "3         Grocery Store           732.3800  \n",
       "4     Supermarket Type1           994.7052  \n",
       "...                 ...                ...  \n",
       "8518  Supermarket Type1          2778.3834  \n",
       "8519  Supermarket Type1           549.2850  \n",
       "8520  Supermarket Type1          1193.1136  \n",
       "8521  Supermarket Type2          1845.5976  \n",
       "8522  Supermarket Type1           765.6700  \n",
       "\n",
       "[8523 rows x 12 columns]"
      ]
     },
     "execution_count": 2,
     "metadata": {},
     "output_type": "execute_result"
    }
   ],
   "source": [
    "data=pd.read_csv(\"sales.csv\")\n",
    "data"
   ]
  },
  {
   "cell_type": "code",
   "execution_count": 3,
   "metadata": {},
   "outputs": [
    {
     "data": {
      "text/plain": [
       "Item_Identifier               object\n",
       "Item_Weight                  float64\n",
       "Item_Fat_Content              object\n",
       "Item_Visibility              float64\n",
       "Item_Type                     object\n",
       "Item_MRP                     float64\n",
       "Outlet_Identifier             object\n",
       "Outlet_Establishment_Year      int64\n",
       "Outlet_Size                   object\n",
       "Outlet_Location_Type          object\n",
       "Outlet_Type                   object\n",
       "Item_Outlet_Sales            float64\n",
       "dtype: object"
      ]
     },
     "execution_count": 3,
     "metadata": {},
     "output_type": "execute_result"
    }
   ],
   "source": [
    "data.dtypes"
   ]
  },
  {
   "cell_type": "code",
   "execution_count": 4,
   "metadata": {},
   "outputs": [
    {
     "data": {
      "text/plain": [
       "Item_Identifier                 0\n",
       "Item_Weight                  1463\n",
       "Item_Fat_Content                0\n",
       "Item_Visibility                 0\n",
       "Item_Type                       0\n",
       "Item_MRP                        0\n",
       "Outlet_Identifier               0\n",
       "Outlet_Establishment_Year       0\n",
       "Outlet_Size                  2410\n",
       "Outlet_Location_Type            0\n",
       "Outlet_Type                     0\n",
       "Item_Outlet_Sales               0\n",
       "dtype: int64"
      ]
     },
     "execution_count": 4,
     "metadata": {},
     "output_type": "execute_result"
    }
   ],
   "source": [
    "data.isnull().sum()"
   ]
  },
  {
   "cell_type": "code",
   "execution_count": 5,
   "metadata": {},
   "outputs": [
    {
     "data": {
      "text/plain": [
       "<matplotlib.axes._subplots.AxesSubplot at 0x1c795a34eb0>"
      ]
     },
     "execution_count": 5,
     "metadata": {},
     "output_type": "execute_result"
    },
    {
     "data": {
      "image/png": "[encoded data removed]",
      "text/plain": [
       "<Figure size 432x288 with 2 Axes>"
      ]
     },
     "metadata": {
      "needs_background": "light"
     },
     "output_type": "display_data"
    }
   ],
   "source": [
    "sns.heatmap(data.isnull())"
   ]
  },
  {
   "cell_type": "code",
   "execution_count": 6,
   "metadata": {},
   "outputs": [],
   "source": [
    "data[\"Item_Weight\"]=data[\"Item_Weight\"].replace(np.NaN,data[\"Item_Weight\"].mean())\n",
    "data[\"Outlet_Size\"]=data[\"Outlet_Size\"].replace(np.NaN,1)"
   ]
  },
  {
   "cell_type": "code",
   "execution_count": 7,
   "metadata": {},
   "outputs": [
    {
     "data": {
      "text/plain": [
       "Item_Identifier              0\n",
       "Item_Weight                  0\n",
       "Item_Fat_Content             0\n",
       "Item_Visibility              0\n",
       "Item_Type                    0\n",
       "Item_MRP                     0\n",
       "Outlet_Identifier            0\n",
       "Outlet_Establishment_Year    0\n",
       "Outlet_Size                  0\n",
       "Outlet_Location_Type         0\n",
       "Outlet_Type                  0\n",
       "Item_Outlet_Sales            0\n",
       "dtype: int64"
      ]
     },
     "execution_count": 7,
     "metadata": {},
     "output_type": "execute_result"
    }
   ],
   "source": [
    "data.isnull().sum()"
   ]
  },
  {
   "cell_type": "code",
   "execution_count": 8,
   "metadata": {},
   "outputs": [
    {
     "data": {
      "text/plain": [
       "Item_Identifier               object\n",
       "Item_Weight                  float64\n",
       "Item_Fat_Content              object\n",
       "Item_Visibility              float64\n",
       "Item_Type                     object\n",
       "Item_MRP                     float64\n",
       "Outlet_Identifier             object\n",
       "Outlet_Establishment_Year      int64\n",
       "Outlet_Size                   object\n",
       "Outlet_Location_Type          object\n",
       "Outlet_Type                   object\n",
       "Item_Outlet_Sales            float64\n",
       "dtype: object"
      ]
     },
     "execution_count": 8,
     "metadata": {},
     "output_type": "execute_result"
    }
   ],
   "source": [
    "data.dtypes"
   ]
  },
  {
   "cell_type": "code",
   "execution_count": 9,
   "metadata": {},
   "outputs": [],
   "source": [
    "data[\"Item_Fat_Content\"]=pd.factorize(data.Item_Fat_Content)[0]\n",
    "data[\"Item_Type\"]=pd.factorize(data.Item_Type)[0]\n",
    "data[\"Outlet_Identifier\"]=pd.factorize(data.Outlet_Identifier)[0]\n",
    "data[\"Outlet_Size\"]=pd.factorize(data.Outlet_Size)[0]\n",
    "data[\"Outlet_Location_Type\"]=pd.factorize(data.Outlet_Location_Type)[0]\n",
    "data[\"Outlet_Type\"]=pd.factorize(data.Outlet_Type)[0]"
   ]
  },
  {
   "cell_type": "code",
   "execution_count": 10,
   "metadata": {},
   "outputs": [
    {
     "data": {
      "text/html": [
       "<div>\n",
       "<style scoped>\n",
       "    .dataframe tbody tr th:only-of-type {\n",
       "        vertical-align: middle;\n",
       "    }\n",
       "\n",
       "    .dataframe tbody tr th {\n",
       "        vertical-align: top;\n",
       "    }\n",
       "\n",
       "    .dataframe thead th {\n",
       "        text-align: right;\n",
       "    }\n",
       "</style>\n",
       "<table border=\"1\" class=\"dataframe\">\n",
       "  <thead>\n",
       "    <tr style=\"text-align: right;\">\n",
       "      <th></th>\n",
       "      <th>Item_Identifier</th>\n",
       "      <th>Item_Weight</th>\n",
       "      <th>Item_Fat_Content</th>\n",
       "      <th>Item_Visibility</th>\n",
       "      <th>Item_Type</th>\n",
       "      <th>Item_MRP</th>\n",
       "      <th>Outlet_Identifier</th>\n",
       "      <th>Outlet_Establishment_Year</th>\n",
       "      <th>Outlet_Size</th>\n",
       "      <th>Outlet_Location_Type</th>\n",
       "      <th>Outlet_Type</th>\n",
       "      <th>Item_Outlet_Sales</th>\n",
       "    </tr>\n",
       "  </thead>\n",
       "  <tbody>\n",
       "    <tr>\n",
       "      <th>0</th>\n",
       "      <td>FDA15</td>\n",
       "      <td>9.300</td>\n",
       "      <td>0</td>\n",
       "      <td>0.016047</td>\n",
       "      <td>0</td>\n",
       "      <td>249.8092</td>\n",
       "      <td>0</td>\n",
       "      <td>1999</td>\n",
       "      <td>0</td>\n",
       "      <td>0</td>\n",
       "      <td>0</td>\n",
       "      <td>3735.1380</td>\n",
       "    </tr>\n",
       "    <tr>\n",
       "      <th>1</th>\n",
       "      <td>DRC01</td>\n",
       "      <td>5.920</td>\n",
       "      <td>1</td>\n",
       "      <td>0.019278</td>\n",
       "      <td>1</td>\n",
       "      <td>48.2692</td>\n",
       "      <td>1</td>\n",
       "      <td>2009</td>\n",
       "      <td>0</td>\n",
       "      <td>1</td>\n",
       "      <td>1</td>\n",
       "      <td>443.4228</td>\n",
       "    </tr>\n",
       "    <tr>\n",
       "      <th>2</th>\n",
       "      <td>FDN15</td>\n",
       "      <td>17.500</td>\n",
       "      <td>0</td>\n",
       "      <td>0.016760</td>\n",
       "      <td>2</td>\n",
       "      <td>141.6180</td>\n",
       "      <td>0</td>\n",
       "      <td>1999</td>\n",
       "      <td>0</td>\n",
       "      <td>0</td>\n",
       "      <td>0</td>\n",
       "      <td>2097.2700</td>\n",
       "    </tr>\n",
       "    <tr>\n",
       "      <th>3</th>\n",
       "      <td>FDX07</td>\n",
       "      <td>19.200</td>\n",
       "      <td>1</td>\n",
       "      <td>0.000000</td>\n",
       "      <td>3</td>\n",
       "      <td>182.0950</td>\n",
       "      <td>2</td>\n",
       "      <td>1998</td>\n",
       "      <td>1</td>\n",
       "      <td>1</td>\n",
       "      <td>2</td>\n",
       "      <td>732.3800</td>\n",
       "    </tr>\n",
       "    <tr>\n",
       "      <th>4</th>\n",
       "      <td>NCD19</td>\n",
       "      <td>8.930</td>\n",
       "      <td>0</td>\n",
       "      <td>0.000000</td>\n",
       "      <td>4</td>\n",
       "      <td>53.8614</td>\n",
       "      <td>3</td>\n",
       "      <td>1987</td>\n",
       "      <td>2</td>\n",
       "      <td>1</td>\n",
       "      <td>0</td>\n",
       "      <td>994.7052</td>\n",
       "    </tr>\n",
       "    <tr>\n",
       "      <th>...</th>\n",
       "      <td>...</td>\n",
       "      <td>...</td>\n",
       "      <td>...</td>\n",
       "      <td>...</td>\n",
       "      <td>...</td>\n",
       "      <td>...</td>\n",
       "      <td>...</td>\n",
       "      <td>...</td>\n",
       "      <td>...</td>\n",
       "      <td>...</td>\n",
       "      <td>...</td>\n",
       "      <td>...</td>\n",
       "    </tr>\n",
       "    <tr>\n",
       "      <th>8518</th>\n",
       "      <td>FDF22</td>\n",
       "      <td>6.865</td>\n",
       "      <td>0</td>\n",
       "      <td>0.056783</td>\n",
       "      <td>6</td>\n",
       "      <td>214.5218</td>\n",
       "      <td>3</td>\n",
       "      <td>1987</td>\n",
       "      <td>2</td>\n",
       "      <td>1</td>\n",
       "      <td>0</td>\n",
       "      <td>2778.3834</td>\n",
       "    </tr>\n",
       "    <tr>\n",
       "      <th>8519</th>\n",
       "      <td>FDS36</td>\n",
       "      <td>8.380</td>\n",
       "      <td>1</td>\n",
       "      <td>0.046982</td>\n",
       "      <td>5</td>\n",
       "      <td>108.1570</td>\n",
       "      <td>5</td>\n",
       "      <td>2002</td>\n",
       "      <td>1</td>\n",
       "      <td>2</td>\n",
       "      <td>0</td>\n",
       "      <td>549.2850</td>\n",
       "    </tr>\n",
       "    <tr>\n",
       "      <th>8520</th>\n",
       "      <td>NCJ29</td>\n",
       "      <td>10.600</td>\n",
       "      <td>0</td>\n",
       "      <td>0.035186</td>\n",
       "      <td>9</td>\n",
       "      <td>85.1224</td>\n",
       "      <td>8</td>\n",
       "      <td>2004</td>\n",
       "      <td>3</td>\n",
       "      <td>2</td>\n",
       "      <td>0</td>\n",
       "      <td>1193.1136</td>\n",
       "    </tr>\n",
       "    <tr>\n",
       "      <th>8521</th>\n",
       "      <td>FDN46</td>\n",
       "      <td>7.210</td>\n",
       "      <td>1</td>\n",
       "      <td>0.145221</td>\n",
       "      <td>6</td>\n",
       "      <td>103.1332</td>\n",
       "      <td>1</td>\n",
       "      <td>2009</td>\n",
       "      <td>0</td>\n",
       "      <td>1</td>\n",
       "      <td>1</td>\n",
       "      <td>1845.5976</td>\n",
       "    </tr>\n",
       "    <tr>\n",
       "      <th>8522</th>\n",
       "      <td>DRG01</td>\n",
       "      <td>14.800</td>\n",
       "      <td>0</td>\n",
       "      <td>0.044878</td>\n",
       "      <td>1</td>\n",
       "      <td>75.4670</td>\n",
       "      <td>7</td>\n",
       "      <td>1997</td>\n",
       "      <td>3</td>\n",
       "      <td>0</td>\n",
       "      <td>0</td>\n",
       "      <td>765.6700</td>\n",
       "    </tr>\n",
       "  </tbody>\n",
       "</table>\n",
       "<p>8523 rows × 12 columns</p>\n",
       "</div>"
      ],
      "text/plain": [
       "     Item_Identifier  Item_Weight  Item_Fat_Content  Item_Visibility  \\\n",
       "0              FDA15        9.300                 0         0.016047   \n",
       "1              DRC01        5.920                 1         0.019278   \n",
       "2              FDN15       17.500                 0         0.016760   \n",
       "3              FDX07       19.200                 1         0.000000   \n",
       "4              NCD19        8.930                 0         0.000000   \n",
       "...              ...          ...               ...              ...   \n",
       "8518           FDF22        6.865                 0         0.056783   \n",
       "8519           FDS36        8.380                 1         0.046982   \n",
       "8520           NCJ29       10.600                 0         0.035186   \n",
       "8521           FDN46        7.210                 1         0.145221   \n",
       "8522           DRG01       14.800                 0         0.044878   \n",
       "\n",
       "      Item_Type  Item_MRP  Outlet_Identifier  Outlet_Establishment_Year  \\\n",
       "0             0  249.8092                  0                       1999   \n",
       "1             1   48.2692                  1                       2009   \n",
       "2             2  141.6180                  0                       1999   \n",
       "3             3  182.0950                  2                       1998   \n",
       "4             4   53.8614                  3                       1987   \n",
       "...         ...       ...                ...                        ...   \n",
       "8518          6  214.5218                  3                       1987   \n",
       "8519          5  108.1570                  5                       2002   \n",
       "8520          9   85.1224                  8                       2004   \n",
       "8521          6  103.1332                  1                       2009   \n",
       "8522          1   75.4670                  7                       1997   \n",
       "\n",
       "      Outlet_Size  Outlet_Location_Type  Outlet_Type  Item_Outlet_Sales  \n",
       "0               0                     0            0          3735.1380  \n",
       "1               0                     1            1           443.4228  \n",
       "2               0                     0            0          2097.2700  \n",
       "3               1                     1            2           732.3800  \n",
       "4               2                     1            0           994.7052  \n",
       "...           ...                   ...          ...                ...  \n",
       "8518            2                     1            0          2778.3834  \n",
       "8519            1                     2            0           549.2850  \n",
       "8520            3                     2            0          1193.1136  \n",
       "8521            0                     1            1          1845.5976  \n",
       "8522            3                     0            0           765.6700  \n",
       "\n",
       "[8523 rows x 12 columns]"
      ]
     },
     "execution_count": 10,
     "metadata": {},
     "output_type": "execute_result"
    }
   ],
   "source": [
    "data"
   ]
  },
  {
   "cell_type": "code",
   "execution_count": 11,
   "metadata": {},
   "outputs": [],
   "source": [
    "data.drop([\"Item_Identifier\",\"Outlet_Identifier\"],axis=1,inplace=True)"
   ]
  },
  {
   "cell_type": "code",
   "execution_count": 12,
   "metadata": {},
   "outputs": [
    {
     "data": {
      "text/html": [
       "<div>\n",
       "<style scoped>\n",
       "    .dataframe tbody tr th:only-of-type {\n",
       "        vertical-align: middle;\n",
       "    }\n",
       "\n",
       "    .dataframe tbody tr th {\n",
       "        vertical-align: top;\n",
       "    }\n",
       "\n",
       "    .dataframe thead th {\n",
       "        text-align: right;\n",
       "    }\n",
       "</style>\n",
       "<table border=\"1\" class=\"dataframe\">\n",
       "  <thead>\n",
       "    <tr style=\"text-align: right;\">\n",
       "      <th></th>\n",
       "      <th>Item_Weight</th>\n",
       "      <th>Item_Fat_Content</th>\n",
       "      <th>Item_Visibility</th>\n",
       "      <th>Item_Type</th>\n",
       "      <th>Item_MRP</th>\n",
       "      <th>Outlet_Establishment_Year</th>\n",
       "      <th>Outlet_Size</th>\n",
       "      <th>Outlet_Location_Type</th>\n",
       "      <th>Outlet_Type</th>\n",
       "      <th>Item_Outlet_Sales</th>\n",
       "    </tr>\n",
       "  </thead>\n",
       "  <tbody>\n",
       "    <tr>\n",
       "      <th>0</th>\n",
       "      <td>9.300</td>\n",
       "      <td>0</td>\n",
       "      <td>0.016047</td>\n",
       "      <td>0</td>\n",
       "      <td>249.8092</td>\n",
       "      <td>1999</td>\n",
       "      <td>0</td>\n",
       "      <td>0</td>\n",
       "      <td>0</td>\n",
       "      <td>3735.1380</td>\n",
       "    </tr>\n",
       "    <tr>\n",
       "      <th>1</th>\n",
       "      <td>5.920</td>\n",
       "      <td>1</td>\n",
       "      <td>0.019278</td>\n",
       "      <td>1</td>\n",
       "      <td>48.2692</td>\n",
       "      <td>2009</td>\n",
       "      <td>0</td>\n",
       "      <td>1</td>\n",
       "      <td>1</td>\n",
       "      <td>443.4228</td>\n",
       "    </tr>\n",
       "    <tr>\n",
       "      <th>2</th>\n",
       "      <td>17.500</td>\n",
       "      <td>0</td>\n",
       "      <td>0.016760</td>\n",
       "      <td>2</td>\n",
       "      <td>141.6180</td>\n",
       "      <td>1999</td>\n",
       "      <td>0</td>\n",
       "      <td>0</td>\n",
       "      <td>0</td>\n",
       "      <td>2097.2700</td>\n",
       "    </tr>\n",
       "    <tr>\n",
       "      <th>3</th>\n",
       "      <td>19.200</td>\n",
       "      <td>1</td>\n",
       "      <td>0.000000</td>\n",
       "      <td>3</td>\n",
       "      <td>182.0950</td>\n",
       "      <td>1998</td>\n",
       "      <td>1</td>\n",
       "      <td>1</td>\n",
       "      <td>2</td>\n",
       "      <td>732.3800</td>\n",
       "    </tr>\n",
       "    <tr>\n",
       "      <th>4</th>\n",
       "      <td>8.930</td>\n",
       "      <td>0</td>\n",
       "      <td>0.000000</td>\n",
       "      <td>4</td>\n",
       "      <td>53.8614</td>\n",
       "      <td>1987</td>\n",
       "      <td>2</td>\n",
       "      <td>1</td>\n",
       "      <td>0</td>\n",
       "      <td>994.7052</td>\n",
       "    </tr>\n",
       "    <tr>\n",
       "      <th>...</th>\n",
       "      <td>...</td>\n",
       "      <td>...</td>\n",
       "      <td>...</td>\n",
       "      <td>...</td>\n",
       "      <td>...</td>\n",
       "      <td>...</td>\n",
       "      <td>...</td>\n",
       "      <td>...</td>\n",
       "      <td>...</td>\n",
       "      <td>...</td>\n",
       "    </tr>\n",
       "    <tr>\n",
       "      <th>8518</th>\n",
       "      <td>6.865</td>\n",
       "      <td>0</td>\n",
       "      <td>0.056783</td>\n",
       "      <td>6</td>\n",
       "      <td>214.5218</td>\n",
       "      <td>1987</td>\n",
       "      <td>2</td>\n",
       "      <td>1</td>\n",
       "      <td>0</td>\n",
       "      <td>2778.3834</td>\n",
       "    </tr>\n",
       "    <tr>\n",
       "      <th>8519</th>\n",
       "      <td>8.380</td>\n",
       "      <td>1</td>\n",
       "      <td>0.046982</td>\n",
       "      <td>5</td>\n",
       "      <td>108.1570</td>\n",
       "      <td>2002</td>\n",
       "      <td>1</td>\n",
       "      <td>2</td>\n",
       "      <td>0</td>\n",
       "      <td>549.2850</td>\n",
       "    </tr>\n",
       "    <tr>\n",
       "      <th>8520</th>\n",
       "      <td>10.600</td>\n",
       "      <td>0</td>\n",
       "      <td>0.035186</td>\n",
       "      <td>9</td>\n",
       "      <td>85.1224</td>\n",
       "      <td>2004</td>\n",
       "      <td>3</td>\n",
       "      <td>2</td>\n",
       "      <td>0</td>\n",
       "      <td>1193.1136</td>\n",
       "    </tr>\n",
       "    <tr>\n",
       "      <th>8521</th>\n",
       "      <td>7.210</td>\n",
       "      <td>1</td>\n",
       "      <td>0.145221</td>\n",
       "      <td>6</td>\n",
       "      <td>103.1332</td>\n",
       "      <td>2009</td>\n",
       "      <td>0</td>\n",
       "      <td>1</td>\n",
       "      <td>1</td>\n",
       "      <td>1845.5976</td>\n",
       "    </tr>\n",
       "    <tr>\n",
       "      <th>8522</th>\n",
       "      <td>14.800</td>\n",
       "      <td>0</td>\n",
       "      <td>0.044878</td>\n",
       "      <td>1</td>\n",
       "      <td>75.4670</td>\n",
       "      <td>1997</td>\n",
       "      <td>3</td>\n",
       "      <td>0</td>\n",
       "      <td>0</td>\n",
       "      <td>765.6700</td>\n",
       "    </tr>\n",
       "  </tbody>\n",
       "</table>\n",
       "<p>8523 rows × 10 columns</p>\n",
       "</div>"
      ],
      "text/plain": [
       "      Item_Weight  Item_Fat_Content  Item_Visibility  Item_Type  Item_MRP  \\\n",
       "0           9.300                 0         0.016047          0  249.8092   \n",
       "1           5.920                 1         0.019278          1   48.2692   \n",
       "2          17.500                 0         0.016760          2  141.6180   \n",
       "3          19.200                 1         0.000000          3  182.0950   \n",
       "4           8.930                 0         0.000000          4   53.8614   \n",
       "...           ...               ...              ...        ...       ...   \n",
       "8518        6.865                 0         0.056783          6  214.5218   \n",
       "8519        8.380                 1         0.046982          5  108.1570   \n",
       "8520       10.600                 0         0.035186          9   85.1224   \n",
       "8521        7.210                 1         0.145221          6  103.1332   \n",
       "8522       14.800                 0         0.044878          1   75.4670   \n",
       "\n",
       "      Outlet_Establishment_Year  Outlet_Size  Outlet_Location_Type  \\\n",
       "0                          1999            0                     0   \n",
       "1                          2009            0                     1   \n",
       "2                          1999            0                     0   \n",
       "3                          1998            1                     1   \n",
       "4                          1987            2                     1   \n",
       "...                         ...          ...                   ...   \n",
       "8518                       1987            2                     1   \n",
       "8519                       2002            1                     2   \n",
       "8520                       2004            3                     2   \n",
       "8521                       2009            0                     1   \n",
       "8522                       1997            3                     0   \n",
       "\n",
       "      Outlet_Type  Item_Outlet_Sales  \n",
       "0               0          3735.1380  \n",
       "1               1           443.4228  \n",
       "2               0          2097.2700  \n",
       "3               2           732.3800  \n",
       "4               0           994.7052  \n",
       "...           ...                ...  \n",
       "8518            0          2778.3834  \n",
       "8519            0           549.2850  \n",
       "8520            0          1193.1136  \n",
       "8521            1          1845.5976  \n",
       "8522            0           765.6700  \n",
       "\n",
       "[8523 rows x 10 columns]"
      ]
     },
     "execution_count": 12,
     "metadata": {},
     "output_type": "execute_result"
    }
   ],
   "source": [
    "data"
   ]
  },
  {
   "cell_type": "code",
   "execution_count": 13,
   "metadata": {},
   "outputs": [
    {
     "data": {
      "text/html": [
       "<div>\n",
       "<style scoped>\n",
       "    .dataframe tbody tr th:only-of-type {\n",
       "        vertical-align: middle;\n",
       "    }\n",
       "\n",
       "    .dataframe tbody tr th {\n",
       "        vertical-align: top;\n",
       "    }\n",
       "\n",
       "    .dataframe thead th {\n",
       "        text-align: right;\n",
       "    }\n",
       "</style>\n",
       "<table border=\"1\" class=\"dataframe\">\n",
       "  <thead>\n",
       "    <tr style=\"text-align: right;\">\n",
       "      <th></th>\n",
       "      <th>Item_Weight</th>\n",
       "      <th>Item_Fat_Content</th>\n",
       "      <th>Item_Visibility</th>\n",
       "      <th>Item_Type</th>\n",
       "      <th>Item_MRP</th>\n",
       "      <th>Outlet_Establishment_Year</th>\n",
       "      <th>Outlet_Size</th>\n",
       "      <th>Outlet_Location_Type</th>\n",
       "      <th>Outlet_Type</th>\n",
       "      <th>Item_Outlet_Sales</th>\n",
       "    </tr>\n",
       "  </thead>\n",
       "  <tbody>\n",
       "    <tr>\n",
       "      <th>count</th>\n",
       "      <td>8523.000000</td>\n",
       "      <td>8523.000000</td>\n",
       "      <td>8523.000000</td>\n",
       "      <td>8523.000000</td>\n",
       "      <td>8523.000000</td>\n",
       "      <td>8523.000000</td>\n",
       "      <td>8523.000000</td>\n",
       "      <td>8523.000000</td>\n",
       "      <td>8523.000000</td>\n",
       "      <td>8523.000000</td>\n",
       "    </tr>\n",
       "    <tr>\n",
       "      <th>mean</th>\n",
       "      <td>12.857645</td>\n",
       "      <td>0.531386</td>\n",
       "      <td>0.066132</td>\n",
       "      <td>5.651062</td>\n",
       "      <td>140.992782</td>\n",
       "      <td>1997.831867</td>\n",
       "      <td>1.342016</td>\n",
       "      <td>1.046580</td>\n",
       "      <td>0.692127</td>\n",
       "      <td>2181.288914</td>\n",
       "    </tr>\n",
       "    <tr>\n",
       "      <th>std</th>\n",
       "      <td>4.226124</td>\n",
       "      <td>0.813979</td>\n",
       "      <td>0.051598</td>\n",
       "      <td>3.669141</td>\n",
       "      <td>62.275067</td>\n",
       "      <td>8.371760</td>\n",
       "      <td>1.200408</td>\n",
       "      <td>0.777719</td>\n",
       "      <td>1.060931</td>\n",
       "      <td>1706.499616</td>\n",
       "    </tr>\n",
       "    <tr>\n",
       "      <th>min</th>\n",
       "      <td>4.555000</td>\n",
       "      <td>0.000000</td>\n",
       "      <td>0.000000</td>\n",
       "      <td>0.000000</td>\n",
       "      <td>31.290000</td>\n",
       "      <td>1985.000000</td>\n",
       "      <td>0.000000</td>\n",
       "      <td>0.000000</td>\n",
       "      <td>0.000000</td>\n",
       "      <td>33.290000</td>\n",
       "    </tr>\n",
       "    <tr>\n",
       "      <th>25%</th>\n",
       "      <td>9.310000</td>\n",
       "      <td>0.000000</td>\n",
       "      <td>0.026989</td>\n",
       "      <td>3.000000</td>\n",
       "      <td>93.826500</td>\n",
       "      <td>1987.000000</td>\n",
       "      <td>0.000000</td>\n",
       "      <td>0.000000</td>\n",
       "      <td>0.000000</td>\n",
       "      <td>834.247400</td>\n",
       "    </tr>\n",
       "    <tr>\n",
       "      <th>50%</th>\n",
       "      <td>12.857645</td>\n",
       "      <td>0.000000</td>\n",
       "      <td>0.053931</td>\n",
       "      <td>5.000000</td>\n",
       "      <td>143.012800</td>\n",
       "      <td>1999.000000</td>\n",
       "      <td>1.000000</td>\n",
       "      <td>1.000000</td>\n",
       "      <td>0.000000</td>\n",
       "      <td>1794.331000</td>\n",
       "    </tr>\n",
       "    <tr>\n",
       "      <th>75%</th>\n",
       "      <td>16.000000</td>\n",
       "      <td>1.000000</td>\n",
       "      <td>0.094585</td>\n",
       "      <td>7.000000</td>\n",
       "      <td>185.643700</td>\n",
       "      <td>2004.000000</td>\n",
       "      <td>3.000000</td>\n",
       "      <td>2.000000</td>\n",
       "      <td>1.000000</td>\n",
       "      <td>3101.296400</td>\n",
       "    </tr>\n",
       "    <tr>\n",
       "      <th>max</th>\n",
       "      <td>21.350000</td>\n",
       "      <td>4.000000</td>\n",
       "      <td>0.328391</td>\n",
       "      <td>15.000000</td>\n",
       "      <td>266.888400</td>\n",
       "      <td>2009.000000</td>\n",
       "      <td>3.000000</td>\n",
       "      <td>2.000000</td>\n",
       "      <td>3.000000</td>\n",
       "      <td>13086.964800</td>\n",
       "    </tr>\n",
       "  </tbody>\n",
       "</table>\n",
       "</div>"
      ],
      "text/plain": [
       "       Item_Weight  Item_Fat_Content  Item_Visibility    Item_Type  \\\n",
       "count  8523.000000       8523.000000      8523.000000  8523.000000   \n",
       "mean     12.857645          0.531386         0.066132     5.651062   \n",
       "std       4.226124          0.813979         0.051598     3.669141   \n",
       "min       4.555000          0.000000         0.000000     0.000000   \n",
       "25%       9.310000          0.000000         0.026989     3.000000   \n",
       "50%      12.857645          0.000000         0.053931     5.000000   \n",
       "75%      16.000000          1.000000         0.094585     7.000000   \n",
       "max      21.350000          4.000000         0.328391    15.000000   \n",
       "\n",
       "          Item_MRP  Outlet_Establishment_Year  Outlet_Size  \\\n",
       "count  8523.000000                8523.000000  8523.000000   \n",
       "mean    140.992782                1997.831867     1.342016   \n",
       "std      62.275067                   8.371760     1.200408   \n",
       "min      31.290000                1985.000000     0.000000   \n",
       "25%      93.826500                1987.000000     0.000000   \n",
       "50%     143.012800                1999.000000     1.000000   \n",
       "75%     185.643700                2004.000000     3.000000   \n",
       "max     266.888400                2009.000000     3.000000   \n",
       "\n",
       "       Outlet_Location_Type  Outlet_Type  Item_Outlet_Sales  \n",
       "count           8523.000000  8523.000000        8523.000000  \n",
       "mean               1.046580     0.692127        2181.288914  \n",
       "std                0.777719     1.060931        1706.499616  \n",
       "min                0.000000     0.000000          33.290000  \n",
       "25%                0.000000     0.000000         834.247400  \n",
       "50%                1.000000     0.000000        1794.331000  \n",
       "75%                2.000000     1.000000        3101.296400  \n",
       "max                2.000000     3.000000       13086.964800  "
      ]
     },
     "execution_count": 13,
     "metadata": {},
     "output_type": "execute_result"
    }
   ],
   "source": [
    "data.describe()"
   ]
  },
  {
   "cell_type": "code",
   "execution_count": 14,
   "metadata": {},
   "outputs": [
    {
     "data": {
      "text/plain": [
       "Item_Weight                     AxesSubplot(0.125,0.657941;0.168478x0.222059)\n",
       "Item_Fat_Content             AxesSubplot(0.327174,0.657941;0.168478x0.222059)\n",
       "Item_Visibility              AxesSubplot(0.529348,0.657941;0.168478x0.222059)\n",
       "Item_Type                    AxesSubplot(0.731522,0.657941;0.168478x0.222059)\n",
       "Item_MRP                        AxesSubplot(0.125,0.391471;0.168478x0.222059)\n",
       "Outlet_Establishment_Year    AxesSubplot(0.327174,0.391471;0.168478x0.222059)\n",
       "Outlet_Size                  AxesSubplot(0.529348,0.391471;0.168478x0.222059)\n",
       "Outlet_Location_Type         AxesSubplot(0.731522,0.391471;0.168478x0.222059)\n",
       "Outlet_Type                        AxesSubplot(0.125,0.125;0.168478x0.222059)\n",
       "Item_Outlet_Sales               AxesSubplot(0.327174,0.125;0.168478x0.222059)\n",
       "dtype: object"
      ]
     },
     "execution_count": 14,
     "metadata": {},
     "output_type": "execute_result"
    },
    {
     "data": {
      "image/png": "[encoded data removed]",
      "text/plain": [
       "<Figure size 432x288 with 12 Axes>"
      ]
     },
     "metadata": {
      "needs_background": "light"
     },
     "output_type": "display_data"
    }
   ],
   "source": [
    "data.plot(kind=\"box\",subplots=True,layout=(3,4))"
   ]
  },
  {
   "cell_type": "code",
   "execution_count": 15,
   "metadata": {},
   "outputs": [
    {
     "data": {
      "text/plain": [
       "(array([  45,   49,   65,   81,   83,  108,  121,  130,  145,  151,  174,\n",
       "         175,  199,  207,  210,  219,  238,  276,  304,  333,  339,  373,\n",
       "         389,  396,  415,  434,  439,  455,  456,  472,  481,  489,  502,\n",
       "         504,  507,  521,  524,  532,  551,  589,  610,  615,  621,  661,\n",
       "         677,  694,  727,  753,  753,  805,  809,  838,  851,  854,  891,\n",
       "         905,  935,  946,  948,  991,  997, 1003, 1009, 1010, 1021, 1034,\n",
       "        1051, 1086, 1090, 1104, 1116, 1118, 1124, 1133, 1138, 1159, 1179,\n",
       "        1183, 1209, 1254, 1272, 1278, 1286, 1291, 1305, 1311, 1321, 1324,\n",
       "        1335, 1372, 1393, 1403, 1433, 1434, 1445, 1450, 1460, 1496, 1501,\n",
       "        1506, 1512, 1542, 1549, 1551, 1560, 1575, 1576, 1589, 1615, 1617,\n",
       "        1632, 1640, 1644, 1651, 1653, 1655, 1661, 1680, 1684, 1690, 1693,\n",
       "        1723, 1753, 1769, 1780, 1802, 1805, 1827, 1827, 1828, 1841, 1841,\n",
       "        1849, 1859, 1865, 1869, 1913, 1945, 1953, 1955, 1978, 1985, 1998,\n",
       "        2024, 2028, 2043, 2048, 2056, 2062, 2088, 2109, 2111, 2112, 2122,\n",
       "        2143, 2144, 2168, 2173, 2188, 2207, 2216, 2223, 2238, 2244, 2251,\n",
       "        2251, 2279, 2293, 2308, 2321, 2324, 2326, 2331, 2347, 2403, 2438,\n",
       "        2439, 2445, 2456, 2516, 2534, 2535, 2552, 2569, 2586, 2601, 2613,\n",
       "        2613, 2660, 2675, 2678, 2697, 2709, 2728, 2742, 2755, 2761, 2776,\n",
       "        2784, 2815, 2823, 2834, 2855, 2895, 2905, 2934, 2948, 2958, 2959,\n",
       "        2971, 2973, 2991, 3011, 3017, 3059, 3073, 3083, 3087, 3098, 3110,\n",
       "        3140, 3146, 3154, 3163, 3168, 3206, 3224, 3225, 3234, 3234, 3241,\n",
       "        3242, 3243, 3258, 3272, 3286, 3289, 3308, 3335, 3347, 3356, 3361,\n",
       "        3367, 3399, 3403, 3407, 3428, 3458, 3474, 3474, 3480, 3488, 3488,\n",
       "        3491, 3497, 3509, 3513, 3530, 3540, 3545, 3551, 3573, 3582, 3602,\n",
       "        3622, 3626, 3665, 3667, 3693, 3699, 3709, 3720, 3750, 3757, 3767,\n",
       "        3810, 3817, 3823, 3830, 3835, 3871, 3873, 3884, 3893, 3926, 3947,\n",
       "        3977, 3979, 3993, 4006, 4008, 4019, 4070, 4083, 4093, 4101, 4109,\n",
       "        4125, 4128, 4163, 4206, 4219, 4226, 4238, 4244, 4245, 4258, 4268,\n",
       "        4279, 4289, 4290, 4325, 4346, 4349, 4372, 4382, 4393, 4398, 4408,\n",
       "        4415, 4425, 4447, 4463, 4479, 4502, 4508, 4523, 4526, 4530, 4553,\n",
       "        4555, 4630, 4656, 4674, 4676, 4680, 4681, 4758, 4772, 4782, 4789,\n",
       "        4789, 4794, 4796, 4835, 4864, 4865, 4869, 4888, 4933, 4935, 4941,\n",
       "        4961, 4971, 4978, 4991, 5031, 5047, 5054, 5058, 5065, 5087, 5111,\n",
       "        5133, 5138, 5146, 5150, 5155, 5177, 5185, 5197, 5198, 5202, 5212,\n",
       "        5217, 5223, 5224, 5229, 5248, 5264, 5287, 5315, 5355, 5374, 5401,\n",
       "        5417, 5460, 5467, 5491, 5500, 5505, 5506, 5536, 5539, 5550, 5552,\n",
       "        5577, 5590, 5591, 5593, 5604, 5611, 5619, 5620, 5628, 5633, 5637,\n",
       "        5649, 5668, 5709, 5732, 5734, 5752, 5768, 5784, 5787, 5795, 5799,\n",
       "        5812, 5833, 5837, 5847, 5864, 5868, 5880, 5890, 5891, 5946, 5977,\n",
       "        6000, 6008, 6011, 6012, 6023, 6024, 6025, 6037, 6045, 6091, 6118,\n",
       "        6132, 6134, 6142, 6147, 6172, 6176, 6179, 6225, 6238, 6252, 6268,\n",
       "        6334, 6341, 6344, 6357, 6370, 6399, 6409, 6442, 6453, 6462, 6464,\n",
       "        6467, 6468, 6486, 6488, 6510, 6527, 6536, 6537, 6538, 6540, 6541,\n",
       "        6572, 6576, 6606, 6620, 6622, 6636, 6674, 6701, 6704, 6729, 6759,\n",
       "        6766, 6786, 6792, 6803, 6820, 6840, 6843, 6875, 6886, 6887, 6890,\n",
       "        6892, 6895, 6903, 6993, 7001, 7005, 7008, 7016, 7051, 7076, 7088,\n",
       "        7107, 7112, 7121, 7131, 7139, 7146, 7147, 7175, 7188, 7191, 7200,\n",
       "        7203, 7204, 7212, 7215, 7226, 7236, 7250, 7256, 7265, 7270, 7277,\n",
       "        7278, 7296, 7302, 7307, 7308, 7310, 7318, 7340, 7343, 7352, 7353,\n",
       "        7388, 7404, 7416, 7496, 7499, 7524, 7535, 7538, 7543, 7551, 7558,\n",
       "        7560, 7562, 7568, 7593, 7603, 7604, 7609, 7640, 7654, 7659, 7690,\n",
       "        7693, 7703, 7712, 7722, 7729, 7744, 7745, 7751, 7752, 7769, 7778,\n",
       "        7812, 7816, 7826, 7833, 7840, 7866, 7895, 7910, 7930, 7936, 7944,\n",
       "        7947, 7949, 8004, 8038, 8039, 8084, 8085, 8103, 8128, 8135, 8143,\n",
       "        8157, 8162, 8194, 8201, 8214, 8215, 8233, 8241, 8245, 8259, 8273,\n",
       "        8273, 8340, 8345, 8351, 8367, 8379, 8387, 8391, 8432, 8443, 8447,\n",
       "        8467, 8517], dtype=int64),\n",
       " array([1, 2, 1, 1, 2, 2, 1, 9, 9, 1, 2, 1, 1, 1, 1, 1, 1, 9, 9, 9, 1, 9,\n",
       "        1, 1, 1, 2, 1, 1, 9, 9, 1, 1, 2, 1, 1, 2, 1, 2, 1, 1, 1, 1, 1, 9,\n",
       "        1, 9, 1, 1, 9, 1, 9, 1, 1, 2, 1, 1, 9, 1, 1, 9, 9, 1, 9, 1, 1, 1,\n",
       "        1, 1, 1, 1, 1, 1, 1, 1, 9, 2, 1, 1, 1, 9, 2, 1, 1, 2, 1, 2, 1, 2,\n",
       "        1, 1, 1, 1, 1, 2, 1, 9, 1, 2, 2, 9, 1, 1, 1, 1, 2, 2, 1, 1, 1, 1,\n",
       "        1, 1, 2, 2, 1, 1, 1, 1, 1, 1, 1, 1, 1, 1, 1, 1, 2, 1, 2, 1, 1, 2,\n",
       "        1, 9, 1, 1, 1, 1, 1, 1, 1, 1, 9, 1, 1, 1, 1, 1, 1, 2, 9, 1, 1, 2,\n",
       "        1, 1, 1, 1, 1, 1, 9, 1, 9, 1, 1, 2, 1, 9, 1, 1, 2, 1, 1, 1, 1, 1,\n",
       "        2, 2, 1, 9, 1, 9, 1, 1, 2, 1, 1, 2, 1, 1, 1, 1, 1, 2, 1, 1, 1, 9,\n",
       "        1, 1, 1, 1, 2, 2, 1, 1, 1, 1, 1, 1, 1, 1, 1, 2, 1, 1, 9, 9, 9, 1,\n",
       "        1, 1, 9, 1, 1, 2, 1, 1, 1, 9, 1, 1, 1, 1, 1, 9, 1, 1, 1, 1, 1, 1,\n",
       "        1, 2, 1, 9, 1, 2, 1, 2, 1, 1, 2, 1, 2, 1, 1, 1, 2, 1, 1, 1, 1, 1,\n",
       "        1, 1, 1, 9, 1, 1, 9, 9, 2, 9, 2, 1, 1, 1, 1, 1, 1, 1, 2, 1, 1, 1,\n",
       "        1, 1, 2, 2, 1, 1, 1, 1, 1, 1, 1, 1, 1, 1, 1, 2, 1, 1, 1, 1, 1, 1,\n",
       "        1, 9, 1, 1, 9, 9, 1, 2, 1, 1, 2, 1, 1, 1, 1, 1, 1, 1, 1, 1, 2, 1,\n",
       "        1, 1, 2, 2, 9, 1, 9, 1, 9, 1, 1, 2, 1, 1, 1, 1, 1, 1, 9, 1, 1, 2,\n",
       "        9, 1, 1, 9, 2, 1, 1, 1, 9, 1, 1, 1, 1, 1, 2, 1, 9, 9, 1, 1, 1, 1,\n",
       "        1, 9, 1, 1, 1, 1, 2, 9, 1, 2, 1, 1, 1, 1, 1, 9, 1, 1, 1, 1, 9, 1,\n",
       "        1, 1, 1, 1, 1, 1, 9, 1, 1, 1, 1, 1, 1, 1, 2, 2, 9, 1, 1, 1, 2, 9,\n",
       "        9, 1, 2, 1, 1, 1, 2, 1, 2, 2, 9, 9, 2, 1, 2, 1, 1, 1, 1, 1, 1, 1,\n",
       "        1, 9, 1, 1, 1, 1, 2, 1, 1, 1, 1, 9, 1, 1, 1, 1, 1, 9, 1, 1, 1, 1,\n",
       "        1, 1, 1, 1, 1, 1, 2, 9, 1, 1, 9, 1, 2, 9, 1, 2, 1, 2, 1, 1, 1, 1,\n",
       "        1, 2, 1, 1, 1, 1, 1, 1, 9, 1, 1, 1, 1, 2, 9, 1, 2, 1, 9, 1, 9, 2,\n",
       "        2, 1, 2, 1, 1, 1, 1, 1, 9, 9, 1, 1, 1, 1, 2, 1, 9, 2, 9, 1, 1, 1,\n",
       "        2, 1, 9, 1, 1, 1, 1, 1, 9, 1, 1, 2, 1, 1, 1, 2, 1, 1, 1, 1, 1, 2,\n",
       "        9, 9, 1, 1, 2, 1, 9, 1, 1, 1, 9, 1, 1, 1, 1, 1, 2, 1, 1, 9, 1, 1,\n",
       "        1, 9, 9, 1, 1, 2, 1, 1, 9, 1, 1, 1, 2, 1, 1, 9, 1, 1, 1, 1, 1, 1,\n",
       "        1, 1, 2, 9, 1, 2, 1, 1, 9, 1, 1, 2, 1, 2, 1, 1, 1, 1, 1, 2, 1, 9,\n",
       "        1, 1], dtype=int64))"
      ]
     },
     "execution_count": 15,
     "metadata": {},
     "output_type": "execute_result"
    }
   ],
   "source": [
    "z=np.abs(zscore(data))\n",
    "np.where(z>3)"
   ]
  },
  {
   "cell_type": "code",
   "execution_count": 16,
   "metadata": {},
   "outputs": [],
   "source": [
    "df=data[(z<3).all(axis=1)]"
   ]
  },
  {
   "cell_type": "code",
   "execution_count": 17,
   "metadata": {},
   "outputs": [
    {
     "data": {
      "text/plain": [
       "Item_Weight                  0.084876\n",
       "Item_Fat_Content             0.782173\n",
       "Item_Visibility              0.794152\n",
       "Item_Type                    0.463137\n",
       "Item_MRP                     0.139012\n",
       "Outlet_Establishment_Year   -0.421156\n",
       "Outlet_Size                  0.289578\n",
       "Outlet_Location_Type        -0.093446\n",
       "Outlet_Type                  1.261282\n",
       "Item_Outlet_Sales            0.880897\n",
       "dtype: float64"
      ]
     },
     "execution_count": 17,
     "metadata": {},
     "output_type": "execute_result"
    }
   ],
   "source": [
    "df.skew()"
   ]
  },
  {
   "cell_type": "code",
   "execution_count": 18,
   "metadata": {},
   "outputs": [
    {
     "name": "stderr",
     "output_type": "stream",
     "text": [
      "<ipython-input-18-47a809ada534>:1: SettingWithCopyWarning: \n",
      "A value is trying to be set on a copy of a slice from a DataFrame.\n",
      "Try using .loc[row_indexer,col_indexer] = value instead\n",
      "\n",
      "See the caveats in the documentation: https://pandas.pydata.org/pandas-docs/stable/user_guide/indexing.html#returning-a-view-versus-a-copy\n",
      "  df[\"Outlet_Type\"]=np.log1p(df.Outlet_Type)\n"
     ]
    }
   ],
   "source": [
    "df[\"Outlet_Type\"]=np.log1p(df.Outlet_Type)"
   ]
  },
  {
   "cell_type": "code",
   "execution_count": 19,
   "metadata": {},
   "outputs": [
    {
     "data": {
      "text/html": [
       "<div>\n",
       "<style scoped>\n",
       "    .dataframe tbody tr th:only-of-type {\n",
       "        vertical-align: middle;\n",
       "    }\n",
       "\n",
       "    .dataframe tbody tr th {\n",
       "        vertical-align: top;\n",
       "    }\n",
       "\n",
       "    .dataframe thead th {\n",
       "        text-align: right;\n",
       "    }\n",
       "</style>\n",
       "<table border=\"1\" class=\"dataframe\">\n",
       "  <thead>\n",
       "    <tr style=\"text-align: right;\">\n",
       "      <th></th>\n",
       "      <th>Item_Weight</th>\n",
       "      <th>Item_Fat_Content</th>\n",
       "      <th>Item_Visibility</th>\n",
       "      <th>Item_Type</th>\n",
       "      <th>Item_MRP</th>\n",
       "      <th>Outlet_Establishment_Year</th>\n",
       "      <th>Outlet_Size</th>\n",
       "      <th>Outlet_Location_Type</th>\n",
       "      <th>Outlet_Type</th>\n",
       "      <th>Item_Outlet_Sales</th>\n",
       "    </tr>\n",
       "  </thead>\n",
       "  <tbody>\n",
       "    <tr>\n",
       "      <th>0</th>\n",
       "      <td>9.300</td>\n",
       "      <td>0</td>\n",
       "      <td>0.016047</td>\n",
       "      <td>0</td>\n",
       "      <td>249.8092</td>\n",
       "      <td>1999</td>\n",
       "      <td>0</td>\n",
       "      <td>0</td>\n",
       "      <td>0.000000</td>\n",
       "      <td>3735.1380</td>\n",
       "    </tr>\n",
       "    <tr>\n",
       "      <th>1</th>\n",
       "      <td>5.920</td>\n",
       "      <td>1</td>\n",
       "      <td>0.019278</td>\n",
       "      <td>1</td>\n",
       "      <td>48.2692</td>\n",
       "      <td>2009</td>\n",
       "      <td>0</td>\n",
       "      <td>1</td>\n",
       "      <td>0.693147</td>\n",
       "      <td>443.4228</td>\n",
       "    </tr>\n",
       "    <tr>\n",
       "      <th>2</th>\n",
       "      <td>17.500</td>\n",
       "      <td>0</td>\n",
       "      <td>0.016760</td>\n",
       "      <td>2</td>\n",
       "      <td>141.6180</td>\n",
       "      <td>1999</td>\n",
       "      <td>0</td>\n",
       "      <td>0</td>\n",
       "      <td>0.000000</td>\n",
       "      <td>2097.2700</td>\n",
       "    </tr>\n",
       "    <tr>\n",
       "      <th>3</th>\n",
       "      <td>19.200</td>\n",
       "      <td>1</td>\n",
       "      <td>0.000000</td>\n",
       "      <td>3</td>\n",
       "      <td>182.0950</td>\n",
       "      <td>1998</td>\n",
       "      <td>1</td>\n",
       "      <td>1</td>\n",
       "      <td>1.098612</td>\n",
       "      <td>732.3800</td>\n",
       "    </tr>\n",
       "    <tr>\n",
       "      <th>4</th>\n",
       "      <td>8.930</td>\n",
       "      <td>0</td>\n",
       "      <td>0.000000</td>\n",
       "      <td>4</td>\n",
       "      <td>53.8614</td>\n",
       "      <td>1987</td>\n",
       "      <td>2</td>\n",
       "      <td>1</td>\n",
       "      <td>0.000000</td>\n",
       "      <td>994.7052</td>\n",
       "    </tr>\n",
       "    <tr>\n",
       "      <th>...</th>\n",
       "      <td>...</td>\n",
       "      <td>...</td>\n",
       "      <td>...</td>\n",
       "      <td>...</td>\n",
       "      <td>...</td>\n",
       "      <td>...</td>\n",
       "      <td>...</td>\n",
       "      <td>...</td>\n",
       "      <td>...</td>\n",
       "      <td>...</td>\n",
       "    </tr>\n",
       "    <tr>\n",
       "      <th>8518</th>\n",
       "      <td>6.865</td>\n",
       "      <td>0</td>\n",
       "      <td>0.056783</td>\n",
       "      <td>6</td>\n",
       "      <td>214.5218</td>\n",
       "      <td>1987</td>\n",
       "      <td>2</td>\n",
       "      <td>1</td>\n",
       "      <td>0.000000</td>\n",
       "      <td>2778.3834</td>\n",
       "    </tr>\n",
       "    <tr>\n",
       "      <th>8519</th>\n",
       "      <td>8.380</td>\n",
       "      <td>1</td>\n",
       "      <td>0.046982</td>\n",
       "      <td>5</td>\n",
       "      <td>108.1570</td>\n",
       "      <td>2002</td>\n",
       "      <td>1</td>\n",
       "      <td>2</td>\n",
       "      <td>0.000000</td>\n",
       "      <td>549.2850</td>\n",
       "    </tr>\n",
       "    <tr>\n",
       "      <th>8520</th>\n",
       "      <td>10.600</td>\n",
       "      <td>0</td>\n",
       "      <td>0.035186</td>\n",
       "      <td>9</td>\n",
       "      <td>85.1224</td>\n",
       "      <td>2004</td>\n",
       "      <td>3</td>\n",
       "      <td>2</td>\n",
       "      <td>0.000000</td>\n",
       "      <td>1193.1136</td>\n",
       "    </tr>\n",
       "    <tr>\n",
       "      <th>8521</th>\n",
       "      <td>7.210</td>\n",
       "      <td>1</td>\n",
       "      <td>0.145221</td>\n",
       "      <td>6</td>\n",
       "      <td>103.1332</td>\n",
       "      <td>2009</td>\n",
       "      <td>0</td>\n",
       "      <td>1</td>\n",
       "      <td>0.693147</td>\n",
       "      <td>1845.5976</td>\n",
       "    </tr>\n",
       "    <tr>\n",
       "      <th>8522</th>\n",
       "      <td>14.800</td>\n",
       "      <td>0</td>\n",
       "      <td>0.044878</td>\n",
       "      <td>1</td>\n",
       "      <td>75.4670</td>\n",
       "      <td>1997</td>\n",
       "      <td>3</td>\n",
       "      <td>0</td>\n",
       "      <td>0.000000</td>\n",
       "      <td>765.6700</td>\n",
       "    </tr>\n",
       "  </tbody>\n",
       "</table>\n",
       "<p>7915 rows × 10 columns</p>\n",
       "</div>"
      ],
      "text/plain": [
       "      Item_Weight  Item_Fat_Content  Item_Visibility  Item_Type  Item_MRP  \\\n",
       "0           9.300                 0         0.016047          0  249.8092   \n",
       "1           5.920                 1         0.019278          1   48.2692   \n",
       "2          17.500                 0         0.016760          2  141.6180   \n",
       "3          19.200                 1         0.000000          3  182.0950   \n",
       "4           8.930                 0         0.000000          4   53.8614   \n",
       "...           ...               ...              ...        ...       ...   \n",
       "8518        6.865                 0         0.056783          6  214.5218   \n",
       "8519        8.380                 1         0.046982          5  108.1570   \n",
       "8520       10.600                 0         0.035186          9   85.1224   \n",
       "8521        7.210                 1         0.145221          6  103.1332   \n",
       "8522       14.800                 0         0.044878          1   75.4670   \n",
       "\n",
       "      Outlet_Establishment_Year  Outlet_Size  Outlet_Location_Type  \\\n",
       "0                          1999            0                     0   \n",
       "1                          2009            0                     1   \n",
       "2                          1999            0                     0   \n",
       "3                          1998            1                     1   \n",
       "4                          1987            2                     1   \n",
       "...                         ...          ...                   ...   \n",
       "8518                       1987            2                     1   \n",
       "8519                       2002            1                     2   \n",
       "8520                       2004            3                     2   \n",
       "8521                       2009            0                     1   \n",
       "8522                       1997            3                     0   \n",
       "\n",
       "      Outlet_Type  Item_Outlet_Sales  \n",
       "0        0.000000          3735.1380  \n",
       "1        0.693147           443.4228  \n",
       "2        0.000000          2097.2700  \n",
       "3        1.098612           732.3800  \n",
       "4        0.000000           994.7052  \n",
       "...           ...                ...  \n",
       "8518     0.000000          2778.3834  \n",
       "8519     0.000000           549.2850  \n",
       "8520     0.000000          1193.1136  \n",
       "8521     0.693147          1845.5976  \n",
       "8522     0.000000           765.6700  \n",
       "\n",
       "[7915 rows x 10 columns]"
      ]
     },
     "execution_count": 19,
     "metadata": {},
     "output_type": "execute_result"
    }
   ],
   "source": [
    "df"
   ]
  },
  {
   "cell_type": "code",
   "execution_count": 33,
   "metadata": {},
   "outputs": [
    {
     "data": {
      "text/plain": [
       "<matplotlib.axes._subplots.AxesSubplot at 0x1c7983679d0>"
      ]
     },
     "execution_count": 33,
     "metadata": {},
     "output_type": "execute_result"
    },
    {
     "data": {
      "image/png": "[encoded data removed]",
      "text/plain": [
       "<Figure size 432x288 with 1 Axes>"
      ]
     },
     "metadata": {
      "needs_background": "light"
     },
     "output_type": "display_data"
    }
   ],
   "source": [
    "sns.lineplot(x=df[\"Item_MRP\"],y=df[\"Item_Outlet_Sales\"],data=df)"
   ]
  },
  {
   "cell_type": "code",
   "execution_count": 21,
   "metadata": {},
   "outputs": [
    {
     "data": {
      "text/plain": [
       "<matplotlib.axes._subplots.AxesSubplot at 0x1c796b47e80>"
      ]
     },
     "execution_count": 21,
     "metadata": {},
     "output_type": "execute_result"
    },
    {
     "data": {
      "image/png": "[encoded data removed]",
      "text/plain": [
       "<Figure size 432x288 with 1 Axes>"
      ]
     },
     "metadata": {
      "needs_background": "light"
     },
     "output_type": "display_data"
    }
   ],
   "source": [
    "sns.barplot(x=df[\"Outlet_Location_Type\"],y=df[\"Item_Outlet_Sales\"],data=df)"
   ]
  },
  {
   "cell_type": "code",
   "execution_count": 22,
   "metadata": {},
   "outputs": [
    {
     "data": {
      "text/plain": [
       "<matplotlib.axes._subplots.AxesSubplot at 0x1c7968aa550>"
      ]
     },
     "execution_count": 22,
     "metadata": {},
     "output_type": "execute_result"
    },
    {
     "data": {
      "image/png": "[encoded data removed]",
      "text/plain": [
       "<Figure size 432x288 with 1 Axes>"
      ]
     },
     "metadata": {
      "needs_background": "light"
     },
     "output_type": "display_data"
    }
   ],
   "source": [
    "sns.barplot(x=df[\"Item_Type\"],y=df[\"Item_Outlet_Sales\"],data=df)"
   ]
  },
  {
   "cell_type": "code",
   "execution_count": 23,
   "metadata": {},
   "outputs": [
    {
     "data": {
      "text/plain": [
       "<matplotlib.axes._subplots.AxesSubplot at 0x1c796b4e9a0>"
      ]
     },
     "execution_count": 23,
     "metadata": {},
     "output_type": "execute_result"
    },
    {
     "data": {
      "image/png": "[encoded data removed]",
      "text/plain": [
       "<Figure size 432x288 with 1 Axes>"
      ]
     },
     "metadata": {
      "needs_background": "light"
     },
     "output_type": "display_data"
    }
   ],
   "source": [
    "sns.barplot(x=df[\"Outlet_Size\"],y=df[\"Item_Outlet_Sales\"],data=df)"
   ]
  },
  {
   "cell_type": "code",
   "execution_count": 24,
   "metadata": {},
   "outputs": [
    {
     "data": {
      "text/plain": [
       "<matplotlib.axes._subplots.AxesSubplot at 0x1c796c79f10>"
      ]
     },
     "execution_count": 24,
     "metadata": {},
     "output_type": "execute_result"
    },
    {
     "data": {
      "image/png": "[encoded data removed]",
      "text/plain": [
       "<Figure size 432x288 with 1 Axes>"
      ]
     },
     "metadata": {
      "needs_background": "light"
     },
     "output_type": "display_data"
    }
   ],
   "source": [
    "sns.barplot(x=df[\"Outlet_Type\"],y=df[\"Item_Outlet_Sales\"],data=df)"
   ]
  },
  {
   "cell_type": "code",
   "execution_count": 25,
   "metadata": {},
   "outputs": [
    {
     "data": {
      "text/plain": [
       "<matplotlib.axes._subplots.AxesSubplot at 0x1c796ce1760>"
      ]
     },
     "execution_count": 25,
     "metadata": {},
     "output_type": "execute_result"
    },
    {
     "data": {
      "image/png": "[encoded data removed]",
      "text/plain": [
       "<Figure size 432x288 with 1 Axes>"
      ]
     },
     "metadata": {
      "needs_background": "light"
     },
     "output_type": "display_data"
    }
   ],
   "source": [
    "sns.barplot(x=df[\"Outlet_Establishment_Year\"],y=df[\"Item_Outlet_Sales\"],data=df)"
   ]
  },
  {
   "cell_type": "code",
   "execution_count": 26,
   "metadata": {},
   "outputs": [
    {
     "data": {
      "text/plain": [
       "<matplotlib.axes._subplots.AxesSubplot at 0x1c796d24a30>"
      ]
     },
     "execution_count": 26,
     "metadata": {},
     "output_type": "execute_result"
    },
    {
     "data": {
      "image/png": "[encoded data removed]",
      "text/plain": [
       "<Figure size 1080x504 with 2 Axes>"
      ]
     },
     "metadata": {
      "needs_background": "light"
     },
     "output_type": "display_data"
    }
   ],
   "source": [
    "plt.figure(figsize=(15,7))\n",
    "sns.heatmap(df.corr(),annot=True)"
   ]
  },
  {
   "cell_type": "code",
   "execution_count": 39,
   "metadata": {},
   "outputs": [
    {
     "name": "stderr",
     "output_type": "stream",
     "text": [
      "C:\\Users\\HP\\anaconda3\\lib\\site-packages\\pandas\\core\\frame.py:3990: SettingWithCopyWarning: \n",
      "A value is trying to be set on a copy of a slice from a DataFrame\n",
      "\n",
      "See the caveats in the documentation: https://pandas.pydata.org/pandas-docs/stable/user_guide/indexing.html#returning-a-view-versus-a-copy\n",
      "  return super().drop(\n"
     ]
    }
   ],
   "source": [
    "df.drop([\"Item_Type\",\"Item_Weight\"],axis=1,inplace=True)"
   ]
  },
  {
   "cell_type": "code",
   "execution_count": 40,
   "metadata": {},
   "outputs": [],
   "source": [
    "X=df.iloc[:,0:-1]\n",
    "y=df.iloc[:,-1]"
   ]
  },
  {
   "cell_type": "code",
   "execution_count": 41,
   "metadata": {},
   "outputs": [
    {
     "data": {
      "text/plain": [
       "array([[-0.7463455 , -1.01362058,  1.77037909, ..., -1.12064518,\n",
       "        -1.3487613 , -0.6724679 ],\n",
       "       [ 1.20005471, -0.9453949 , -1.4851387 , ..., -1.12064518,\n",
       "        -0.06842481,  0.65185107],\n",
       "       [-0.7463455 , -0.99856928,  0.022744  , ..., -1.12064518,\n",
       "        -1.3487613 , -0.6724679 ],\n",
       "       ...,\n",
       "       [-0.7463455 , -0.60947215, -0.88984125, ...,  1.38238556,\n",
       "         1.21191168, -0.6724679 ],\n",
       "       [ 1.20005471,  1.71407088, -0.59890903, ..., -1.12064518,\n",
       "        -0.06842481,  0.65185107],\n",
       "       [-0.7463455 , -0.40481065, -1.04580694, ...,  1.38238556,\n",
       "        -1.3487613 , -0.6724679 ]])"
      ]
     },
     "execution_count": 41,
     "metadata": {},
     "output_type": "execute_result"
    }
   ],
   "source": [
    "sc=StandardScaler()\n",
    "x=sc.fit_transform(X)\n",
    "x"
   ]
  },
  {
   "cell_type": "code",
   "execution_count": 42,
   "metadata": {},
   "outputs": [
    {
     "data": {
      "text/html": [
       "<div>\n",
       "<style scoped>\n",
       "    .dataframe tbody tr th:only-of-type {\n",
       "        vertical-align: middle;\n",
       "    }\n",
       "\n",
       "    .dataframe tbody tr th {\n",
       "        vertical-align: top;\n",
       "    }\n",
       "\n",
       "    .dataframe thead th {\n",
       "        text-align: right;\n",
       "    }\n",
       "</style>\n",
       "<table border=\"1\" class=\"dataframe\">\n",
       "  <thead>\n",
       "    <tr style=\"text-align: right;\">\n",
       "      <th></th>\n",
       "      <th>Item_Fat_Content</th>\n",
       "      <th>Item_Visibility</th>\n",
       "      <th>Item_MRP</th>\n",
       "      <th>Outlet_Establishment_Year</th>\n",
       "      <th>Outlet_Size</th>\n",
       "      <th>Outlet_Location_Type</th>\n",
       "      <th>Outlet_Type</th>\n",
       "    </tr>\n",
       "  </thead>\n",
       "  <tbody>\n",
       "    <tr>\n",
       "      <th>0</th>\n",
       "      <td>-0.746345</td>\n",
       "      <td>-1.013621</td>\n",
       "      <td>1.770379</td>\n",
       "      <td>0.123835</td>\n",
       "      <td>-1.120645</td>\n",
       "      <td>-1.348761</td>\n",
       "      <td>-0.672468</td>\n",
       "    </tr>\n",
       "    <tr>\n",
       "      <th>1</th>\n",
       "      <td>1.200055</td>\n",
       "      <td>-0.945395</td>\n",
       "      <td>-1.485139</td>\n",
       "      <td>1.325892</td>\n",
       "      <td>-1.120645</td>\n",
       "      <td>-0.068425</td>\n",
       "      <td>0.651851</td>\n",
       "    </tr>\n",
       "    <tr>\n",
       "      <th>2</th>\n",
       "      <td>-0.746345</td>\n",
       "      <td>-0.998569</td>\n",
       "      <td>0.022744</td>\n",
       "      <td>0.123835</td>\n",
       "      <td>-1.120645</td>\n",
       "      <td>-1.348761</td>\n",
       "      <td>-0.672468</td>\n",
       "    </tr>\n",
       "    <tr>\n",
       "      <th>3</th>\n",
       "      <td>1.200055</td>\n",
       "      <td>-1.352484</td>\n",
       "      <td>0.676577</td>\n",
       "      <td>0.003630</td>\n",
       "      <td>-0.286302</td>\n",
       "      <td>-0.068425</td>\n",
       "      <td>1.426528</td>\n",
       "    </tr>\n",
       "    <tr>\n",
       "      <th>4</th>\n",
       "      <td>-0.746345</td>\n",
       "      <td>-1.352484</td>\n",
       "      <td>-1.394807</td>\n",
       "      <td>-1.318632</td>\n",
       "      <td>0.548042</td>\n",
       "      <td>-0.068425</td>\n",
       "      <td>-0.672468</td>\n",
       "    </tr>\n",
       "    <tr>\n",
       "      <th>...</th>\n",
       "      <td>...</td>\n",
       "      <td>...</td>\n",
       "      <td>...</td>\n",
       "      <td>...</td>\n",
       "      <td>...</td>\n",
       "      <td>...</td>\n",
       "      <td>...</td>\n",
       "    </tr>\n",
       "    <tr>\n",
       "      <th>7910</th>\n",
       "      <td>-0.746345</td>\n",
       "      <td>-0.153416</td>\n",
       "      <td>1.200374</td>\n",
       "      <td>-1.318632</td>\n",
       "      <td>0.548042</td>\n",
       "      <td>-0.068425</td>\n",
       "      <td>-0.672468</td>\n",
       "    </tr>\n",
       "    <tr>\n",
       "      <th>7911</th>\n",
       "      <td>1.200055</td>\n",
       "      <td>-0.360378</td>\n",
       "      <td>-0.517759</td>\n",
       "      <td>0.484452</td>\n",
       "      <td>-0.286302</td>\n",
       "      <td>1.211912</td>\n",
       "      <td>-0.672468</td>\n",
       "    </tr>\n",
       "    <tr>\n",
       "      <th>7912</th>\n",
       "      <td>-0.746345</td>\n",
       "      <td>-0.609472</td>\n",
       "      <td>-0.889841</td>\n",
       "      <td>0.724864</td>\n",
       "      <td>1.382386</td>\n",
       "      <td>1.211912</td>\n",
       "      <td>-0.672468</td>\n",
       "    </tr>\n",
       "    <tr>\n",
       "      <th>7913</th>\n",
       "      <td>1.200055</td>\n",
       "      <td>1.714071</td>\n",
       "      <td>-0.598909</td>\n",
       "      <td>1.325892</td>\n",
       "      <td>-1.120645</td>\n",
       "      <td>-0.068425</td>\n",
       "      <td>0.651851</td>\n",
       "    </tr>\n",
       "    <tr>\n",
       "      <th>7914</th>\n",
       "      <td>-0.746345</td>\n",
       "      <td>-0.404811</td>\n",
       "      <td>-1.045807</td>\n",
       "      <td>-0.116576</td>\n",
       "      <td>1.382386</td>\n",
       "      <td>-1.348761</td>\n",
       "      <td>-0.672468</td>\n",
       "    </tr>\n",
       "  </tbody>\n",
       "</table>\n",
       "<p>7915 rows × 7 columns</p>\n",
       "</div>"
      ],
      "text/plain": [
       "      Item_Fat_Content  Item_Visibility  Item_MRP  Outlet_Establishment_Year  \\\n",
       "0            -0.746345        -1.013621  1.770379                   0.123835   \n",
       "1             1.200055        -0.945395 -1.485139                   1.325892   \n",
       "2            -0.746345        -0.998569  0.022744                   0.123835   \n",
       "3             1.200055        -1.352484  0.676577                   0.003630   \n",
       "4            -0.746345        -1.352484 -1.394807                  -1.318632   \n",
       "...                ...              ...       ...                        ...   \n",
       "7910         -0.746345        -0.153416  1.200374                  -1.318632   \n",
       "7911          1.200055        -0.360378 -0.517759                   0.484452   \n",
       "7912         -0.746345        -0.609472 -0.889841                   0.724864   \n",
       "7913          1.200055         1.714071 -0.598909                   1.325892   \n",
       "7914         -0.746345        -0.404811 -1.045807                  -0.116576   \n",
       "\n",
       "      Outlet_Size  Outlet_Location_Type  Outlet_Type  \n",
       "0       -1.120645             -1.348761    -0.672468  \n",
       "1       -1.120645             -0.068425     0.651851  \n",
       "2       -1.120645             -1.348761    -0.672468  \n",
       "3       -0.286302             -0.068425     1.426528  \n",
       "4        0.548042             -0.068425    -0.672468  \n",
       "...           ...                   ...          ...  \n",
       "7910     0.548042             -0.068425    -0.672468  \n",
       "7911    -0.286302              1.211912    -0.672468  \n",
       "7912     1.382386              1.211912    -0.672468  \n",
       "7913    -1.120645             -0.068425     0.651851  \n",
       "7914     1.382386             -1.348761    -0.672468  \n",
       "\n",
       "[7915 rows x 7 columns]"
      ]
     },
     "execution_count": 42,
     "metadata": {},
     "output_type": "execute_result"
    }
   ],
   "source": [
    "x=pd.DataFrame(x,columns=X.columns)\n",
    "x"
   ]
  },
  {
   "cell_type": "code",
   "execution_count": 43,
   "metadata": {},
   "outputs": [
    {
     "name": "stdout",
     "output_type": "stream",
     "text": [
      "max r2 score corresponding to 103 is 0.4339044618454653\n",
      "MSE: 1225.2020757391147\n"
     ]
    }
   ],
   "source": [
    "max_r=0\n",
    "for r in range(40,200):\n",
    "    x_train,x_test,y_train,y_test=train_test_split(x,y,test_size=.23,random_state=r)\n",
    "    lg=LinearRegression()\n",
    "    lg.fit(x_train,y_train)\n",
    "    pred=lg.predict(x_test)\n",
    "    r2=r2_score(y_test,pred)\n",
    "    if r2>max_r:\n",
    "        max_r=r2\n",
    "        final_r=r\n",
    "print(\"max r2 score corresponding to\",final_r,\"is\",max_r) \n",
    "print(\"MSE:\",np.sqrt(mean_squared_error(y_test,pred)))"
   ]
  },
  {
   "cell_type": "code",
   "execution_count": 44,
   "metadata": {},
   "outputs": [
    {
     "name": "stdout",
     "output_type": "stream",
     "text": [
      "max r2 score corresponding to 110 is 0.5613216780166966\n",
      "MSE: 1094.0681044914008\n"
     ]
    }
   ],
   "source": [
    "max_r=0\n",
    "for r in range(40,200):\n",
    "    x_train,x_test,y_train,y_test=train_test_split(x,y,test_size=.23,random_state=r)\n",
    "    kn=KNeighborsRegressor()\n",
    "    kn.fit(x_train,y_train)\n",
    "    pred=kn.predict(x_test)\n",
    "    r2=r2_score(y_test,pred)\n",
    "    if r2>max_r:\n",
    "        max_r=r2\n",
    "        final_r=r\n",
    "print(\"max r2 score corresponding to\",final_r,\"is\",max_r) \n",
    "print(\"MSE:\",np.sqrt(mean_squared_error(y_test,pred)))"
   ]
  },
  {
   "cell_type": "code",
   "execution_count": 47,
   "metadata": {},
   "outputs": [
    {
     "name": "stdout",
     "output_type": "stream",
     "text": [
      "max r2 score corresponding to 103 is 0.43387842313003544\n",
      "MSE: 1225.1704016207398\n"
     ]
    }
   ],
   "source": [
    "from sklearn.linear_model import ElasticNet\n",
    "\n",
    "max_r=0\n",
    "for r in range(40,200):\n",
    "    x_train,x_test,y_train,y_test=train_test_split(x,y,test_size=.23,random_state=r)\n",
    "    el=ElasticNet(alpha=0.001)\n",
    "    el.fit(x_train,y_train)\n",
    "    pred=el.predict(x_test)\n",
    "    r2=r2_score(y_test,pred)\n",
    "    if r2>max_r:\n",
    "        max_r=r2\n",
    "        final_r=r\n",
    "print(\"max r2 score corresponding to\",final_r,\"is\",max_r) \n",
    "print(\"MSE:\",np.sqrt(mean_squared_error(y_test,pred)))"
   ]
  },
  {
   "cell_type": "code",
   "execution_count": 48,
   "metadata": {},
   "outputs": [
    {
     "name": "stdout",
     "output_type": "stream",
     "text": [
      "max r2 score corresponding to 135 is 0.5585939427131736\n",
      "MSE: 1095.303251721898\n"
     ]
    }
   ],
   "source": [
    "from sklearn.ensemble import AdaBoostRegressor\n",
    "\n",
    "max_r=0\n",
    "for r in range(40,200):\n",
    "    x_train,x_test,y_train,y_test=train_test_split(x,y,test_size=.23,random_state=r)\n",
    "    ad=AdaBoostRegressor()\n",
    "    ad.fit(x_train,y_train)\n",
    "    pred=ad.predict(x_test)\n",
    "    r2=r2_score(y_test,pred)\n",
    "    if r2>max_r:\n",
    "        max_r=r2\n",
    "        final_r=r\n",
    "print(\"max r2 score corresponding to\",final_r,\"is\",max_r) \n",
    "print(\"MSE:\",np.sqrt(mean_squared_error(y_test,pred)))"
   ]
  },
  {
   "cell_type": "code",
   "execution_count": 49,
   "metadata": {},
   "outputs": [
    {
     "name": "stdout",
     "output_type": "stream",
     "text": [
      "----------------------- LinearRegression()\n",
      "mean: 0.39776776423490207\n",
      "[0.4111422  0.39806281 0.37209429 0.43039714 0.39744398 0.37746615]\n",
      "\n",
      "\n",
      "----------------------- KNeighborsRegressor()\n",
      "mean: 0.5143943233843106\n",
      "[0.52158839 0.50007403 0.49235432 0.54288666 0.52408386 0.50537868]\n",
      "\n",
      "\n",
      "----------------------- ElasticNet(alpha=0.001)\n",
      "mean: 0.39776907990933\n",
      "[0.41112535 0.39805883 0.37215108 0.43039303 0.39742166 0.37746453]\n",
      "\n",
      "\n",
      "----------------------- AdaBoostRegressor()\n",
      "mean: 0.507376475281766\n",
      "[0.46021341 0.4998947  0.49768951 0.54716624 0.53757054 0.50172444]\n",
      "\n",
      "\n"
     ]
    }
   ],
   "source": [
    "model=[lg,kn,el,ad]\n",
    "for m in model:\n",
    "    print(\"-----------------------\",m)\n",
    "    cross=cross_val_score(m,x,y,cv=6)\n",
    "    print(\"mean:\",cross.mean())\n",
    "    print(cross)\n",
    "    print(\"\\n\")"
   ]
  },
  {
   "cell_type": "code",
   "execution_count": 51,
   "metadata": {},
   "outputs": [
    {
     "data": {
      "text/plain": [
       "['sales.pkl']"
      ]
     },
     "execution_count": 51,
     "metadata": {},
     "output_type": "execute_result"
    }
   ],
   "source": [
    "import joblib\n",
    "\n",
    "joblib.dump(kn,\"sales.pkl\")"
   ]
  },
  {
   "cell_type": "code",
   "execution_count": null,
   "metadata": {},
   "outputs": [],
   "source": []
  }
 ],
 "metadata": {
  "kernelspec": {
   "display_name": "Python 3",
   "language": "python",
   "name": "python3"
  },
  "language_info": {
   "codemirror_mode": {
    "name": "ipython",
    "version": 3
   },
   "file_extension": ".py",
   "mimetype": "text/x-python",
   "name": "python",
   "nbconvert_exporter": "python",
   "pygments_lexer": "ipython3",
   "version": "3.8.3"
  }
 },
 "nbformat": 4,
 "nbformat_minor": 4
}
