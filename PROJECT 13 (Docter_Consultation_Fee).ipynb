{
 "cells": [
  {
   "cell_type": "markdown",
   "metadata": {},
   "source": [
    "# Predict A Doctor's Consultation Fee "
   ]
  },
  {
   "cell_type": "markdown",
   "metadata": {},
   "source": [
    "\n",
    "\n",
    "\n",
    "\n",
    "We have all been in situation where we go to a doctor in emergency and find that the consultation fees are too high. As a data scientist we all should do better. What if you have data that records important details about a doctor and you get to build a model to predict the doctor’s consulting fee.? This is the hackathon that lets you do that.\n",
    "\n",
    "\n",
    "\n",
    "Size of training set: 5961 records\n",
    "\n",
    "Size of test set: 1987 records\n",
    "\n",
    "FEATURES:\n",
    "\n",
    "Qualification: Qualification and degrees held by the doctor\n",
    "\n",
    "Experience: Experience of the doctor in number of years\n",
    "\n",
    "Rating: Rating given by patients\n",
    "\n",
    "Profile: Type of the doctor\n",
    "\n",
    "Miscellaeous_Info: Extra information about the doctor\n",
    "\n",
    "Fees: Fees charged by the doctor\n",
    "\n",
    "Place: Area and the city where the doctor is located."
   ]
  },
  {
   "cell_type": "code",
   "execution_count": 36,
   "metadata": {},
   "outputs": [],
   "source": [
    "#import basic libraries\n",
    "import pandas as pd\n",
    "import numpy as np\n",
    "import seaborn as sns\n",
    "import matplotlib.pyplot as plt\n",
    "from scipy.stats import zscore\n",
    "\n",
    "from sklearn.model_selection import train_test_split,cross_val_score,GridSearchCV\n",
    "\n",
    "import warnings\n",
    "warnings.filterwarnings(\"ignore\")"
   ]
  },
  {
   "cell_type": "code",
   "execution_count": 2,
   "metadata": {},
   "outputs": [
    {
     "data": {
      "text/html": [
       "<div>\n",
       "<style scoped>\n",
       "    .dataframe tbody tr th:only-of-type {\n",
       "        vertical-align: middle;\n",
       "    }\n",
       "\n",
       "    .dataframe tbody tr th {\n",
       "        vertical-align: top;\n",
       "    }\n",
       "\n",
       "    .dataframe thead th {\n",
       "        text-align: right;\n",
       "    }\n",
       "</style>\n",
       "<table border=\"1\" class=\"dataframe\">\n",
       "  <thead>\n",
       "    <tr style=\"text-align: right;\">\n",
       "      <th></th>\n",
       "      <th>Qualification</th>\n",
       "      <th>Experience</th>\n",
       "      <th>Rating</th>\n",
       "      <th>Place</th>\n",
       "      <th>Profile</th>\n",
       "      <th>Miscellaneous_Info</th>\n",
       "      <th>Fees</th>\n",
       "    </tr>\n",
       "  </thead>\n",
       "  <tbody>\n",
       "    <tr>\n",
       "      <th>0</th>\n",
       "      <td>BHMS, MD - Homeopathy</td>\n",
       "      <td>24 years experience</td>\n",
       "      <td>100%</td>\n",
       "      <td>Kakkanad, Ernakulam</td>\n",
       "      <td>Homeopath</td>\n",
       "      <td>100% 16 Feedback Kakkanad, Ernakulam</td>\n",
       "      <td>100</td>\n",
       "    </tr>\n",
       "    <tr>\n",
       "      <th>1</th>\n",
       "      <td>BAMS, MD - Ayurveda Medicine</td>\n",
       "      <td>12 years experience</td>\n",
       "      <td>98%</td>\n",
       "      <td>Whitefield, Bangalore</td>\n",
       "      <td>Ayurveda</td>\n",
       "      <td>98% 76 Feedback Whitefield, Bangalore</td>\n",
       "      <td>350</td>\n",
       "    </tr>\n",
       "    <tr>\n",
       "      <th>2</th>\n",
       "      <td>MBBS, MS - Otorhinolaryngology</td>\n",
       "      <td>9 years experience</td>\n",
       "      <td>NaN</td>\n",
       "      <td>Mathikere - BEL, Bangalore</td>\n",
       "      <td>ENT Specialist</td>\n",
       "      <td>NaN</td>\n",
       "      <td>300</td>\n",
       "    </tr>\n",
       "    <tr>\n",
       "      <th>3</th>\n",
       "      <td>BSc - Zoology, BAMS</td>\n",
       "      <td>12 years experience</td>\n",
       "      <td>NaN</td>\n",
       "      <td>Bannerghatta Road, Bangalore</td>\n",
       "      <td>Ayurveda</td>\n",
       "      <td>Bannerghatta Road, Bangalore ₹250 Available on...</td>\n",
       "      <td>250</td>\n",
       "    </tr>\n",
       "    <tr>\n",
       "      <th>4</th>\n",
       "      <td>BAMS</td>\n",
       "      <td>20 years experience</td>\n",
       "      <td>100%</td>\n",
       "      <td>Keelkattalai, Chennai</td>\n",
       "      <td>Ayurveda</td>\n",
       "      <td>100% 4 Feedback Keelkattalai, Chennai</td>\n",
       "      <td>250</td>\n",
       "    </tr>\n",
       "    <tr>\n",
       "      <th>...</th>\n",
       "      <td>...</td>\n",
       "      <td>...</td>\n",
       "      <td>...</td>\n",
       "      <td>...</td>\n",
       "      <td>...</td>\n",
       "      <td>...</td>\n",
       "      <td>...</td>\n",
       "    </tr>\n",
       "    <tr>\n",
       "      <th>5956</th>\n",
       "      <td>MBBS, MS - ENT</td>\n",
       "      <td>19 years experience</td>\n",
       "      <td>98%</td>\n",
       "      <td>Basavanagudi, Bangalore</td>\n",
       "      <td>ENT Specialist</td>\n",
       "      <td>98% 45 Feedback Basavanagudi, Bangalore</td>\n",
       "      <td>300</td>\n",
       "    </tr>\n",
       "    <tr>\n",
       "      <th>5957</th>\n",
       "      <td>MBBS</td>\n",
       "      <td>33 years experience</td>\n",
       "      <td>NaN</td>\n",
       "      <td>Nungambakkam, Chennai</td>\n",
       "      <td>General Medicine</td>\n",
       "      <td>NaN</td>\n",
       "      <td>100</td>\n",
       "    </tr>\n",
       "    <tr>\n",
       "      <th>5958</th>\n",
       "      <td>MBBS</td>\n",
       "      <td>41 years experience</td>\n",
       "      <td>97%</td>\n",
       "      <td>Greater Kailash Part 2, Delhi</td>\n",
       "      <td>General Medicine</td>\n",
       "      <td>97% 11 Feedback Greater Kailash Part 2, Delhi</td>\n",
       "      <td>600</td>\n",
       "    </tr>\n",
       "    <tr>\n",
       "      <th>5959</th>\n",
       "      <td>MBBS, MD - General Medicine</td>\n",
       "      <td>15 years experience</td>\n",
       "      <td>90%</td>\n",
       "      <td>Vileparle West, Mumbai</td>\n",
       "      <td>General Medicine</td>\n",
       "      <td>General Medical Consultation Viral Fever Treat...</td>\n",
       "      <td>100</td>\n",
       "    </tr>\n",
       "    <tr>\n",
       "      <th>5960</th>\n",
       "      <td>BDS, MDS - Orthodontics</td>\n",
       "      <td>17 years experience</td>\n",
       "      <td>100%</td>\n",
       "      <td>Pitampura, Delhi</td>\n",
       "      <td>Dentist</td>\n",
       "      <td>Acrylic Partial Denture Crowns and Bridges Fix...</td>\n",
       "      <td>200</td>\n",
       "    </tr>\n",
       "  </tbody>\n",
       "</table>\n",
       "<p>5961 rows × 7 columns</p>\n",
       "</div>"
      ],
      "text/plain": [
       "                       Qualification           Experience Rating  \\\n",
       "0              BHMS, MD - Homeopathy  24 years experience   100%   \n",
       "1       BAMS, MD - Ayurveda Medicine  12 years experience    98%   \n",
       "2     MBBS, MS - Otorhinolaryngology   9 years experience    NaN   \n",
       "3                BSc - Zoology, BAMS  12 years experience    NaN   \n",
       "4                               BAMS  20 years experience   100%   \n",
       "...                              ...                  ...    ...   \n",
       "5956                  MBBS, MS - ENT  19 years experience    98%   \n",
       "5957                            MBBS  33 years experience    NaN   \n",
       "5958                            MBBS  41 years experience    97%   \n",
       "5959     MBBS, MD - General Medicine  15 years experience    90%   \n",
       "5960         BDS, MDS - Orthodontics  17 years experience   100%   \n",
       "\n",
       "                              Place           Profile  \\\n",
       "0               Kakkanad, Ernakulam         Homeopath   \n",
       "1             Whitefield, Bangalore          Ayurveda   \n",
       "2        Mathikere - BEL, Bangalore    ENT Specialist   \n",
       "3      Bannerghatta Road, Bangalore          Ayurveda   \n",
       "4             Keelkattalai, Chennai          Ayurveda   \n",
       "...                             ...               ...   \n",
       "5956        Basavanagudi, Bangalore    ENT Specialist   \n",
       "5957          Nungambakkam, Chennai  General Medicine   \n",
       "5958  Greater Kailash Part 2, Delhi  General Medicine   \n",
       "5959         Vileparle West, Mumbai  General Medicine   \n",
       "5960               Pitampura, Delhi           Dentist   \n",
       "\n",
       "                                     Miscellaneous_Info  Fees  \n",
       "0                  100% 16 Feedback Kakkanad, Ernakulam   100  \n",
       "1                 98% 76 Feedback Whitefield, Bangalore   350  \n",
       "2                                                   NaN   300  \n",
       "3     Bannerghatta Road, Bangalore ₹250 Available on...   250  \n",
       "4                 100% 4 Feedback Keelkattalai, Chennai   250  \n",
       "...                                                 ...   ...  \n",
       "5956            98% 45 Feedback Basavanagudi, Bangalore   300  \n",
       "5957                                                NaN   100  \n",
       "5958      97% 11 Feedback Greater Kailash Part 2, Delhi   600  \n",
       "5959  General Medical Consultation Viral Fever Treat...   100  \n",
       "5960  Acrylic Partial Denture Crowns and Bridges Fix...   200  \n",
       "\n",
       "[5961 rows x 7 columns]"
      ]
     },
     "execution_count": 2,
     "metadata": {},
     "output_type": "execute_result"
    }
   ],
   "source": [
    "#loading tain dataset \n",
    "train=pd.read_excel(\"Final_Train.xlsx\")\n",
    "train\n"
   ]
  },
  {
   "cell_type": "code",
   "execution_count": 3,
   "metadata": {},
   "outputs": [
    {
     "data": {
      "text/html": [
       "<div>\n",
       "<style scoped>\n",
       "    .dataframe tbody tr th:only-of-type {\n",
       "        vertical-align: middle;\n",
       "    }\n",
       "\n",
       "    .dataframe tbody tr th {\n",
       "        vertical-align: top;\n",
       "    }\n",
       "\n",
       "    .dataframe thead th {\n",
       "        text-align: right;\n",
       "    }\n",
       "</style>\n",
       "<table border=\"1\" class=\"dataframe\">\n",
       "  <thead>\n",
       "    <tr style=\"text-align: right;\">\n",
       "      <th></th>\n",
       "      <th>Qualification</th>\n",
       "      <th>Experience</th>\n",
       "      <th>Rating</th>\n",
       "      <th>Place</th>\n",
       "      <th>Profile</th>\n",
       "      <th>Miscellaneous_Info</th>\n",
       "    </tr>\n",
       "  </thead>\n",
       "  <tbody>\n",
       "    <tr>\n",
       "      <th>0</th>\n",
       "      <td>MBBS</td>\n",
       "      <td>35 years experience</td>\n",
       "      <td>NaN</td>\n",
       "      <td>Ghatkopar East, Mumbai</td>\n",
       "      <td>General Medicine</td>\n",
       "      <td>NaN</td>\n",
       "    </tr>\n",
       "    <tr>\n",
       "      <th>1</th>\n",
       "      <td>MBBS, Diploma in Otorhinolaryngology (DLO)</td>\n",
       "      <td>31 years experience</td>\n",
       "      <td>NaN</td>\n",
       "      <td>West Marredpally, Hyderabad</td>\n",
       "      <td>ENT Specialist</td>\n",
       "      <td>NaN</td>\n",
       "    </tr>\n",
       "    <tr>\n",
       "      <th>2</th>\n",
       "      <td>MBBS, DDVL</td>\n",
       "      <td>40 years experience</td>\n",
       "      <td>70%</td>\n",
       "      <td>KK Nagar, Chennai</td>\n",
       "      <td>Dermatologists</td>\n",
       "      <td>70% 4 Feedback KK Nagar, Chennai</td>\n",
       "    </tr>\n",
       "    <tr>\n",
       "      <th>3</th>\n",
       "      <td>BAMS</td>\n",
       "      <td>0 years experience</td>\n",
       "      <td>NaN</td>\n",
       "      <td>New Ashok Nagar, Delhi</td>\n",
       "      <td>Ayurveda</td>\n",
       "      <td>NaN</td>\n",
       "    </tr>\n",
       "    <tr>\n",
       "      <th>4</th>\n",
       "      <td>BDS, MDS - Conservative Dentistry &amp; Endodontics</td>\n",
       "      <td>16 years experience</td>\n",
       "      <td>100%</td>\n",
       "      <td>Kanakpura Road, Bangalore</td>\n",
       "      <td>Dentist</td>\n",
       "      <td>General Dentistry Conservative Dentistry Cosme...</td>\n",
       "    </tr>\n",
       "    <tr>\n",
       "      <th>...</th>\n",
       "      <td>...</td>\n",
       "      <td>...</td>\n",
       "      <td>...</td>\n",
       "      <td>...</td>\n",
       "      <td>...</td>\n",
       "      <td>...</td>\n",
       "    </tr>\n",
       "    <tr>\n",
       "      <th>1982</th>\n",
       "      <td>BAMS, Doctor of Medicine</td>\n",
       "      <td>10 years experience</td>\n",
       "      <td>NaN</td>\n",
       "      <td>Basavanagudi, Bangalore</td>\n",
       "      <td>Ayurveda</td>\n",
       "      <td>NaN</td>\n",
       "    </tr>\n",
       "    <tr>\n",
       "      <th>1983</th>\n",
       "      <td>MD - Dermatology , Venereology &amp; Leprosy, MBBS</td>\n",
       "      <td>4 years experience</td>\n",
       "      <td>NaN</td>\n",
       "      <td>Choolai, Chennai</td>\n",
       "      <td>Dermatologists</td>\n",
       "      <td>NaN</td>\n",
       "    </tr>\n",
       "    <tr>\n",
       "      <th>1984</th>\n",
       "      <td>MBBS, MD / MS - Obstetrics &amp; Gynaecology</td>\n",
       "      <td>9 years experience</td>\n",
       "      <td>NaN</td>\n",
       "      <td>Porur, Chennai</td>\n",
       "      <td>General Medicine</td>\n",
       "      <td>NaN</td>\n",
       "    </tr>\n",
       "    <tr>\n",
       "      <th>1985</th>\n",
       "      <td>BDS</td>\n",
       "      <td>12 years experience</td>\n",
       "      <td>98%</td>\n",
       "      <td>Arekere, Bangalore</td>\n",
       "      <td>Dentist</td>\n",
       "      <td>RCT - Root Canal Treatment Root Canal Treatmen...</td>\n",
       "    </tr>\n",
       "    <tr>\n",
       "      <th>1986</th>\n",
       "      <td>MBBS, MD - Dermatology , Venereology &amp; Leprosy</td>\n",
       "      <td>8 years experience</td>\n",
       "      <td>NaN</td>\n",
       "      <td>Pallikaranai, Chennai</td>\n",
       "      <td>Dermatologists</td>\n",
       "      <td>1 Feedback Pallikaranai, Chennai ?500</td>\n",
       "    </tr>\n",
       "  </tbody>\n",
       "</table>\n",
       "<p>1987 rows × 6 columns</p>\n",
       "</div>"
      ],
      "text/plain": [
       "                                        Qualification           Experience  \\\n",
       "0                                                MBBS  35 years experience   \n",
       "1          MBBS, Diploma in Otorhinolaryngology (DLO)  31 years experience   \n",
       "2                                          MBBS, DDVL  40 years experience   \n",
       "3                                                BAMS   0 years experience   \n",
       "4     BDS, MDS - Conservative Dentistry & Endodontics  16 years experience   \n",
       "...                                               ...                  ...   \n",
       "1982                         BAMS, Doctor of Medicine  10 years experience   \n",
       "1983   MD - Dermatology , Venereology & Leprosy, MBBS   4 years experience   \n",
       "1984         MBBS, MD / MS - Obstetrics & Gynaecology   9 years experience   \n",
       "1985                                              BDS  12 years experience   \n",
       "1986   MBBS, MD - Dermatology , Venereology & Leprosy   8 years experience   \n",
       "\n",
       "     Rating                        Place           Profile  \\\n",
       "0       NaN       Ghatkopar East, Mumbai  General Medicine   \n",
       "1       NaN  West Marredpally, Hyderabad    ENT Specialist   \n",
       "2       70%            KK Nagar, Chennai    Dermatologists   \n",
       "3       NaN       New Ashok Nagar, Delhi          Ayurveda   \n",
       "4      100%    Kanakpura Road, Bangalore           Dentist   \n",
       "...     ...                          ...               ...   \n",
       "1982    NaN      Basavanagudi, Bangalore          Ayurveda   \n",
       "1983    NaN             Choolai, Chennai    Dermatologists   \n",
       "1984    NaN               Porur, Chennai  General Medicine   \n",
       "1985    98%           Arekere, Bangalore           Dentist   \n",
       "1986    NaN        Pallikaranai, Chennai    Dermatologists   \n",
       "\n",
       "                                     Miscellaneous_Info  \n",
       "0                                                   NaN  \n",
       "1                                                   NaN  \n",
       "2                      70% 4 Feedback KK Nagar, Chennai  \n",
       "3                                                   NaN  \n",
       "4     General Dentistry Conservative Dentistry Cosme...  \n",
       "...                                                 ...  \n",
       "1982                                                NaN  \n",
       "1983                                                NaN  \n",
       "1984                                                NaN  \n",
       "1985  RCT - Root Canal Treatment Root Canal Treatmen...  \n",
       "1986              1 Feedback Pallikaranai, Chennai ?500  \n",
       "\n",
       "[1987 rows x 6 columns]"
      ]
     },
     "execution_count": 3,
     "metadata": {},
     "output_type": "execute_result"
    }
   ],
   "source": [
    "#loading test dataset\n",
    "test=pd.read_csv(\"docter_fee_Final_Test.csv\")\n",
    "test"
   ]
  },
  {
   "cell_type": "code",
   "execution_count": 4,
   "metadata": {},
   "outputs": [
    {
     "data": {
      "text/plain": [
       "Qualification         object\n",
       "Experience            object\n",
       "Rating                object\n",
       "Place                 object\n",
       "Profile               object\n",
       "Miscellaneous_Info    object\n",
       "Fees                   int64\n",
       "dtype: object"
      ]
     },
     "execution_count": 4,
     "metadata": {},
     "output_type": "execute_result"
    }
   ],
   "source": [
    "#checking type of data\n",
    "train.dtypes"
   ]
  },
  {
   "cell_type": "code",
   "execution_count": 5,
   "metadata": {},
   "outputs": [
    {
     "data": {
      "text/plain": [
       "Qualification            0\n",
       "Experience               0\n",
       "Rating                3302\n",
       "Place                   25\n",
       "Profile                  0\n",
       "Miscellaneous_Info    2620\n",
       "Fees                     0\n",
       "dtype: int64"
      ]
     },
     "execution_count": 5,
     "metadata": {},
     "output_type": "execute_result"
    }
   ],
   "source": [
    "#checking null values\n",
    "train.isnull().sum()"
   ]
  },
  {
   "cell_type": "code",
   "execution_count": 6,
   "metadata": {},
   "outputs": [
    {
     "data": {
      "text/plain": [
       "<matplotlib.axes._subplots.AxesSubplot at 0x232fd727a30>"
      ]
     },
     "execution_count": 6,
     "metadata": {},
     "output_type": "execute_result"
    },
    {
     "data": {
      "image/png": "[encoded data removed]",
      "text/plain": [
       "<Figure size 432x288 with 2 Axes>"
      ]
     },
     "metadata": {
      "needs_background": "light"
     },
     "output_type": "display_data"
    }
   ],
   "source": [
    "#ploting null values\n",
    "sns.heatmap(train.isnull())"
   ]
  },
  {
   "cell_type": "code",
   "execution_count": 7,
   "metadata": {},
   "outputs": [
    {
     "data": {
      "text/plain": [
       "0    100%\n",
       "dtype: object"
      ]
     },
     "execution_count": 7,
     "metadata": {},
     "output_type": "execute_result"
    }
   ],
   "source": [
    "#checking mode\n",
    "mode=train[\"Rating\"].mode()\n",
    "mode"
   ]
  },
  {
   "cell_type": "code",
   "execution_count": 8,
   "metadata": {},
   "outputs": [],
   "source": [
    "#inputing values\n",
    "train[\"Rating\"]=train[\"Rating\"].replace(np.NaN,'100%')\n",
    "\n"
   ]
  },
  {
   "cell_type": "code",
   "execution_count": 9,
   "metadata": {},
   "outputs": [
    {
     "data": {
      "text/plain": [
       "Qualification            0\n",
       "Experience               0\n",
       "Rating                   0\n",
       "Place                   25\n",
       "Profile                  0\n",
       "Miscellaneous_Info    2620\n",
       "Fees                     0\n",
       "dtype: int64"
      ]
     },
     "execution_count": 9,
     "metadata": {},
     "output_type": "execute_result"
    }
   ],
   "source": [
    "train.isnull().sum()"
   ]
  },
  {
   "cell_type": "code",
   "execution_count": 10,
   "metadata": {},
   "outputs": [
    {
     "data": {
      "text/plain": [
       "<matplotlib.axes._subplots.AxesSubplot at 0x232fddebf10>"
      ]
     },
     "execution_count": 10,
     "metadata": {},
     "output_type": "execute_result"
    },
    {
     "data": {
      "image/png": "[encoded data removed]",
      "text/plain": [
       "<Figure size 720x360 with 2 Axes>"
      ]
     },
     "metadata": {
      "needs_background": "light"
     },
     "output_type": "display_data"
    }
   ],
   "source": [
    "#ploting null values\n",
    "plt.figure(figsize=(10,5))\n",
    "sns.heatmap(train.isnull(),center=0)"
   ]
  },
  {
   "cell_type": "code",
   "execution_count": 11,
   "metadata": {},
   "outputs": [
    {
     "data": {
      "text/html": [
       "<div>\n",
       "<style scoped>\n",
       "    .dataframe tbody tr th:only-of-type {\n",
       "        vertical-align: middle;\n",
       "    }\n",
       "\n",
       "    .dataframe tbody tr th {\n",
       "        vertical-align: top;\n",
       "    }\n",
       "\n",
       "    .dataframe thead th {\n",
       "        text-align: right;\n",
       "    }\n",
       "</style>\n",
       "<table border=\"1\" class=\"dataframe\">\n",
       "  <thead>\n",
       "    <tr style=\"text-align: right;\">\n",
       "      <th></th>\n",
       "      <th>Qualification</th>\n",
       "      <th>Experience</th>\n",
       "      <th>Rating</th>\n",
       "      <th>Place</th>\n",
       "      <th>Profile</th>\n",
       "      <th>Miscellaneous_Info</th>\n",
       "      <th>Fees</th>\n",
       "    </tr>\n",
       "  </thead>\n",
       "  <tbody>\n",
       "    <tr>\n",
       "      <th>0</th>\n",
       "      <td>BHMS, MD - Homeopathy</td>\n",
       "      <td>24 years experience</td>\n",
       "      <td>100%</td>\n",
       "      <td>Kakkanad, Ernakulam</td>\n",
       "      <td>Homeopath</td>\n",
       "      <td>100% 16 Feedback Kakkanad, Ernakulam</td>\n",
       "      <td>100</td>\n",
       "    </tr>\n",
       "    <tr>\n",
       "      <th>1</th>\n",
       "      <td>BAMS, MD - Ayurveda Medicine</td>\n",
       "      <td>12 years experience</td>\n",
       "      <td>98%</td>\n",
       "      <td>Whitefield, Bangalore</td>\n",
       "      <td>Ayurveda</td>\n",
       "      <td>98% 76 Feedback Whitefield, Bangalore</td>\n",
       "      <td>350</td>\n",
       "    </tr>\n",
       "    <tr>\n",
       "      <th>2</th>\n",
       "      <td>MBBS, MS - Otorhinolaryngology</td>\n",
       "      <td>9 years experience</td>\n",
       "      <td>100%</td>\n",
       "      <td>Mathikere - BEL, Bangalore</td>\n",
       "      <td>ENT Specialist</td>\n",
       "      <td>NaN</td>\n",
       "      <td>300</td>\n",
       "    </tr>\n",
       "    <tr>\n",
       "      <th>3</th>\n",
       "      <td>BSc - Zoology, BAMS</td>\n",
       "      <td>12 years experience</td>\n",
       "      <td>100%</td>\n",
       "      <td>Bannerghatta Road, Bangalore</td>\n",
       "      <td>Ayurveda</td>\n",
       "      <td>Bannerghatta Road, Bangalore ₹250 Available on...</td>\n",
       "      <td>250</td>\n",
       "    </tr>\n",
       "    <tr>\n",
       "      <th>4</th>\n",
       "      <td>BAMS</td>\n",
       "      <td>20 years experience</td>\n",
       "      <td>100%</td>\n",
       "      <td>Keelkattalai, Chennai</td>\n",
       "      <td>Ayurveda</td>\n",
       "      <td>100% 4 Feedback Keelkattalai, Chennai</td>\n",
       "      <td>250</td>\n",
       "    </tr>\n",
       "    <tr>\n",
       "      <th>...</th>\n",
       "      <td>...</td>\n",
       "      <td>...</td>\n",
       "      <td>...</td>\n",
       "      <td>...</td>\n",
       "      <td>...</td>\n",
       "      <td>...</td>\n",
       "      <td>...</td>\n",
       "    </tr>\n",
       "    <tr>\n",
       "      <th>5956</th>\n",
       "      <td>MBBS, MS - ENT</td>\n",
       "      <td>19 years experience</td>\n",
       "      <td>98%</td>\n",
       "      <td>Basavanagudi, Bangalore</td>\n",
       "      <td>ENT Specialist</td>\n",
       "      <td>98% 45 Feedback Basavanagudi, Bangalore</td>\n",
       "      <td>300</td>\n",
       "    </tr>\n",
       "    <tr>\n",
       "      <th>5957</th>\n",
       "      <td>MBBS</td>\n",
       "      <td>33 years experience</td>\n",
       "      <td>100%</td>\n",
       "      <td>Nungambakkam, Chennai</td>\n",
       "      <td>General Medicine</td>\n",
       "      <td>NaN</td>\n",
       "      <td>100</td>\n",
       "    </tr>\n",
       "    <tr>\n",
       "      <th>5958</th>\n",
       "      <td>MBBS</td>\n",
       "      <td>41 years experience</td>\n",
       "      <td>97%</td>\n",
       "      <td>Greater Kailash Part 2, Delhi</td>\n",
       "      <td>General Medicine</td>\n",
       "      <td>97% 11 Feedback Greater Kailash Part 2, Delhi</td>\n",
       "      <td>600</td>\n",
       "    </tr>\n",
       "    <tr>\n",
       "      <th>5959</th>\n",
       "      <td>MBBS, MD - General Medicine</td>\n",
       "      <td>15 years experience</td>\n",
       "      <td>90%</td>\n",
       "      <td>Vileparle West, Mumbai</td>\n",
       "      <td>General Medicine</td>\n",
       "      <td>General Medical Consultation Viral Fever Treat...</td>\n",
       "      <td>100</td>\n",
       "    </tr>\n",
       "    <tr>\n",
       "      <th>5960</th>\n",
       "      <td>BDS, MDS - Orthodontics</td>\n",
       "      <td>17 years experience</td>\n",
       "      <td>100%</td>\n",
       "      <td>Pitampura, Delhi</td>\n",
       "      <td>Dentist</td>\n",
       "      <td>Acrylic Partial Denture Crowns and Bridges Fix...</td>\n",
       "      <td>200</td>\n",
       "    </tr>\n",
       "  </tbody>\n",
       "</table>\n",
       "<p>5961 rows × 7 columns</p>\n",
       "</div>"
      ],
      "text/plain": [
       "                       Qualification           Experience Rating  \\\n",
       "0              BHMS, MD - Homeopathy  24 years experience   100%   \n",
       "1       BAMS, MD - Ayurveda Medicine  12 years experience    98%   \n",
       "2     MBBS, MS - Otorhinolaryngology   9 years experience   100%   \n",
       "3                BSc - Zoology, BAMS  12 years experience   100%   \n",
       "4                               BAMS  20 years experience   100%   \n",
       "...                              ...                  ...    ...   \n",
       "5956                  MBBS, MS - ENT  19 years experience    98%   \n",
       "5957                            MBBS  33 years experience   100%   \n",
       "5958                            MBBS  41 years experience    97%   \n",
       "5959     MBBS, MD - General Medicine  15 years experience    90%   \n",
       "5960         BDS, MDS - Orthodontics  17 years experience   100%   \n",
       "\n",
       "                              Place           Profile  \\\n",
       "0               Kakkanad, Ernakulam         Homeopath   \n",
       "1             Whitefield, Bangalore          Ayurveda   \n",
       "2        Mathikere - BEL, Bangalore    ENT Specialist   \n",
       "3      Bannerghatta Road, Bangalore          Ayurveda   \n",
       "4             Keelkattalai, Chennai          Ayurveda   \n",
       "...                             ...               ...   \n",
       "5956        Basavanagudi, Bangalore    ENT Specialist   \n",
       "5957          Nungambakkam, Chennai  General Medicine   \n",
       "5958  Greater Kailash Part 2, Delhi  General Medicine   \n",
       "5959         Vileparle West, Mumbai  General Medicine   \n",
       "5960               Pitampura, Delhi           Dentist   \n",
       "\n",
       "                                     Miscellaneous_Info  Fees  \n",
       "0                  100% 16 Feedback Kakkanad, Ernakulam   100  \n",
       "1                 98% 76 Feedback Whitefield, Bangalore   350  \n",
       "2                                                   NaN   300  \n",
       "3     Bannerghatta Road, Bangalore ₹250 Available on...   250  \n",
       "4                 100% 4 Feedback Keelkattalai, Chennai   250  \n",
       "...                                                 ...   ...  \n",
       "5956            98% 45 Feedback Basavanagudi, Bangalore   300  \n",
       "5957                                                NaN   100  \n",
       "5958      97% 11 Feedback Greater Kailash Part 2, Delhi   600  \n",
       "5959  General Medical Consultation Viral Fever Treat...   100  \n",
       "5960  Acrylic Partial Denture Crowns and Bridges Fix...   200  \n",
       "\n",
       "[5961 rows x 7 columns]"
      ]
     },
     "execution_count": 11,
     "metadata": {},
     "output_type": "execute_result"
    }
   ],
   "source": [
    "#checking dataset\n",
    "train"
   ]
  },
  {
   "cell_type": "markdown",
   "metadata": {},
   "source": [
    "## Summary Statistics "
   ]
  },
  {
   "cell_type": "code",
   "execution_count": 12,
   "metadata": {},
   "outputs": [
    {
     "data": {
      "text/html": [
       "<div>\n",
       "<style scoped>\n",
       "    .dataframe tbody tr th:only-of-type {\n",
       "        vertical-align: middle;\n",
       "    }\n",
       "\n",
       "    .dataframe tbody tr th {\n",
       "        vertical-align: top;\n",
       "    }\n",
       "\n",
       "    .dataframe thead th {\n",
       "        text-align: right;\n",
       "    }\n",
       "</style>\n",
       "<table border=\"1\" class=\"dataframe\">\n",
       "  <thead>\n",
       "    <tr style=\"text-align: right;\">\n",
       "      <th></th>\n",
       "      <th>Fees</th>\n",
       "    </tr>\n",
       "  </thead>\n",
       "  <tbody>\n",
       "    <tr>\n",
       "      <th>count</th>\n",
       "      <td>5961.000000</td>\n",
       "    </tr>\n",
       "    <tr>\n",
       "      <th>mean</th>\n",
       "      <td>307.944640</td>\n",
       "    </tr>\n",
       "    <tr>\n",
       "      <th>std</th>\n",
       "      <td>190.920373</td>\n",
       "    </tr>\n",
       "    <tr>\n",
       "      <th>min</th>\n",
       "      <td>5.000000</td>\n",
       "    </tr>\n",
       "    <tr>\n",
       "      <th>25%</th>\n",
       "      <td>150.000000</td>\n",
       "    </tr>\n",
       "    <tr>\n",
       "      <th>50%</th>\n",
       "      <td>300.000000</td>\n",
       "    </tr>\n",
       "    <tr>\n",
       "      <th>75%</th>\n",
       "      <td>500.000000</td>\n",
       "    </tr>\n",
       "    <tr>\n",
       "      <th>max</th>\n",
       "      <td>950.000000</td>\n",
       "    </tr>\n",
       "  </tbody>\n",
       "</table>\n",
       "</div>"
      ],
      "text/plain": [
       "              Fees\n",
       "count  5961.000000\n",
       "mean    307.944640\n",
       "std     190.920373\n",
       "min       5.000000\n",
       "25%     150.000000\n",
       "50%     300.000000\n",
       "75%     500.000000\n",
       "max     950.000000"
      ]
     },
     "execution_count": 12,
     "metadata": {},
     "output_type": "execute_result"
    }
   ],
   "source": [
    "train.describe()"
   ]
  },
  {
   "cell_type": "markdown",
   "metadata": {},
   "source": [
    "min value of fees = 5\n",
    "\n",
    "max value of fees = 950\n",
    "\n",
    "std is high =190.92"
   ]
  },
  {
   "cell_type": "markdown",
   "metadata": {},
   "source": [
    "# Data Visualization "
   ]
  },
  {
   "cell_type": "code",
   "execution_count": 13,
   "metadata": {},
   "outputs": [
    {
     "name": "stdout",
     "output_type": "stream",
     "text": [
      "100%    3986\n",
      "98%      290\n",
      "99%      259\n",
      "97%      241\n",
      "96%      220\n",
      "95%      178\n",
      "94%      115\n",
      "93%      109\n",
      "90%       66\n",
      "92%       66\n",
      "91%       60\n",
      "89%       42\n",
      "88%       41\n",
      "85%       27\n",
      "82%       23\n",
      "86%       21\n",
      "83%       21\n",
      "80%       19\n",
      "77%       16\n",
      "87%       14\n",
      "79%       13\n",
      "84%       13\n",
      "67%       12\n",
      "81%       12\n",
      "71%        9\n",
      "76%        9\n",
      "75%        8\n",
      "73%        8\n",
      "60%        7\n",
      "74%        7\n",
      "78%        6\n",
      "56%        5\n",
      "68%        5\n",
      "70%        4\n",
      "69%        4\n",
      "72%        3\n",
      "57%        3\n",
      "33%        2\n",
      "63%        2\n",
      "64%        2\n",
      "62%        2\n",
      "55%        2\n",
      "48%        1\n",
      "65%        1\n",
      "45%        1\n",
      "53%        1\n",
      "47%        1\n",
      "7%         1\n",
      "36%        1\n",
      "58%        1\n",
      "40%        1\n",
      "Name: Rating, dtype: int64\n"
     ]
    },
    {
     "data": {
      "image/png": "[encoded data removed]",
      "text/plain": [
       "<Figure size 1080x576 with 1 Axes>"
      ]
     },
     "metadata": {
      "needs_background": "light"
     },
     "output_type": "display_data"
    }
   ],
   "source": [
    "#Checking Ratings Observation\n",
    "plt.figure(figsize=(15,8))\n",
    "sns.set(style=\"whitegrid\")\n",
    "sns.countplot(train[\"Rating\"])\n",
    "print(train[\"Rating\"].value_counts())"
   ]
  },
  {
   "cell_type": "markdown",
   "metadata": {},
   "source": [
    "Most of 100% rating"
   ]
  },
  {
   "cell_type": "code",
   "execution_count": 14,
   "metadata": {},
   "outputs": [
    {
     "name": "stdout",
     "output_type": "stream",
     "text": [
      "Dentist             1397\n",
      "General Medicine    1173\n",
      "Dermatologists      1034\n",
      "Homeopath            843\n",
      "Ayurveda             786\n",
      "ENT Specialist       728\n",
      "Name: Profile, dtype: int64\n"
     ]
    },
    {
     "data": {
      "image/png": "[encoded data removed]",
      "text/plain": [
       "<Figure size 1080x576 with 1 Axes>"
      ]
     },
     "metadata": {},
     "output_type": "display_data"
    }
   ],
   "source": [
    "#checking count for profile column\n",
    "plt.figure(figsize=(15,8))\n",
    "sns.countplot(train[\"Profile\"])\n",
    "print(train[\"Profile\"].value_counts())"
   ]
  },
  {
   "cell_type": "code",
   "execution_count": 15,
   "metadata": {},
   "outputs": [
    {
     "name": "stdout",
     "output_type": "stream",
     "text": [
      "100    1306\n",
      "500     938\n",
      "200     904\n",
      "300     864\n",
      "400     424\n",
      "250     307\n",
      "150     253\n",
      "600     215\n",
      "700     153\n",
      "800     143\n",
      "350     143\n",
      "50       81\n",
      "450      65\n",
      "750      34\n",
      "550      22\n",
      "650      21\n",
      "900      18\n",
      "70       18\n",
      "80       12\n",
      "60       11\n",
      "30        4\n",
      "10        2\n",
      "260       2\n",
      "130       2\n",
      "180       2\n",
      "40        2\n",
      "380       2\n",
      "220       1\n",
      "280       1\n",
      "499       1\n",
      "5         1\n",
      "920       1\n",
      "299       1\n",
      "125       1\n",
      "230       1\n",
      "430       1\n",
      "630       1\n",
      "850       1\n",
      "950       1\n",
      "20        1\n",
      "Name: Fees, dtype: int64\n"
     ]
    },
    {
     "data": {
      "image/png": "[encoded data removed]",
      "text/plain": [
       "<Figure size 1080x576 with 1 Axes>"
      ]
     },
     "metadata": {},
     "output_type": "display_data"
    }
   ],
   "source": [
    "#checking fees column\n",
    "plt.figure(figsize=(15,8))\n",
    "sns.countplot(train[\"Fees\"])\n",
    "print(train[\"Fees\"].value_counts())"
   ]
  },
  {
   "cell_type": "code",
   "execution_count": 16,
   "metadata": {},
   "outputs": [
    {
     "data": {
      "image/png": "[encoded data removed]",
      "text/plain": [
       "<Figure size 720x576 with 1 Axes>"
      ]
     },
     "metadata": {},
     "output_type": "display_data"
    }
   ],
   "source": [
    "#ckecking barplot b/w fees and profile\n",
    "plt.figure(figsize=(10,8))\n",
    "sns.barplot(x=\"Profile\",y=\"Fees\",data=train)\n",
    "plt.show()"
   ]
  },
  {
   "cell_type": "code",
   "execution_count": 17,
   "metadata": {},
   "outputs": [
    {
     "data": {
      "image/png": "[encoded data removed]",
      "text/plain": [
       "<Figure size 1440x360 with 1 Axes>"
      ]
     },
     "metadata": {},
     "output_type": "display_data"
    }
   ],
   "source": [
    "#ckecking barplot b/w Qualification and profile\n",
    "plt.figure(figsize=(20,5))\n",
    "sns.barplot(x=\"Rating\",y=\"Fees\",data=train)\n",
    "plt.show()"
   ]
  },
  {
   "cell_type": "code",
   "execution_count": 18,
   "metadata": {},
   "outputs": [
    {
     "data": {
      "text/plain": [
       "Index(['Qualification', 'Experience', 'Rating', 'Place', 'Profile',\n",
       "       'Miscellaneous_Info', 'Fees'],\n",
       "      dtype='object')"
      ]
     },
     "execution_count": 18,
     "metadata": {},
     "output_type": "execute_result"
    }
   ],
   "source": [
    "#see columns\n",
    "train.columns"
   ]
  },
  {
   "cell_type": "code",
   "execution_count": 19,
   "metadata": {},
   "outputs": [
    {
     "name": "stdout",
     "output_type": "stream",
     "text": [
      "['BHMS, MD - Homeopathy' 'BAMS, MD - Ayurveda Medicine'\n",
      " 'MBBS, MS - Otorhinolaryngology' ...\n",
      " 'MD - Dermatology , Venereology & Leprosy, MBBS, Fellowship In Dermatosurgery'\n",
      " 'BDS, certification in smile designing'\n",
      " 'MD - Homeopathy, Post Graduate Diploma in Healthcare Management(PGDHM), DHMS (Diploma in Homeopathic Medicine and Surgery)']\n",
      "BDS                                                                                              488\n",
      "BHMS                                                                                             477\n",
      "BAMS                                                                                             471\n",
      "MBBS                                                                                             334\n",
      "MBBS, MS - ENT                                                                                   220\n",
      "                                                                                                ... \n",
      "MBBS, Diploma in Practical Dermatology, Diploma in Dermatology, Diploma in Aesthetic Medicine      1\n",
      "PDCC - Pediatric Endocrinology, MBBS                                                               1\n",
      "MBBS, MD - Dermatology, MD - Venereology                                                           1\n",
      "DM - Neurology, MBBS                                                                               1\n",
      "MBBS, PGDHA                                                                                        1\n",
      "Name: Qualification, Length: 1420, dtype: int64\n",
      "[   0    1    2 ... 1417 1418 1419]\n",
      "6       488\n",
      "5       477\n",
      "4       471\n",
      "16      334\n",
      "15      220\n",
      "       ... \n",
      "882       1\n",
      "886       1\n",
      "890       1\n",
      "894       1\n",
      "1417      1\n",
      "Name: Qualification, Length: 1420, dtype: int64\n",
      "\n",
      "\n",
      "['24 years experience' '12 years experience' '9 years experience'\n",
      " '20 years experience' '8 years experience' '42 years experience'\n",
      " '10 years experience' '14 years experience' '23 years experience'\n",
      " '5 years experience' '7 years experience' '21 years experience'\n",
      " '19 years experience' '41 years experience' '31 years experience'\n",
      " '25 years experience' '16 years experience' '15 years experience'\n",
      " '11 years experience' '22 years experience' '38 years experience'\n",
      " '6 years experience' '36 years experience' '13 years experience'\n",
      " '18 years experience' '46 years experience' '40 years experience'\n",
      " '49 years experience' '33 years experience' '0 years experience'\n",
      " '27 years experience' '30 years experience' '52 years experience'\n",
      " '60 years experience' '26 years experience' '35 years experience'\n",
      " '34 years experience' '39 years experience' '32 years experience'\n",
      " '17 years experience' '28 years experience' '58 years experience'\n",
      " '4 years experience' '45 years experience' '44 years experience'\n",
      " '3 years experience' '37 years experience' '50 years experience'\n",
      " '29 years experience' '43 years experience' '54 years experience'\n",
      " '66 years experience' '2 years experience' '51 years experience'\n",
      " '47 years experience' '48 years experience' '53 years experience'\n",
      " '56 years experience' '61 years experience' '59 years experience'\n",
      " '57 years experience' '55 years experience' '65 years experience'\n",
      " '64 years experience']\n",
      "9 years experience     323\n",
      "10 years experience    294\n",
      "11 years experience    288\n",
      "8 years experience     282\n",
      "12 years experience    279\n",
      "                      ... \n",
      "64 years experience      1\n",
      "58 years experience      1\n",
      "65 years experience      1\n",
      "66 years experience      1\n",
      "60 years experience      1\n",
      "Name: Experience, Length: 64, dtype: int64\n",
      "[ 0  1  2  3  4  5  6  7  8  9 10 11 12 13 14 15 16 17 18 19 20 21 22 23\n",
      " 24 25 26 27 28 29 30 31 32 33 34 35 36 37 38 39 40 41 42 43 44 45 46 47\n",
      " 48 49 50 51 52 53 54 55 56 57 58 59 60 61 62 63]\n",
      "2     323\n",
      "6     294\n",
      "18    288\n",
      "4     282\n",
      "1     279\n",
      "     ... \n",
      "59      1\n",
      "58      1\n",
      "62      1\n",
      "51      1\n",
      "63      1\n",
      "Name: Experience, Length: 64, dtype: int64\n",
      "\n",
      "\n",
      "['100%' '98%' '99%' '79%' '95%' '97%' '94%' '88%' '90%' '80%' '93%' '36%'\n",
      " '78%' '87%' '96%' '82%' '89%' '74%' '86%' '92%' '83%' '76%' '85%' '56%'\n",
      " '91%' '68%' '60%' '75%' '69%' '73%' '67%' '77%' '33%' '55%' '71%' '84%'\n",
      " '45%' '63%' '72%' '81%' '62%' '57%' '7%' '48%' '40%' '70%' '64%' '65%'\n",
      " '47%' '58%' '53%']\n",
      "100%    3986\n",
      "98%      290\n",
      "99%      259\n",
      "97%      241\n",
      "96%      220\n",
      "95%      178\n",
      "94%      115\n",
      "93%      109\n",
      "90%       66\n",
      "92%       66\n",
      "91%       60\n",
      "89%       42\n",
      "88%       41\n",
      "85%       27\n",
      "82%       23\n",
      "86%       21\n",
      "83%       21\n",
      "80%       19\n",
      "77%       16\n",
      "87%       14\n",
      "79%       13\n",
      "84%       13\n",
      "67%       12\n",
      "81%       12\n",
      "71%        9\n",
      "76%        9\n",
      "75%        8\n",
      "73%        8\n",
      "60%        7\n",
      "74%        7\n",
      "78%        6\n",
      "56%        5\n",
      "68%        5\n",
      "70%        4\n",
      "69%        4\n",
      "72%        3\n",
      "57%        3\n",
      "33%        2\n",
      "63%        2\n",
      "64%        2\n",
      "62%        2\n",
      "55%        2\n",
      "48%        1\n",
      "65%        1\n",
      "45%        1\n",
      "53%        1\n",
      "47%        1\n",
      "7%         1\n",
      "36%        1\n",
      "58%        1\n",
      "40%        1\n",
      "Name: Rating, dtype: int64\n",
      "[ 0  1  2  3  4  5  6  7  8  9 10 11 12 13 14 15 16 17 18 19 20 21 22 23\n",
      " 24 25 26 27 28 29 30 31 32 33 34 35 36 37 38 39 40 41 42 43 44 45 46 47\n",
      " 48 49 50]\n",
      "0     3986\n",
      "1      290\n",
      "2      259\n",
      "5      241\n",
      "14     220\n",
      "4      178\n",
      "6      115\n",
      "10     109\n",
      "19      66\n",
      "8       66\n",
      "24      60\n",
      "16      42\n",
      "7       41\n",
      "22      27\n",
      "15      23\n",
      "18      21\n",
      "20      21\n",
      "9       19\n",
      "31      16\n",
      "13      14\n",
      "35      13\n",
      "3       13\n",
      "30      12\n",
      "39      12\n",
      "34       9\n",
      "21       9\n",
      "29       8\n",
      "27       8\n",
      "17       7\n",
      "26       7\n",
      "12       6\n",
      "25       5\n",
      "23       5\n",
      "45       4\n",
      "28       4\n",
      "41       3\n",
      "38       3\n",
      "37       2\n",
      "33       2\n",
      "32       2\n",
      "46       2\n",
      "40       2\n",
      "47       1\n",
      "36       1\n",
      "44       1\n",
      "48       1\n",
      "43       1\n",
      "42       1\n",
      "50       1\n",
      "11       1\n",
      "49       1\n",
      "Name: Rating, dtype: int64\n",
      "\n",
      "\n",
      "['Kakkanad, Ernakulam' 'Whitefield, Bangalore'\n",
      " 'Mathikere - BEL, Bangalore' 'Bannerghatta Road, Bangalore'\n",
      " 'Keelkattalai, Chennai' 'Porur, Chennai' 'Karol Bagh, Delhi'\n",
      " 'Arekere, Bangalore' 'Old City, Hyderabad' 'Athani, Ernakulam'\n",
      " 'Thousand Lights, Chennai' 'Somajiguda, Hyderabad'\n",
      " 'Coimbatore Racecourse, Coimbatore' 'Jubilee Hills, Hyderabad'\n",
      " 'Kondli, Delhi' 'Saroor Nagar, Hyderabad' 'Tambaram West, Chennai'\n",
      " 'Purasawakkam, Chennai' 'KPHB, Hyderabad' 'HSR Layout, Bangalore'\n",
      " 'Pollachi, Coimbatore' 'Vasundhra Enclave, Delhi' 'Chembur, Mumbai'\n",
      " 'Thammanam, Ernakulam' 'Andheri, Mumbai' 'Pattom, Thiruvananthapuram'\n",
      " 'Kukatpally, Hyderabad' 'Vadavalli, Coimbatore' 'Defence Colony, Delhi'\n",
      " 'Banjara Hills, Hyderabad' 'Sion West, Mumbai' 'CR Park, Delhi'\n",
      " 'Mogappair East, Chennai' 'IP Extension, Delhi'\n",
      " 'Safdarjung Enclave, Delhi' 'New Friends Colony, Delhi'\n",
      " 'Borivali West, Mumbai' 'Saket, Delhi' 'Malad, Mumbai'\n",
      " 'Hyder Nagar, Hyderabad' 'Dahisar West, Mumbai' 'RT Nagar, Bangalore'\n",
      " 'Powai, Mumbai' 'Basheerbagh, Hyderabad' 'Musheerabad, Hyderabad'\n",
      " 'AS Rao Nagar, Hyderabad' 'Madhapur, Hyderabad' 'Gandhinagar, Hyderabad'\n",
      " 'Chetpet, Chennai' 'Vileparle East, Mumbai'\n",
      " 'Yelahanka New Town, Bangalore' 'Kodambakkam, Chennai'\n",
      " 'Malleswaram, Bangalore' 'Pallikaranai, Chennai' 'Nallakunta, Hyderabad'\n",
      " 'Paschim Vihar, Delhi' 'Meera Bagh, Delhi' 'Chattarpur, Delhi'\n",
      " 'Andheri West, Mumbai' 'Himayat Nagar, Hyderabad' 'Adambakkam, Chennai'\n",
      " 'Punjabi Bagh, Delhi' 'Mahalaxmi, Mumbai' 'Kalina, Mumbai'\n",
      " 'Attapur, Hyderabad' 'Lakdikapul, Hyderabad' 'Ambattur, Chennai'\n",
      " 'Ramnagar, Coimbatore' 'Shalimar Bagh, Delhi' 'Nungambakkam, Chennai'\n",
      " 'Miyapur, Hyderabad' 'Sagarpur, Delhi' 'Girgaon, Mumbai'\n",
      " 'Jayanagar, Bangalore' 'Palayam, Thiruvananthapuram' 'Munirka, Delhi'\n",
      " 'Tuglakabad, Delhi' 'Moosarambagh, Hyderabad' nan\n",
      " 'Anna Nagar East, Chennai' 'Bandra West, Mumbai'\n",
      " 'Kanakpura Road, Bangalore' 'Green Park, Delhi' 'Maduravoyal, Chennai'\n",
      " 'Dahisar East, Mumbai' 'Moosapet, Hyderabad' 'Koramangala, Bangalore'\n",
      " 'TV Medical College, Thiruvananthapuram' 'Kadavanthra, Ernakulam'\n",
      " 'Greams Road, Chennai' 'Bommanahalli, Bangalore' 'T Nagar, Chennai'\n",
      " 'Yelahanka, Bangalore' 'Hazrat Nizamuddin, Delhi'\n",
      " 'Old Rajendra Nagar, Delhi' 'Dadar West, Mumbai' 'Indiranagar, Bangalore'\n",
      " 'Perumbakkam, Chennai' 'Shaikpet, Hyderabad' 'Vyttila, Ernakulam'\n",
      " 'Khar West, Mumbai' 'Goregaon West, Mumbai' 'Bakkarwala, Delhi'\n",
      " 'Nesapakkam, Chennai' 'BTM Layout 2nd Stage, Bangalore'\n",
      " 'Ashok Nagar, Chennai' 'Chandivali, Mumbai' 'Uttam Nagar, Delhi'\n",
      " 'Gujranwala Town, Delhi' 'Greater Kailash Part 1, Delhi'\n",
      " 'Panchsheel Park, Delhi' 'Thoraipakkam, Chennai'\n",
      " 'South Extension 2, Delhi' 'Kandivali East, Mumbai' 'Pitampura, Delhi'\n",
      " 'Banashankari 3rd Stage, Bangalore' 'Kolenchery, Ernakulam'\n",
      " 'Kumaraswamy Layout, Bangalore' 'Vadapalani, Chennai'\n",
      " 'Manikonda, Hyderabad' 'Gandhipuram, Coimbatore'\n",
      " 'Yeshwanthpur, Bangalore' 'Ayanavaram, Chennai'\n",
      " 'Basaveshwaranagar, Bangalore' 'Malad West, Mumbai' 'Vikas Puri, Delhi'\n",
      " 'Kondapur, Hyderabad' 'Andheri East, Mumbai' 'Sulur, Coimbatore'\n",
      " 'Adyar, Chennai' 'Krishna Nagar, Delhi' 'Langer House, Hyderabad'\n",
      " 'Thiruvanmiyur, Chennai' 'Dwarka, Delhi' 'Bhandup West, Mumbai'\n",
      " 'Janak Puri, Delhi' 'Rajajinagar, Bangalore' 'South Extension 1, Delhi'\n",
      " 'Kemps Corner, Mumbai' 'Peelamedu, Coimbatore' 'Kandivali West, Mumbai'\n",
      " 'Thevara, Ernakulam' 'Wilson Garden, Bangalore' 'Wadala, Mumbai'\n",
      " 'Pahar Ganj, Delhi' 'Chanchalguda, Hyderabad' 'Chikkadpally, Hyderabad'\n",
      " 'Pasur-avanashi, Coimbatore' 'Nagarbhavi, Bangalore'\n",
      " 'Lajpat Nagar, Delhi' 'Mayur Vihar Ph-I, Delhi' 'Dilshad Garden, Delhi'\n",
      " 'Vijayanagar, Bangalore' 'Alwarpet, Chennai'\n",
      " 'Pappanamcode, Thiruvananthapuram' 'Aluva, Ernakulam'\n",
      " 'Nariman Point, Mumbai' 'Kilkattalai, Chennai' 'Dilsukhnagar, Hyderabad'\n",
      " 'Kurla West, Mumbai' 'Begumpet, Hyderabad' 'Kaloor, Ernakulam'\n",
      " 'Hitech City, Hyderabad' 'Goregaon East, Mumbai'\n",
      " 'Velandipalayam, Coimbatore' 'Ghatkopar East, Mumbai'\n",
      " 'Mulund West, Mumbai' 'Yousufguda, Hyderabad' 'Ghatkopar West, Mumbai'\n",
      " 'TVM Beach, Thiruvananthapuram' 'Vanagaram, Chennai' 'Worli, Mumbai'\n",
      " 'Koramangala 1 Block, Bangalore' 'Saki Vihar Road, Mumbai'\n",
      " 'Versova, Mumbai' 'CV Raman Nagar, Bangalore' 'Secunderabad, Hyderabad'\n",
      " 'BTM Layout 1st Stage, Bangalore' 'Ramkoti, Hyderabad'\n",
      " 'MRC Nagar, Chennai' 'Malkajgiri, Hyderabad' 'Gachibowli, Hyderabad'\n",
      " 'Mogappair West, Chennai' 'Mayur Vihar Ph-III, Delhi'\n",
      " 'Kurla East, Mumbai' 'Ashok Vihar, Delhi' 'Mahim, Mumbai'\n",
      " 'Villivakkam, Chennai' 'Srinagar Colony, Hyderabad' 'Chromepet, Chennai'\n",
      " 'Pammal, Chennai' 'Banashankari, Bangalore' 'Velachery, Chennai'\n",
      " 'Chanakyapuri, Delhi' 'Kalyan Nagar, Bangalore' 'Oshiwara, Mumbai'\n",
      " 'Karapakkam, Chennai' 'Borivali, Mumbai' 'Mylapore, Chennai'\n",
      " 'Electronics City, Bangalore' 'Perungudi, Chennai'\n",
      " 'Basavanagudi, Bangalore' 'MG Road, Bangalore' 'Thiruvottiyur, Chennai'\n",
      " 'Greater Kailash Part 2, Delhi' 'Bilekahalli, Bangalore'\n",
      " 'Nanganallur, Chennai' 'Rohini, Delhi' 'Thrikkakara, Ernakulam'\n",
      " 'Manapakkam, Chennai' 'Bellandur, Bangalore' 'Ameerpet, Hyderabad'\n",
      " 'Thiruvallom, Thiruvananthapuram' 'R.S. Puram, Coimbatore'\n",
      " 'Kumarapuram, Thiruvananthapuram' 'Palam Colony, Delhi' 'Manali, Chennai'\n",
      " 'Valasaravakkam, Chennai' 'Barkatpura, Hyderabad'\n",
      " 'Singanallur, Coimbatore' 'Mulund, Mumbai' 'Dadar East, Mumbai'\n",
      " 'Borabanda, Hyderabad' 'Model Town 3, Delhi' 'Ulsoor, Bangalore'\n",
      " 'Bhayandar West, Mumbai' 'Hari Nagar, Delhi' 'Horamavu, Bangalore'\n",
      " 'Santacruz East, Mumbai' 'OMR Road, Chennai' 'Kammana Halli, Bangalore'\n",
      " 'Tilak Nagar, Delhi' 'Panathur, Bangalore'\n",
      " 'Rajarajeshwarinagar, Bangalore' 'Paravur, Ernakulam'\n",
      " 'Preet Vihar, Delhi' 'Chembur East, Mumbai' 'Jakkur, Bangalore'\n",
      " 'Vanasthalipuram, Hyderabad' 'Mandaveli, Chennai'\n",
      " 'Kumara Park West, Bangalore' 'Domlur, Bangalore'\n",
      " 'Jeevanbhimanagar, Bangalore' 'Santacruz West, Mumbai'\n",
      " 'Shankar Vihar, Delhi' 'Jogeshwari East, Mumbai'\n",
      " 'Kasavanahalli, Bangalore' 'Ambalamukku, Thiruvananthapuram'\n",
      " 'Jhilmil Colony, Delhi' 'Dwarka Sector 7, Delhi' 'Tatabad, Coimbatore'\n",
      " 'Marine Lines, Mumbai' 'Tolichowki, Hyderabad' 'Sundarapuram, Coimbatore'\n",
      " 'Kothanur, Bangalore' 'Chinmaya Nagar, Chennai' 'Vasant Vihar, Delhi'\n",
      " 'Mehdipatnam, Hyderabad' 'Kadugodi, Bangalore' 'Ganapathy, Coimbatore'\n",
      " 'SR Nagar, Hyderabad' 'Perambur, Chennai' 'Opera House, Mumbai'\n",
      " 'Selvapuram, Coimbatore' 'Karkardooma, Delhi' 'Alwarthirunagar, Chennai'\n",
      " 'KR Puram, Bangalore' 'Ramesh Nagar, Delhi' 'Malakpet, Hyderabad'\n",
      " 'Tondiarpet, Chennai' 'Vikrampuri Colony, Hyderabad'\n",
      " 'Besant Nagar, Chennai' 'Vasant Kunj, Delhi' 'Banaswadi, Bangalore'\n",
      " 'BTM Layout, Bangalore' 'Medavakkam, Chennai' 'Vileparle West, Mumbai'\n",
      " 'Sahakaranagar, Bangalore' 'LB Nagar, Hyderabad' 'Punjagutta, Hyderabad'\n",
      " 'Yamuna Vihar, Delhi' 'Marathahalli, Bangalore'\n",
      " 'JP Nagar 2 Phase, Bangalore' 'Rani Bagh, Delhi' 'Jayamahal, Bangalore'\n",
      " 'Nagpada, Mumbai' 'Kundalahalli, Bangalore' 'Kailash Colony, Delhi'\n",
      " 'Pandav Nagar, Delhi' 'Karkhana, Hyderabad' 'West Mambalam, Chennai'\n",
      " 'Aminjikarai, Chennai' 'Madipakkam, Chennai' 'Charkop, Mumbai'\n",
      " 'Adarsh Nagar, Delhi' 'Dadar, Mumbai' 'Kaggadasapura, Bangalore'\n",
      " 'Matunga, Mumbai' 'Sun city, Hyderabad' 'Mahadevapura, Bangalore'\n",
      " 'Kalady, Ernakulam' 'Anna Nagar West, Chennai' 'Mayur Vihar Ph-II, Delhi'\n",
      " 'Tis Hazari, Delhi' 'Vennala, Ernakulam' 'Mira Road, Mumbai'\n",
      " 'Alwal, Hyderabad' 'Trimulgherry, Hyderabad'\n",
      " 'Raja Annamalai Puram, Chennai' 'JP Nagar 7 Phase, Bangalore'\n",
      " 'Old Bowenpally, Hyderabad' 'Santosh Nagar, Hyderabad'\n",
      " 'Hope College, Coimbatore' 'Mulund East, Mumbai' 'Mount Road, Chennai'\n",
      " 'Patel Nagar West, Delhi' 'Jayanagar 4 Block, Bangalore'\n",
      " 'West Marredpally, Hyderabad' 'Jagriti Enclave, Delhi'\n",
      " 'Sarita Vihar, Delhi' 'Rajendra Nagar, Hyderabad'\n",
      " 'Thudiyalur, Coimbatore' 'Bhayandar East, Mumbai'\n",
      " 'Narayanguda, Hyderabad' 'Kothapet, Hyderabad' 'KK Nagar, Chennai'\n",
      " 'Tripunithura, Ernakulam' 'Model Town, Delhi'\n",
      " 'Suchitra Circle, Hyderabad' 'Pusa Road, Delhi'\n",
      " 'Vijaynagar Colony, Hyderabad' 'Alandur, Chennai' 'Cuffe Parade, Mumbai'\n",
      " 'Kalkaji, Delhi' 'Saibaba Colony, Coimbatore'\n",
      " 'Kattakada, Thiruvananthapuram' 'Jogeshwari West, Mumbai'\n",
      " 'Erragadda, Hyderabad' 'Tilak Nagar, Hyderabad' 'Edapally, Ernakulam'\n",
      " 'Patparganj, Delhi' 'Sainikpuri, Hyderabad' 'Nanjundapuram, Coimbatore'\n",
      " 'Nizampet, Hyderabad' 'Kolathur, Chennai' 'Chamarajpet, Bangalore'\n",
      " 'Kala Ghoda, Mumbai' 'Padmarao Nagar, Hyderabad' 'Uppal, Hyderabad'\n",
      " 'Guduvanchery, Chennai' 'Satya Niketan, Delhi' 'Chanda Nagar, Hyderabad'\n",
      " 'Sowripalayam, Coimbatore' 'Vikhroli West, Mumbai'\n",
      " 'Rajouri Garden, Delhi' 'Alaknanda, Delhi' 'Millers Road, Bangalore'\n",
      " 'Kandanchavadi, Chennai' 'Vigyan Vihar, Delhi' 'Bandra East, Mumbai'\n",
      " 'Vilankurichi, Coimbatore' 'Malad East, Mumbai' 'Prabhadevi, Mumbai'\n",
      " 'Ulloor, Thiruvananthapuram' 'Rajakilpakkam, Chennai'\n",
      " 'Greater Kailash, Delhi' 'Madinaguda, Hyderabad' 'Borivali East, Mumbai'\n",
      " 'Juhu, Mumbai' 'Mugalivakkam, Chennai' 'Hebbal, Bangalore'\n",
      " 'Kirti Nagar, Delhi' 'Balaramapuram, Thiruvananthapuram'\n",
      " 'Bhandup East, Mumbai' 'VV Puram, Bangalore' 'Kilpauk, Chennai'\n",
      " 'Jacob Circle, Mumbai' 'Singasandra, Bangalore' 'Khairatabad, Hyderabad'\n",
      " 'Coimbatore Aerodrome, Coimbatore' 'J.C Nagar, Bangalore'\n",
      " 'Naraina Vihar, Delhi' 'Virugambakkam, Chennai' 'RK Puram, Delhi'\n",
      " 'Banashankari 1st Stage, Bangalore' 'Lajpat Nagar 4, Delhi'\n",
      " 'Jayanagar 5 Block, Bangalore' 'Kalyanpuri, Hyderabad'\n",
      " 'Tambaram, Chennai' 'Laxmi Nagar, Delhi' 'Anand Vihar, Delhi'\n",
      " 'Charni Road, Mumbai' 'Patel Nagar East, Delhi'\n",
      " 'Jayanagar 9 Block, Bangalore' 'Ecil, Hyderabad'\n",
      " 'Ramamurthy Nagar, Bangalore' 'Raj Nagar - 2, Delhi'\n",
      " 'Chunabhatti, Mumbai' 'Vikhroli East, Mumbai' 'Shakarpur, Delhi'\n",
      " 'Shahdara, Delhi' 'Govandi, Mumbai' 'Mira Bhayandar, Mumbai'\n",
      " 'Doddanekundi, Bangalore' 'Madhu Vihar, Delhi' 'Guindy, Chennai'\n",
      " 'Palarivattom, Ernakulam' 'Charminar, Hyderabad'\n",
      " 'Old Airport Road, Bangalore' 'Sarjapur Road, Bangalore' 'Okhla, Delhi'\n",
      " 'Baghlingampally, Hyderabad' 'Trombay, Mumbai' 'HRBR Layout, Bangalore'\n",
      " 'Fort, Mumbai' 'Shastri Nagar, Delhi' 'Red Hills, Chennai'\n",
      " 'New BEL Road, Bangalore' 'Park Town, Chennai' 'Frazer Town, Bangalore'\n",
      " 'Falaknuma, Hyderabad' 'Rohini Sector 7, Delhi' 'East Of Kailash, Delhi'\n",
      " 'Chintadripet, Chennai' 'Tagore Garden, Delhi' 'Tri Nagar, Delhi'\n",
      " 'Muttada, Thiruvananthapuram' 'Munnekollal, Bangalore'\n",
      " 'TV Museum, Thiruvananthapuram' 'Shivalik, Delhi' 'Neb Sarai, Delhi'\n",
      " 'Mahalakshmi Layout, Bangalore' 'Mankhurd, Mumbai' 'Kamla Nagar, Delhi'\n",
      " 'Saravanampatti, Coimbatore' 'Selaiyur, Chennai' 'Saligramam, Chennai'\n",
      " 'Thirumullaivoyal, Chennai' 'Teynampet, Chennai' 'Kochi, Ernakulam'\n",
      " 'Vidyaranyapura, Bangalore' 'Mogappair, Chennai' 'Mazgaon, Mumbai'\n",
      " 'Shivaji Nagar, Bangalore' 'Jangpura, Delhi'\n",
      " 'Kaudiar Square, Thiruvananthapuram' 'Arumbakkam, Chennai'\n",
      " 'Cherai, Ernakulam' 'Mira-Bhayandar Road, Mumbai' 'Ram Nagar, Delhi'\n",
      " 'Parel, Mumbai' 'Thanisandra, Bangalore' 'Pragathi Nagar, Hyderabad'\n",
      " 'Karamana, Thiruvananthapuram' 'AECS Layout, Bangalore'\n",
      " 'Nizamuddin East, Delhi' 'Ramanathapuram, Coimbatore'\n",
      " 'Anna Nagar, Chennai' 'Shenoy Nagar, Chennai' 'Siddhapudur, Coimbatore'\n",
      " 'Keshav Puram, Delhi' 'Edakochi, Ernakulam' 'Nagawara, Bangalore'\n",
      " 'Chintal, Hyderabad' 'Malviya Nagar, Delhi' 'Karwan, Hyderabad'\n",
      " 'Vazhakulam, Ernakulam' 'PMG Jn, Thiruvananthapuram'\n",
      " 'Dwarka Sector 6, Delhi' 'Viveknagar, Bangalore' 'Balapur, Hyderabad'\n",
      " 'Banashankari 2nd Stage, Bangalore' 'Azadpur, Delhi' 'Moti Nagar, Delhi'\n",
      " 'Sakinaka, Mumbai' 'Thoppumpady, Ernakulam' 'Sanath Nagar, Hyderabad'\n",
      " 'Royapettah, Chennai' 'Koramangala 5 Block, Bangalore'\n",
      " 'Kanjurmarg, Mumbai' 'Ernakulam College, Ernakulam' 'Urapakkam, Chennai'\n",
      " 'Coimbatore Ukkadam, Coimbatore' 'Sreekaryam, Thiruvananthapuram'\n",
      " 'Ernakulam North, Ernakulam' 'Sultanpur, Delhi' 'Banerji Road, Ernakulam'\n",
      " 'Balkampet, Hyderabad' 'Kavundampalayam, Coimbatore'\n",
      " 'Kanchanbagh, Hyderabad' 'Patel Nagar, Delhi' 'Kilokri, Delhi'\n",
      " 'Hoodi, Bangalore' 'New Seemapuri, Delhi' 'Seshadripuram, Bangalore'\n",
      " 'Vijaynagar, Delhi' 'Bowenpally, Hyderabad' 'Ondipudur, Coimbatore'\n",
      " 'Triplicane, Chennai' 'Richmond Town, Bangalore'\n",
      " 'New Rajendra Nagar, Delhi' 'Jahangirpuri, Delhi' 'Vivek Vihar, Delhi'\n",
      " 'Malleshpalya, Bangalore' 'Pezhakkappilly, Ernakulam'\n",
      " 'Lingampally, Hyderabad' 'Jamia Nagar, Delhi' 'Begum Bazar, Hyderabad'\n",
      " 'Lower Parel, Mumbai' 'ECR Road, Chennai' 'Nangloi, Delhi'\n",
      " 'Chintalmet, Hyderabad' 'West Of Chord Road, Bangalore' 'SV Road, Mumbai'\n",
      " 'JP Nagar 5 Phase, Bangalore' 'Sanjay Nagar, Bangalore'\n",
      " 'Panampilly Nagar, Ernakulam' 'Dharavi, Mumbai' 'Abbigere, Bangalore'\n",
      " 'Manacaud, Thiruvananthapuram' 'Poonamalle, Chennai' 'Najafgarh, Delhi'\n",
      " 'Uttarahalli, Bangalore' 'Sembakkam, Chennai' 'Tarnaka, Hyderabad'\n",
      " 'Nandanam, Chennai' 'Saidapet, Chennai' 'Choolaimedu, Chennai'\n",
      " 'Perungalathur, Chennai' 'Gulabi Bagh, Delhi' 'Jasola, Delhi'\n",
      " 'JP Nagar 3 Phase, Bangalore' 'Uppilipalayam, Coimbatore'\n",
      " 'Sadashivanagar, Bangalore' 'Rohini Sector 24, Delhi'\n",
      " 'Muvattupuzha, Ernakulam' 'Khan Market, Delhi' 'Abids, Hyderabad'\n",
      " 'Geeta Colony, Delhi' 'Madandapuram, Chennai' 'Dwarka Sector 22, Delhi'\n",
      " 'Grant Road, Mumbai' 'Jeedimetla, Hyderabad' 'Tambaram East, Chennai'\n",
      " 'Kothaguda, Hyderabad' 'Hauz Khas, Delhi' 'Habsiguda, Hyderabad'\n",
      " 'Breach Candy, Mumbai' 'Vidyanagar, Bangalore' 'Begur, Bangalore'\n",
      " 'Dahisar, Mumbai' 'Pachalam, Ernakulam' 'Perumbavoor, Ernakulam'\n",
      " 'Avadi, Chennai' 'Coimbatore Central, Coimbatore' 'Lokhandwala, Mumbai'\n",
      " 'Tiruvottiyur, Chennai' 'Ullal Upanagara, Bangalore'\n",
      " 'Perurkada, Thiruvananthapuram' 'Ashok Vihar Phase 3, Delhi'\n",
      " 'Walkeshwar, Mumbai' 'Saidabad, Hyderabad'\n",
      " 'Koramangala 6 Block, Bangalore' 'New Ashok Nagar, Delhi'\n",
      " 'Peddar Road, Mumbai' 'Aya Nagar, Delhi' 'JP Nagar, Bangalore'\n",
      " 'Sasthamangalam, Thiruvananthapuram' 'Yakutpura, Hyderabad'\n",
      " 'Sampangiramnagar, Bangalore' 'Kasturi nagar, Bangalore'\n",
      " 'Pallavaram, Chennai' 'Moti Bagh, Delhi' 'Mukherjee Nagar, Delhi'\n",
      " 'Byculla, Mumbai' 'Peeragarhi, Delhi' 'Amberpet, Hyderabad'\n",
      " 'JP Nagar 6 Phase, Bangalore' 'Sholinganallur, Chennai'\n",
      " 'Langford Road, Bangalore' 'Cumballa Hill, Mumbai' 'Colaba, Mumbai'\n",
      " 'Qutab Institutional Area, Delhi' 'Dommasandra, Bangalore'\n",
      " 'Malabar Hill, Mumbai' 'Koramangala 8 Block, Bangalore'\n",
      " 'Rohini Sector 22, Delhi' 'Lothkunta, Hyderabad'\n",
      " 'HAL 2nd Stage, Bangalore' 'Jayanagar 7 Block, Bangalore'\n",
      " 'Vadasserikonam, Thiruvananthapuram' 'East Marredpally, Hyderabad'\n",
      " 'Kelambakkam, Chennai' 'Chinchpokli, Mumbai' 'Delhi Cantt, Delhi'\n",
      " 'Padmanabhanagar, Bangalore' 'Sheikh Sarai, Delhi'\n",
      " 'Washermenpet, Chennai' 'Konanakunte, Bangalore'\n",
      " 'Ashok Vihar Phase 1, Delhi' 'Thirumala, Thiruvananthapuram'\n",
      " 'Sarjapura, Bangalore' 'JP Nagar 1 Phase, Bangalore' 'JB Nagar, Mumbai'\n",
      " 'Paruthippara, Thiruvananthapuram' 'Vikhroli, Mumbai'\n",
      " 'JP Nagar 8 Phase, Bangalore' 'GTB Nagar, Delhi' 'Vidyanagar, Hyderabad'\n",
      " 'Masab Tank, Hyderabad' 'Hafeezpet, Hyderabad' 'Jeevan Park, Delhi'\n",
      " 'Dwarka Sector 5, Delhi' 'Civil Lines, Delhi' 'Anand Niketan, Delhi'\n",
      " 'Pappanaickenpalayam, Coimbatore' 'Koovappady, Ernakulam'\n",
      " 'Dwarka, Sector 5, Delhi' 'Srirampuram, Bangalore' 'Korattur, Chennai'\n",
      " 'Pappanaickenpudur, Coimbatore' 'Gandhi Nagar, Delhi'\n",
      " 'Vignan Nagar, Bangalore' 'Ganganagar, Bangalore' 'Elamakkara, Ernakulam'\n",
      " 'Boduppal, Hyderabad' 'Tilak Nagar, Mumbai' 'Khetwadi, Mumbai'\n",
      " 'Kengeri, Bangalore' 'Sion East, Mumbai' 'Rohini Sector 6, Delhi'\n",
      " 'Kazhakuttam, Thiruvananthapuram' 'Goregaon, Mumbai'\n",
      " 'Peroor, Thiruvananthapuram' 'New Thippasandra, Bangalore'\n",
      " 'Jalahalli, Bangalore' 'King Koti, Hyderabad'\n",
      " 'Kallambalam, Thiruvananthapuram' 'Dwarka Sector 13, Delhi'\n",
      " 'Residency Road, Bangalore' 'Radhakrishnan Salai, Chennai'\n",
      " 'Hulimavu, Bangalore' 'Dasarahalli, Bangalore' 'Vileparle, Mumbai'\n",
      " 'Delhi, Delhi' 'Kachiguda, Hyderabad' 'Venkitapuram, Coimbatore'\n",
      " 'Kuniamuthur, Coimbatore' 'TV Chalai, Thiruvananthapuram'\n",
      " 'Serilingampally, Hyderabad' 'RMV 2nd Stage, Bangalore'\n",
      " 'Champapet, Hyderabad' 'Surya Niketan, Delhi' 'Kovilpalayam, Coimbatore'\n",
      " 'Nampally, Hyderabad' 'Siddapura, Bangalore' 'Neredmet, Hyderabad'\n",
      " 'Vellakinar, Coimbatore' 'Egmore, Chennai' 'Katwaria Sarai, Delhi'\n",
      " 'Navalur, Chennai' 'Mehrauli, Delhi' 'HBR Layout, Bangalore'\n",
      " 'Subhash Nagar, Delhi' 'Mallepally, Hyderabad' 'Eroor South, Ernakulam'\n",
      " 'Lajpat Nagar III, Delhi' 'Kodungaiyur, Chennai'\n",
      " 'Kuppakonanpudur, Coimbatore' 'Paradise, Hyderabad'\n",
      " 'Rohini Sector 4, Delhi' 'Koramangala 4 Block, Bangalore'\n",
      " 'Dwarka Sector 3, Delhi' 'Durga Puri, Delhi' 'Kalamassery, Ernakulam'\n",
      " 'Gulmohar Park, Delhi' 'Adugodi, Bangalore' 'Moti Nagar, Hyderabad'\n",
      " 'Nallagandla, Hyderabad' 'Gowrivakkam, Chennai' 'Periyar Nagar, Chennai'\n",
      " 'Austin Town, Bangalore' 'Afzalgunj, Hyderabad'\n",
      " 'Cotton Hill, Thiruvananthapuram' 'Goldwins, Coimbatore'\n",
      " 'Kuravankonam, Thiruvananthapuram' 'Rohini Sector 3, Delhi'\n",
      " 'Lado Sarai, Delhi' 'Koramangala 2 Block, Bangalore' 'Madangir, Delhi'\n",
      " 'Marine Drive, Mumbai' 'Marine Drive, Ernakulam' 'Angamaly, Ernakulam'\n",
      " 'Neelankarai, Chennai' 'Churchgate, Mumbai' 'Kalapatti, Coimbatore'\n",
      " 'Nand Nagri, Delhi' 'Kandivali, Mumbai' 'Madanpura, Mumbai'\n",
      " 'Hegde Nagar, Bangalore' 'Domalguda, Hyderabad' 'Mumbai Central, Mumbai'\n",
      " 'Vasanthnagar, Bangalore' 'Kapashera, Delhi' 'August Kranti Marg, Delhi'\n",
      " 'Krishna Nagar, Hyderabad' 'Lal baug, Mumbai'\n",
      " 'Perumathura, Thiruvananthapuram' 'Molarband, Delhi' 'Piravom, Ernakulam'\n",
      " 'Neeti Bagh, Delhi' 'Kishanbagh, Hyderabad' 'Shantinagar, Bangalore'\n",
      " 'Poojapura, Thiruvananthapuram' 'Rathinapuri, Coimbatore'\n",
      " 'Model Town 1, Delhi' 'Koothattukulam, Ernakulam' 'Anand Lok, Delhi'\n",
      " 'Pappanaickenpalayam West, Coimbatore' 'Subzi Mandi, Delhi'\n",
      " 'Sion, Mumbai' 'Nagole, Hyderabad' 'TVM Pettah, Thiruvananthapuram'\n",
      " 'Changampuzha Nagar, Ernakulam' 'Puzhal, Chennai'\n",
      " 'Vanchiyur, Thiruvananthapuram' 'Sukh Vihar, Delhi'\n",
      " 'Kovalam, Thiruvananthapuram' 'Swasthya Vihar, Delhi' 'Tardeo, Mumbai'\n",
      " 'Vishnu Garden, Delhi' 'Jayanagar 1 Block, Bangalore'\n",
      " 'Sion Koliwada, Mumbai' 'Marol, Mumbai' 'Kalkere, Bangalore'\n",
      " 'Sindhi Colony, Hyderabad' 'Silampur, Delhi' 'Varthur, Bangalore'\n",
      " 'Model Town 2, Delhi' 'Surajmal Vihar, Delhi' 'Chandni Chowk, Delhi'\n",
      " 'Veerakeralam, Coimbatore' 'T Dasarahalli, Bangalore'\n",
      " 'Kaggalipura, Bangalore' 'Thonnakkal, Thiruvananthapuram'\n",
      " 'Manjapra, Ernakulam' 'Yellareddyguda, Hyderabad'\n",
      " 'Kovilambakkam, Chennai' 'Broadway, Chennai' 'Podanur, Coimbatore'\n",
      " 'Kompally, Hyderabad' 'Kottivakkam, Chennai' 'Mansarover Garden, Delhi'\n",
      " 'Mandapeshwar, Mumbai' 'Rohini Sector 15, Delhi' 'Vaduthala, Ernakulam'\n",
      " 'Hebbal Kempapura, Bangalore' 'Sithalapakkam, Chennai'\n",
      " 'MKB Nagar, Chennai' 'MG Road, Hyderabad' 'Darya Ganj, Delhi'\n",
      " 'Venjaramoodu, Thiruvananthapuram' 'Kotturpuram, Chennai'\n",
      " 'Ramapuram, Chennai' 'Karmanghat, Hyderabad' 'Moula Ali, Hyderabad'\n",
      " 'Netaji Nagar, Delhi' 'Chandra Layout, Bangalore'\n",
      " 'Akshaya nagar, Bangalore' 'Nirman Vihar, Delhi' 'Vasant Enclave, Delhi'\n",
      " 'St Thomas Mount, Chennai' 'Royapuram, Chennai' 'Abhiramapuram, Chennai'\n",
      " 'Inder Puri, Delhi' 'Edayarpalayam, Coimbatore' 'Deoli, Delhi'\n",
      " 'Mulanthuruthy, Ernakulam' 'Sukhdev Vihar, Delhi' 'e'\n",
      " 'Kothamangalam, Ernakulam' 'Harlur, Bangalore' 'Bolarum, Hyderabad'\n",
      " 'Richards Town, Bangalore' 'Narela, Delhi' 'Nehru Place, Delhi'\n",
      " 'Ramanthapur, Hyderabad' 'Bali Nagar, Delhi' 'Palavakkam, Chennai'\n",
      " 'Balanagar, Hyderabad' 'Hyderguda, Hyderabad' 'Cherannagar, Coimbatore'\n",
      " 'Rohini Sector 11, Delhi' 'Dwarka Sector 4, Delhi'\n",
      " 'Palluruthy, Ernakulam' 'Vizhinjam, Thiruvananthapuram'\n",
      " 'Santacruz, Mumbai' 'Ganesh Nagar, Delhi' 'Vengal Rao Nagar, Hyderabad'\n",
      " 'Deonar, Mumbai' 'Edapally North, Ernakulam' 'Red Hills, Hyderabad'\n",
      " 'IDA Jeedimetla, Hyderabad' 'Mettupalayam, Coimbatore'\n",
      " 'Hayathnagar, Hyderabad' 'Kakkanad West, Ernakulam'\n",
      " 'Khajaguda, Hyderabad' 'Rohini Sector 5, Delhi' 'Saraswati Vihar, Delhi'\n",
      " 'Kingsway Camp, Delhi' 'Ramamangalam, Ernakulam' 'Indirapuram, Delhi'\n",
      " 'Parassala, Thiruvananthapuram' 'Connaught Place, Delhi'\n",
      " 'Gottigerre, Bangalore' 'Shivrampally, Hyderabad' 'Vyasarpadi, Chennai'\n",
      " 'Kovaipudur, Coimbatore' 'Vallakkadavoo, Thiruvananthapuram'\n",
      " 'Kattupakkam, Chennai' 'Nellimoodu, Thiruvananthapuram'\n",
      " 'Pondy Bazaar, Chennai' 'Prashant Vihar, Delhi' 'Chullickal, Ernakulam'\n",
      " 'Murugeshpalya, Bangalore' 'Khanpur, Delhi' 'Madiwala, Bangalore'\n",
      " 'Dwarka Sector 23, Delhi' 'Badarpur, Delhi' 'Peyad, Thiruvananthapuram'\n",
      " 'Gandhi Nagar, Chennai' 'Uday Park, Delhi' 'Bandlaguda, Hyderabad'\n",
      " 'Karukappilli, Ernakulam' 'Rana Pratap Bagh, Delhi'\n",
      " 'Kochi M.G.Road, Ernakulam' 'Gopalapuram, Chennai'\n",
      " 'Puthenvelikkara, Ernakulam' 'Sowcarpet, Chennai' 'Chitlapakkam, Chennai'\n",
      " 'Malumichampatti, Coimbatore' 'Rohini Sector 8, Delhi'\n",
      " 'Rohini Sector 2, Delhi' 'Ram Nagar, Hyderabad' 'Dwarka Sector 10, Delhi'\n",
      " 'Agaram, Chennai' 'Poovachal, Thiruvananthapuram' 'Shanti Niketan, Delhi'\n",
      " 'Pothencode, Thiruvananthapuram' 'Dickenson Road, Bangalore'\n",
      " 'RTC X Road, Hyderabad' 'Film Nagar, Hyderabad' 'Lodhi Colony, Delhi'\n",
      " 'SG Palya (Kormangla), Bangalore' 'Palkulangara, Thiruvananthapuram'\n",
      " 'Mahalingapuram, Chennai' 'Matunga West, Mumbai' 'Nettoor, Ernakulam'\n",
      " 'Rani Khera, Delhi' 'Beeramguda, Hyderabad' 'Ramachandrapuram, Hyderabad'\n",
      " 'Neyyattinkara Town, Thiruvananthapuram' 'Gorai, Mumbai'\n",
      " 'Jayanagar 3 Block, Bangalore' 'Shakti Nagar, Delhi'\n",
      " 'Sangam Vihar, Delhi' 'Shakurpur, Delhi' 'Chaitanyapuri, Hyderabad'\n",
      " 'TVM Fort, Thiruvananthapuram' 'JP Nagar 4 Phase, Bangalore'\n",
      " 'Nayandahalli, Bangalore' 'Valiathura, Thiruvananthapuram'\n",
      " 'Kowdiar, Thiruvananthapuram' 'Cunningham Road, Bangalore'\n",
      " 'Hennur, Bangalore' 'Peenya, Bangalore' 'Pattimattam, Ernakulam'\n",
      " 'HAL, Bangalore']\n",
      "HSR Layout, Bangalore              75\n",
      "Andheri West, Mumbai               70\n",
      "Dwarka, Delhi                      67\n",
      "Banjara Hills, Hyderabad           64\n",
      "Mulund West, Mumbai                54\n",
      "                                   ..\n",
      "Nand Nagri, Delhi                   1\n",
      "Srirampuram, Bangalore              1\n",
      "Sindhi Colony, Hyderabad            1\n",
      "Nanjundapuram, Coimbatore           1\n",
      "Perumathura, Thiruvananthapuram     1\n",
      "Name: Place, Length: 877, dtype: int64\n",
      "[  0   1   2   3   4   5   6   7   8   9  10  11  12  13  14  15  16  17\n",
      "  18  19  20  21  22  23  24  25  26  27  28  29  30  31  32  33  34  35\n",
      "  36  37  38  39  40  41  42  43  44  45  46  47  48  49  50  51  52  53\n",
      "  54  55  56  57  58  59  60  61  62  63  64  65  66  67  68  69  70  71\n",
      "  72  73  74  75  76  77  -1  78  79  80  81  82  83  84  85  86  87  88\n",
      "  89  90  91  92  93  94  95  96  97  98  99 100 101 102 103 104 105 106\n",
      " 107 108 109 110 111 112 113 114 115 116 117 118 119 120 121 122 123 124\n",
      " 125 126 127 128 129 130 131 132 133 134 135 136 137 138 139 140 141 142\n",
      " 143 144 145 146 147 148 149 150 151 152 153 154 155 156 157 158 159 160\n",
      " 161 162 163 164 165 166 167 168 169 170 171 172 173 174 175 176 177 178\n",
      " 179 180 181 182 183 184 185 186 187 188 189 190 191 192 193 194 195 196\n",
      " 197 198 199 200 201 202 203 204 205 206 207 208 209 210 211 212 213 214\n",
      " 215 216 217 218 219 220 221 222 223 224 225 226 227 228 229 230 231 232\n",
      " 233 234 235 236 237 238 239 240 241 242 243 244 245 246 247 248 249 250\n",
      " 251 252 253 254 255 256 257 258 259 260 261 262 263 264 265 266 267 268\n",
      " 269 270 271 272 273 274 275 276 277 278 279 280 281 282 283 284 285 286\n",
      " 287 288 289 290 291 292 293 294 295 296 297 298 299 300 301 302 303 304\n",
      " 305 306 307 308 309 310 311 312 313 314 315 316 317 318 319 320 321 322\n",
      " 323 324 325 326 327 328 329 330 331 332 333 334 335 336 337 338 339 340\n",
      " 341 342 343 344 345 346 347 348 349 350 351 352 353 354 355 356 357 358\n",
      " 359 360 361 362 363 364 365 366 367 368 369 370 371 372 373 374 375 376\n",
      " 377 378 379 380 381 382 383 384 385 386 387 388 389 390 391 392 393 394\n",
      " 395 396 397 398 399 400 401 402 403 404 405 406 407 408 409 410 411 412\n",
      " 413 414 415 416 417 418 419 420 421 422 423 424 425 426 427 428 429 430\n",
      " 431 432 433 434 435 436 437 438 439 440 441 442 443 444 445 446 447 448\n",
      " 449 450 451 452 453 454 455 456 457 458 459 460 461 462 463 464 465 466\n",
      " 467 468 469 470 471 472 473 474 475 476 477 478 479 480 481 482 483 484\n",
      " 485 486 487 488 489 490 491 492 493 494 495 496 497 498 499 500 501 502\n",
      " 503 504 505 506 507 508 509 510 511 512 513 514 515 516 517 518 519 520\n",
      " 521 522 523 524 525 526 527 528 529 530 531 532 533 534 535 536 537 538\n",
      " 539 540 541 542 543 544 545 546 547 548 549 550 551 552 553 554 555 556\n",
      " 557 558 559 560 561 562 563 564 565 566 567 568 569 570 571 572 573 574\n",
      " 575 576 577 578 579 580 581 582 583 584 585 586 587 588 589 590 591 592\n",
      " 593 594 595 596 597 598 599 600 601 602 603 604 605 606 607 608 609 610\n",
      " 611 612 613 614 615 616 617 618 619 620 621 622 623 624 625 626 627 628\n",
      " 629 630 631 632 633 634 635 636 637 638 639 640 641 642 643 644 645 646\n",
      " 647 648 649 650 651 652 653 654 655 656 657 658 659 660 661 662 663 664\n",
      " 665 666 667 668 669 670 671 672 673 674 675 676 677 678 679 680 681 682\n",
      " 683 684 685 686 687 688 689 690 691 692 693 694 695 696 697 698 699 700\n",
      " 701 702 703 704 705 706 707 708 709 710 711 712 713 714 715 716 717 718\n",
      " 719 720 721 722 723 724 725 726 727 728 729 730 731 732 733 734 735 736\n",
      " 737 738 739 740 741 742 743 744 745 746 747 748 749 750 751 752 753 754\n",
      " 755 756 757 758 759 760 761 762 763 764 765 766 767 768 769 770 771 772\n",
      " 773 774 775 776 777 778 779 780 781 782 783 784 785 786 787 788 789 790\n",
      " 791 792 793 794 795 796 797 798 799 800 801 802 803 804 805 806 807 808\n",
      " 809 810 811 812 813 814 815 816 817 818 819 820 821 822 823 824 825 826\n",
      " 827 828 829 830 831 832 833 834 835 836 837 838 839 840 841 842 843 844\n",
      " 845 846 847 848 849 850 851 852 853 854 855 856 857 858 859 860 861 862\n",
      " 863 864 865 866 867 868 869 870 871 872 873 874 875 876]\n",
      "19     75\n",
      "58     70\n",
      "132    67\n",
      "29     64\n",
      "165    54\n",
      "       ..\n",
      "861     1\n",
      "865     1\n",
      "869     1\n",
      "871     1\n",
      "873     1\n",
      "Name: Place, Length: 878, dtype: int64\n",
      "\n",
      "\n",
      "['Homeopath' 'Ayurveda' 'ENT Specialist' 'Dentist' 'General Medicine'\n",
      " 'Dermatologists']\n",
      "Dentist             1397\n",
      "General Medicine    1173\n",
      "Dermatologists      1034\n",
      "Homeopath            843\n",
      "Ayurveda             786\n",
      "ENT Specialist       728\n",
      "Name: Profile, dtype: int64\n",
      "[0 1 2 3 4 5]\n",
      "3    1397\n",
      "4    1173\n",
      "5    1034\n",
      "0     843\n",
      "1     786\n",
      "2     728\n",
      "Name: Profile, dtype: int64\n",
      "\n",
      "\n",
      "['100% 16 Feedback Kakkanad, Ernakulam'\n",
      " '98% 76 Feedback Whitefield, Bangalore' nan ...\n",
      " '98% 45 Feedback Basavanagudi, Bangalore'\n",
      " '97% 11 Feedback Greater Kailash Part 2, Delhi'\n",
      " 'General Medical Consultation Viral Fever Treatment Infectious Disease Treatment']\n",
      "Acrylic Partial Denture Crowns and Bridges Fixing Artificial Teeth                      40\n",
      "Tooth Extraction Dental Fillings Scaling / Polishing                                    12\n",
      "Dental Fillings Zirconia Crowns Dental Implant Fixing                                   12\n",
      "Skin Disease Treatment Kidney Stone Treatment Gall Bladder (Biliary) Stone Treatment     9\n",
      "Skin Allergy Treatment Skin Allergies Dermabrasion                                       9\n",
      "                                                                                        ..\n",
      "Dental Fillings Zirconia Crowns Scaling / Polishing                                      1\n",
      "Laser Dentistry Bleeding Gums Treatment Gap Closing                                      1\n",
      "92% 5 Feedback Bannerghatta Road, Bangalore                                              1\n",
      "Bleeding Gums Treatment Gum Disease Treatment/ Surgery Dental Implant Fixing             1\n",
      "98% 39 Feedback Vileparle West, Mumbai                                                   1\n",
      "Name: Miscellaneous_Info, Length: 2998, dtype: int64\n",
      "[   0    1   -1 ... 2995 2996 2997]\n",
      "-1      2620\n",
      " 81       40\n",
      " 38       12\n",
      " 313      12\n",
      " 524       9\n",
      "        ... \n",
      " 970       1\n",
      " 966       1\n",
      " 962       1\n",
      " 958       1\n",
      " 0         1\n",
      "Name: Miscellaneous_Info, Length: 2999, dtype: int64\n",
      "\n",
      "\n"
     ]
    }
   ],
   "source": [
    "#changing values in numeric form\n",
    "Index=['Qualification', 'Experience', 'Rating', 'Place', 'Profile','Miscellaneous_Info']\n",
    "for col in Index:\n",
    "    #checking value_counts before factorize\n",
    "    print(train[col].unique())\n",
    "    print(train[col].value_counts())\n",
    "    \n",
    "    train[col]=pd.factorize(train[col])[0]\n",
    "    \n",
    "    #checking value_counts after facotize\n",
    "    print(train[col].unique())\n",
    "    print(train[col].value_counts())\n",
    "    print(\"\\n\")"
   ]
  },
  {
   "cell_type": "code",
   "execution_count": 20,
   "metadata": {},
   "outputs": [
    {
     "data": {
      "text/plain": [
       "785.9976514007717"
      ]
     },
     "execution_count": 20,
     "metadata": {},
     "output_type": "execute_result"
    }
   ],
   "source": [
    "train[\"Miscellaneous_Info\"].mean()"
   ]
  },
  {
   "cell_type": "code",
   "execution_count": 21,
   "metadata": {},
   "outputs": [],
   "source": [
    "train[\"Miscellaneous_Info\"].replace({-1:81},inplace=True)"
   ]
  },
  {
   "cell_type": "code",
   "execution_count": 22,
   "metadata": {},
   "outputs": [
    {
     "data": {
      "text/html": [
       "<div>\n",
       "<style scoped>\n",
       "    .dataframe tbody tr th:only-of-type {\n",
       "        vertical-align: middle;\n",
       "    }\n",
       "\n",
       "    .dataframe tbody tr th {\n",
       "        vertical-align: top;\n",
       "    }\n",
       "\n",
       "    .dataframe thead th {\n",
       "        text-align: right;\n",
       "    }\n",
       "</style>\n",
       "<table border=\"1\" class=\"dataframe\">\n",
       "  <thead>\n",
       "    <tr style=\"text-align: right;\">\n",
       "      <th></th>\n",
       "      <th>Qualification</th>\n",
       "      <th>Experience</th>\n",
       "      <th>Rating</th>\n",
       "      <th>Place</th>\n",
       "      <th>Profile</th>\n",
       "      <th>Miscellaneous_Info</th>\n",
       "      <th>Fees</th>\n",
       "    </tr>\n",
       "  </thead>\n",
       "  <tbody>\n",
       "    <tr>\n",
       "      <th>0</th>\n",
       "      <td>0</td>\n",
       "      <td>0</td>\n",
       "      <td>0</td>\n",
       "      <td>0</td>\n",
       "      <td>0</td>\n",
       "      <td>0</td>\n",
       "      <td>100</td>\n",
       "    </tr>\n",
       "    <tr>\n",
       "      <th>1</th>\n",
       "      <td>1</td>\n",
       "      <td>1</td>\n",
       "      <td>1</td>\n",
       "      <td>1</td>\n",
       "      <td>1</td>\n",
       "      <td>1</td>\n",
       "      <td>350</td>\n",
       "    </tr>\n",
       "    <tr>\n",
       "      <th>2</th>\n",
       "      <td>2</td>\n",
       "      <td>2</td>\n",
       "      <td>0</td>\n",
       "      <td>2</td>\n",
       "      <td>2</td>\n",
       "      <td>81</td>\n",
       "      <td>300</td>\n",
       "    </tr>\n",
       "    <tr>\n",
       "      <th>3</th>\n",
       "      <td>3</td>\n",
       "      <td>1</td>\n",
       "      <td>0</td>\n",
       "      <td>3</td>\n",
       "      <td>1</td>\n",
       "      <td>2</td>\n",
       "      <td>250</td>\n",
       "    </tr>\n",
       "    <tr>\n",
       "      <th>4</th>\n",
       "      <td>4</td>\n",
       "      <td>3</td>\n",
       "      <td>0</td>\n",
       "      <td>4</td>\n",
       "      <td>1</td>\n",
       "      <td>3</td>\n",
       "      <td>250</td>\n",
       "    </tr>\n",
       "    <tr>\n",
       "      <th>...</th>\n",
       "      <td>...</td>\n",
       "      <td>...</td>\n",
       "      <td>...</td>\n",
       "      <td>...</td>\n",
       "      <td>...</td>\n",
       "      <td>...</td>\n",
       "      <td>...</td>\n",
       "    </tr>\n",
       "    <tr>\n",
       "      <th>5956</th>\n",
       "      <td>15</td>\n",
       "      <td>12</td>\n",
       "      <td>1</td>\n",
       "      <td>200</td>\n",
       "      <td>2</td>\n",
       "      <td>2995</td>\n",
       "      <td>300</td>\n",
       "    </tr>\n",
       "    <tr>\n",
       "      <th>5957</th>\n",
       "      <td>16</td>\n",
       "      <td>28</td>\n",
       "      <td>0</td>\n",
       "      <td>69</td>\n",
       "      <td>4</td>\n",
       "      <td>81</td>\n",
       "      <td>100</td>\n",
       "    </tr>\n",
       "    <tr>\n",
       "      <th>5958</th>\n",
       "      <td>16</td>\n",
       "      <td>13</td>\n",
       "      <td>5</td>\n",
       "      <td>203</td>\n",
       "      <td>4</td>\n",
       "      <td>2996</td>\n",
       "      <td>600</td>\n",
       "    </tr>\n",
       "    <tr>\n",
       "      <th>5959</th>\n",
       "      <td>7</td>\n",
       "      <td>17</td>\n",
       "      <td>8</td>\n",
       "      <td>275</td>\n",
       "      <td>4</td>\n",
       "      <td>2997</td>\n",
       "      <td>100</td>\n",
       "    </tr>\n",
       "    <tr>\n",
       "      <th>5960</th>\n",
       "      <td>208</td>\n",
       "      <td>39</td>\n",
       "      <td>0</td>\n",
       "      <td>113</td>\n",
       "      <td>3</td>\n",
       "      <td>81</td>\n",
       "      <td>200</td>\n",
       "    </tr>\n",
       "  </tbody>\n",
       "</table>\n",
       "<p>5961 rows × 7 columns</p>\n",
       "</div>"
      ],
      "text/plain": [
       "      Qualification  Experience  Rating  Place  Profile  Miscellaneous_Info  \\\n",
       "0                 0           0       0      0        0                   0   \n",
       "1                 1           1       1      1        1                   1   \n",
       "2                 2           2       0      2        2                  81   \n",
       "3                 3           1       0      3        1                   2   \n",
       "4                 4           3       0      4        1                   3   \n",
       "...             ...         ...     ...    ...      ...                 ...   \n",
       "5956             15          12       1    200        2                2995   \n",
       "5957             16          28       0     69        4                  81   \n",
       "5958             16          13       5    203        4                2996   \n",
       "5959              7          17       8    275        4                2997   \n",
       "5960            208          39       0    113        3                  81   \n",
       "\n",
       "      Fees  \n",
       "0      100  \n",
       "1      350  \n",
       "2      300  \n",
       "3      250  \n",
       "4      250  \n",
       "...    ...  \n",
       "5956   300  \n",
       "5957   100  \n",
       "5958   600  \n",
       "5959   100  \n",
       "5960   200  \n",
       "\n",
       "[5961 rows x 7 columns]"
      ]
     },
     "execution_count": 22,
     "metadata": {},
     "output_type": "execute_result"
    }
   ],
   "source": [
    "#checking dataset\n",
    "train"
   ]
  },
  {
   "cell_type": "code",
   "execution_count": 23,
   "metadata": {},
   "outputs": [
    {
     "name": "stdout",
     "output_type": "stream",
     "text": [
      "Qualification\n"
     ]
    },
    {
     "data": {
      "image/png": "[encoded data removed]",
      "text/plain": [
       "<Figure size 720x144 with 1 Axes>"
      ]
     },
     "metadata": {},
     "output_type": "display_data"
    },
    {
     "name": "stdout",
     "output_type": "stream",
     "text": [
      "\n",
      "\n",
      "Experience\n"
     ]
    },
    {
     "data": {
      "image/png": "[encoded data removed]",
      "text/plain": [
       "<Figure size 720x144 with 1 Axes>"
      ]
     },
     "metadata": {},
     "output_type": "display_data"
    },
    {
     "name": "stdout",
     "output_type": "stream",
     "text": [
      "\n",
      "\n",
      "Rating\n"
     ]
    },
    {
     "data": {
      "image/png": "[encoded data removed]",
      "text/plain": [
       "<Figure size 720x144 with 1 Axes>"
      ]
     },
     "metadata": {},
     "output_type": "display_data"
    },
    {
     "name": "stdout",
     "output_type": "stream",
     "text": [
      "\n",
      "\n",
      "Place\n"
     ]
    },
    {
     "data": {
      "image/png": "[encoded data removed]",
      "text/plain": [
       "<Figure size 720x144 with 1 Axes>"
      ]
     },
     "metadata": {},
     "output_type": "display_data"
    },
    {
     "name": "stdout",
     "output_type": "stream",
     "text": [
      "\n",
      "\n",
      "Profile\n"
     ]
    },
    {
     "data": {
      "image/png": "[encoded data removed]",
      "text/plain": [
       "<Figure size 720x144 with 1 Axes>"
      ]
     },
     "metadata": {},
     "output_type": "display_data"
    },
    {
     "name": "stdout",
     "output_type": "stream",
     "text": [
      "\n",
      "\n",
      "Miscellaneous_Info\n"
     ]
    },
    {
     "data": {
      "image/png": "[encoded data removed]",
      "text/plain": [
       "<Figure size 720x144 with 1 Axes>"
      ]
     },
     "metadata": {},
     "output_type": "display_data"
    },
    {
     "name": "stdout",
     "output_type": "stream",
     "text": [
      "\n",
      "\n",
      "Fees\n"
     ]
    },
    {
     "data": {
      "image/png": "[encoded data removed]",
      "text/plain": [
       "<Figure size 720x144 with 1 Axes>"
      ]
     },
     "metadata": {},
     "output_type": "display_data"
    },
    {
     "name": "stdout",
     "output_type": "stream",
     "text": [
      "\n",
      "\n"
     ]
    }
   ],
   "source": [
    "# checking distibution of all columns\n",
    "for col in train.columns:\n",
    "    print(col)\n",
    "    plt.figure(figsize=(10,2))\n",
    "    sns.distplot(train[col],color=\"r\")\n",
    "    plt.show()\n",
    "    print(\"\\n\")"
   ]
  },
  {
   "cell_type": "markdown",
   "metadata": {},
   "source": [
    "## Ploting Box\n"
   ]
  },
  {
   "cell_type": "code",
   "execution_count": 24,
   "metadata": {},
   "outputs": [
    {
     "name": "stdout",
     "output_type": "stream",
     "text": [
      "Qualification\n"
     ]
    },
    {
     "data": {
      "image/png": "[encoded data removed]",
      "text/plain": [
       "<Figure size 720x72 with 1 Axes>"
      ]
     },
     "metadata": {},
     "output_type": "display_data"
    },
    {
     "name": "stdout",
     "output_type": "stream",
     "text": [
      "Experience\n"
     ]
    },
    {
     "data": {
      "image/png": "[encoded data removed]",
      "text/plain": [
       "<Figure size 720x72 with 1 Axes>"
      ]
     },
     "metadata": {},
     "output_type": "display_data"
    },
    {
     "name": "stdout",
     "output_type": "stream",
     "text": [
      "Rating\n"
     ]
    },
    {
     "data": {
      "image/png": "[encoded data removed]",
      "text/plain": [
       "<Figure size 720x72 with 1 Axes>"
      ]
     },
     "metadata": {},
     "output_type": "display_data"
    },
    {
     "name": "stdout",
     "output_type": "stream",
     "text": [
      "Place\n"
     ]
    },
    {
     "data": {
      "image/png": "[encoded data removed]",
      "text/plain": [
       "<Figure size 720x72 with 1 Axes>"
      ]
     },
     "metadata": {},
     "output_type": "display_data"
    },
    {
     "name": "stdout",
     "output_type": "stream",
     "text": [
      "Profile\n"
     ]
    },
    {
     "data": {
      "image/png": "[encoded data removed]",
      "text/plain": [
       "<Figure size 720x72 with 1 Axes>"
      ]
     },
     "metadata": {},
     "output_type": "display_data"
    },
    {
     "name": "stdout",
     "output_type": "stream",
     "text": [
      "Miscellaneous_Info\n"
     ]
    },
    {
     "data": {
      "image/png": "[encoded data removed]",
      "text/plain": [
       "<Figure size 720x72 with 1 Axes>"
      ]
     },
     "metadata": {},
     "output_type": "display_data"
    },
    {
     "name": "stdout",
     "output_type": "stream",
     "text": [
      "Fees\n"
     ]
    },
    {
     "data": {
      "image/png": "[encoded data removed]",
      "text/plain": [
       "<Figure size 720x72 with 1 Axes>"
      ]
     },
     "metadata": {},
     "output_type": "display_data"
    }
   ],
   "source": [
    "#ploting outliers with boxplot\n",
    "for col in train.columns:\n",
    "    print(col)\n",
    "    plt.figure(figsize=(10,1))\n",
    "    sns.boxplot(train[col])\n",
    "    plt.show()"
   ]
  },
  {
   "cell_type": "code",
   "execution_count": 25,
   "metadata": {},
   "outputs": [
    {
     "data": {
      "text/plain": [
       "<matplotlib.axes._subplots.AxesSubplot at 0x232fdfe1670>"
      ]
     },
     "execution_count": 25,
     "metadata": {},
     "output_type": "execute_result"
    },
    {
     "data": {
      "image/png": "[encoded data removed]",
      "text/plain": [
       "<Figure size 720x216 with 2 Axes>"
      ]
     },
     "metadata": {},
     "output_type": "display_data"
    }
   ],
   "source": [
    "\n",
    "#ploting correlations wit heatmap\n",
    "plt.figure(figsize=(10,3))\n",
    "sns.heatmap(train.corr(),annot=True,cmap=\"Greens\",linewidth=.3)"
   ]
  },
  {
   "cell_type": "code",
   "execution_count": 26,
   "metadata": {},
   "outputs": [
    {
     "data": {
      "text/plain": [
       "(array([ 272,  275,  293,  333,  346,  377,  458,  465,  585,  590,  632,\n",
       "         667,  692,  731,  748,  752,  787,  788,  789,  806,  835,  836,\n",
       "         874,  906,  911,  918,  968,  979,  987,  990, 1018, 1149, 1183,\n",
       "        1209, 1240, 1303, 1314, 1337, 1392, 1425, 1433, 1444, 1463, 1547,\n",
       "        1594, 1614, 1631, 1695, 1699, 1703, 1717, 1741, 1744, 1747, 1768,\n",
       "        1778, 1793, 1796, 1823, 1830, 1852, 1877, 1884, 1917, 1922, 1985,\n",
       "        2057, 2089, 2161, 2165, 2177, 2237, 2252, 2272, 2277, 2309, 2323,\n",
       "        2329, 2391, 2393, 2425, 2428, 2473, 2478, 2489, 2500, 2501, 2522,\n",
       "        2532, 2548, 2567, 2585, 2623, 2695, 2708, 2715, 2726, 2738, 2758,\n",
       "        2829, 2833, 2962, 2976, 2991, 3027, 3034, 3056, 3085, 3087, 3093,\n",
       "        3120, 3126, 3144, 3206, 3222, 3224, 3254, 3270, 3315, 3344, 3350,\n",
       "        3365, 3367, 3537, 3567, 3593, 3604, 3615, 3627, 3628, 3661, 3692,\n",
       "        3766, 3820, 3854, 3861, 3865, 3964, 3966, 4040, 4047, 4058, 4060,\n",
       "        4125, 4135, 4219, 4270, 4296, 4316, 4361, 4419, 4459, 4474, 4478,\n",
       "        4509, 4581, 4590, 4609, 4644, 4652, 4679, 4694, 4730, 4775, 4808,\n",
       "        4825, 4835, 4843, 4851, 4852, 4880, 4892, 4914, 4964, 5027, 5028,\n",
       "        5127, 5195, 5244, 5249, 5250, 5298, 5311, 5316, 5324, 5351, 5359,\n",
       "        5407, 5410, 5413, 5422, 5428, 5436, 5441, 5445, 5449, 5460, 5463,\n",
       "        5473, 5483, 5484, 5485, 5493, 5496, 5502, 5502, 5506, 5509, 5511,\n",
       "        5514, 5516, 5520, 5520, 5529, 5531, 5531, 5536, 5540, 5541, 5553,\n",
       "        5554, 5578, 5579, 5587, 5598, 5600, 5602, 5606, 5608, 5612, 5614,\n",
       "        5615, 5618, 5626, 5629, 5630, 5631, 5637, 5640, 5647, 5647, 5650,\n",
       "        5651, 5655, 5663, 5664, 5667, 5670, 5671, 5672, 5673, 5675, 5680,\n",
       "        5682, 5687, 5690, 5693, 5695, 5696, 5699, 5704, 5706, 5707, 5711,\n",
       "        5712, 5713, 5716, 5718, 5724, 5728, 5731, 5734, 5736, 5739, 5748,\n",
       "        5749, 5754, 5762, 5764, 5770, 5771, 5772, 5775, 5781, 5783, 5784,\n",
       "        5791, 5792, 5797, 5801, 5804, 5805, 5807, 5825, 5835, 5840, 5840,\n",
       "        5840, 5852, 5855, 5857, 5858, 5861, 5862, 5862, 5864, 5865, 5873,\n",
       "        5879, 5882, 5888, 5891, 5892, 5896, 5898, 5900, 5902, 5911, 5912,\n",
       "        5914, 5921, 5923, 5925, 5929, 5931, 5936, 5937, 5939, 5945, 5950,\n",
       "        5951, 5951, 5953], dtype=int64),\n",
       " array([2, 6, 6, 2, 2, 2, 2, 2, 2, 2, 2, 2, 2, 2, 2, 2, 2, 2, 2, 2, 2, 2,\n",
       "        2, 2, 2, 2, 2, 2, 6, 2, 2, 2, 2, 2, 2, 2, 6, 2, 2, 2, 2, 2, 2, 2,\n",
       "        2, 2, 6, 2, 2, 2, 2, 2, 2, 2, 2, 2, 2, 2, 2, 2, 2, 2, 2, 2, 2, 2,\n",
       "        2, 2, 2, 6, 2, 2, 6, 2, 2, 2, 2, 2, 2, 6, 2, 6, 2, 2, 2, 2, 2, 6,\n",
       "        2, 2, 2, 2, 6, 2, 6, 2, 2, 2, 2, 2, 2, 2, 2, 2, 2, 2, 2, 2, 2, 2,\n",
       "        2, 2, 2, 2, 2, 2, 2, 2, 2, 2, 2, 6, 2, 2, 2, 2, 2, 2, 2, 2, 2, 2,\n",
       "        2, 2, 2, 2, 2, 2, 2, 6, 2, 2, 2, 2, 2, 2, 2, 2, 2, 2, 2, 2, 2, 2,\n",
       "        2, 6, 2, 2, 2, 2, 2, 2, 6, 1, 2, 2, 6, 2, 2, 2, 2, 2, 2, 2, 2, 2,\n",
       "        2, 6, 2, 2, 6, 2, 6, 2, 2, 2, 2, 2, 1, 2, 2, 2, 0, 0, 0, 2, 0, 0,\n",
       "        0, 0, 0, 0, 0, 0, 0, 2, 0, 0, 0, 0, 0, 0, 2, 0, 0, 2, 3, 0, 0, 0,\n",
       "        0, 3, 0, 1, 0, 0, 0, 0, 0, 2, 0, 2, 3, 3, 0, 0, 0, 1, 0, 2, 3, 0,\n",
       "        0, 0, 2, 3, 0, 0, 0, 0, 0, 0, 0, 0, 0, 3, 0, 3, 0, 0, 2, 3, 0, 0,\n",
       "        0, 0, 0, 0, 0, 0, 0, 3, 3, 0, 0, 0, 0, 0, 0, 0, 0, 0, 0, 0, 3, 0,\n",
       "        0, 3, 0, 0, 0, 0, 1, 3, 0, 0, 2, 3, 3, 0, 0, 0, 0, 0, 2, 0, 0, 0,\n",
       "        0, 3, 0, 3, 2, 0, 0, 0, 0, 0, 0, 0, 0, 0, 3, 0, 0, 0, 0, 0, 0, 0,\n",
       "        0, 3, 0], dtype=int64))"
      ]
     },
     "execution_count": 26,
     "metadata": {},
     "output_type": "execute_result"
    }
   ],
   "source": [
    "#=>checking outliers with zscore\n",
    "z=np.abs(zscore(train))\n",
    "np.where(z>3)\n"
   ]
  },
  {
   "cell_type": "code",
   "execution_count": 27,
   "metadata": {},
   "outputs": [
    {
     "name": "stdout",
     "output_type": "stream",
     "text": [
      "(5636, 7)\n",
      "(5961, 7)\n"
     ]
    }
   ],
   "source": [
    "#removing outliers\n",
    "train_n=train[(z<3).all(axis=1)]\n",
    "print(train_n.shape)\n",
    "print(train.shape)"
   ]
  },
  {
   "cell_type": "markdown",
   "metadata": {},
   "source": [
    "##### Rating and Profile little bit correlated with Fees"
   ]
  },
  {
   "cell_type": "markdown",
   "metadata": {},
   "source": [
    "## Model Training "
   ]
  },
  {
   "cell_type": "code",
   "execution_count": 28,
   "metadata": {},
   "outputs": [],
   "source": [
    "x=train_n.drop(\"Fees\",axis=1)\n",
    "y=train_n[\"Fees\"]"
   ]
  },
  {
   "cell_type": "code",
   "execution_count": 29,
   "metadata": {},
   "outputs": [
    {
     "name": "stdout",
     "output_type": "stream",
     "text": [
      "(5636, 6)\n",
      "(5636,)\n"
     ]
    }
   ],
   "source": [
    "print(x.shape)\n",
    "print(y.shape)"
   ]
  },
  {
   "cell_type": "code",
   "execution_count": 30,
   "metadata": {},
   "outputs": [],
   "source": [
    "#import regression/classification libraries\n",
    "from sklearn.linear_model import LinearRegression\n",
    "from sklearn.svm import SVR,SVC\n",
    "from sklearn.tree import DecisionTreeRegressor,DecisionTreeClassifier\n",
    "from sklearn.neighbors import KNeighborsRegressor,KNeighborsClassifier\n",
    "from sklearn.naive_bayes import MultinomialNB,GaussianNB\n",
    "\n",
    "#import model boosting libraries\n",
    "from sklearn.ensemble import AdaBoostRegressor,AdaBoostClassifier\n",
    "from sklearn.ensemble import RandomForestRegressor,RandomForestClassifier\n",
    "from sklearn.ensemble import GradientBoostingRegressor,GradientBoostingClassifier\n",
    "\n",
    "from sklearn.metrics import r2_score,mean_squared_error,max_error,accuracy_score,confusion_matrix,classification_report "
   ]
  },
  {
   "cell_type": "code",
   "execution_count": 31,
   "metadata": {},
   "outputs": [
    {
     "name": "stdout",
     "output_type": "stream",
     "text": [
      "------------------------- LinearRegression() -------------------------\n",
      "R2: 0.053979840590060224\n",
      "RSME: 178.53476063137143\n",
      "max_e: 621.7310192720279\n",
      "score: 0.05437002670182245\n",
      "\n",
      "\n",
      "------------------------- SVR() -------------------------\n",
      "R2: 0.001126615130939812\n",
      "RSME: 183.4542641191962\n",
      "max_e: 585.8701539887873\n",
      "score: -0.0021824353527251095\n",
      "\n",
      "\n",
      "------------------------- DecisionTreeRegressor() -------------------------\n",
      "R2: -0.6495389541255008\n",
      "RSME: 235.7511815206035\n",
      "max_e: 700.0\n",
      "score: 0.9983170943789733\n",
      "\n",
      "\n",
      "------------------------- KNeighborsRegressor() -------------------------\n",
      "R2: -0.11651348793335581\n",
      "RSME: 193.95660647468\n",
      "max_e: 630.0\n",
      "score: 0.2645415845562802\n",
      "\n",
      "\n",
      "------------------------- AdaBoostRegressor() -------------------------\n",
      "R2: 0.035383296621160354\n",
      "RSME: 180.2810085448766\n",
      "max_e: 514.5110410094637\n",
      "score: 0.06398732990180944\n",
      "\n",
      "\n",
      "------------------------- RandomForestRegressor() -------------------------\n",
      "R2: 0.09635985904648225\n",
      "RSME: 174.48992152772152\n",
      "max_e: 629.0\n",
      "score: 0.8752231871155837\n",
      "\n",
      "\n",
      "------------------------- GradientBoostingRegressor() -------------------------\n",
      "R2: 0.1796349333302113\n",
      "RSME: 166.25555664734694\n",
      "max_e: 616.9501188051577\n",
      "score: 0.25679519366495895\n",
      "\n",
      "\n"
     ]
    }
   ],
   "source": [
    "#spliting data \n",
    "x_train,x_test,y_train,y_test=train_test_split(x,y,test_size=.25,random_state=58)\n",
    "\n",
    "models=[LinearRegression(),SVR(),DecisionTreeRegressor(),KNeighborsRegressor(),AdaBoostRegressor(),RandomForestRegressor(),GradientBoostingRegressor()]\n",
    "\n",
    "#creating loop for all algorithm\n",
    "for i in models:\n",
    "    print(\"-------------------------\",i,\"-------------------------\")\n",
    "    i.fit(x_train,y_train)\n",
    "    pred=i.predict(x_test)\n",
    "    print(\"R2:\",r2_score(y_test,pred))\n",
    "    print(\"RSME:\",np.sqrt(mean_squared_error(y_test,pred)))\n",
    "    print(\"max_e:\",max_error(y_test,pred))\n",
    "    print(\"score:\",i.score(x_train,y_train))\n",
    "    print(\"\\n\")"
   ]
  },
  {
   "cell_type": "code",
   "execution_count": 32,
   "metadata": {},
   "outputs": [
    {
     "data": {
      "text/plain": [
       "100    1249\n",
       "500     886\n",
       "200     879\n",
       "300     827\n",
       "400     380\n",
       "250     297\n",
       "150     244\n",
       "600     201\n",
       "700     141\n",
       "350     132\n",
       "800     127\n",
       "50       79\n",
       "450      64\n",
       "750      32\n",
       "70       18\n",
       "550      18\n",
       "650      14\n",
       "80       11\n",
       "60       11\n",
       "30        4\n",
       "10        2\n",
       "180       2\n",
       "130       2\n",
       "380       2\n",
       "40        2\n",
       "499       1\n",
       "260       1\n",
       "220       1\n",
       "125       1\n",
       "280       1\n",
       "5         1\n",
       "299       1\n",
       "230       1\n",
       "430       1\n",
       "630       1\n",
       "850       1\n",
       "20        1\n",
       "Name: Fees, dtype: int64"
      ]
     },
     "execution_count": 32,
     "metadata": {},
     "output_type": "execute_result"
    }
   ],
   "source": [
    "y.value_counts()"
   ]
  },
  {
   "cell_type": "markdown",
   "metadata": {},
   "source": [
    "As we can see Regression algorithms is not working well.\n",
    "\n",
    "so, We can try Classification algorithms bcoz target value also in categories"
   ]
  },
  {
   "cell_type": "markdown",
   "metadata": {},
   "source": [
    "## Useing Classification "
   ]
  },
  {
   "cell_type": "code",
   "execution_count": 44,
   "metadata": {},
   "outputs": [
    {
     "name": "stdout",
     "output_type": "stream",
     "text": [
      "-------------------------------- SVC() ----------------------------\n",
      "AC: 0.2264017033356991\n",
      "score: 0.23278921220723917\n",
      "\n",
      "\n",
      "-------------------------------- DecisionTreeClassifier() ----------------------------\n",
      "AC: 0.1937544357700497\n",
      "score: 0.9971611071682044\n",
      "\n",
      "\n",
      "-------------------------------- KNeighborsClassifier() ----------------------------\n",
      "AC: 0.1937544357700497\n",
      "score: 0.41850011828720135\n",
      "\n",
      "\n",
      "-------------------------------- RandomForestClassifier() ----------------------------\n",
      "AC: 0.2526614620298084\n",
      "score: 0.9971611071682044\n",
      "\n",
      "\n",
      "-------------------------------- AdaBoostClassifier() ----------------------------\n",
      "AC: 0.22498225691980128\n",
      "score: 0.2372841258575822\n",
      "\n",
      "\n",
      "-------------------------------- GradientBoostingClassifier() ----------------------------\n",
      "AC: 0.24627395315826828\n",
      "score: 0.5450674237047551\n",
      "\n",
      "\n"
     ]
    }
   ],
   "source": [
    "#=> creating loop for all classification model\n",
    "models2=[SVC(),DecisionTreeClassifier(),KNeighborsClassifier(),RandomForestClassifier(),AdaBoostClassifier(),GradientBoostingClassifier()]\n",
    "\n",
    "for m in models2:\n",
    "    print(\"--------------------------------\",m,\"----------------------------\")\n",
    "    m.fit(x_train,y_train)\n",
    "    pred=m.predict(x_test)\n",
    "    print(\"AC:\",accuracy_score(y_test,pred))\n",
    "    print(\"score:\",m.score(x_train,y_train))\n",
    "   \n",
    "    print(\"\\n\")"
   ]
  },
  {
   "cell_type": "markdown",
   "metadata": {},
   "source": [
    "## Useing cross validation score"
   ]
  },
  {
   "cell_type": "code",
   "execution_count": 47,
   "metadata": {},
   "outputs": [
    {
     "name": "stdout",
     "output_type": "stream",
     "text": [
      "------- SVC()\n",
      "0.22587085249888594\n",
      "[0.22234043 0.2212766  0.2342918  0.21618743 0.22151225 0.23961661]\n",
      "\n",
      "\n",
      "------- DecisionTreeClassifier()\n",
      "0.18665907597489406\n",
      "[0.16489362 0.19787234 0.1970181  0.19062833 0.17891374 0.19062833]\n",
      "\n",
      "\n",
      "------- KNeighborsClassifier()\n",
      "0.17636840157403\n",
      "[0.17234043 0.16808511 0.17678381 0.15761448 0.17571885 0.20766773]\n",
      "\n",
      "\n",
      "------- RandomForestClassifier()\n",
      "0.23793665360010272\n",
      "[0.22659574 0.23829787 0.23109691 0.25878594 0.24068158 0.23216187]\n",
      "\n",
      "\n",
      "------- AdaBoostClassifier()\n",
      "0.2201882189442518\n",
      "[0.23617021 0.22340426 0.23642173 0.23216187 0.23642173 0.15654952]\n",
      "\n",
      "\n",
      "------- GradientBoostingClassifier()\n",
      "0.22977288348099303\n",
      "[0.24574468 0.21382979 0.26411076 0.26517572 0.22364217 0.16613419]\n",
      "\n",
      "\n"
     ]
    }
   ],
   "source": [
    "for c in models2:\n",
    "    print(\"-------\",c)\n",
    "    cross=cross_val_score(c,x,y,cv=6)\n",
    "    print(cross.mean())\n",
    "    print(cross)\n",
    "    print(\"\\n\")"
   ]
  },
  {
   "cell_type": "code",
   "execution_count": 35,
   "metadata": {},
   "outputs": [
    {
     "name": "stdout",
     "output_type": "stream",
     "text": [
      "max acuracy = 0.2654364797728886 from random_state = 49\n"
     ]
    }
   ],
   "source": [
    "#chooseing best model\n",
    "max_ac=0\n",
    "\n",
    "for r in range(40,150):\n",
    "    x_train,x_test,y_train,y_test=train_test_split(x,y,random_state=r,test_size=.25)\n",
    "    rfc=RandomForestClassifier()\n",
    "    rfc.fit(x_train,y_train)\n",
    "    predr=rfc.predict(x_test)\n",
    "    ac=accuracy_score(y_test,predr)\n",
    "    if ac>max_ac:\n",
    "        max_ac=ac\n",
    "        final_r=r\n",
    "print(\"max acuracy =\",max_ac,\"from random_state =\",final_r)        "
   ]
  },
  {
   "cell_type": "markdown",
   "metadata": {},
   "source": [
    "## Using GridSeachCV for Hyperparameter Tunning"
   ]
  },
  {
   "cell_type": "code",
   "execution_count": 37,
   "metadata": {},
   "outputs": [
    {
     "data": {
      "text/plain": [
       "GridSearchCV(estimator=RandomForestClassifier(),\n",
       "             param_grid={'criterion': ['gini', 'entropy'],\n",
       "                         'n_estimators': [50, 100, 150, 200, 250, 300]})"
      ]
     },
     "execution_count": 37,
     "metadata": {},
     "output_type": "execute_result"
    }
   ],
   "source": [
    "# applying gridsearchcv\n",
    "para={\"n_estimators\":[50,100,150,200,250,300],'criterion':['gini','entropy'],}\n",
    "\n",
    "grid=GridSearchCV(rfc,para)\n",
    "grid.fit(x_train,y_train)"
   ]
  },
  {
   "cell_type": "code",
   "execution_count": 38,
   "metadata": {},
   "outputs": [
    {
     "data": {
      "text/plain": [
       "{'criterion': 'gini', 'n_estimators': 300}"
      ]
     },
     "execution_count": 38,
     "metadata": {},
     "output_type": "execute_result"
    }
   ],
   "source": [
    "# = see best parameters\n",
    "grid.best_params_"
   ]
  },
  {
   "cell_type": "code",
   "execution_count": 39,
   "metadata": {},
   "outputs": [
    {
     "name": "stdout",
     "output_type": "stream",
     "text": [
      "max acuracy = 0.2654364797728886 from random_state = 49\n"
     ]
    }
   ],
   "source": [
    "# apply best parameters\n",
    "for r in range(40,150):\n",
    "    x_train,x_test,y_train,y_test=train_test_split(x,y,random_state=r,test_size=.25)\n",
    "    rfc=RandomForestClassifier(criterion='gini', n_estimators=300)\n",
    "    rfc.fit(x_train,y_train)\n",
    "    pred=rfc.predict(x_test)\n",
    "    ac=accuracy_score(y_test,pred)\n",
    "    if ac>max_ac:\n",
    "        max_ac=ac\n",
    "        final_r=r\n",
    "print(\"max acuracy =\",max_ac,\"from random_state =\",final_r)  "
   ]
  },
  {
   "cell_type": "code",
   "execution_count": 43,
   "metadata": {},
   "outputs": [
    {
     "name": "stdout",
     "output_type": "stream",
     "text": [
      "AC: 0.26330731014904185\n",
      "[[  0   0   0   0   0   0   0   0   0   0   0   0   0   0   0   0   0   0\n",
      "    0   0   0   0   0   0   0   0   0   0   0]\n",
      " [  0   0   0   0   0   0   0   0   0   0   0   0   0   0   0   0   0   0\n",
      "    0   0   0   0   0   0   0   0   0   0   0]\n",
      " [  1   0   1   0   0   0   6   0   0   0   0   2   0   0   0   3   0   0\n",
      "    0   0   0   2   0   0   0   0   0   0   0]\n",
      " [  0   0   0   0   0   0   0   0   0   0   0   0   0   0   0   1   0   0\n",
      "    0   0   0   0   0   0   0   0   0   0   0]\n",
      " [  0   0   0   1   0   0   1   0   0   0   0   0   0   0   0   0   0   0\n",
      "    0   0   0   0   0   0   0   0   0   0   0]\n",
      " [  0   0   0   0   0   0   1   0   0   0   0   0   0   0   0   1   0   0\n",
      "    0   0   0   0   0   0   0   0   0   0   0]\n",
      " [  0   0   4   1   3   1 137   0   0   2   0  49   6   0   0  30   4   0\n",
      "    9   1   0  48   0   3   0   1   1   1   4]\n",
      " [  0   0   0   0   0   0   0   0   0   0   0   0   0   0   0   1   0   0\n",
      "    0   0   0   0   0   0   0   0   0   0   0]\n",
      " [  0   0   0   0   0   0   2   0   0   0   0   0   0   0   0   0   0   0\n",
      "    0   0   0   0   0   0   0   0   0   0   0]\n",
      " [  0   0   3   0   0   0  28   0   0   6   0  17   0   0   0   4   1   0\n",
      "    0   2   0   9   0   0   0   0   0   0   0]\n",
      " [  0   0   0   0   0   0   0   0   0   0   0   0   0   0   0   0   0   0\n",
      "    0   0   0   1   0   0   0   0   0   0   0]\n",
      " [  1   0   2   0   0   0  50   0   0   7   0  73   4   0   0  32   3   0\n",
      "   15   1   0  26   0   1   0   0   0   0   0]\n",
      " [  0   0   1   0   0   0  19   0   0   2   0  19   5   0   0  12   0   0\n",
      "    5   0   0  12   0   2   0   0   0   0   0]\n",
      " [  0   0   0   0   0   0   0   0   0   0   0   0   1   0   0   0   0   0\n",
      "    0   0   0   0   0   0   0   0   0   0   0]\n",
      " [  0   0   0   0   0   0   1   0   0   0   0   0   0   0   0   0   0   0\n",
      "    0   0   0   0   0   0   0   0   0   0   0]\n",
      " [  0   1   0   1   0   0  54   0   0   3   0  43   3   0   0  48   2   0\n",
      "   16   1   0  44   0   2   0   0   2   1   0]\n",
      " [  0   0   0   0   0   0   8   0   0   1   0   4   1   0   0   4   0   0\n",
      "    4   0   0   6   0   1   0   0   1   0   0]\n",
      " [  0   0   0   0   0   0   1   0   0   0   0   0   0   0   0   0   0   0\n",
      "    0   0   0   0   0   0   0   0   0   0   0]\n",
      " [  0   0   0   0   0   0  21   0   0   2   0  10   3   0   0   8   1   0\n",
      "    6   0   0  34   1   2   0   0   0   0   1]\n",
      " [  0   0   0   0   0   0   7   0   0   0   0   4   0   0   0   4   1   0\n",
      "    0   0   0   0   0   0   0   0   0   0   0]\n",
      " [  0   0   0   0   0   0   0   0   0   0   0   1   0   0   0   0   0   0\n",
      "    0   0   0   0   0   0   0   0   0   0   0]\n",
      " [  0   0   0   0   0   0  49   0   0   2   0  20   7   0   0  24   2   0\n",
      "    7   1   0  90   0   5   0   0   3   0   2]\n",
      " [  0   0   0   0   0   0   0   0   0   0   0   1   0   0   0   2   0   0\n",
      "    1   0   0   4   0   0   0   0   0   0   0]\n",
      " [  0   0   0   0   0   0  11   0   0   2   0   7   2   0   0   6   0   0\n",
      "    5   0   0  19   0   3   0   0   0   0   1]\n",
      " [  0   0   0   0   0   0   1   0   0   0   0   0   0   0   0   0   0   0\n",
      "    0   0   0   0   0   0   0   0   0   0   0]\n",
      " [  0   0   0   0   0   0   1   0   0   0   0   0   0   0   0   0   0   0\n",
      "    0   0   0   1   0   1   0   0   0   0   0]\n",
      " [  0   0   0   0   0   0   5   0   0   0   0   2   1   0   0   7   1   0\n",
      "    4   0   0  15   0   2   0   0   0   0   0]\n",
      " [  0   0   0   0   0   0   0   0   0   0   0   1   0   0   0   0   0   0\n",
      "    0   0   0   5   0   0   0   0   1   0   0]\n",
      " [  0   0   0   0   0   0  13   0   0   0   0   2   0   0   0   4   0   0\n",
      "    1   0   0  12   0   0   0   0   0   0   2]]\n",
      "              precision    recall  f1-score   support\n",
      "\n",
      "          30       0.00      0.00      0.00         0\n",
      "          40       0.00      0.00      0.00         0\n",
      "          50       0.09      0.07      0.08        15\n",
      "          60       0.00      0.00      0.00         1\n",
      "          70       0.00      0.00      0.00         2\n",
      "          80       0.00      0.00      0.00         2\n",
      "         100       0.33      0.45      0.38       305\n",
      "         125       0.00      0.00      0.00         1\n",
      "         130       0.00      0.00      0.00         2\n",
      "         150       0.22      0.09      0.12        70\n",
      "         180       0.00      0.00      0.00         1\n",
      "         200       0.29      0.34      0.31       215\n",
      "         250       0.15      0.06      0.09        77\n",
      "         260       0.00      0.00      0.00         1\n",
      "         299       0.00      0.00      0.00         1\n",
      "         300       0.25      0.22      0.23       221\n",
      "         350       0.00      0.00      0.00        30\n",
      "         380       0.00      0.00      0.00         1\n",
      "         400       0.08      0.07      0.07        89\n",
      "         450       0.00      0.00      0.00        16\n",
      "         499       0.00      0.00      0.00         1\n",
      "         500       0.27      0.42      0.33       212\n",
      "         550       0.00      0.00      0.00         8\n",
      "         600       0.14      0.05      0.08        56\n",
      "         630       0.00      0.00      0.00         1\n",
      "         650       0.00      0.00      0.00         3\n",
      "         700       0.00      0.00      0.00        37\n",
      "         750       0.00      0.00      0.00         7\n",
      "         800       0.20      0.06      0.09        34\n",
      "\n",
      "    accuracy                           0.26      1409\n",
      "   macro avg       0.07      0.06      0.06      1409\n",
      "weighted avg       0.23      0.26      0.24      1409\n",
      "\n"
     ]
    }
   ],
   "source": [
    "#apply best random state\n",
    "x_train,x_test,y_train,y_test=train_test_split(x,y,random_state=49,test_size=.25)\n",
    "rf=RandomForestClassifier(criterion='gini', n_estimators= 300)\n",
    "rf.fit(x_train,y_train)\n",
    "predrf=rf.predict(x_test)\n",
    "print(\"AC:\",accuracy_score(y_test,predrf))\n",
    "print(confusion_matrix(y_test,predrf))\n",
    "print(classification_report(y_test,predrf))\n",
    "  "
   ]
  },
  {
   "cell_type": "code",
   "execution_count": 50,
   "metadata": {},
   "outputs": [],
   "source": [
    "# changing test data like train\n",
    "\n",
    "#changing in numeric form\n",
    "Index=['Qualification', 'Experience', 'Rating', 'Place', 'Profile','Miscellaneous_Info']\n",
    "for col in Index:\n",
    "    test[col]=pd.factorize(test[col])[0]\n",
    "    \n",
    "   \n",
    "\n",
    "test[\"Rating\"].replace({-1:1},inplace=True)\n",
    "test[\"Miscellaneous_Info\"].replace({-1:81},inplace=True)"
   ]
  },
  {
   "cell_type": "code",
   "execution_count": 51,
   "metadata": {},
   "outputs": [
    {
     "data": {
      "text/html": [
       "<div>\n",
       "<style scoped>\n",
       "    .dataframe tbody tr th:only-of-type {\n",
       "        vertical-align: middle;\n",
       "    }\n",
       "\n",
       "    .dataframe tbody tr th {\n",
       "        vertical-align: top;\n",
       "    }\n",
       "\n",
       "    .dataframe thead th {\n",
       "        text-align: right;\n",
       "    }\n",
       "</style>\n",
       "<table border=\"1\" class=\"dataframe\">\n",
       "  <thead>\n",
       "    <tr style=\"text-align: right;\">\n",
       "      <th></th>\n",
       "      <th>Qualification</th>\n",
       "      <th>Experience</th>\n",
       "      <th>Rating</th>\n",
       "      <th>Place</th>\n",
       "      <th>Profile</th>\n",
       "      <th>Miscellaneous_Info</th>\n",
       "    </tr>\n",
       "  </thead>\n",
       "  <tbody>\n",
       "    <tr>\n",
       "      <th>0</th>\n",
       "      <td>0</td>\n",
       "      <td>0</td>\n",
       "      <td>1</td>\n",
       "      <td>0</td>\n",
       "      <td>0</td>\n",
       "      <td>81</td>\n",
       "    </tr>\n",
       "    <tr>\n",
       "      <th>1</th>\n",
       "      <td>1</td>\n",
       "      <td>1</td>\n",
       "      <td>1</td>\n",
       "      <td>1</td>\n",
       "      <td>1</td>\n",
       "      <td>81</td>\n",
       "    </tr>\n",
       "    <tr>\n",
       "      <th>2</th>\n",
       "      <td>2</td>\n",
       "      <td>2</td>\n",
       "      <td>0</td>\n",
       "      <td>2</td>\n",
       "      <td>2</td>\n",
       "      <td>0</td>\n",
       "    </tr>\n",
       "    <tr>\n",
       "      <th>3</th>\n",
       "      <td>3</td>\n",
       "      <td>3</td>\n",
       "      <td>1</td>\n",
       "      <td>3</td>\n",
       "      <td>3</td>\n",
       "      <td>81</td>\n",
       "    </tr>\n",
       "    <tr>\n",
       "      <th>4</th>\n",
       "      <td>4</td>\n",
       "      <td>4</td>\n",
       "      <td>1</td>\n",
       "      <td>4</td>\n",
       "      <td>4</td>\n",
       "      <td>1</td>\n",
       "    </tr>\n",
       "    <tr>\n",
       "      <th>...</th>\n",
       "      <td>...</td>\n",
       "      <td>...</td>\n",
       "      <td>...</td>\n",
       "      <td>...</td>\n",
       "      <td>...</td>\n",
       "      <td>...</td>\n",
       "    </tr>\n",
       "    <tr>\n",
       "      <th>1982</th>\n",
       "      <td>628</td>\n",
       "      <td>29</td>\n",
       "      <td>1</td>\n",
       "      <td>19</td>\n",
       "      <td>3</td>\n",
       "      <td>81</td>\n",
       "    </tr>\n",
       "    <tr>\n",
       "      <th>1983</th>\n",
       "      <td>118</td>\n",
       "      <td>10</td>\n",
       "      <td>1</td>\n",
       "      <td>590</td>\n",
       "      <td>2</td>\n",
       "      <td>81</td>\n",
       "    </tr>\n",
       "    <tr>\n",
       "      <th>1984</th>\n",
       "      <td>629</td>\n",
       "      <td>7</td>\n",
       "      <td>1</td>\n",
       "      <td>146</td>\n",
       "      <td>0</td>\n",
       "      <td>81</td>\n",
       "    </tr>\n",
       "    <tr>\n",
       "      <th>1985</th>\n",
       "      <td>9</td>\n",
       "      <td>37</td>\n",
       "      <td>5</td>\n",
       "      <td>281</td>\n",
       "      <td>4</td>\n",
       "      <td>1082</td>\n",
       "    </tr>\n",
       "    <tr>\n",
       "      <th>1986</th>\n",
       "      <td>66</td>\n",
       "      <td>17</td>\n",
       "      <td>1</td>\n",
       "      <td>309</td>\n",
       "      <td>2</td>\n",
       "      <td>1083</td>\n",
       "    </tr>\n",
       "  </tbody>\n",
       "</table>\n",
       "<p>1987 rows × 6 columns</p>\n",
       "</div>"
      ],
      "text/plain": [
       "      Qualification  Experience  Rating  Place  Profile  Miscellaneous_Info\n",
       "0                 0           0       1      0        0                  81\n",
       "1                 1           1       1      1        1                  81\n",
       "2                 2           2       0      2        2                   0\n",
       "3                 3           3       1      3        3                  81\n",
       "4                 4           4       1      4        4                   1\n",
       "...             ...         ...     ...    ...      ...                 ...\n",
       "1982            628          29       1     19        3                  81\n",
       "1983            118          10       1    590        2                  81\n",
       "1984            629           7       1    146        0                  81\n",
       "1985              9          37       5    281        4                1082\n",
       "1986             66          17       1    309        2                1083\n",
       "\n",
       "[1987 rows x 6 columns]"
      ]
     },
     "execution_count": 51,
     "metadata": {},
     "output_type": "execute_result"
    }
   ],
   "source": [
    "test"
   ]
  },
  {
   "cell_type": "code",
   "execution_count": 52,
   "metadata": {},
   "outputs": [],
   "source": [
    "#predicting test value\n",
    "pedict=rf.predict(test)"
   ]
  },
  {
   "cell_type": "code",
   "execution_count": 58,
   "metadata": {},
   "outputs": [
    {
     "data": {
      "text/html": [
       "<div>\n",
       "<style scoped>\n",
       "    .dataframe tbody tr th:only-of-type {\n",
       "        vertical-align: middle;\n",
       "    }\n",
       "\n",
       "    .dataframe tbody tr th {\n",
       "        vertical-align: top;\n",
       "    }\n",
       "\n",
       "    .dataframe thead th {\n",
       "        text-align: right;\n",
       "    }\n",
       "</style>\n",
       "<table border=\"1\" class=\"dataframe\">\n",
       "  <thead>\n",
       "    <tr style=\"text-align: right;\">\n",
       "      <th></th>\n",
       "      <th>0</th>\n",
       "    </tr>\n",
       "  </thead>\n",
       "  <tbody>\n",
       "    <tr>\n",
       "      <th>0</th>\n",
       "      <td>300</td>\n",
       "    </tr>\n",
       "    <tr>\n",
       "      <th>1</th>\n",
       "      <td>350</td>\n",
       "    </tr>\n",
       "    <tr>\n",
       "      <th>2</th>\n",
       "      <td>300</td>\n",
       "    </tr>\n",
       "    <tr>\n",
       "      <th>3</th>\n",
       "      <td>200</td>\n",
       "    </tr>\n",
       "    <tr>\n",
       "      <th>4</th>\n",
       "      <td>200</td>\n",
       "    </tr>\n",
       "    <tr>\n",
       "      <th>...</th>\n",
       "      <td>...</td>\n",
       "    </tr>\n",
       "    <tr>\n",
       "      <th>1982</th>\n",
       "      <td>500</td>\n",
       "    </tr>\n",
       "    <tr>\n",
       "      <th>1983</th>\n",
       "      <td>300</td>\n",
       "    </tr>\n",
       "    <tr>\n",
       "      <th>1984</th>\n",
       "      <td>200</td>\n",
       "    </tr>\n",
       "    <tr>\n",
       "      <th>1985</th>\n",
       "      <td>100</td>\n",
       "    </tr>\n",
       "    <tr>\n",
       "      <th>1986</th>\n",
       "      <td>500</td>\n",
       "    </tr>\n",
       "  </tbody>\n",
       "</table>\n",
       "<p>1987 rows × 1 columns</p>\n",
       "</div>"
      ],
      "text/plain": [
       "        0\n",
       "0     300\n",
       "1     350\n",
       "2     300\n",
       "3     200\n",
       "4     200\n",
       "...   ...\n",
       "1982  500\n",
       "1983  300\n",
       "1984  200\n",
       "1985  100\n",
       "1986  500\n",
       "\n",
       "[1987 rows x 1 columns]"
      ]
     },
     "execution_count": 58,
     "metadata": {},
     "output_type": "execute_result"
    }
   ],
   "source": [
    "prd=pd.DataFrame(pedict)\n",
    "prd"
   ]
  },
  {
   "cell_type": "code",
   "execution_count": 59,
   "metadata": {},
   "outputs": [],
   "source": [
    "#saveing predicted values\n",
    "prd.to_csv(\"docter_fees_prediction.csv\")"
   ]
  },
  {
   "cell_type": "code",
   "execution_count": 55,
   "metadata": {},
   "outputs": [
    {
     "data": {
      "text/plain": [
       "['docter_consultation_fees.pkl']"
      ]
     },
     "execution_count": 55,
     "metadata": {},
     "output_type": "execute_result"
    }
   ],
   "source": [
    "#saveing best model\n",
    "import joblib\n",
    "\n",
    "joblib.dump(rf,\"docter_consultation_fees.pkl\")"
   ]
  },
  {
   "cell_type": "code",
   "execution_count": null,
   "metadata": {},
   "outputs": [],
   "source": []
  }
 ],
 "metadata": {
  "kernelspec": {
   "display_name": "Python 3",
   "language": "python",
   "name": "python3"
  },
  "language_info": {
   "codemirror_mode": {
    "name": "ipython",
    "version": 3
   },
   "file_extension": ".py",
   "mimetype": "text/x-python",
   "name": "python",
   "nbconvert_exporter": "python",
   "pygments_lexer": "ipython3",
   "version": "3.8.3"
  }
 },
 "nbformat": 4,
 "nbformat_minor": 4
}
